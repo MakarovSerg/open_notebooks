{
  "cells": [
    {
      "cell_type": "code",
      "execution_count": 1,
      "metadata": {
        "id": "_t_XpdY4vHox"
      },
      "outputs": [],
      "source": [
        "import pandas as pd\n",
        "from sklearn.model_selection import train_test_split\n",
        "from sklearn.linear_model import LogisticRegression\n",
        "from sklearn.metrics import accuracy_score, f1_score, classification_report, roc_auc_score, confusion_matrix"
      ]
    },
    {
      "cell_type": "markdown",
      "metadata": {
        "id": "C4gun238vHo7"
      },
      "source": [
        "**Задание:**\n",
        "\n",
        "**1.** Построить модель мультиклассификации на основе логистической регрессии \n",
        "\n",
        "**2.** Выведите метрики модели: **accuracy**, **precision**, **recall**, **f1-score**. Допустимо ли в данной задаче использовать метрику **accuracy**?\n",
        "\n",
        "**3.** Превратите задачу мультиклассификации в задачу бинарной классификации и постройте еще одну модель логистичекой регрессии, но уже для бинарной классификации. \n",
        "\n",
        "**4.** Сравните метрики качества бинарной и мультиклассовой классификации. Изменились ли существенно метрики бинарной классификации в сравнении мультиклассификацией? Подумайте и объясните, почему так произошло? Можно для объяснения использовать визуализацию\n",
        "\n",
        "**5.** Написать функции, которые считают метрики **precision**, **recall**, **f1-score** (для бинарной классификации). Убедитесь, что функции работают правильно, сравнив результаты их работы с метриками **classification_report** из библиотеки skelarn.\n",
        "\n",
        "**Суммарное количество баллов: 15**"
      ]
    },
    {
      "cell_type": "markdown",
      "metadata": {
        "id": "taEk8oRX6TMl"
      },
      "source": [
        "**6.** Использовать нормализацию и стандартизацию??\n",
        "\n",
        "*Помню, что говорили добавить пункт про нормализацию и стандартизацию, но не записал, что конкретно надо было сделать.*"
      ]
    },
    {
      "cell_type": "markdown",
      "metadata": {
        "id": "5atacyEJvHpB"
      },
      "source": [
        "**Данные:**\n",
        "\n",
        "В датасете представленны разничные характеристики телефонов (признаки) и их ценовая группа (столбец **price_range** -  целевая переменная). Необходимо спрогнозировать, к какому классу по стоимости относится телефон."
      ]
    },
    {
      "cell_type": "code",
      "execution_count": 2,
      "metadata": {
        "colab": {
          "base_uri": "https://localhost:8080/",
          "height": 299
        },
        "id": "ALrIlrN4vHpD",
        "outputId": "55b01180-3628-4f49-d9a2-67286988b52c"
      },
      "outputs": [
        {
          "output_type": "execute_result",
          "data": {
            "text/plain": [
              "   battery_power  blue  clock_speed  dual_sim  fc  four_g  int_memory  m_dep  \\\n",
              "0            842     0          2.2         0   1       0           7    0.6   \n",
              "1           1021     1          0.5         1   0       1          53    0.7   \n",
              "2            563     1          0.5         1   2       1          41    0.9   \n",
              "3            615     1          2.5         0   0       0          10    0.8   \n",
              "4           1821     1          1.2         0  13       1          44    0.6   \n",
              "\n",
              "   mobile_wt  n_cores  ...  px_height  px_width   ram  sc_h  sc_w  talk_time  \\\n",
              "0        188        2  ...         20       756  2549     9     7         19   \n",
              "1        136        3  ...        905      1988  2631    17     3          7   \n",
              "2        145        5  ...       1263      1716  2603    11     2          9   \n",
              "3        131        6  ...       1216      1786  2769    16     8         11   \n",
              "4        141        2  ...       1208      1212  1411     8     2         15   \n",
              "\n",
              "   three_g  touch_screen  wifi  price_range  \n",
              "0        0             0     1            1  \n",
              "1        1             1     0            2  \n",
              "2        1             1     0            2  \n",
              "3        1             0     0            2  \n",
              "4        1             1     0            1  \n",
              "\n",
              "[5 rows x 21 columns]"
            ],
            "text/html": [
              "\n",
              "  <div id=\"df-547581c7-a37d-462c-82e9-556e911e6abe\">\n",
              "    <div class=\"colab-df-container\">\n",
              "      <div>\n",
              "<style scoped>\n",
              "    .dataframe tbody tr th:only-of-type {\n",
              "        vertical-align: middle;\n",
              "    }\n",
              "\n",
              "    .dataframe tbody tr th {\n",
              "        vertical-align: top;\n",
              "    }\n",
              "\n",
              "    .dataframe thead th {\n",
              "        text-align: right;\n",
              "    }\n",
              "</style>\n",
              "<table border=\"1\" class=\"dataframe\">\n",
              "  <thead>\n",
              "    <tr style=\"text-align: right;\">\n",
              "      <th></th>\n",
              "      <th>battery_power</th>\n",
              "      <th>blue</th>\n",
              "      <th>clock_speed</th>\n",
              "      <th>dual_sim</th>\n",
              "      <th>fc</th>\n",
              "      <th>four_g</th>\n",
              "      <th>int_memory</th>\n",
              "      <th>m_dep</th>\n",
              "      <th>mobile_wt</th>\n",
              "      <th>n_cores</th>\n",
              "      <th>...</th>\n",
              "      <th>px_height</th>\n",
              "      <th>px_width</th>\n",
              "      <th>ram</th>\n",
              "      <th>sc_h</th>\n",
              "      <th>sc_w</th>\n",
              "      <th>talk_time</th>\n",
              "      <th>three_g</th>\n",
              "      <th>touch_screen</th>\n",
              "      <th>wifi</th>\n",
              "      <th>price_range</th>\n",
              "    </tr>\n",
              "  </thead>\n",
              "  <tbody>\n",
              "    <tr>\n",
              "      <th>0</th>\n",
              "      <td>842</td>\n",
              "      <td>0</td>\n",
              "      <td>2.2</td>\n",
              "      <td>0</td>\n",
              "      <td>1</td>\n",
              "      <td>0</td>\n",
              "      <td>7</td>\n",
              "      <td>0.6</td>\n",
              "      <td>188</td>\n",
              "      <td>2</td>\n",
              "      <td>...</td>\n",
              "      <td>20</td>\n",
              "      <td>756</td>\n",
              "      <td>2549</td>\n",
              "      <td>9</td>\n",
              "      <td>7</td>\n",
              "      <td>19</td>\n",
              "      <td>0</td>\n",
              "      <td>0</td>\n",
              "      <td>1</td>\n",
              "      <td>1</td>\n",
              "    </tr>\n",
              "    <tr>\n",
              "      <th>1</th>\n",
              "      <td>1021</td>\n",
              "      <td>1</td>\n",
              "      <td>0.5</td>\n",
              "      <td>1</td>\n",
              "      <td>0</td>\n",
              "      <td>1</td>\n",
              "      <td>53</td>\n",
              "      <td>0.7</td>\n",
              "      <td>136</td>\n",
              "      <td>3</td>\n",
              "      <td>...</td>\n",
              "      <td>905</td>\n",
              "      <td>1988</td>\n",
              "      <td>2631</td>\n",
              "      <td>17</td>\n",
              "      <td>3</td>\n",
              "      <td>7</td>\n",
              "      <td>1</td>\n",
              "      <td>1</td>\n",
              "      <td>0</td>\n",
              "      <td>2</td>\n",
              "    </tr>\n",
              "    <tr>\n",
              "      <th>2</th>\n",
              "      <td>563</td>\n",
              "      <td>1</td>\n",
              "      <td>0.5</td>\n",
              "      <td>1</td>\n",
              "      <td>2</td>\n",
              "      <td>1</td>\n",
              "      <td>41</td>\n",
              "      <td>0.9</td>\n",
              "      <td>145</td>\n",
              "      <td>5</td>\n",
              "      <td>...</td>\n",
              "      <td>1263</td>\n",
              "      <td>1716</td>\n",
              "      <td>2603</td>\n",
              "      <td>11</td>\n",
              "      <td>2</td>\n",
              "      <td>9</td>\n",
              "      <td>1</td>\n",
              "      <td>1</td>\n",
              "      <td>0</td>\n",
              "      <td>2</td>\n",
              "    </tr>\n",
              "    <tr>\n",
              "      <th>3</th>\n",
              "      <td>615</td>\n",
              "      <td>1</td>\n",
              "      <td>2.5</td>\n",
              "      <td>0</td>\n",
              "      <td>0</td>\n",
              "      <td>0</td>\n",
              "      <td>10</td>\n",
              "      <td>0.8</td>\n",
              "      <td>131</td>\n",
              "      <td>6</td>\n",
              "      <td>...</td>\n",
              "      <td>1216</td>\n",
              "      <td>1786</td>\n",
              "      <td>2769</td>\n",
              "      <td>16</td>\n",
              "      <td>8</td>\n",
              "      <td>11</td>\n",
              "      <td>1</td>\n",
              "      <td>0</td>\n",
              "      <td>0</td>\n",
              "      <td>2</td>\n",
              "    </tr>\n",
              "    <tr>\n",
              "      <th>4</th>\n",
              "      <td>1821</td>\n",
              "      <td>1</td>\n",
              "      <td>1.2</td>\n",
              "      <td>0</td>\n",
              "      <td>13</td>\n",
              "      <td>1</td>\n",
              "      <td>44</td>\n",
              "      <td>0.6</td>\n",
              "      <td>141</td>\n",
              "      <td>2</td>\n",
              "      <td>...</td>\n",
              "      <td>1208</td>\n",
              "      <td>1212</td>\n",
              "      <td>1411</td>\n",
              "      <td>8</td>\n",
              "      <td>2</td>\n",
              "      <td>15</td>\n",
              "      <td>1</td>\n",
              "      <td>1</td>\n",
              "      <td>0</td>\n",
              "      <td>1</td>\n",
              "    </tr>\n",
              "  </tbody>\n",
              "</table>\n",
              "<p>5 rows × 21 columns</p>\n",
              "</div>\n",
              "      <button class=\"colab-df-convert\" onclick=\"convertToInteractive('df-547581c7-a37d-462c-82e9-556e911e6abe')\"\n",
              "              title=\"Convert this dataframe to an interactive table.\"\n",
              "              style=\"display:none;\">\n",
              "        \n",
              "  <svg xmlns=\"http://www.w3.org/2000/svg\" height=\"24px\"viewBox=\"0 0 24 24\"\n",
              "       width=\"24px\">\n",
              "    <path d=\"M0 0h24v24H0V0z\" fill=\"none\"/>\n",
              "    <path d=\"M18.56 5.44l.94 2.06.94-2.06 2.06-.94-2.06-.94-.94-2.06-.94 2.06-2.06.94zm-11 1L8.5 8.5l.94-2.06 2.06-.94-2.06-.94L8.5 2.5l-.94 2.06-2.06.94zm10 10l.94 2.06.94-2.06 2.06-.94-2.06-.94-.94-2.06-.94 2.06-2.06.94z\"/><path d=\"M17.41 7.96l-1.37-1.37c-.4-.4-.92-.59-1.43-.59-.52 0-1.04.2-1.43.59L10.3 9.45l-7.72 7.72c-.78.78-.78 2.05 0 2.83L4 21.41c.39.39.9.59 1.41.59.51 0 1.02-.2 1.41-.59l7.78-7.78 2.81-2.81c.8-.78.8-2.07 0-2.86zM5.41 20L4 18.59l7.72-7.72 1.47 1.35L5.41 20z\"/>\n",
              "  </svg>\n",
              "      </button>\n",
              "      \n",
              "  <style>\n",
              "    .colab-df-container {\n",
              "      display:flex;\n",
              "      flex-wrap:wrap;\n",
              "      gap: 12px;\n",
              "    }\n",
              "\n",
              "    .colab-df-convert {\n",
              "      background-color: #E8F0FE;\n",
              "      border: none;\n",
              "      border-radius: 50%;\n",
              "      cursor: pointer;\n",
              "      display: none;\n",
              "      fill: #1967D2;\n",
              "      height: 32px;\n",
              "      padding: 0 0 0 0;\n",
              "      width: 32px;\n",
              "    }\n",
              "\n",
              "    .colab-df-convert:hover {\n",
              "      background-color: #E2EBFA;\n",
              "      box-shadow: 0px 1px 2px rgba(60, 64, 67, 0.3), 0px 1px 3px 1px rgba(60, 64, 67, 0.15);\n",
              "      fill: #174EA6;\n",
              "    }\n",
              "\n",
              "    [theme=dark] .colab-df-convert {\n",
              "      background-color: #3B4455;\n",
              "      fill: #D2E3FC;\n",
              "    }\n",
              "\n",
              "    [theme=dark] .colab-df-convert:hover {\n",
              "      background-color: #434B5C;\n",
              "      box-shadow: 0px 1px 3px 1px rgba(0, 0, 0, 0.15);\n",
              "      filter: drop-shadow(0px 1px 2px rgba(0, 0, 0, 0.3));\n",
              "      fill: #FFFFFF;\n",
              "    }\n",
              "  </style>\n",
              "\n",
              "      <script>\n",
              "        const buttonEl =\n",
              "          document.querySelector('#df-547581c7-a37d-462c-82e9-556e911e6abe button.colab-df-convert');\n",
              "        buttonEl.style.display =\n",
              "          google.colab.kernel.accessAllowed ? 'block' : 'none';\n",
              "\n",
              "        async function convertToInteractive(key) {\n",
              "          const element = document.querySelector('#df-547581c7-a37d-462c-82e9-556e911e6abe');\n",
              "          const dataTable =\n",
              "            await google.colab.kernel.invokeFunction('convertToInteractive',\n",
              "                                                     [key], {});\n",
              "          if (!dataTable) return;\n",
              "\n",
              "          const docLinkHtml = 'Like what you see? Visit the ' +\n",
              "            '<a target=\"_blank\" href=https://colab.research.google.com/notebooks/data_table.ipynb>data table notebook</a>'\n",
              "            + ' to learn more about interactive tables.';\n",
              "          element.innerHTML = '';\n",
              "          dataTable['output_type'] = 'display_data';\n",
              "          await google.colab.output.renderOutput(dataTable, element);\n",
              "          const docLink = document.createElement('div');\n",
              "          docLink.innerHTML = docLinkHtml;\n",
              "          element.appendChild(docLink);\n",
              "        }\n",
              "      </script>\n",
              "    </div>\n",
              "  </div>\n",
              "  "
            ]
          },
          "metadata": {},
          "execution_count": 2
        }
      ],
      "source": [
        "data = pd.read_csv('PhoneClassification.csv')\n",
        "data.head()"
      ]
    },
    {
      "cell_type": "markdown",
      "metadata": {
        "id": "KWB5oPNayLZq"
      },
      "source": [
        "1. Разбить данные на тест и трейн"
      ]
    },
    {
      "cell_type": "code",
      "execution_count": 3,
      "metadata": {
        "colab": {
          "base_uri": "https://localhost:8080/"
        },
        "id": "PW7qQusJ1vEI",
        "outputId": "032010e9-7dad-4cee-d580-b68f98b025a3"
      },
      "outputs": [
        {
          "output_type": "execute_result",
          "data": {
            "text/plain": [
              "1    500\n",
              "2    500\n",
              "3    500\n",
              "0    500\n",
              "Name: price_range, dtype: int64"
            ]
          },
          "metadata": {},
          "execution_count": 3
        }
      ],
      "source": [
        "data['price_range'].value_counts()"
      ]
    },
    {
      "cell_type": "markdown",
      "metadata": {
        "id": "BEeoYYHl12kR"
      },
      "source": [
        "Дисбаланса классов нет. Это также пригодится в дальнейшем при использовании метрик."
      ]
    },
    {
      "cell_type": "code",
      "execution_count": 4,
      "metadata": {
        "id": "XFUKr3va19Y4"
      },
      "outputs": [],
      "source": [
        "# Строим модель\n",
        "x = data[['battery_power','blue', 'clock_speed', 'dual_sim','fc', \n",
        "      'four_g', 'int_memory', 'm_dep',\t'mobile_wt',\t'n_cores',\t'pc',\t'px_height',\t'px_width',\t\n",
        "      'ram',\t'sc_h',\t'sc_w',\t'talk_time',\t'three_g',\t'touch_screen',\t'wifi']]\n",
        "y = data['price_range']\n",
        "\n",
        "x_train, x_test, y_train, y_test = train_test_split(x, y, test_size=0.25, random_state=45)\n",
        "log_reg = LogisticRegression(solver=\"sag\", max_iter=10000)\n",
        "model = log_reg.fit(x_train, y_train) \n",
        "\n",
        "pred_train = model.predict(x_train) "
      ]
    },
    {
      "cell_type": "code",
      "execution_count": 5,
      "metadata": {
        "colab": {
          "base_uri": "https://localhost:8080/"
        },
        "id": "_kI3ZFQf6qrQ",
        "outputId": "24e20b65-3e0e-409a-d6ea-7a81c857913a"
      },
      "outputs": [
        {
          "output_type": "stream",
          "name": "stdout",
          "text": [
            "1. Accuracy train:  0.7173333333333334\n",
            "____________________________________________________________\n",
            "\n",
            "2. Classification_report: \n",
            "\n",
            "               precision    recall  f1-score   support\n",
            "\n",
            "           0       0.87      0.85      0.86       366\n",
            "           1       0.67      0.66      0.66       363\n",
            "           2       0.58      0.54      0.56       369\n",
            "           3       0.74      0.82      0.78       402\n",
            "\n",
            "    accuracy                           0.72      1500\n",
            "   macro avg       0.71      0.72      0.71      1500\n",
            "weighted avg       0.71      0.72      0.72      1500\n",
            "\n"
          ]
        }
      ],
      "source": [
        "# Выводим метрики для обучающих данных\n",
        "print('1. Accuracy train: ', accuracy_score(y_train, pred_train))\n",
        "print('_'*60)\n",
        "print('\\n2. Classification_report: \\n\\n', classification_report(y_train, pred_train))"
      ]
    },
    {
      "cell_type": "code",
      "execution_count": 6,
      "metadata": {
        "colab": {
          "base_uri": "https://localhost:8080/"
        },
        "id": "HEGdk6EQNtUz",
        "outputId": "d91bfe91-7dcd-4188-e931-8092e8d1be5d"
      },
      "outputs": [
        {
          "output_type": "stream",
          "name": "stdout",
          "text": [
            "1. Accuracy test:  0.664\n",
            "____________________________________________________________\n",
            "\n",
            "2. Classification_report: \n",
            "\n",
            "               precision    recall  f1-score   support\n",
            "\n",
            "           0       0.87      0.83      0.85       134\n",
            "           1       0.59      0.58      0.58       137\n",
            "           2       0.53      0.44      0.48       131\n",
            "           3       0.65      0.87      0.75        98\n",
            "\n",
            "    accuracy                           0.66       500\n",
            "   macro avg       0.66      0.68      0.66       500\n",
            "weighted avg       0.66      0.66      0.66       500\n",
            "\n"
          ]
        }
      ],
      "source": [
        "# Выводим метрики для тестовых данных\n",
        "pred_test = model.predict(x_test) \n",
        "print('1. Accuracy test: ', accuracy_score(y_test, pred_test))\n",
        "print('_'*60)\n",
        "print('\\n2. Classification_report: \\n\\n', classification_report(y_test, pred_test))"
      ]
    },
    {
      "cell_type": "markdown",
      "metadata": {
        "id": "onGHlw5p9jdm"
      },
      "source": [
        "Метрику accuracy использовать допустимо, поскольку классы сбалансированы."
      ]
    },
    {
      "cell_type": "code",
      "execution_count": 7,
      "metadata": {
        "id": "hClSabVt9i9Q"
      },
      "outputs": [],
      "source": [
        "data.loc[(data['price_range'] == 1), ('price_range')] = 0 \n",
        "data.loc[(data['price_range'] == 2), ('price_range')] = 1 \n",
        "data.loc[(data['price_range'] == 3), ('price_range')] = 1 "
      ]
    },
    {
      "cell_type": "code",
      "execution_count": 8,
      "metadata": {
        "id": "1e0LXfSPLQ83"
      },
      "outputs": [],
      "source": [
        "# Строим модель\n",
        "x = data[['battery_power','blue', 'clock_speed', 'dual_sim','fc', \n",
        "      'four_g', 'int_memory', 'm_dep',\t'mobile_wt',\t'n_cores',\t'pc',\t'px_height',\t'px_width',\t\n",
        "      'ram',\t'sc_h',\t'sc_w',\t'talk_time',\t'three_g',\t'touch_screen',\t'wifi']]\n",
        "y = data['price_range']\n",
        "\n",
        "x_train, x_test, y_train, y_test = train_test_split(x, y, test_size=0.25, random_state=45)\n",
        "log_reg = LogisticRegression(solver=\"sag\", max_iter=10000)\n",
        "model = log_reg.fit(x_train, y_train) \n",
        "\n",
        "pred_train = model.predict(x_train) "
      ]
    },
    {
      "cell_type": "code",
      "execution_count": 9,
      "metadata": {
        "colab": {
          "base_uri": "https://localhost:8080/"
        },
        "id": "pgObeeQbLnym",
        "outputId": "5c042ba7-4bc7-43c9-c00a-c434e34aa815"
      },
      "outputs": [
        {
          "output_type": "stream",
          "name": "stdout",
          "text": [
            "1. Accuracy train:  0.8993333333333333\n",
            "____________________________________________________________\n",
            "\n",
            "2. Classification_report: \n",
            "\n",
            "               precision    recall  f1-score   support\n",
            "\n",
            "           0       0.91      0.88      0.89       729\n",
            "           1       0.89      0.92      0.90       771\n",
            "\n",
            "    accuracy                           0.90      1500\n",
            "   macro avg       0.90      0.90      0.90      1500\n",
            "weighted avg       0.90      0.90      0.90      1500\n",
            "\n"
          ]
        }
      ],
      "source": [
        "# Выводим метрики для обучающих данных\n",
        "print('1. Accuracy train: ', accuracy_score(y_train, pred_train))\n",
        "print('_'*60)\n",
        "print('\\n2. Classification_report: \\n\\n', classification_report(y_train, pred_train))"
      ]
    },
    {
      "cell_type": "code",
      "execution_count": 10,
      "metadata": {
        "colab": {
          "base_uri": "https://localhost:8080/"
        },
        "id": "Uet-oTuYOhF0",
        "outputId": "5e27d82d-06e9-4fa7-fa74-a54b129b81af"
      },
      "outputs": [
        {
          "output_type": "stream",
          "name": "stdout",
          "text": [
            "1. Accuracy test:  0.866\n",
            "____________________________________________________________\n",
            "\n",
            "2. Classification_report: \n",
            "\n",
            "               precision    recall  f1-score   support\n",
            "\n",
            "           0       0.90      0.85      0.87       271\n",
            "           1       0.83      0.88      0.86       229\n",
            "\n",
            "    accuracy                           0.87       500\n",
            "   macro avg       0.87      0.87      0.87       500\n",
            "weighted avg       0.87      0.87      0.87       500\n",
            "\n"
          ]
        }
      ],
      "source": [
        "# Выводим метрики для тестовых данных\n",
        "pred_test = model.predict(x_test) \n",
        "print('1. Accuracy test: ', accuracy_score(y_test, pred_test))\n",
        "print('_'*60)\n",
        "print('\\n2. Classification_report: \\n\\n', classification_report(y_test, pred_test))"
      ]
    },
    {
      "cell_type": "markdown",
      "metadata": {
        "id": "3Er9LQlMO8Sn"
      },
      "source": [
        "Метрики качества у бинарной модели лучше, чем у модели с мультиклассификацией. Это вызвано тем, что верно предсказать вероятность попадания при двух классах выше, чем при четырёх."
      ]
    },
    {
      "cell_type": "markdown",
      "metadata": {
        "id": "plyF2PQkZZVg"
      },
      "source": [
        "Функции для обучающей выборки"
      ]
    },
    {
      "cell_type": "code",
      "execution_count": 11,
      "metadata": {
        "colab": {
          "base_uri": "https://localhost:8080/"
        },
        "id": "oKlv7OVQXLJg",
        "outputId": "55367b6f-bd66-4454-bbd9-f20e9ba00224"
      },
      "outputs": [
        {
          "output_type": "stream",
          "name": "stdout",
          "text": [
            "Confusion matrix:\n",
            " [[638  91]\n",
            " [ 60 711]]\n"
          ]
        }
      ],
      "source": [
        "print('Confusion matrix:\\n', confusion_matrix(y_train, pred_train))"
      ]
    },
    {
      "cell_type": "code",
      "execution_count": 12,
      "metadata": {
        "colab": {
          "base_uri": "https://localhost:8080/"
        },
        "id": "woeZhAq-PdEP",
        "outputId": "5015b625-a489-4492-fdc4-490dd80e38ac"
      },
      "outputs": [
        {
          "output_type": "execute_result",
          "data": {
            "text/plain": [
              "0.8865336658354115"
            ]
          },
          "metadata": {},
          "execution_count": 12
        }
      ],
      "source": [
        "# precision\n",
        "def precision_func(TP, FP):\n",
        "  return(TP/(TP+FP))\n",
        "precision = precision_func(711,91)\n",
        "precision"
      ]
    },
    {
      "cell_type": "code",
      "execution_count": 13,
      "metadata": {
        "colab": {
          "base_uri": "https://localhost:8080/"
        },
        "id": "MSjMcxE7Xe10",
        "outputId": "5acb3323-1251-422b-87a6-186dc0773365"
      },
      "outputs": [
        {
          "output_type": "execute_result",
          "data": {
            "text/plain": [
              "0.9221789883268483"
            ]
          },
          "metadata": {},
          "execution_count": 13
        }
      ],
      "source": [
        "# recall\n",
        "def recall_func(TP, FN):\n",
        "  return(TP/(TP+FN))\n",
        "recall = recall_func(711,60)\n",
        "recall"
      ]
    },
    {
      "cell_type": "code",
      "execution_count": 14,
      "metadata": {
        "colab": {
          "base_uri": "https://localhost:8080/"
        },
        "id": "Q63Ph2rwdX6Z",
        "outputId": "4758c7ef-c7b0-4554-9650-e84f6a7bab42"
      },
      "outputs": [
        {
          "output_type": "execute_result",
          "data": {
            "text/plain": [
              "0.8934405629555164"
            ]
          },
          "metadata": {},
          "execution_count": 14
        }
      ],
      "source": [
        "# f1-score\n",
        "def fscore_func(recall_func, precision_func, beta):\n",
        "  return((1+beta**2)*((recall_func*precision_func)/((precision_func*beta**2)+recall_func)))\n",
        "fscore = fscore_func(recall_func(711,60), precision_func(711,91), 0.5)\n",
        "fscore"
      ]
    }
  ],
  "metadata": {
    "colab": {
      "collapsed_sections": [],
      "name": "Задание_Логистическая регрессия.ipynb",
      "provenance": []
    },
    "kernelspec": {
      "display_name": "Python 3",
      "language": "python",
      "name": "python3"
    },
    "language_info": {
      "codemirror_mode": {
        "name": "ipython",
        "version": 3
      },
      "file_extension": ".py",
      "mimetype": "text/x-python",
      "name": "python",
      "nbconvert_exporter": "python",
      "pygments_lexer": "ipython3",
      "version": "3.8.5"
    }
  },
  "nbformat": 4,
  "nbformat_minor": 0
}