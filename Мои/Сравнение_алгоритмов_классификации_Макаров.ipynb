{
 "cells": [
  {
   "cell_type": "markdown",
   "metadata": {
    "id": "pyPyQBR54EsO"
   },
   "source": [
    "### <center> Сравнение алгоритмов классификации"
   ]
  },
  {
   "cell_type": "markdown",
   "metadata": {
    "id": "uLrii-s04Yns"
   },
   "source": [
    "В рамках данного задания нужно решить задачу классификации с использованием нескольких\n",
    "алгоритмов классификации: Логистической регрессии, Hаивного Байеса и K-ближайших соседей.\n",
    "\n",
    "Нужно выполнить следующие шаги:\n",
    "\n",
    "1. Обработать категориальные признаки известными способами\n",
    "2. Привести признаки к одинаковому масштабу для тех алгоритмов, для которых это необходимо.\n",
    "3. Обучить модели классификации с использованием перечисленных алгоритмов. Выбрать метрики качества.\n",
    "4. Качество модели проверять с помощью кросс-валидации\n",
    "5. Для каждого алгоритма выполнить поиск гиперпараметров и определить оптимальные параметры. \n",
    "Сделать визуализацию зависимости качества модели от гиперпараметров (как было в лекции).\n",
    "6. Обучить модели с оптимальными параметрами и посмотреть их качество на кросс-валидации, сделать выводы.\n"
   ]
  },
  {
   "cell_type": "markdown",
   "metadata": {
    "id": "3_LAGkFn5QlD"
   },
   "source": [
    "\n",
    "**Описание данных:**\n",
    "\n",
    "**age** - \tnumeric,\tage of a person\n",
    "\n",
    "**job** - Categorical,nominal\ttype of job ('admin.','blue-collar','entrepreneur','housemaid','management','retired','self-employed','services','student','technician','unemployed','unknown')\n",
    "\n",
    "**marital**\t- categorical,nominal\tmarital status ('divorced','married','single','unknown'; note: 'divorced' means divorced or widowed)\n",
    "\n",
    "**education**\t- categorical,nominal\t('basic.4y','basic.6y','basic.9y','high.school','illiterate','professional.course','university.degree','unknown')\n",
    "\n",
    "**default** - \tcategorical,nominal\thas credit in default? ('no','yes','unknown')\n",
    "\n",
    "**housing** - \tcategorical,nominal\thas housing loan? ('no','yes','unknown')\n",
    "\n",
    "**loan**\t- categorical,nominal\thas personal loan? ('no','yes','unknown')\n",
    "\n",
    "**contact**\t- categorical,nominal\tcontact communication type ('cellular','telephone')\n",
    "\n",
    "**month** -\tcategorical,ordinal\tlast contact month of year ('jan', 'feb', 'mar', …, 'nov', 'dec')\n",
    "\n",
    "**dayofweek**\t- categorical, ordinal\tlast contact day of the week ('mon','tue','wed','thu','fri')\n",
    "\n",
    "**duration** -\tnumeric,\tlast contact duration, in seconds . Important note: this attribute highly affects the output target (e.g., if duration=0 then y='no')\n",
    "\n",
    "**campaign** -\tnumeric,\tnumber of contacts performed during this campaign and for this client (includes last contact)\n",
    "\n",
    "**pdays** -\tnumeric,\tnumber of days that passed by after the client was last contacted from a previous campaign (999 means client was not previously contacted)\n",
    "**previous** - numeric,\tnumber of contacts performed before this campaign and for this client\n",
    "**poutcome** -\tcategorical,nominal\toutcome of the previous marketing campaign ('failure','nonexistent','success')\n",
    "\n",
    "**y** -\tbinary, \thas the client subscribed a term deposit? ('yes','no')"
   ]
  },
  {
   "cell_type": "code",
   "execution_count": 1,
   "metadata": {
    "id": "rKE5Mf6UAj9b"
   },
   "outputs": [],
   "source": [
    "import pandas as pd\n",
    "import numpy as np\n",
    "import matplotlib.pyplot as plt\n",
    "\n",
    "from sklearn.preprocessing import MinMaxScaler\n",
    "from sklearn.model_selection import train_test_split, KFold, cross_val_score\n",
    "\n",
    "from sklearn.linear_model import LogisticRegression\n",
    "from sklearn.neighbors import KNeighborsClassifier\n",
    "from sklearn.naive_bayes import GaussianNB\n",
    "\n",
    "from sklearn.metrics import classification_report\n",
    "from sklearn.model_selection import GridSearchCV"
   ]
  },
  {
   "cell_type": "code",
   "execution_count": 2,
   "metadata": {
    "colab": {
     "base_uri": "https://localhost:8080/",
     "height": 487
    },
    "id": "3kRW4tlhA_Vp",
    "outputId": "19f05ae5-d91a-43af-cd55-adc88b37d0f4"
   },
   "outputs": [
    {
     "data": {
      "text/html": [
       "<div>\n",
       "<style scoped>\n",
       "    .dataframe tbody tr th:only-of-type {\n",
       "        vertical-align: middle;\n",
       "    }\n",
       "\n",
       "    .dataframe tbody tr th {\n",
       "        vertical-align: top;\n",
       "    }\n",
       "\n",
       "    .dataframe thead th {\n",
       "        text-align: right;\n",
       "    }\n",
       "</style>\n",
       "<table border=\"1\" class=\"dataframe\">\n",
       "  <thead>\n",
       "    <tr style=\"text-align: right;\">\n",
       "      <th></th>\n",
       "      <th>age</th>\n",
       "      <th>job</th>\n",
       "      <th>marital</th>\n",
       "      <th>education</th>\n",
       "      <th>default</th>\n",
       "      <th>housing</th>\n",
       "      <th>loan</th>\n",
       "      <th>contact</th>\n",
       "      <th>month</th>\n",
       "      <th>day_of_week</th>\n",
       "      <th>duration</th>\n",
       "      <th>campaign</th>\n",
       "      <th>pdays</th>\n",
       "      <th>previous</th>\n",
       "      <th>poutcome</th>\n",
       "      <th>y</th>\n",
       "    </tr>\n",
       "  </thead>\n",
       "  <tbody>\n",
       "    <tr>\n",
       "      <th>0</th>\n",
       "      <td>49</td>\n",
       "      <td>blue-collar</td>\n",
       "      <td>married</td>\n",
       "      <td>basic.9y</td>\n",
       "      <td>unknown</td>\n",
       "      <td>no</td>\n",
       "      <td>no</td>\n",
       "      <td>cellular</td>\n",
       "      <td>nov</td>\n",
       "      <td>wed</td>\n",
       "      <td>227</td>\n",
       "      <td>4</td>\n",
       "      <td>999</td>\n",
       "      <td>0</td>\n",
       "      <td>nonexistent</td>\n",
       "      <td>no</td>\n",
       "    </tr>\n",
       "    <tr>\n",
       "      <th>1</th>\n",
       "      <td>37</td>\n",
       "      <td>entrepreneur</td>\n",
       "      <td>married</td>\n",
       "      <td>university.degree</td>\n",
       "      <td>no</td>\n",
       "      <td>no</td>\n",
       "      <td>no</td>\n",
       "      <td>telephone</td>\n",
       "      <td>nov</td>\n",
       "      <td>wed</td>\n",
       "      <td>202</td>\n",
       "      <td>2</td>\n",
       "      <td>999</td>\n",
       "      <td>1</td>\n",
       "      <td>failure</td>\n",
       "      <td>no</td>\n",
       "    </tr>\n",
       "    <tr>\n",
       "      <th>2</th>\n",
       "      <td>78</td>\n",
       "      <td>retired</td>\n",
       "      <td>married</td>\n",
       "      <td>basic.4y</td>\n",
       "      <td>no</td>\n",
       "      <td>no</td>\n",
       "      <td>no</td>\n",
       "      <td>cellular</td>\n",
       "      <td>jul</td>\n",
       "      <td>mon</td>\n",
       "      <td>1148</td>\n",
       "      <td>1</td>\n",
       "      <td>999</td>\n",
       "      <td>0</td>\n",
       "      <td>nonexistent</td>\n",
       "      <td>yes</td>\n",
       "    </tr>\n",
       "    <tr>\n",
       "      <th>3</th>\n",
       "      <td>36</td>\n",
       "      <td>admin.</td>\n",
       "      <td>married</td>\n",
       "      <td>university.degree</td>\n",
       "      <td>no</td>\n",
       "      <td>yes</td>\n",
       "      <td>no</td>\n",
       "      <td>telephone</td>\n",
       "      <td>may</td>\n",
       "      <td>mon</td>\n",
       "      <td>120</td>\n",
       "      <td>2</td>\n",
       "      <td>999</td>\n",
       "      <td>0</td>\n",
       "      <td>nonexistent</td>\n",
       "      <td>no</td>\n",
       "    </tr>\n",
       "    <tr>\n",
       "      <th>4</th>\n",
       "      <td>59</td>\n",
       "      <td>retired</td>\n",
       "      <td>divorced</td>\n",
       "      <td>university.degree</td>\n",
       "      <td>no</td>\n",
       "      <td>no</td>\n",
       "      <td>no</td>\n",
       "      <td>cellular</td>\n",
       "      <td>jun</td>\n",
       "      <td>tue</td>\n",
       "      <td>368</td>\n",
       "      <td>2</td>\n",
       "      <td>999</td>\n",
       "      <td>0</td>\n",
       "      <td>nonexistent</td>\n",
       "      <td>no</td>\n",
       "    </tr>\n",
       "    <tr>\n",
       "      <th>...</th>\n",
       "      <td>...</td>\n",
       "      <td>...</td>\n",
       "      <td>...</td>\n",
       "      <td>...</td>\n",
       "      <td>...</td>\n",
       "      <td>...</td>\n",
       "      <td>...</td>\n",
       "      <td>...</td>\n",
       "      <td>...</td>\n",
       "      <td>...</td>\n",
       "      <td>...</td>\n",
       "      <td>...</td>\n",
       "      <td>...</td>\n",
       "      <td>...</td>\n",
       "      <td>...</td>\n",
       "      <td>...</td>\n",
       "    </tr>\n",
       "    <tr>\n",
       "      <th>32945</th>\n",
       "      <td>28</td>\n",
       "      <td>services</td>\n",
       "      <td>single</td>\n",
       "      <td>high.school</td>\n",
       "      <td>no</td>\n",
       "      <td>yes</td>\n",
       "      <td>no</td>\n",
       "      <td>cellular</td>\n",
       "      <td>jul</td>\n",
       "      <td>tue</td>\n",
       "      <td>192</td>\n",
       "      <td>1</td>\n",
       "      <td>999</td>\n",
       "      <td>0</td>\n",
       "      <td>nonexistent</td>\n",
       "      <td>no</td>\n",
       "    </tr>\n",
       "    <tr>\n",
       "      <th>32946</th>\n",
       "      <td>52</td>\n",
       "      <td>technician</td>\n",
       "      <td>married</td>\n",
       "      <td>professional.course</td>\n",
       "      <td>no</td>\n",
       "      <td>yes</td>\n",
       "      <td>no</td>\n",
       "      <td>cellular</td>\n",
       "      <td>nov</td>\n",
       "      <td>fri</td>\n",
       "      <td>64</td>\n",
       "      <td>1</td>\n",
       "      <td>999</td>\n",
       "      <td>1</td>\n",
       "      <td>failure</td>\n",
       "      <td>no</td>\n",
       "    </tr>\n",
       "    <tr>\n",
       "      <th>32947</th>\n",
       "      <td>54</td>\n",
       "      <td>admin.</td>\n",
       "      <td>married</td>\n",
       "      <td>basic.9y</td>\n",
       "      <td>no</td>\n",
       "      <td>no</td>\n",
       "      <td>yes</td>\n",
       "      <td>cellular</td>\n",
       "      <td>jul</td>\n",
       "      <td>mon</td>\n",
       "      <td>131</td>\n",
       "      <td>4</td>\n",
       "      <td>999</td>\n",
       "      <td>0</td>\n",
       "      <td>nonexistent</td>\n",
       "      <td>no</td>\n",
       "    </tr>\n",
       "    <tr>\n",
       "      <th>32948</th>\n",
       "      <td>29</td>\n",
       "      <td>admin.</td>\n",
       "      <td>married</td>\n",
       "      <td>university.degree</td>\n",
       "      <td>no</td>\n",
       "      <td>no</td>\n",
       "      <td>no</td>\n",
       "      <td>telephone</td>\n",
       "      <td>may</td>\n",
       "      <td>fri</td>\n",
       "      <td>165</td>\n",
       "      <td>1</td>\n",
       "      <td>999</td>\n",
       "      <td>0</td>\n",
       "      <td>nonexistent</td>\n",
       "      <td>no</td>\n",
       "    </tr>\n",
       "    <tr>\n",
       "      <th>32949</th>\n",
       "      <td>35</td>\n",
       "      <td>admin.</td>\n",
       "      <td>married</td>\n",
       "      <td>university.degree</td>\n",
       "      <td>no</td>\n",
       "      <td>no</td>\n",
       "      <td>yes</td>\n",
       "      <td>telephone</td>\n",
       "      <td>jun</td>\n",
       "      <td>tue</td>\n",
       "      <td>544</td>\n",
       "      <td>3</td>\n",
       "      <td>999</td>\n",
       "      <td>0</td>\n",
       "      <td>nonexistent</td>\n",
       "      <td>no</td>\n",
       "    </tr>\n",
       "  </tbody>\n",
       "</table>\n",
       "<p>32950 rows × 16 columns</p>\n",
       "</div>"
      ],
      "text/plain": [
       "       age           job   marital            education  default housing loan  \\\n",
       "0       49   blue-collar   married             basic.9y  unknown      no   no   \n",
       "1       37  entrepreneur   married    university.degree       no      no   no   \n",
       "2       78       retired   married             basic.4y       no      no   no   \n",
       "3       36        admin.   married    university.degree       no     yes   no   \n",
       "4       59       retired  divorced    university.degree       no      no   no   \n",
       "...    ...           ...       ...                  ...      ...     ...  ...   \n",
       "32945   28      services    single          high.school       no     yes   no   \n",
       "32946   52    technician   married  professional.course       no     yes   no   \n",
       "32947   54        admin.   married             basic.9y       no      no  yes   \n",
       "32948   29        admin.   married    university.degree       no      no   no   \n",
       "32949   35        admin.   married    university.degree       no      no  yes   \n",
       "\n",
       "         contact month day_of_week  duration  campaign  pdays  previous  \\\n",
       "0       cellular   nov         wed       227         4    999         0   \n",
       "1      telephone   nov         wed       202         2    999         1   \n",
       "2       cellular   jul         mon      1148         1    999         0   \n",
       "3      telephone   may         mon       120         2    999         0   \n",
       "4       cellular   jun         tue       368         2    999         0   \n",
       "...          ...   ...         ...       ...       ...    ...       ...   \n",
       "32945   cellular   jul         tue       192         1    999         0   \n",
       "32946   cellular   nov         fri        64         1    999         1   \n",
       "32947   cellular   jul         mon       131         4    999         0   \n",
       "32948  telephone   may         fri       165         1    999         0   \n",
       "32949  telephone   jun         tue       544         3    999         0   \n",
       "\n",
       "          poutcome    y  \n",
       "0      nonexistent   no  \n",
       "1          failure   no  \n",
       "2      nonexistent  yes  \n",
       "3      nonexistent   no  \n",
       "4      nonexistent   no  \n",
       "...            ...  ...  \n",
       "32945  nonexistent   no  \n",
       "32946      failure   no  \n",
       "32947  nonexistent   no  \n",
       "32948  nonexistent   no  \n",
       "32949  nonexistent   no  \n",
       "\n",
       "[32950 rows x 16 columns]"
      ]
     },
     "execution_count": 2,
     "metadata": {},
     "output_type": "execute_result"
    }
   ],
   "source": [
    "data = pd.read_csv('D:/Документы/Учёба/Магистратура/2 семестр/Классические методы машинного обучения/new_train.csv')\n",
    "data"
   ]
  },
  {
   "cell_type": "code",
   "execution_count": 3,
   "metadata": {
    "colab": {
     "base_uri": "https://localhost:8080/",
     "height": 300
    },
    "id": "199kVF62BwQK",
    "outputId": "79035af9-f068-4d8b-9062-84a1f55903e8"
   },
   "outputs": [
    {
     "data": {
      "text/html": [
       "<div>\n",
       "<style scoped>\n",
       "    .dataframe tbody tr th:only-of-type {\n",
       "        vertical-align: middle;\n",
       "    }\n",
       "\n",
       "    .dataframe tbody tr th {\n",
       "        vertical-align: top;\n",
       "    }\n",
       "\n",
       "    .dataframe thead th {\n",
       "        text-align: right;\n",
       "    }\n",
       "</style>\n",
       "<table border=\"1\" class=\"dataframe\">\n",
       "  <thead>\n",
       "    <tr style=\"text-align: right;\">\n",
       "      <th></th>\n",
       "      <th>age</th>\n",
       "      <th>duration</th>\n",
       "      <th>campaign</th>\n",
       "      <th>pdays</th>\n",
       "      <th>previous</th>\n",
       "    </tr>\n",
       "  </thead>\n",
       "  <tbody>\n",
       "    <tr>\n",
       "      <th>count</th>\n",
       "      <td>32950.000000</td>\n",
       "      <td>32950.000000</td>\n",
       "      <td>32950.000000</td>\n",
       "      <td>32950.000000</td>\n",
       "      <td>32950.000000</td>\n",
       "    </tr>\n",
       "    <tr>\n",
       "      <th>mean</th>\n",
       "      <td>40.014112</td>\n",
       "      <td>258.127466</td>\n",
       "      <td>2.560607</td>\n",
       "      <td>962.052413</td>\n",
       "      <td>0.174719</td>\n",
       "    </tr>\n",
       "    <tr>\n",
       "      <th>std</th>\n",
       "      <td>10.403636</td>\n",
       "      <td>258.975917</td>\n",
       "      <td>2.752326</td>\n",
       "      <td>187.951096</td>\n",
       "      <td>0.499025</td>\n",
       "    </tr>\n",
       "    <tr>\n",
       "      <th>min</th>\n",
       "      <td>17.000000</td>\n",
       "      <td>0.000000</td>\n",
       "      <td>1.000000</td>\n",
       "      <td>0.000000</td>\n",
       "      <td>0.000000</td>\n",
       "    </tr>\n",
       "    <tr>\n",
       "      <th>25%</th>\n",
       "      <td>32.000000</td>\n",
       "      <td>103.000000</td>\n",
       "      <td>1.000000</td>\n",
       "      <td>999.000000</td>\n",
       "      <td>0.000000</td>\n",
       "    </tr>\n",
       "    <tr>\n",
       "      <th>50%</th>\n",
       "      <td>38.000000</td>\n",
       "      <td>180.000000</td>\n",
       "      <td>2.000000</td>\n",
       "      <td>999.000000</td>\n",
       "      <td>0.000000</td>\n",
       "    </tr>\n",
       "    <tr>\n",
       "      <th>75%</th>\n",
       "      <td>47.000000</td>\n",
       "      <td>319.000000</td>\n",
       "      <td>3.000000</td>\n",
       "      <td>999.000000</td>\n",
       "      <td>0.000000</td>\n",
       "    </tr>\n",
       "    <tr>\n",
       "      <th>max</th>\n",
       "      <td>98.000000</td>\n",
       "      <td>4918.000000</td>\n",
       "      <td>56.000000</td>\n",
       "      <td>999.000000</td>\n",
       "      <td>7.000000</td>\n",
       "    </tr>\n",
       "  </tbody>\n",
       "</table>\n",
       "</div>"
      ],
      "text/plain": [
       "                age      duration      campaign         pdays      previous\n",
       "count  32950.000000  32950.000000  32950.000000  32950.000000  32950.000000\n",
       "mean      40.014112    258.127466      2.560607    962.052413      0.174719\n",
       "std       10.403636    258.975917      2.752326    187.951096      0.499025\n",
       "min       17.000000      0.000000      1.000000      0.000000      0.000000\n",
       "25%       32.000000    103.000000      1.000000    999.000000      0.000000\n",
       "50%       38.000000    180.000000      2.000000    999.000000      0.000000\n",
       "75%       47.000000    319.000000      3.000000    999.000000      0.000000\n",
       "max       98.000000   4918.000000     56.000000    999.000000      7.000000"
      ]
     },
     "execution_count": 3,
     "metadata": {},
     "output_type": "execute_result"
    }
   ],
   "source": [
    "data.describe()"
   ]
  },
  {
   "cell_type": "code",
   "execution_count": 4,
   "metadata": {
    "colab": {
     "base_uri": "https://localhost:8080/"
    },
    "id": "rlwnxVs4WOwX",
    "outputId": "f3d8ebf0-468d-4889-e428-c9f1666daa03"
   },
   "outputs": [
    {
     "name": "stdout",
     "output_type": "stream",
     "text": [
      "admin.           8314\n",
      "blue-collar      7441\n",
      "technician       5400\n",
      "services         3196\n",
      "management       2345\n",
      "retired          1366\n",
      "entrepreneur     1160\n",
      "self-employed    1099\n",
      "housemaid         855\n",
      "unemployed        798\n",
      "student           711\n",
      "unknown           265\n",
      "Name: job, dtype: int64\n",
      "--------------------------------------------------\n",
      "married     19953\n",
      "single       9257\n",
      "divorced     3675\n",
      "unknown        65\n",
      "Name: marital, dtype: int64\n",
      "--------------------------------------------------\n",
      "university.degree      9736\n",
      "high.school            7596\n",
      "basic.9y               4826\n",
      "professional.course    4192\n",
      "basic.4y               3322\n",
      "basic.6y               1865\n",
      "unknown                1397\n",
      "illiterate               16\n",
      "Name: education, dtype: int64\n",
      "--------------------------------------------------\n",
      "no         26007\n",
      "unknown     6940\n",
      "yes            3\n",
      "Name: default, dtype: int64\n",
      "--------------------------------------------------\n",
      "yes        17254\n",
      "no         14900\n",
      "unknown      796\n",
      "Name: housing, dtype: int64\n",
      "--------------------------------------------------\n",
      "no         27131\n",
      "yes         5023\n",
      "unknown      796\n",
      "Name: loan, dtype: int64\n",
      "--------------------------------------------------\n",
      "cellular     20908\n",
      "telephone    12042\n",
      "Name: contact, dtype: int64\n",
      "--------------------------------------------------\n",
      "nonexistent    28416\n",
      "failure         3429\n",
      "success         1105\n",
      "Name: poutcome, dtype: int64\n",
      "--------------------------------------------------\n",
      "no     29238\n",
      "yes     3712\n",
      "Name: y, dtype: int64\n",
      "--------------------------------------------------\n"
     ]
    }
   ],
   "source": [
    "print(data.job.value_counts())\n",
    "print('--------------------------------------------------')\n",
    "print(data.marital.value_counts())\n",
    "print('--------------------------------------------------')\n",
    "print(data.education.value_counts())\n",
    "print('--------------------------------------------------')\n",
    "print(data.default.value_counts())\n",
    "print('--------------------------------------------------')\n",
    "print(data.housing.value_counts())\n",
    "print('--------------------------------------------------')\n",
    "print(data.loan.value_counts())\n",
    "print('--------------------------------------------------')\n",
    "print(data.contact.value_counts())\n",
    "print('--------------------------------------------------')\n",
    "print(data.poutcome.value_counts())\n",
    "print('--------------------------------------------------')\n",
    "print(data.y.value_counts())\n",
    "print('--------------------------------------------------')"
   ]
  },
  {
   "cell_type": "markdown",
   "metadata": {
    "id": "q2f9XvimXheE"
   },
   "source": [
    "Можно увидеть, что у некоторых признаков есть категории, которые составляют малую долю от общего числа наблюдений. Ими, в принципе, можно пренебречь. Также, можно провести более подробный анализ, и, возможно, можно будет объединить несколько категорий в одну.\n",
    "\n",
    "Но я решил построить модель на данных, где каждой категории присвоено определённое числовое значение (1,2 и т.д.), т.е. не объединять признаки в группы. Посмотрим, насколько точной выйдет модель."
   ]
  },
  {
   "cell_type": "markdown",
   "metadata": {
    "id": "ozWb5u5rYsfE"
   },
   "source": [
    "Для построения моделей обрабатываем имеющиеся категориальные признаки:"
   ]
  },
  {
   "cell_type": "code",
   "execution_count": 5,
   "metadata": {
    "colab": {
     "base_uri": "https://localhost:8080/",
     "height": 206
    },
    "id": "p9PPNpaXBwpO",
    "outputId": "2b20885c-ea62-4a90-99be-5ed128199bf3"
   },
   "outputs": [
    {
     "data": {
      "text/html": [
       "<div>\n",
       "<style scoped>\n",
       "    .dataframe tbody tr th:only-of-type {\n",
       "        vertical-align: middle;\n",
       "    }\n",
       "\n",
       "    .dataframe tbody tr th {\n",
       "        vertical-align: top;\n",
       "    }\n",
       "\n",
       "    .dataframe thead th {\n",
       "        text-align: right;\n",
       "    }\n",
       "</style>\n",
       "<table border=\"1\" class=\"dataframe\">\n",
       "  <thead>\n",
       "    <tr style=\"text-align: right;\">\n",
       "      <th></th>\n",
       "      <th>age</th>\n",
       "      <th>job</th>\n",
       "      <th>marital</th>\n",
       "      <th>education</th>\n",
       "      <th>default</th>\n",
       "      <th>housing</th>\n",
       "      <th>loan</th>\n",
       "      <th>contact</th>\n",
       "      <th>month</th>\n",
       "      <th>day_of_week</th>\n",
       "      <th>duration</th>\n",
       "      <th>campaign</th>\n",
       "      <th>pdays</th>\n",
       "      <th>previous</th>\n",
       "      <th>poutcome</th>\n",
       "      <th>y</th>\n",
       "    </tr>\n",
       "  </thead>\n",
       "  <tbody>\n",
       "    <tr>\n",
       "      <th>0</th>\n",
       "      <td>49</td>\n",
       "      <td>2</td>\n",
       "      <td>2</td>\n",
       "      <td>3</td>\n",
       "      <td>0</td>\n",
       "      <td>1</td>\n",
       "      <td>1</td>\n",
       "      <td>0</td>\n",
       "      <td>8</td>\n",
       "      <td>2</td>\n",
       "      <td>227</td>\n",
       "      <td>4</td>\n",
       "      <td>999</td>\n",
       "      <td>0</td>\n",
       "      <td>0</td>\n",
       "      <td>0</td>\n",
       "    </tr>\n",
       "    <tr>\n",
       "      <th>1</th>\n",
       "      <td>37</td>\n",
       "      <td>3</td>\n",
       "      <td>2</td>\n",
       "      <td>7</td>\n",
       "      <td>1</td>\n",
       "      <td>1</td>\n",
       "      <td>1</td>\n",
       "      <td>1</td>\n",
       "      <td>8</td>\n",
       "      <td>2</td>\n",
       "      <td>202</td>\n",
       "      <td>2</td>\n",
       "      <td>999</td>\n",
       "      <td>1</td>\n",
       "      <td>2</td>\n",
       "      <td>0</td>\n",
       "    </tr>\n",
       "    <tr>\n",
       "      <th>2</th>\n",
       "      <td>78</td>\n",
       "      <td>6</td>\n",
       "      <td>2</td>\n",
       "      <td>1</td>\n",
       "      <td>1</td>\n",
       "      <td>1</td>\n",
       "      <td>1</td>\n",
       "      <td>0</td>\n",
       "      <td>4</td>\n",
       "      <td>0</td>\n",
       "      <td>1148</td>\n",
       "      <td>1</td>\n",
       "      <td>999</td>\n",
       "      <td>0</td>\n",
       "      <td>0</td>\n",
       "      <td>1</td>\n",
       "    </tr>\n",
       "    <tr>\n",
       "      <th>3</th>\n",
       "      <td>36</td>\n",
       "      <td>1</td>\n",
       "      <td>2</td>\n",
       "      <td>7</td>\n",
       "      <td>1</td>\n",
       "      <td>2</td>\n",
       "      <td>1</td>\n",
       "      <td>1</td>\n",
       "      <td>2</td>\n",
       "      <td>0</td>\n",
       "      <td>120</td>\n",
       "      <td>2</td>\n",
       "      <td>999</td>\n",
       "      <td>0</td>\n",
       "      <td>0</td>\n",
       "      <td>0</td>\n",
       "    </tr>\n",
       "    <tr>\n",
       "      <th>4</th>\n",
       "      <td>59</td>\n",
       "      <td>6</td>\n",
       "      <td>1</td>\n",
       "      <td>7</td>\n",
       "      <td>1</td>\n",
       "      <td>1</td>\n",
       "      <td>1</td>\n",
       "      <td>0</td>\n",
       "      <td>3</td>\n",
       "      <td>1</td>\n",
       "      <td>368</td>\n",
       "      <td>2</td>\n",
       "      <td>999</td>\n",
       "      <td>0</td>\n",
       "      <td>0</td>\n",
       "      <td>0</td>\n",
       "    </tr>\n",
       "  </tbody>\n",
       "</table>\n",
       "</div>"
      ],
      "text/plain": [
       "   age  job  marital  education  default  housing  loan  contact  month  \\\n",
       "0   49    2        2          3        0        1     1        0      8   \n",
       "1   37    3        2          7        1        1     1        1      8   \n",
       "2   78    6        2          1        1        1     1        0      4   \n",
       "3   36    1        2          7        1        2     1        1      2   \n",
       "4   59    6        1          7        1        1     1        0      3   \n",
       "\n",
       "   day_of_week  duration  campaign  pdays  previous  poutcome  y  \n",
       "0            2       227         4    999         0         0  0  \n",
       "1            2       202         2    999         1         2  0  \n",
       "2            0      1148         1    999         0         0  1  \n",
       "3            0       120         2    999         0         0  0  \n",
       "4            1       368         2    999         0         0  0  "
      ]
     },
     "execution_count": 5,
     "metadata": {},
     "output_type": "execute_result"
    }
   ],
   "source": [
    "df = data.copy()\n",
    "df['job'] = df['job'].map({'admin.': 1, 'blue-collar': 2, 'entrepreneur': 3, 'housemaid': 4, 'management': 5, 'retired': 6, 'self-employed': 7, 'services': 8, 'student': 9, 'technician': 10, 'unemployed': 11, 'unknown': 0})\n",
    "df['marital'] = df['marital'].map({'divorced': 1, 'married': 2, 'single': 3, 'unknown': 0})\n",
    "df['education'] = df['education'].map({'basic.4y': 1, 'basic.6y': 2, 'basic.9y': 3, 'high.school': 4, 'illiterate': 5, 'professional.course': 6, 'university.degree': 7, 'unknown': 0})\n",
    "df['default'] = df['default'].map({'no': 1, 'yes': 2, 'unknown': 0})\n",
    "df['housing'] = df['housing'].map({'no': 1, 'yes': 2, 'unknown': 0})\n",
    "df['loan'] = df['loan'].map({'no': 1, 'yes': 2, 'unknown': 0})\n",
    "df['contact'] = df['contact'].map({'cellular': 0, 'telephone': 1})\n",
    "df['poutcome'] = df['poutcome'].map({'nonexistent': 0, 'success': 1, 'failure': 2})\n",
    "df['month'] = df['month'].map({'mar': 0, 'apr': 1, 'may': 2, 'jun': 3, 'jul': 4, 'aug': 5, 'sep': 6, 'oct': 7, 'nov': 8, 'dec': 9})\n",
    "df['day_of_week'] = df['day_of_week'].map({ 'mon': 0, 'tue': 1, 'wed': 2, 'thu': 3, 'fri': 4})\n",
    "df['y'] = df['y'].map({'no': 0, 'yes': 1})\n",
    "df.head()"
   ]
  },
  {
   "cell_type": "markdown",
   "metadata": {
    "id": "kgRHkDjoZAgl"
   },
   "source": [
    "Нормализацию данных целесообразно произвести для алгоритма K-ближайших соседей и Логистической регрессии. Проведём нормализацию с помощью метода MinMax."
   ]
  },
  {
   "cell_type": "markdown",
   "metadata": {
    "id": "qjE7XUnJZ0WZ"
   },
   "source": [
    "Приводим все признаки к одинаковому масштабу:"
   ]
  },
  {
   "cell_type": "code",
   "execution_count": 6,
   "metadata": {
    "colab": {
     "base_uri": "https://localhost:8080/",
     "height": 270
    },
    "id": "drorc_oKuBQh",
    "outputId": "40cfe78f-aec4-49a6-d78d-fe091d40f598"
   },
   "outputs": [
    {
     "data": {
      "text/html": [
       "<div>\n",
       "<style scoped>\n",
       "    .dataframe tbody tr th:only-of-type {\n",
       "        vertical-align: middle;\n",
       "    }\n",
       "\n",
       "    .dataframe tbody tr th {\n",
       "        vertical-align: top;\n",
       "    }\n",
       "\n",
       "    .dataframe thead th {\n",
       "        text-align: right;\n",
       "    }\n",
       "</style>\n",
       "<table border=\"1\" class=\"dataframe\">\n",
       "  <thead>\n",
       "    <tr style=\"text-align: right;\">\n",
       "      <th></th>\n",
       "      <th>age</th>\n",
       "      <th>job</th>\n",
       "      <th>marital</th>\n",
       "      <th>education</th>\n",
       "      <th>default</th>\n",
       "      <th>housing</th>\n",
       "      <th>loan</th>\n",
       "      <th>contact</th>\n",
       "      <th>month</th>\n",
       "      <th>day_of_week</th>\n",
       "      <th>duration</th>\n",
       "      <th>campaign</th>\n",
       "      <th>pdays</th>\n",
       "      <th>previous</th>\n",
       "      <th>poutcome</th>\n",
       "      <th>y</th>\n",
       "    </tr>\n",
       "  </thead>\n",
       "  <tbody>\n",
       "    <tr>\n",
       "      <th>0</th>\n",
       "      <td>0.395062</td>\n",
       "      <td>0.181818</td>\n",
       "      <td>0.666667</td>\n",
       "      <td>0.428571</td>\n",
       "      <td>0.0</td>\n",
       "      <td>0.5</td>\n",
       "      <td>0.5</td>\n",
       "      <td>0.0</td>\n",
       "      <td>0.888889</td>\n",
       "      <td>0.50</td>\n",
       "      <td>0.046157</td>\n",
       "      <td>0.054545</td>\n",
       "      <td>1.0</td>\n",
       "      <td>0.000000</td>\n",
       "      <td>0.0</td>\n",
       "      <td>0.0</td>\n",
       "    </tr>\n",
       "    <tr>\n",
       "      <th>1</th>\n",
       "      <td>0.246914</td>\n",
       "      <td>0.272727</td>\n",
       "      <td>0.666667</td>\n",
       "      <td>1.000000</td>\n",
       "      <td>0.5</td>\n",
       "      <td>0.5</td>\n",
       "      <td>0.5</td>\n",
       "      <td>1.0</td>\n",
       "      <td>0.888889</td>\n",
       "      <td>0.50</td>\n",
       "      <td>0.041074</td>\n",
       "      <td>0.018182</td>\n",
       "      <td>1.0</td>\n",
       "      <td>0.142857</td>\n",
       "      <td>1.0</td>\n",
       "      <td>0.0</td>\n",
       "    </tr>\n",
       "    <tr>\n",
       "      <th>2</th>\n",
       "      <td>0.753086</td>\n",
       "      <td>0.545455</td>\n",
       "      <td>0.666667</td>\n",
       "      <td>0.142857</td>\n",
       "      <td>0.5</td>\n",
       "      <td>0.5</td>\n",
       "      <td>0.5</td>\n",
       "      <td>0.0</td>\n",
       "      <td>0.444444</td>\n",
       "      <td>0.00</td>\n",
       "      <td>0.233428</td>\n",
       "      <td>0.000000</td>\n",
       "      <td>1.0</td>\n",
       "      <td>0.000000</td>\n",
       "      <td>0.0</td>\n",
       "      <td>1.0</td>\n",
       "    </tr>\n",
       "    <tr>\n",
       "      <th>3</th>\n",
       "      <td>0.234568</td>\n",
       "      <td>0.090909</td>\n",
       "      <td>0.666667</td>\n",
       "      <td>1.000000</td>\n",
       "      <td>0.5</td>\n",
       "      <td>1.0</td>\n",
       "      <td>0.5</td>\n",
       "      <td>1.0</td>\n",
       "      <td>0.222222</td>\n",
       "      <td>0.00</td>\n",
       "      <td>0.024400</td>\n",
       "      <td>0.018182</td>\n",
       "      <td>1.0</td>\n",
       "      <td>0.000000</td>\n",
       "      <td>0.0</td>\n",
       "      <td>0.0</td>\n",
       "    </tr>\n",
       "    <tr>\n",
       "      <th>4</th>\n",
       "      <td>0.518519</td>\n",
       "      <td>0.545455</td>\n",
       "      <td>0.333333</td>\n",
       "      <td>1.000000</td>\n",
       "      <td>0.5</td>\n",
       "      <td>0.5</td>\n",
       "      <td>0.5</td>\n",
       "      <td>0.0</td>\n",
       "      <td>0.333333</td>\n",
       "      <td>0.25</td>\n",
       "      <td>0.074827</td>\n",
       "      <td>0.018182</td>\n",
       "      <td>1.0</td>\n",
       "      <td>0.000000</td>\n",
       "      <td>0.0</td>\n",
       "      <td>0.0</td>\n",
       "    </tr>\n",
       "  </tbody>\n",
       "</table>\n",
       "</div>"
      ],
      "text/plain": [
       "        age       job   marital  education  default  housing  loan  contact  \\\n",
       "0  0.395062  0.181818  0.666667   0.428571      0.0      0.5   0.5      0.0   \n",
       "1  0.246914  0.272727  0.666667   1.000000      0.5      0.5   0.5      1.0   \n",
       "2  0.753086  0.545455  0.666667   0.142857      0.5      0.5   0.5      0.0   \n",
       "3  0.234568  0.090909  0.666667   1.000000      0.5      1.0   0.5      1.0   \n",
       "4  0.518519  0.545455  0.333333   1.000000      0.5      0.5   0.5      0.0   \n",
       "\n",
       "      month  day_of_week  duration  campaign  pdays  previous  poutcome    y  \n",
       "0  0.888889         0.50  0.046157  0.054545    1.0  0.000000       0.0  0.0  \n",
       "1  0.888889         0.50  0.041074  0.018182    1.0  0.142857       1.0  0.0  \n",
       "2  0.444444         0.00  0.233428  0.000000    1.0  0.000000       0.0  1.0  \n",
       "3  0.222222         0.00  0.024400  0.018182    1.0  0.000000       0.0  0.0  \n",
       "4  0.333333         0.25  0.074827  0.018182    1.0  0.000000       0.0  0.0  "
      ]
     },
     "execution_count": 6,
     "metadata": {},
     "output_type": "execute_result"
    }
   ],
   "source": [
    "min_max_scaler = MinMaxScaler()\n",
    "df_norm = pd.DataFrame(min_max_scaler.fit_transform(df), columns=df.columns)\n",
    "df_norm.head()"
   ]
  },
  {
   "cell_type": "code",
   "execution_count": 7,
   "metadata": {
    "id": "BEG2iozF_cCG"
   },
   "outputs": [],
   "source": [
    "# Строим модель логистической регрессии\n",
    "\n",
    "x = df_norm[['age', 'job', 'marital', 'education', 'default', 'housing', 'loan','contact', 'duration','campaign', 'pdays','previous','poutcome']]\n",
    "y = df_norm['y']\n",
    "\n",
    "x_train, x_test, y_train, y_test = train_test_split(x, y, test_size=0.25, random_state=42)\n",
    "LR = LogisticRegression()\n",
    "LR_model = LR.fit(x_train, y_train) \n",
    "\n",
    "pred_train = LR_model.predict(x_train) "
   ]
  },
  {
   "cell_type": "code",
   "execution_count": 8,
   "metadata": {},
   "outputs": [
    {
     "data": {
      "text/plain": [
       "0.6508299853700604"
      ]
     },
     "execution_count": 8,
     "metadata": {},
     "output_type": "execute_result"
    }
   ],
   "source": [
    "LR_scores = cross_val_score(LR, x, y, cv=5, scoring='precision')\n",
    "LR_scores.mean()"
   ]
  },
  {
   "cell_type": "code",
   "execution_count": 9,
   "metadata": {},
   "outputs": [
    {
     "name": "stdout",
     "output_type": "stream",
     "text": [
      "              precision    recall  f1-score   support\n",
      "\n",
      "           0       0.93      0.93      0.93      7258\n",
      "           1       0.46      0.46      0.46       980\n",
      "\n",
      "    accuracy                           0.87      8238\n",
      "   macro avg       0.69      0.69      0.69      8238\n",
      "weighted avg       0.87      0.87      0.87      8238\n",
      "\n"
     ]
    }
   ],
   "source": [
    "# Строим модель Гауссовского наивного классификатора\n",
    "\n",
    "x = df[['age', 'job', 'marital', 'education', 'default', 'housing', 'loan','contact', 'duration','campaign', 'pdays','previous','poutcome']]\n",
    "y = df['y']\n",
    "\n",
    "x_train, x_test, y_train, y_test = train_test_split(x, y, test_size=0.25, random_state=42)\n",
    "\n",
    "GNB = GaussianNB()\n",
    "batch = 200\n",
    "GNB.fit(x, y)\n",
    "predict = GNB.predict(x_test)\n",
    "print(classification_report(y_test, predict))"
   ]
  },
  {
   "cell_type": "code",
   "execution_count": 10,
   "metadata": {},
   "outputs": [
    {
     "data": {
      "text/plain": [
       "0.4366067794046278"
      ]
     },
     "execution_count": 10,
     "metadata": {},
     "output_type": "execute_result"
    }
   ],
   "source": [
    "GNB_scores = cross_val_score(GNB, x, y, cv=5, scoring='precision')\n",
    "GNB_scores.mean()"
   ]
  },
  {
   "cell_type": "code",
   "execution_count": 11,
   "metadata": {
    "id": "94cM-ubv8Ut3"
   },
   "outputs": [
    {
     "name": "stdout",
     "output_type": "stream",
     "text": [
      "0.553040520844651\n"
     ]
    }
   ],
   "source": [
    "# Строим модель K-ближайших соседей\n",
    "\n",
    "X = df_norm[['age', 'job', 'marital', 'education', 'default', 'housing', 'loan','contact', 'duration','campaign', 'pdays','previous','poutcome']]\n",
    "y = df_norm['y']\n",
    "\n",
    "X_train, X_test, y_train, y_test = train_test_split(X, y, test_size=0.2, random_state=42)\n",
    "\n",
    "KNC = KNeighborsClassifier()\n",
    "\n",
    "KNC_scores = cross_val_score(KNC, X, y, cv=5, scoring='precision')\n",
    "print(KNC_scores.mean())"
   ]
  },
  {
   "cell_type": "markdown",
   "metadata": {},
   "source": [
    "Лучший результат из рассмотренных алгоритмов показала модель Логистической регрессии."
   ]
  },
  {
   "cell_type": "markdown",
   "metadata": {},
   "source": [
    "## Поиск оптимальных гиперпараметров и построение моделей с найденными параметрами"
   ]
  },
  {
   "cell_type": "markdown",
   "metadata": {},
   "source": [
    "Для нахождения оптимальных гиперпараметров воспользуемся инструментом GridSearchCV:"
   ]
  },
  {
   "cell_type": "code",
   "execution_count": 12,
   "metadata": {},
   "outputs": [
    {
     "name": "stdout",
     "output_type": "stream",
     "text": [
      "Best Score: 0.6525005177540368\n",
      "Best Hyperparameters: {'C': 2.7825594022071245, 'penalty': 'l2'}\n"
     ]
    }
   ],
   "source": [
    "# Создаем объект модели Логистической регрессии\n",
    "LR = LogisticRegression()\n",
    "\n",
    "# Задаем словарь с сеткой значений гиперпапаметров\n",
    "param_grid = {\"penalty\": ['l2'],\n",
    "              \"C\": np.logspace(0, 4, 10)}\n",
    "\n",
    "# Создаем объект GridSearchCV, передаем ему объект модели и сетку параметров для поиска\n",
    "grid_search = GridSearchCV(LR, param_grid=param_grid, cv=5, scoring='precision')\n",
    "# Ищем оптимальные параметры \n",
    "grid_search.fit(X, y)\n",
    "\n",
    "# summarize resultv\n",
    "print('Best Score: %s' % grid_search.best_score_)\n",
    "print('Best Hyperparameters: %s' % grid_search.best_params_)"
   ]
  },
  {
   "cell_type": "code",
   "execution_count": 13,
   "metadata": {},
   "outputs": [
    {
     "name": "stdout",
     "output_type": "stream",
     "text": [
      "Значения точности при перекрестной проверке: \n",
      "[0.65311653 0.67945205 0.59078591 0.65183246 0.68731563]\n",
      "__________________________________________________\n",
      "Среднее значение перекрестной проверки: 0.65 \n",
      "Std: 0.034\n"
     ]
    }
   ],
   "source": [
    "LR_optim = LogisticRegression(C = 2.7825594022071245, penalty = 'l2')\n",
    "scores = cross_val_score(LR_optim, X, y, cv=5, scoring='precision')\n",
    "\n",
    "print(\"Значения точности при перекрестной проверке: \\n{}\".format(scores))\n",
    "print('_'*50)\n",
    "print(\"Среднее значение перекрестной проверки: {:.2f} \\nStd: {:.3f}\".format(scores.mean(), scores.std()))"
   ]
  },
  {
   "cell_type": "code",
   "execution_count": 14,
   "metadata": {},
   "outputs": [
    {
     "data": {
      "image/png": "[encoded data removed]",
      "text/plain": [
       "<Figure size 1440x360 with 1 Axes>"
      ]
     },
     "metadata": {
      "needs_background": "light"
     },
     "output_type": "display_data"
    }
   ],
   "source": [
    "plt.figure(figsize=(20, 5))\n",
    "C, score = [], []\n",
    "for n in range(1,10):\n",
    "    C.append(n)\n",
    "    LR_optim = LogisticRegression(C = n)\n",
    "    mean_precision = cross_val_score( LR_optim, X, y, cv=5, scoring='precision').mean()\n",
    "    score.append(mean_precision)\n",
    "    \n",
    "plt.plot(C, score);"
   ]
  },
  {
   "cell_type": "code",
   "execution_count": 15,
   "metadata": {},
   "outputs": [
    {
     "name": "stdout",
     "output_type": "stream",
     "text": [
      "Best Score: 0.6359420635304467\n",
      "Best Hyperparameters: {'var_smoothing': 0.5}\n"
     ]
    }
   ],
   "source": [
    "# Создаем объект модели Гауссовского наивного классификатора\n",
    "GNB = GaussianNB()\n",
    "\n",
    "# Задаем словарь с сеткой значений гиперпапаметров\n",
    "param_grid = {'var_smoothing': [0.00000001, 0.5]}\n",
    "\n",
    "# Создаем объект GridSearchCV, передаем ему объект модели и сетку параметров для поиска\n",
    "grid_search = GridSearchCV(GNB, param_grid=param_grid, cv=5, scoring='precision')\n",
    "# Ищем оптимальные параметры \n",
    "grid_search.fit(X, y)\n",
    "\n",
    "# summarize resultv\n",
    "print('Best Score: %s' % grid_search.best_score_)\n",
    "print('Best Hyperparameters: %s' % grid_search.best_params_)"
   ]
  },
  {
   "cell_type": "code",
   "execution_count": 16,
   "metadata": {},
   "outputs": [
    {
     "name": "stdout",
     "output_type": "stream",
     "text": [
      "Значения точности при перекрестной проверке: \n",
      "[0.66956522 0.66666667 0.57391304 0.6359447  0.63362069]\n",
      "__________________________________________________\n",
      "Среднее значение перекрестной проверки: 0.64 \n",
      "Std: 0.034\n"
     ]
    }
   ],
   "source": [
    "GNB_optim = GaussianNB(var_smoothing = 0.5)\n",
    "scores = cross_val_score(GNB_optim, X, y, cv=5, scoring='precision')\n",
    "\n",
    "print(\"Значения точности при перекрестной проверке: \\n{}\".format(scores))\n",
    "print('_'*50)\n",
    "print(\"Среднее значение перекрестной проверки: {:.2f} \\nStd: {:.3f}\".format(scores.mean(), scores.std()))"
   ]
  },
  {
   "cell_type": "code",
   "execution_count": 17,
   "metadata": {},
   "outputs": [
    {
     "name": "stderr",
     "output_type": "stream",
     "text": [
      "D:\\Programs\\Anaconda3\\lib\\site-packages\\sklearn\\metrics\\_classification.py:1248: UndefinedMetricWarning: Precision is ill-defined and being set to 0.0 due to no predicted samples. Use `zero_division` parameter to control this behavior.\n",
      "  _warn_prf(average, modifier, msg_start, len(result))\n",
      "D:\\Programs\\Anaconda3\\lib\\site-packages\\sklearn\\metrics\\_classification.py:1248: UndefinedMetricWarning: Precision is ill-defined and being set to 0.0 due to no predicted samples. Use `zero_division` parameter to control this behavior.\n",
      "  _warn_prf(average, modifier, msg_start, len(result))\n",
      "D:\\Programs\\Anaconda3\\lib\\site-packages\\sklearn\\metrics\\_classification.py:1248: UndefinedMetricWarning: Precision is ill-defined and being set to 0.0 due to no predicted samples. Use `zero_division` parameter to control this behavior.\n",
      "  _warn_prf(average, modifier, msg_start, len(result))\n",
      "D:\\Programs\\Anaconda3\\lib\\site-packages\\sklearn\\metrics\\_classification.py:1248: UndefinedMetricWarning: Precision is ill-defined and being set to 0.0 due to no predicted samples. Use `zero_division` parameter to control this behavior.\n",
      "  _warn_prf(average, modifier, msg_start, len(result))\n",
      "D:\\Programs\\Anaconda3\\lib\\site-packages\\sklearn\\metrics\\_classification.py:1248: UndefinedMetricWarning: Precision is ill-defined and being set to 0.0 due to no predicted samples. Use `zero_division` parameter to control this behavior.\n",
      "  _warn_prf(average, modifier, msg_start, len(result))\n"
     ]
    },
    {
     "data": {
      "image/png": "[encoded data removed]",
      "text/plain": [
       "<Figure size 1440x360 with 1 Axes>"
      ]
     },
     "metadata": {
      "needs_background": "light"
     },
     "output_type": "display_data"
    }
   ],
   "source": [
    "plt.figure(figsize=(20, 5))\n",
    "var_smoothing, score = [], []\n",
    "for n in range(0, 2):\n",
    "    var_smoothing.append(n)\n",
    "    GNB_optim = GaussianNB(var_smoothing = n)\n",
    "    mean_precision = cross_val_score(GNB_optim, X, y, cv=5, scoring='precision').mean()\n",
    "    score.append(mean_precision)\n",
    "    \n",
    "plt.plot(var_smoothing, score);"
   ]
  },
  {
   "cell_type": "markdown",
   "metadata": {},
   "source": [
    "Так и не понял, как правильно работать с поиском гиперпараметров у Гауссовского наивного классификатора. Не смог построить корректный график =("
   ]
  },
  {
   "cell_type": "code",
   "execution_count": 18,
   "metadata": {},
   "outputs": [
    {
     "name": "stdout",
     "output_type": "stream",
     "text": [
      "Best Score: 0.6494375468356155\n",
      "Best Hyperparameters: {'n_neighbors': 18, 'weights': 'uniform'}\n"
     ]
    }
   ],
   "source": [
    "# Создаем объект модели K-ближайших соседей\n",
    "KNC = KNeighborsClassifier()\n",
    "\n",
    "# Задаем словарь с сеткой значений гиперпапаметров\n",
    "param_grid = {'n_neighbors': [i for i in range(1, 30, 1)],\n",
    "              'weights':['uniform', 'distance']}\n",
    "\n",
    "# Создаем объект GridSearchCV, передаем ему объект модели и сетку параметров для поиска\n",
    "grid_search = GridSearchCV(KNC, param_grid=param_grid, cv=5, scoring='precision')\n",
    "# Ищем оптимальные параметры \n",
    "grid_search.fit(X, y)\n",
    "\n",
    "# summarize resultv\n",
    "print('Best Score: %s' % grid_search.best_score_)\n",
    "print('Best Hyperparameters: %s' % grid_search.best_params_)"
   ]
  },
  {
   "cell_type": "code",
   "execution_count": 19,
   "metadata": {},
   "outputs": [
    {
     "name": "stdout",
     "output_type": "stream",
     "text": [
      "Значения точности при перекрестной проверке: \n",
      "[0.68981481 0.65625    0.60085837 0.65740741 0.64285714]\n",
      "__________________________________________________\n",
      "Среднее значение перекрестной проверки: 0.65 \n",
      "Std: 0.029\n"
     ]
    }
   ],
   "source": [
    "KNC_optim = KNeighborsClassifier(n_neighbors=18, weights='uniform')\n",
    "scores = cross_val_score(KNC_optim, X, y, cv=5, scoring='precision')\n",
    "\n",
    "print(\"Значения точности при перекрестной проверке: \\n{}\".format(scores))\n",
    "print('_'*50)\n",
    "print(\"Среднее значение перекрестной проверки: {:.2f} \\nStd: {:.3f}\".format(scores.mean(), scores.std()))"
   ]
  },
  {
   "cell_type": "code",
   "execution_count": 20,
   "metadata": {},
   "outputs": [
    {
     "data": {
      "image/png": "[encoded data removed]",
      "text/plain": [
       "<Figure size 1440x360 with 1 Axes>"
      ]
     },
     "metadata": {
      "needs_background": "light"
     },
     "output_type": "display_data"
    }
   ],
   "source": [
    "plt.figure(figsize=(20, 5))\n",
    "n_neighbors_list, score = [], []\n",
    "for n in range(1,30):\n",
    "    n_neighbors_list.append(n)\n",
    "    KNC_optim = KNeighborsClassifier(n_neighbors=n)\n",
    "    mean_precision = cross_val_score(KNC_optim, X, y, cv=5, scoring='precision').mean()\n",
    "    score.append(mean_precision)\n",
    "    \n",
    "plt.plot(n_neighbors_list, score);"
   ]
  },
  {
   "cell_type": "markdown",
   "metadata": {},
   "source": [
    "С подобранными оптимальными гиперпараметрами модели показали примерно равное качество."
   ]
  }
 ],
 "metadata": {
  "colab": {
   "collapsed_sections": [],
   "name": "Сравнение алгоритмов классификации.ipynb",
   "provenance": []
  },
  "kernelspec": {
   "display_name": "Python 3 (ipykernel)",
   "language": "python",
   "name": "python3"
  },
  "language_info": {
   "codemirror_mode": {
    "name": "ipython",
    "version": 3
   },
   "file_extension": ".py",
   "mimetype": "text/x-python",
   "name": "python",
   "nbconvert_exporter": "python",
   "pygments_lexer": "ipython3",
   "version": "3.9.7"
  }
 },
 "nbformat": 4,
 "nbformat_minor": 1
}
