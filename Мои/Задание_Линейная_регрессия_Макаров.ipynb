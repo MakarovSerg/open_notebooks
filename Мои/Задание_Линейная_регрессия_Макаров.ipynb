{
  "cells": [
    {
      "cell_type": "code",
      "execution_count": 1,
      "metadata": {
        "id": "lQbvVbRIt28U",
        "colab": {
          "base_uri": "https://localhost:8080/"
        },
        "outputId": "84b214f1-4c0c-4e2f-8bb5-a0647a0a8b2c"
      },
      "outputs": [
        {
          "output_type": "stream",
          "name": "stderr",
          "text": [
            "/usr/local/lib/python3.7/dist-packages/statsmodels/tools/_testing.py:19: FutureWarning: pandas.util.testing is deprecated. Use the functions in the public API at pandas.testing instead.\n",
            "  import pandas.util.testing as tm\n"
          ]
        }
      ],
      "source": [
        "import pandas as pd\n",
        "import numpy as np\n",
        "import matplotlib.pyplot as plt\n",
        "import seaborn as sns\n",
        "# библиотека для машинного обучения sklearn\n",
        "from sklearn.linear_model import LinearRegression\n",
        "from sklearn.metrics import r2_score, mean_absolute_error, mean_squared_error, mean_absolute_percentage_error\n",
        "from sklearn.model_selection import train_test_split\n",
        "import statsmodels.api as sm"
      ]
    },
    {
      "cell_type": "markdown",
      "metadata": {
        "id": "LAwMCnIst28b"
      },
      "source": [
        "### <center> Задание по линейной регрессии\n",
        "Данный набор данных - более чистая версия данных из лабораторной работы по очистке данных. Теперь будем строить модель линейной регрессии для прогнозирования стоимости жилья (столбец **price_doc**) в зависимости от всех остальных факторов.\n",
        "\n",
        "Этапы:\n",
        "1. Построить корреляционную матрицу, чтобы найти, какой признак больше всего коррелирует с ценой.\n",
        "2. Постройте однофакторную модель регрессии по этому признаку. Сделайте анализ остатков модели, посмотрите на качество метрик (R-квадрат и MAE), сделайте выводы о качестве модели (написать комментарий).\n",
        "3. Постройте многофакторную модель регрессии по всем признакам. Сделайте анализ остатков модели, посмотрите на качество метрик, сделайте выводы о качестве модели.\n",
        "4. Поочередно выкидывайте признаки из модели, чтобы оценить, какие из них являются важными, а какие - нет. Сделайте выводы о важности признаков.\n",
        "\n",
        "Далее, попробуем использовать подход разбиения данных на обучающую и тестовую выборки. Выберите признаки, с которыми получилась лучшая модель. Для этой модели необходимо сделать следующее:\n",
        "5. Разбейте данные на обучающую и тестовую выборки, обучите модель, выведите метрики качества, сравните метрики на трейне и тесте\n",
        "6. Если до сих пор вы не очищали даные от аномалий и выбросов, сделайте это и сново перестройте модель. Как это повлияло на качество модели?\n"
      ]
    },
    {
      "cell_type": "code",
      "execution_count": 2,
      "metadata": {
        "colab": {
          "base_uri": "https://localhost:8080/",
          "height": 313
        },
        "id": "ZavyEYN-t28f",
        "outputId": "ec53dddf-7e7a-42e3-ef87-c8dbe1660eca"
      },
      "outputs": [
        {
          "output_type": "execute_result",
          "data": {
            "text/html": [
              "<div>\n",
              "<style scoped>\n",
              "    .dataframe tbody tr th:only-of-type {\n",
              "        vertical-align: middle;\n",
              "    }\n",
              "\n",
              "    .dataframe tbody tr th {\n",
              "        vertical-align: top;\n",
              "    }\n",
              "\n",
              "    .dataframe thead th {\n",
              "        text-align: right;\n",
              "    }\n",
              "</style>\n",
              "<table border=\"1\" class=\"dataframe\">\n",
              "  <thead>\n",
              "    <tr style=\"text-align: right;\">\n",
              "      <th></th>\n",
              "      <th>id</th>\n",
              "      <th>timestamp</th>\n",
              "      <th>full_sq</th>\n",
              "      <th>life_sq</th>\n",
              "      <th>floor</th>\n",
              "      <th>state</th>\n",
              "      <th>max_floor</th>\n",
              "      <th>material</th>\n",
              "      <th>build_year</th>\n",
              "      <th>num_room</th>\n",
              "      <th>kitch_sq</th>\n",
              "      <th>full_all</th>\n",
              "      <th>sub_area</th>\n",
              "      <th>price_doc</th>\n",
              "      <th>salary</th>\n",
              "      <th>fixed_basket</th>\n",
              "      <th>rent_price_3room_eco</th>\n",
              "      <th>rent_price_2room_eco</th>\n",
              "      <th>rent_price_1room_eco</th>\n",
              "      <th>average_life_exp</th>\n",
              "    </tr>\n",
              "  </thead>\n",
              "  <tbody>\n",
              "    <tr>\n",
              "      <th>0</th>\n",
              "      <td>8059</td>\n",
              "      <td>2013-05-21</td>\n",
              "      <td>11</td>\n",
              "      <td>11.0</td>\n",
              "      <td>2.0</td>\n",
              "      <td>3.0</td>\n",
              "      <td>5.0</td>\n",
              "      <td>2.0</td>\n",
              "      <td>1907</td>\n",
              "      <td>1.0</td>\n",
              "      <td>12.0</td>\n",
              "      <td>75377</td>\n",
              "      <td>Hamovniki</td>\n",
              "      <td>2750000</td>\n",
              "      <td>55485.2</td>\n",
              "      <td>14983.92</td>\n",
              "      <td>47.35</td>\n",
              "      <td>40.77</td>\n",
              "      <td>2.31</td>\n",
              "      <td>76.37</td>\n",
              "    </tr>\n",
              "    <tr>\n",
              "      <th>1</th>\n",
              "      <td>8138</td>\n",
              "      <td>2013-05-25</td>\n",
              "      <td>53</td>\n",
              "      <td>30.0</td>\n",
              "      <td>10.0</td>\n",
              "      <td>3.0</td>\n",
              "      <td>16.0</td>\n",
              "      <td>1.0</td>\n",
              "      <td>1980</td>\n",
              "      <td>2.0</td>\n",
              "      <td>8.0</td>\n",
              "      <td>68630</td>\n",
              "      <td>Lianozovo</td>\n",
              "      <td>9000000</td>\n",
              "      <td>55485.2</td>\n",
              "      <td>14983.92</td>\n",
              "      <td>47.35</td>\n",
              "      <td>40.77</td>\n",
              "      <td>2.31</td>\n",
              "      <td>76.37</td>\n",
              "    </tr>\n",
              "    <tr>\n",
              "      <th>2</th>\n",
              "      <td>8156</td>\n",
              "      <td>2013-05-27</td>\n",
              "      <td>77</td>\n",
              "      <td>41.0</td>\n",
              "      <td>2.0</td>\n",
              "      <td>1.0</td>\n",
              "      <td>17.0</td>\n",
              "      <td>6.0</td>\n",
              "      <td>2014</td>\n",
              "      <td>3.0</td>\n",
              "      <td>12.0</td>\n",
              "      <td>9553</td>\n",
              "      <td>Poselenie Voskresenskoe</td>\n",
              "      <td>7011550</td>\n",
              "      <td>55485.2</td>\n",
              "      <td>14983.92</td>\n",
              "      <td>47.35</td>\n",
              "      <td>40.77</td>\n",
              "      <td>2.31</td>\n",
              "      <td>76.37</td>\n",
              "    </tr>\n",
              "    <tr>\n",
              "      <th>3</th>\n",
              "      <td>8157</td>\n",
              "      <td>2013-05-27</td>\n",
              "      <td>45</td>\n",
              "      <td>27.0</td>\n",
              "      <td>6.0</td>\n",
              "      <td>3.0</td>\n",
              "      <td>9.0</td>\n",
              "      <td>1.0</td>\n",
              "      <td>1970</td>\n",
              "      <td>2.0</td>\n",
              "      <td>6.0</td>\n",
              "      <td>78616</td>\n",
              "      <td>Severnoe Butovo</td>\n",
              "      <td>7100000</td>\n",
              "      <td>55485.2</td>\n",
              "      <td>14983.92</td>\n",
              "      <td>47.35</td>\n",
              "      <td>40.77</td>\n",
              "      <td>2.31</td>\n",
              "      <td>76.37</td>\n",
              "    </tr>\n",
              "    <tr>\n",
              "      <th>4</th>\n",
              "      <td>8258</td>\n",
              "      <td>2013-05-30</td>\n",
              "      <td>74</td>\n",
              "      <td>46.0</td>\n",
              "      <td>12.0</td>\n",
              "      <td>3.0</td>\n",
              "      <td>24.0</td>\n",
              "      <td>1.0</td>\n",
              "      <td>2004</td>\n",
              "      <td>3.0</td>\n",
              "      <td>9.0</td>\n",
              "      <td>27992</td>\n",
              "      <td>Juzhnoe Medvedkovo</td>\n",
              "      <td>12100000</td>\n",
              "      <td>55485.2</td>\n",
              "      <td>14983.92</td>\n",
              "      <td>47.35</td>\n",
              "      <td>40.77</td>\n",
              "      <td>2.31</td>\n",
              "      <td>76.37</td>\n",
              "    </tr>\n",
              "  </tbody>\n",
              "</table>\n",
              "</div>"
            ],
            "text/plain": [
              "     id   timestamp  ...  rent_price_1room_eco  average_life_exp\n",
              "0  8059  2013-05-21  ...                  2.31             76.37\n",
              "1  8138  2013-05-25  ...                  2.31             76.37\n",
              "2  8156  2013-05-27  ...                  2.31             76.37\n",
              "3  8157  2013-05-27  ...                  2.31             76.37\n",
              "4  8258  2013-05-30  ...                  2.31             76.37\n",
              "\n",
              "[5 rows x 20 columns]"
            ]
          },
          "metadata": {},
          "execution_count": 2
        }
      ],
      "source": [
        "data = pd.read_csv('regression_data.csv')\n",
        "data.head()"
      ]
    },
    {
      "cell_type": "code",
      "source": [
        "data.describe()"
      ],
      "metadata": {
        "colab": {
          "base_uri": "https://localhost:8080/",
          "height": 320
        },
        "id": "s1eS8qjsWkv1",
        "outputId": "df0e3830-bd5e-46c6-b7ed-800d2352ff1d"
      },
      "execution_count": 3,
      "outputs": [
        {
          "output_type": "execute_result",
          "data": {
            "text/html": [
              "<div>\n",
              "<style scoped>\n",
              "    .dataframe tbody tr th:only-of-type {\n",
              "        vertical-align: middle;\n",
              "    }\n",
              "\n",
              "    .dataframe tbody tr th {\n",
              "        vertical-align: top;\n",
              "    }\n",
              "\n",
              "    .dataframe thead th {\n",
              "        text-align: right;\n",
              "    }\n",
              "</style>\n",
              "<table border=\"1\" class=\"dataframe\">\n",
              "  <thead>\n",
              "    <tr style=\"text-align: right;\">\n",
              "      <th></th>\n",
              "      <th>id</th>\n",
              "      <th>full_sq</th>\n",
              "      <th>life_sq</th>\n",
              "      <th>floor</th>\n",
              "      <th>state</th>\n",
              "      <th>max_floor</th>\n",
              "      <th>material</th>\n",
              "      <th>build_year</th>\n",
              "      <th>num_room</th>\n",
              "      <th>kitch_sq</th>\n",
              "      <th>full_all</th>\n",
              "      <th>price_doc</th>\n",
              "      <th>salary</th>\n",
              "      <th>fixed_basket</th>\n",
              "      <th>rent_price_3room_eco</th>\n",
              "      <th>rent_price_2room_eco</th>\n",
              "      <th>rent_price_1room_eco</th>\n",
              "      <th>average_life_exp</th>\n",
              "    </tr>\n",
              "  </thead>\n",
              "  <tbody>\n",
              "    <tr>\n",
              "      <th>count</th>\n",
              "      <td>14816.000000</td>\n",
              "      <td>14816.000000</td>\n",
              "      <td>14816.000000</td>\n",
              "      <td>14816.000000</td>\n",
              "      <td>14816.000000</td>\n",
              "      <td>14816.000000</td>\n",
              "      <td>14816.000000</td>\n",
              "      <td>1.481600e+04</td>\n",
              "      <td>14816.000000</td>\n",
              "      <td>14816.000000</td>\n",
              "      <td>1.481600e+04</td>\n",
              "      <td>1.481600e+04</td>\n",
              "      <td>14816.000000</td>\n",
              "      <td>14816.000000</td>\n",
              "      <td>14816.000000</td>\n",
              "      <td>14816.000000</td>\n",
              "      <td>14816.000000</td>\n",
              "      <td>14816.000000</td>\n",
              "    </tr>\n",
              "    <tr>\n",
              "      <th>mean</th>\n",
              "      <td>20125.711933</td>\n",
              "      <td>53.282127</td>\n",
              "      <td>34.388229</td>\n",
              "      <td>7.092198</td>\n",
              "      <td>2.253105</td>\n",
              "      <td>12.364133</td>\n",
              "      <td>1.926498</td>\n",
              "      <td>3.258545e+03</td>\n",
              "      <td>1.944789</td>\n",
              "      <td>7.645721</td>\n",
              "      <td>1.696573e+05</td>\n",
              "      <td>7.760501e+06</td>\n",
              "      <td>60652.285070</td>\n",
              "      <td>16412.151532</td>\n",
              "      <td>50.136764</td>\n",
              "      <td>41.913624</td>\n",
              "      <td>33.606733</td>\n",
              "      <td>76.650951</td>\n",
              "    </tr>\n",
              "    <tr>\n",
              "      <th>std</th>\n",
              "      <td>6012.574867</td>\n",
              "      <td>21.493609</td>\n",
              "      <td>64.319314</td>\n",
              "      <td>5.055868</td>\n",
              "      <td>0.832388</td>\n",
              "      <td>6.112946</td>\n",
              "      <td>1.523468</td>\n",
              "      <td>1.647223e+05</td>\n",
              "      <td>0.871448</td>\n",
              "      <td>29.193922</td>\n",
              "      <td>3.190805e+05</td>\n",
              "      <td>5.050117e+06</td>\n",
              "      <td>2673.449334</td>\n",
              "      <td>1009.048696</td>\n",
              "      <td>1.633962</td>\n",
              "      <td>1.117839</td>\n",
              "      <td>1.285190</td>\n",
              "      <td>0.134739</td>\n",
              "    </tr>\n",
              "    <tr>\n",
              "      <th>min</th>\n",
              "      <td>8059.000000</td>\n",
              "      <td>0.000000</td>\n",
              "      <td>0.000000</td>\n",
              "      <td>0.000000</td>\n",
              "      <td>1.000000</td>\n",
              "      <td>0.000000</td>\n",
              "      <td>1.000000</td>\n",
              "      <td>0.000000e+00</td>\n",
              "      <td>0.000000</td>\n",
              "      <td>0.000000</td>\n",
              "      <td>2.546000e+03</td>\n",
              "      <td>1.000000e+05</td>\n",
              "      <td>55485.200000</td>\n",
              "      <td>14983.920000</td>\n",
              "      <td>46.560000</td>\n",
              "      <td>38.910000</td>\n",
              "      <td>2.310000</td>\n",
              "      <td>76.370000</td>\n",
              "    </tr>\n",
              "    <tr>\n",
              "      <th>25%</th>\n",
              "      <td>15006.500000</td>\n",
              "      <td>38.000000</td>\n",
              "      <td>20.000000</td>\n",
              "      <td>3.000000</td>\n",
              "      <td>2.000000</td>\n",
              "      <td>9.000000</td>\n",
              "      <td>1.000000</td>\n",
              "      <td>1.967000e+03</td>\n",
              "      <td>1.000000</td>\n",
              "      <td>5.000000</td>\n",
              "      <td>5.740500e+04</td>\n",
              "      <td>5.300000e+06</td>\n",
              "      <td>61208.000000</td>\n",
              "      <td>15730.810000</td>\n",
              "      <td>49.120000</td>\n",
              "      <td>41.180000</td>\n",
              "      <td>33.060000</td>\n",
              "      <td>76.700000</td>\n",
              "    </tr>\n",
              "    <tr>\n",
              "      <th>50%</th>\n",
              "      <td>20250.500000</td>\n",
              "      <td>48.000000</td>\n",
              "      <td>30.000000</td>\n",
              "      <td>6.000000</td>\n",
              "      <td>2.000000</td>\n",
              "      <td>12.000000</td>\n",
              "      <td>1.000000</td>\n",
              "      <td>1.979000e+03</td>\n",
              "      <td>2.000000</td>\n",
              "      <td>7.000000</td>\n",
              "      <td>8.997100e+04</td>\n",
              "      <td>6.850000e+06</td>\n",
              "      <td>61208.000000</td>\n",
              "      <td>16205.250000</td>\n",
              "      <td>49.890000</td>\n",
              "      <td>41.960000</td>\n",
              "      <td>33.670000</td>\n",
              "      <td>76.700000</td>\n",
              "    </tr>\n",
              "    <tr>\n",
              "      <th>75%</th>\n",
              "      <td>25363.250000</td>\n",
              "      <td>63.000000</td>\n",
              "      <td>43.000000</td>\n",
              "      <td>10.000000</td>\n",
              "      <td>3.000000</td>\n",
              "      <td>17.000000</td>\n",
              "      <td>2.000000</td>\n",
              "      <td>2.004000e+03</td>\n",
              "      <td>3.000000</td>\n",
              "      <td>9.000000</td>\n",
              "      <td>1.292070e+05</td>\n",
              "      <td>9.100000e+06</td>\n",
              "      <td>61208.000000</td>\n",
              "      <td>16648.700000</td>\n",
              "      <td>51.410000</td>\n",
              "      <td>42.640000</td>\n",
              "      <td>34.520000</td>\n",
              "      <td>76.700000</td>\n",
              "    </tr>\n",
              "    <tr>\n",
              "      <th>max</th>\n",
              "      <td>30473.000000</td>\n",
              "      <td>637.000000</td>\n",
              "      <td>7478.000000</td>\n",
              "      <td>77.000000</td>\n",
              "      <td>33.000000</td>\n",
              "      <td>57.000000</td>\n",
              "      <td>6.000000</td>\n",
              "      <td>2.005201e+07</td>\n",
              "      <td>19.000000</td>\n",
              "      <td>2014.000000</td>\n",
              "      <td>1.716730e+06</td>\n",
              "      <td>9.512250e+07</td>\n",
              "      <td>64310.000000</td>\n",
              "      <td>18745.280000</td>\n",
              "      <td>53.210000</td>\n",
              "      <td>43.850000</td>\n",
              "      <td>35.370000</td>\n",
              "      <td>76.770000</td>\n",
              "    </tr>\n",
              "  </tbody>\n",
              "</table>\n",
              "</div>"
            ],
            "text/plain": [
              "                 id       full_sq  ...  rent_price_1room_eco  average_life_exp\n",
              "count  14816.000000  14816.000000  ...          14816.000000      14816.000000\n",
              "mean   20125.711933     53.282127  ...             33.606733         76.650951\n",
              "std     6012.574867     21.493609  ...              1.285190          0.134739\n",
              "min     8059.000000      0.000000  ...              2.310000         76.370000\n",
              "25%    15006.500000     38.000000  ...             33.060000         76.700000\n",
              "50%    20250.500000     48.000000  ...             33.670000         76.700000\n",
              "75%    25363.250000     63.000000  ...             34.520000         76.700000\n",
              "max    30473.000000    637.000000  ...             35.370000         76.770000\n",
              "\n",
              "[8 rows x 18 columns]"
            ]
          },
          "metadata": {},
          "execution_count": 3
        }
      ]
    },
    {
      "cell_type": "markdown",
      "source": [
        "**1. Построить корреляционную матрицу, чтобы найти, какой признак больше всего коррелирует с ценой.**"
      ],
      "metadata": {
        "id": "ky48DJhNkpoI"
      }
    },
    {
      "cell_type": "code",
      "source": [
        "data.corr()"
      ],
      "metadata": {
        "colab": {
          "base_uri": "https://localhost:8080/",
          "height": 634
        },
        "id": "KTvAv3Nlt5iF",
        "outputId": "ab4f280c-3b34-456c-d5fa-664793c28afb"
      },
      "execution_count": 4,
      "outputs": [
        {
          "output_type": "execute_result",
          "data": {
            "text/html": [
              "<div>\n",
              "<style scoped>\n",
              "    .dataframe tbody tr th:only-of-type {\n",
              "        vertical-align: middle;\n",
              "    }\n",
              "\n",
              "    .dataframe tbody tr th {\n",
              "        vertical-align: top;\n",
              "    }\n",
              "\n",
              "    .dataframe thead th {\n",
              "        text-align: right;\n",
              "    }\n",
              "</style>\n",
              "<table border=\"1\" class=\"dataframe\">\n",
              "  <thead>\n",
              "    <tr style=\"text-align: right;\">\n",
              "      <th></th>\n",
              "      <th>id</th>\n",
              "      <th>full_sq</th>\n",
              "      <th>life_sq</th>\n",
              "      <th>floor</th>\n",
              "      <th>state</th>\n",
              "      <th>max_floor</th>\n",
              "      <th>material</th>\n",
              "      <th>build_year</th>\n",
              "      <th>num_room</th>\n",
              "      <th>kitch_sq</th>\n",
              "      <th>full_all</th>\n",
              "      <th>price_doc</th>\n",
              "      <th>salary</th>\n",
              "      <th>fixed_basket</th>\n",
              "      <th>rent_price_3room_eco</th>\n",
              "      <th>rent_price_2room_eco</th>\n",
              "      <th>rent_price_1room_eco</th>\n",
              "      <th>average_life_exp</th>\n",
              "    </tr>\n",
              "  </thead>\n",
              "  <tbody>\n",
              "    <tr>\n",
              "      <th>id</th>\n",
              "      <td>1.000000</td>\n",
              "      <td>0.047572</td>\n",
              "      <td>0.007082</td>\n",
              "      <td>0.020489</td>\n",
              "      <td>-0.105563</td>\n",
              "      <td>0.035155</td>\n",
              "      <td>0.021266</td>\n",
              "      <td>-0.013847</td>\n",
              "      <td>0.017088</td>\n",
              "      <td>-0.002109</td>\n",
              "      <td>-0.011505</td>\n",
              "      <td>0.072959</td>\n",
              "      <td>0.820880</td>\n",
              "      <td>0.896189</td>\n",
              "      <td>0.609556</td>\n",
              "      <td>-0.050312</td>\n",
              "      <td>-0.193437</td>\n",
              "      <td>0.756910</td>\n",
              "    </tr>\n",
              "    <tr>\n",
              "      <th>full_sq</th>\n",
              "      <td>0.047572</td>\n",
              "      <td>1.000000</td>\n",
              "      <td>0.249767</td>\n",
              "      <td>0.160430</td>\n",
              "      <td>-0.067906</td>\n",
              "      <td>0.210499</td>\n",
              "      <td>0.049657</td>\n",
              "      <td>-0.006277</td>\n",
              "      <td>0.708513</td>\n",
              "      <td>0.039477</td>\n",
              "      <td>-0.022089</td>\n",
              "      <td>0.634608</td>\n",
              "      <td>0.052252</td>\n",
              "      <td>0.060446</td>\n",
              "      <td>0.016030</td>\n",
              "      <td>-0.035652</td>\n",
              "      <td>-0.040892</td>\n",
              "      <td>0.041105</td>\n",
              "    </tr>\n",
              "    <tr>\n",
              "      <th>life_sq</th>\n",
              "      <td>0.007082</td>\n",
              "      <td>0.249767</td>\n",
              "      <td>1.000000</td>\n",
              "      <td>0.034202</td>\n",
              "      <td>-0.068710</td>\n",
              "      <td>0.044023</td>\n",
              "      <td>0.010075</td>\n",
              "      <td>-0.002417</td>\n",
              "      <td>0.181143</td>\n",
              "      <td>0.002197</td>\n",
              "      <td>-0.019616</td>\n",
              "      <td>0.137888</td>\n",
              "      <td>-0.001363</td>\n",
              "      <td>0.009860</td>\n",
              "      <td>0.001000</td>\n",
              "      <td>-0.004863</td>\n",
              "      <td>-0.006890</td>\n",
              "      <td>-0.005509</td>\n",
              "    </tr>\n",
              "    <tr>\n",
              "      <th>floor</th>\n",
              "      <td>0.020489</td>\n",
              "      <td>0.160430</td>\n",
              "      <td>0.034202</td>\n",
              "      <td>1.000000</td>\n",
              "      <td>-0.069236</td>\n",
              "      <td>0.537254</td>\n",
              "      <td>0.031061</td>\n",
              "      <td>0.001479</td>\n",
              "      <td>0.002473</td>\n",
              "      <td>0.007214</td>\n",
              "      <td>-0.020477</td>\n",
              "      <td>0.137385</td>\n",
              "      <td>0.023191</td>\n",
              "      <td>0.024981</td>\n",
              "      <td>0.002392</td>\n",
              "      <td>-0.021423</td>\n",
              "      <td>-0.021676</td>\n",
              "      <td>0.019126</td>\n",
              "    </tr>\n",
              "    <tr>\n",
              "      <th>state</th>\n",
              "      <td>-0.105563</td>\n",
              "      <td>-0.067906</td>\n",
              "      <td>-0.068710</td>\n",
              "      <td>-0.069236</td>\n",
              "      <td>1.000000</td>\n",
              "      <td>-0.026325</td>\n",
              "      <td>-0.084279</td>\n",
              "      <td>0.304078</td>\n",
              "      <td>0.065234</td>\n",
              "      <td>0.024303</td>\n",
              "      <td>0.072079</td>\n",
              "      <td>0.106716</td>\n",
              "      <td>-0.097458</td>\n",
              "      <td>-0.108998</td>\n",
              "      <td>-0.049222</td>\n",
              "      <td>0.047281</td>\n",
              "      <td>0.054033</td>\n",
              "      <td>-0.086235</td>\n",
              "    </tr>\n",
              "    <tr>\n",
              "      <th>max_floor</th>\n",
              "      <td>0.035155</td>\n",
              "      <td>0.210499</td>\n",
              "      <td>0.044023</td>\n",
              "      <td>0.537254</td>\n",
              "      <td>-0.026325</td>\n",
              "      <td>1.000000</td>\n",
              "      <td>0.077608</td>\n",
              "      <td>-0.000291</td>\n",
              "      <td>-0.004804</td>\n",
              "      <td>0.038296</td>\n",
              "      <td>0.000004</td>\n",
              "      <td>0.161406</td>\n",
              "      <td>0.032826</td>\n",
              "      <td>0.042137</td>\n",
              "      <td>0.008058</td>\n",
              "      <td>-0.029636</td>\n",
              "      <td>-0.032839</td>\n",
              "      <td>0.026313</td>\n",
              "    </tr>\n",
              "    <tr>\n",
              "      <th>material</th>\n",
              "      <td>0.021266</td>\n",
              "      <td>0.049657</td>\n",
              "      <td>0.010075</td>\n",
              "      <td>0.031061</td>\n",
              "      <td>-0.084279</td>\n",
              "      <td>0.077608</td>\n",
              "      <td>1.000000</td>\n",
              "      <td>-0.004831</td>\n",
              "      <td>-0.041341</td>\n",
              "      <td>0.034055</td>\n",
              "      <td>0.019234</td>\n",
              "      <td>0.060954</td>\n",
              "      <td>0.006922</td>\n",
              "      <td>0.026442</td>\n",
              "      <td>0.009165</td>\n",
              "      <td>-0.013824</td>\n",
              "      <td>-0.016946</td>\n",
              "      <td>-0.000067</td>\n",
              "    </tr>\n",
              "    <tr>\n",
              "      <th>build_year</th>\n",
              "      <td>-0.013847</td>\n",
              "      <td>-0.006277</td>\n",
              "      <td>-0.002417</td>\n",
              "      <td>0.001479</td>\n",
              "      <td>0.304078</td>\n",
              "      <td>-0.000291</td>\n",
              "      <td>-0.004831</td>\n",
              "      <td>1.000000</td>\n",
              "      <td>-0.008819</td>\n",
              "      <td>0.000478</td>\n",
              "      <td>-0.000876</td>\n",
              "      <td>0.002159</td>\n",
              "      <td>-0.016022</td>\n",
              "      <td>-0.009669</td>\n",
              "      <td>-0.009700</td>\n",
              "      <td>0.003141</td>\n",
              "      <td>-0.002827</td>\n",
              "      <td>-0.017266</td>\n",
              "    </tr>\n",
              "    <tr>\n",
              "      <th>num_room</th>\n",
              "      <td>0.017088</td>\n",
              "      <td>0.708513</td>\n",
              "      <td>0.181143</td>\n",
              "      <td>0.002473</td>\n",
              "      <td>0.065234</td>\n",
              "      <td>-0.004804</td>\n",
              "      <td>-0.041341</td>\n",
              "      <td>-0.008819</td>\n",
              "      <td>1.000000</td>\n",
              "      <td>0.015373</td>\n",
              "      <td>-0.004929</td>\n",
              "      <td>0.472094</td>\n",
              "      <td>0.019586</td>\n",
              "      <td>0.028146</td>\n",
              "      <td>0.003765</td>\n",
              "      <td>-0.016515</td>\n",
              "      <td>-0.021919</td>\n",
              "      <td>0.011347</td>\n",
              "    </tr>\n",
              "    <tr>\n",
              "      <th>kitch_sq</th>\n",
              "      <td>-0.002109</td>\n",
              "      <td>0.039477</td>\n",
              "      <td>0.002197</td>\n",
              "      <td>0.007214</td>\n",
              "      <td>0.024303</td>\n",
              "      <td>0.038296</td>\n",
              "      <td>0.034055</td>\n",
              "      <td>0.000478</td>\n",
              "      <td>0.015373</td>\n",
              "      <td>1.000000</td>\n",
              "      <td>-0.000167</td>\n",
              "      <td>0.026619</td>\n",
              "      <td>-0.004369</td>\n",
              "      <td>0.003220</td>\n",
              "      <td>0.001304</td>\n",
              "      <td>-0.002743</td>\n",
              "      <td>-0.001924</td>\n",
              "      <td>-0.007706</td>\n",
              "    </tr>\n",
              "    <tr>\n",
              "      <th>full_all</th>\n",
              "      <td>-0.011505</td>\n",
              "      <td>-0.022089</td>\n",
              "      <td>-0.019616</td>\n",
              "      <td>-0.020477</td>\n",
              "      <td>0.072079</td>\n",
              "      <td>0.000004</td>\n",
              "      <td>0.019234</td>\n",
              "      <td>-0.000876</td>\n",
              "      <td>-0.004929</td>\n",
              "      <td>-0.000167</td>\n",
              "      <td>1.000000</td>\n",
              "      <td>0.005017</td>\n",
              "      <td>-0.020942</td>\n",
              "      <td>-0.016473</td>\n",
              "      <td>-0.003440</td>\n",
              "      <td>0.024527</td>\n",
              "      <td>0.029027</td>\n",
              "      <td>-0.019324</td>\n",
              "    </tr>\n",
              "    <tr>\n",
              "      <th>price_doc</th>\n",
              "      <td>0.072959</td>\n",
              "      <td>0.634608</td>\n",
              "      <td>0.137888</td>\n",
              "      <td>0.137385</td>\n",
              "      <td>0.106716</td>\n",
              "      <td>0.161406</td>\n",
              "      <td>0.060954</td>\n",
              "      <td>0.002159</td>\n",
              "      <td>0.472094</td>\n",
              "      <td>0.026619</td>\n",
              "      <td>0.005017</td>\n",
              "      <td>1.000000</td>\n",
              "      <td>0.068030</td>\n",
              "      <td>0.075015</td>\n",
              "      <td>0.031548</td>\n",
              "      <td>-0.023378</td>\n",
              "      <td>-0.033836</td>\n",
              "      <td>0.059508</td>\n",
              "    </tr>\n",
              "    <tr>\n",
              "      <th>salary</th>\n",
              "      <td>0.820880</td>\n",
              "      <td>0.052252</td>\n",
              "      <td>-0.001363</td>\n",
              "      <td>0.023191</td>\n",
              "      <td>-0.097458</td>\n",
              "      <td>0.032826</td>\n",
              "      <td>0.006922</td>\n",
              "      <td>-0.016022</td>\n",
              "      <td>0.019586</td>\n",
              "      <td>-0.004369</td>\n",
              "      <td>-0.020942</td>\n",
              "      <td>0.068030</td>\n",
              "      <td>1.000000</td>\n",
              "      <td>0.797599</td>\n",
              "      <td>0.423360</td>\n",
              "      <td>-0.243558</td>\n",
              "      <td>-0.355323</td>\n",
              "      <td>0.971475</td>\n",
              "    </tr>\n",
              "    <tr>\n",
              "      <th>fixed_basket</th>\n",
              "      <td>0.896189</td>\n",
              "      <td>0.060446</td>\n",
              "      <td>0.009860</td>\n",
              "      <td>0.024981</td>\n",
              "      <td>-0.108998</td>\n",
              "      <td>0.042137</td>\n",
              "      <td>0.026442</td>\n",
              "      <td>-0.009669</td>\n",
              "      <td>0.028146</td>\n",
              "      <td>0.003220</td>\n",
              "      <td>-0.016473</td>\n",
              "      <td>0.075015</td>\n",
              "      <td>0.797599</td>\n",
              "      <td>1.000000</td>\n",
              "      <td>0.355146</td>\n",
              "      <td>-0.404786</td>\n",
              "      <td>-0.468425</td>\n",
              "      <td>0.653533</td>\n",
              "    </tr>\n",
              "    <tr>\n",
              "      <th>rent_price_3room_eco</th>\n",
              "      <td>0.609556</td>\n",
              "      <td>0.016030</td>\n",
              "      <td>0.001000</td>\n",
              "      <td>0.002392</td>\n",
              "      <td>-0.049222</td>\n",
              "      <td>0.008058</td>\n",
              "      <td>0.009165</td>\n",
              "      <td>-0.009700</td>\n",
              "      <td>0.003765</td>\n",
              "      <td>0.001304</td>\n",
              "      <td>-0.003440</td>\n",
              "      <td>0.031548</td>\n",
              "      <td>0.423360</td>\n",
              "      <td>0.355146</td>\n",
              "      <td>1.000000</td>\n",
              "      <td>0.542026</td>\n",
              "      <td>0.314613</td>\n",
              "      <td>0.439777</td>\n",
              "    </tr>\n",
              "    <tr>\n",
              "      <th>rent_price_2room_eco</th>\n",
              "      <td>-0.050312</td>\n",
              "      <td>-0.035652</td>\n",
              "      <td>-0.004863</td>\n",
              "      <td>-0.021423</td>\n",
              "      <td>0.047281</td>\n",
              "      <td>-0.029636</td>\n",
              "      <td>-0.013824</td>\n",
              "      <td>0.003141</td>\n",
              "      <td>-0.016515</td>\n",
              "      <td>-0.002743</td>\n",
              "      <td>0.024527</td>\n",
              "      <td>-0.023378</td>\n",
              "      <td>-0.243558</td>\n",
              "      <td>-0.404786</td>\n",
              "      <td>0.542026</td>\n",
              "      <td>1.000000</td>\n",
              "      <td>0.805199</td>\n",
              "      <td>-0.126121</td>\n",
              "    </tr>\n",
              "    <tr>\n",
              "      <th>rent_price_1room_eco</th>\n",
              "      <td>-0.193437</td>\n",
              "      <td>-0.040892</td>\n",
              "      <td>-0.006890</td>\n",
              "      <td>-0.021676</td>\n",
              "      <td>0.054033</td>\n",
              "      <td>-0.032839</td>\n",
              "      <td>-0.016946</td>\n",
              "      <td>-0.002827</td>\n",
              "      <td>-0.021919</td>\n",
              "      <td>-0.001924</td>\n",
              "      <td>0.029027</td>\n",
              "      <td>-0.033836</td>\n",
              "      <td>-0.355323</td>\n",
              "      <td>-0.468425</td>\n",
              "      <td>0.314613</td>\n",
              "      <td>0.805199</td>\n",
              "      <td>1.000000</td>\n",
              "      <td>-0.251753</td>\n",
              "    </tr>\n",
              "    <tr>\n",
              "      <th>average_life_exp</th>\n",
              "      <td>0.756910</td>\n",
              "      <td>0.041105</td>\n",
              "      <td>-0.005509</td>\n",
              "      <td>0.019126</td>\n",
              "      <td>-0.086235</td>\n",
              "      <td>0.026313</td>\n",
              "      <td>-0.000067</td>\n",
              "      <td>-0.017266</td>\n",
              "      <td>0.011347</td>\n",
              "      <td>-0.007706</td>\n",
              "      <td>-0.019324</td>\n",
              "      <td>0.059508</td>\n",
              "      <td>0.971475</td>\n",
              "      <td>0.653533</td>\n",
              "      <td>0.439777</td>\n",
              "      <td>-0.126121</td>\n",
              "      <td>-0.251753</td>\n",
              "      <td>1.000000</td>\n",
              "    </tr>\n",
              "  </tbody>\n",
              "</table>\n",
              "</div>"
            ],
            "text/plain": [
              "                            id  ...  average_life_exp\n",
              "id                    1.000000  ...          0.756910\n",
              "full_sq               0.047572  ...          0.041105\n",
              "life_sq               0.007082  ...         -0.005509\n",
              "floor                 0.020489  ...          0.019126\n",
              "state                -0.105563  ...         -0.086235\n",
              "max_floor             0.035155  ...          0.026313\n",
              "material              0.021266  ...         -0.000067\n",
              "build_year           -0.013847  ...         -0.017266\n",
              "num_room              0.017088  ...          0.011347\n",
              "kitch_sq             -0.002109  ...         -0.007706\n",
              "full_all             -0.011505  ...         -0.019324\n",
              "price_doc             0.072959  ...          0.059508\n",
              "salary                0.820880  ...          0.971475\n",
              "fixed_basket          0.896189  ...          0.653533\n",
              "rent_price_3room_eco  0.609556  ...          0.439777\n",
              "rent_price_2room_eco -0.050312  ...         -0.126121\n",
              "rent_price_1room_eco -0.193437  ...         -0.251753\n",
              "average_life_exp      0.756910  ...          1.000000\n",
              "\n",
              "[18 rows x 18 columns]"
            ]
          },
          "metadata": {},
          "execution_count": 4
        }
      ]
    },
    {
      "cell_type": "code",
      "source": [
        "cmap = sns.diverging_palette(220, 20, sep=20, as_cmap=True)\n",
        "plt.subplots(figsize=(20, 14))\n",
        "sns.heatmap(data.corr(),cmap=cmap, annot=True);"
      ],
      "metadata": {
        "colab": {
          "base_uri": "https://localhost:8080/",
          "height": 913
        },
        "id": "qz_X4BW_t6Dr",
        "outputId": "d6cd31b1-b77c-4174-fc0f-7117fdd68f22"
      },
      "execution_count": 5,
      "outputs": [
        {
          "output_type": "display_data",
          "data": {
            "image/png": "[encoded data removed]",
            "text/plain": [
              "<Figure size 1440x1008 with 2 Axes>"
            ]
          },
          "metadata": {
            "needs_background": "light"
          }
        }
      ]
    },
    {
      "cell_type": "markdown",
      "source": [
        "*Сильнее всего с ценой коррелирует фактор общей площади помещения - full_sq (0,63)*"
      ],
      "metadata": {
        "id": "_tLVZPw58bey"
      }
    },
    {
      "cell_type": "markdown",
      "source": [
        "**2. Постройте однофакторную модель регрессии по этому признаку. Сделайте анализ остатков модели, посмотрите на качество метрик (R-квадрат и MAE), сделайте выводы о качестве модели (написать комментарий).**"
      ],
      "metadata": {
        "id": "KNzpbw_8kwrP"
      }
    },
    {
      "cell_type": "code",
      "source": [
        "# Формируем X и y для построения модели\n",
        "x = data[['full_sq']]\n",
        "y = data['price_doc']\n",
        "\n",
        "# Создаем объект модели\n",
        "reg_model_1 = LinearRegression()\n",
        "\n",
        "# Обучаем модель на данных, применяя метод fit()\n",
        "reg_model_1.fit(x, y)\n",
        "\n",
        "# Делаем предказание, применяя метод predict(), и сохраняем его в отдельную переменную\n",
        "pred_1 = reg_model_1.predict(x)\n",
        "\n",
        "# Метрики качества\n",
        "print('R2: ', r2_score(y, pred_1))\n",
        "print('Mean absolute error (MAE): ', mean_absolute_error(y, pred_1))"
      ],
      "metadata": {
        "colab": {
          "base_uri": "https://localhost:8080/"
        },
        "id": "OEO5qKfet60o",
        "outputId": "430e8aba-951b-4098-e5b8-3522d843bedf"
      },
      "execution_count": 6,
      "outputs": [
        {
          "output_type": "stream",
          "name": "stdout",
          "text": [
            "R2:  0.40272744877628297\n",
            "Mean absolute error (MAE):  2427536.071947832\n"
          ]
        }
      ]
    },
    {
      "cell_type": "code",
      "source": [
        "# Выведем коэффициент модели (k) и свободный член модели (b)\n",
        "print('Коэффициент модели (k): ', reg_model_1.coef_)\n",
        "print('Свободный член (сдвиг) модели (b): ', reg_model_1.intercept_)"
      ],
      "metadata": {
        "colab": {
          "base_uri": "https://localhost:8080/"
        },
        "id": "oT-DVtN6t2Jt",
        "outputId": "de92271e-a844-463c-cded-a29c1ca1c460"
      },
      "execution_count": 7,
      "outputs": [
        {
          "output_type": "stream",
          "name": "stdout",
          "text": [
            "Коэффициент модели (k):  [149106.90749413]\n",
            "Свободный член (сдвиг) модели (b):  -184232.1583610978\n"
          ]
        }
      ]
    },
    {
      "cell_type": "code",
      "source": [
        "# Для оценки качества описания поведения данных моделью построим линию регрессии (тренд)\n",
        "data.plot(x='full_sq', y='price_doc', kind='scatter')\n",
        "plt.plot(data['full_sq'], pred_1, color='red');"
      ],
      "metadata": {
        "colab": {
          "base_uri": "https://localhost:8080/",
          "height": 291
        },
        "id": "106gcgiBmSie",
        "outputId": "b51e9208-c775-44b6-dab0-b16142060861"
      },
      "execution_count": 8,
      "outputs": [
        {
          "output_type": "display_data",
          "data": {
            "image/png": "[encoded data removed]",
            "text/plain": [
              "<Figure size 432x288 with 1 Axes>"
            ]
          },
          "metadata": {
            "needs_background": "light"
          }
        }
      ]
    },
    {
      "cell_type": "markdown",
      "source": [
        "*Как можно заметить, у модели есть ряд выбросов - точки, у которых площадь больше 250 м2 и точки, у которых цена больше 8000000 рублей, а также точки, у которых площадь около нуля, а цена доходит до 2х миллионов.*"
      ],
      "metadata": {
        "id": "ALuLCE2GsDkB"
      }
    },
    {
      "cell_type": "code",
      "source": [
        "# Для анализа остатков создадим новый датафрейм с колонками: Price - цена жил. площади, \n",
        "#Predictions - предсказания, Errors - ошибки модели\n",
        "remains = pd.DataFrame({'Price': data['price_doc'],\n",
        "                        'Predictions': pred_1,\n",
        "                        'Errors': data['price_doc']-pred_1})\n",
        "remains.head()"
      ],
      "metadata": {
        "colab": {
          "base_uri": "https://localhost:8080/",
          "height": 206
        },
        "id": "Fuy2HvkFu5PX",
        "outputId": "6b36baa4-29ba-41ea-c616-a3d1c310a6ae"
      },
      "execution_count": 9,
      "outputs": [
        {
          "output_type": "execute_result",
          "data": {
            "text/html": [
              "<div>\n",
              "<style scoped>\n",
              "    .dataframe tbody tr th:only-of-type {\n",
              "        vertical-align: middle;\n",
              "    }\n",
              "\n",
              "    .dataframe tbody tr th {\n",
              "        vertical-align: top;\n",
              "    }\n",
              "\n",
              "    .dataframe thead th {\n",
              "        text-align: right;\n",
              "    }\n",
              "</style>\n",
              "<table border=\"1\" class=\"dataframe\">\n",
              "  <thead>\n",
              "    <tr style=\"text-align: right;\">\n",
              "      <th></th>\n",
              "      <th>Price</th>\n",
              "      <th>Predictions</th>\n",
              "      <th>Errors</th>\n",
              "    </tr>\n",
              "  </thead>\n",
              "  <tbody>\n",
              "    <tr>\n",
              "      <th>0</th>\n",
              "      <td>2750000</td>\n",
              "      <td>1.455944e+06</td>\n",
              "      <td>1.294056e+06</td>\n",
              "    </tr>\n",
              "    <tr>\n",
              "      <th>1</th>\n",
              "      <td>9000000</td>\n",
              "      <td>7.718434e+06</td>\n",
              "      <td>1.281566e+06</td>\n",
              "    </tr>\n",
              "    <tr>\n",
              "      <th>2</th>\n",
              "      <td>7011550</td>\n",
              "      <td>1.129700e+07</td>\n",
              "      <td>-4.285450e+06</td>\n",
              "    </tr>\n",
              "    <tr>\n",
              "      <th>3</th>\n",
              "      <td>7100000</td>\n",
              "      <td>6.525579e+06</td>\n",
              "      <td>5.744213e+05</td>\n",
              "    </tr>\n",
              "    <tr>\n",
              "      <th>4</th>\n",
              "      <td>12100000</td>\n",
              "      <td>1.084968e+07</td>\n",
              "      <td>1.250321e+06</td>\n",
              "    </tr>\n",
              "  </tbody>\n",
              "</table>\n",
              "</div>"
            ],
            "text/plain": [
              "      Price   Predictions        Errors\n",
              "0   2750000  1.455944e+06  1.294056e+06\n",
              "1   9000000  7.718434e+06  1.281566e+06\n",
              "2   7011550  1.129700e+07 -4.285450e+06\n",
              "3   7100000  6.525579e+06  5.744213e+05\n",
              "4  12100000  1.084968e+07  1.250321e+06"
            ]
          },
          "metadata": {},
          "execution_count": 9
        }
      ]
    },
    {
      "cell_type": "markdown",
      "source": [
        "Для наглядности построим диаграмму рассеяния ошибок:"
      ],
      "metadata": {
        "id": "PJFkGNvKx_fi"
      }
    },
    {
      "cell_type": "code",
      "source": [
        "remains['Errors'].hist(bins=30)"
      ],
      "metadata": {
        "colab": {
          "base_uri": "https://localhost:8080/",
          "height": 295
        },
        "id": "ZpR322kLu4RT",
        "outputId": "9bceeab5-91a5-4e57-f5d1-e825d85a764a"
      },
      "execution_count": 10,
      "outputs": [
        {
          "output_type": "execute_result",
          "data": {
            "text/plain": [
              "<matplotlib.axes._subplots.AxesSubplot at 0x7f990bb82510>"
            ]
          },
          "metadata": {},
          "execution_count": 10
        },
        {
          "output_type": "display_data",
          "data": {
            "image/png": "[encoded data removed]",
            "text/plain": [
              "<Figure size 432x288 with 1 Axes>"
            ]
          },
          "metadata": {
            "needs_background": "light"
          }
        }
      ]
    },
    {
      "cell_type": "code",
      "source": [
        "remains.plot(x='Price', y='Errors', kind='scatter', grid=True)"
      ],
      "metadata": {
        "colab": {
          "base_uri": "https://localhost:8080/",
          "height": 307
        },
        "id": "b1Nxe-s3miap",
        "outputId": "8d874f54-90f1-4e99-a348-5910139183c3"
      },
      "execution_count": 11,
      "outputs": [
        {
          "output_type": "execute_result",
          "data": {
            "text/plain": [
              "<matplotlib.axes._subplots.AxesSubplot at 0x7f990aadd550>"
            ]
          },
          "metadata": {},
          "execution_count": 11
        },
        {
          "output_type": "display_data",
          "data": {
            "image/png": "[encoded data removed]",
            "text/plain": [
              "<Figure size 432x288 with 1 Axes>"
            ]
          },
          "metadata": {
            "needs_background": "light"
          }
        }
      ]
    },
    {
      "cell_type": "code",
      "source": [
        "# Не уверен, что верно использовал\n",
        "\n",
        "mean_absolute_percentage_error(remains['Price'], remains['Predictions'])"
      ],
      "metadata": {
        "colab": {
          "base_uri": "https://localhost:8080/"
        },
        "id": "0D0tar8Hnib_",
        "outputId": "cad8b8d8-36df-4c8f-d801-31687fa55a03"
      },
      "execution_count": 12,
      "outputs": [
        {
          "output_type": "execute_result",
          "data": {
            "text/plain": [
              "0.602601523170402"
            ]
          },
          "metadata": {},
          "execution_count": 12
        }
      ]
    },
    {
      "cell_type": "markdown",
      "source": [
        "*Анализируя критерии качества модели, можно сделать вывод, что модель является не самой удачной - низкий показатель R^2 (даже меньше половины регрессии объяснено) + MAE имеет довольно большое значение. Также был посчитан показатель MAPE, который также довольно высок.*"
      ],
      "metadata": {
        "id": "PlgmNeRorAZ_"
      }
    },
    {
      "cell_type": "markdown",
      "source": [
        "\n",
        "\n",
        "---\n",
        "Можно попытаться улучшить модель, удалив выбросы. Возвращаясь к диаграмме рассеяния признака full_sq в зависимости от price_doc, были выделены следующие выброс - точки, у которых площадь больше 250 м2 и точки, у которых цена больше 8000000 рублей, а также точки, у которых площадь около нуля, а цена доходит до 2х миллионов."
      ],
      "metadata": {
        "id": "qgJiLnThVrsv"
      }
    },
    {
      "cell_type": "markdown",
      "source": [
        "---\n",
        "*Включил в выбросы помещения с площадью меньше 10 кв.м, поскольку минимальное жилое помещение по нормам СанПина - 8 кв.м + добавил 2 кв. м на кухню.*"
      ],
      "metadata": {
        "id": "DKFmcwa4w7TH"
      }
    },
    {
      "cell_type": "code",
      "source": [
        "# Находим выбросы, их индексы и удаляем\n",
        "ind = data[(data['full_sq']>250)|(data['price_doc']>75000000)|(data['full_sq']<10)].index\n",
        "clean_data = data.drop(ind, axis='index')"
      ],
      "metadata": {
        "id": "vE0KXwV4qaMS"
      },
      "execution_count": 13,
      "outputs": []
    },
    {
      "cell_type": "code",
      "source": [
        "# Формируем X и y для построения модели на очищенных данных\n",
        "x = clean_data[['full_sq']]\n",
        "y = clean_data['price_doc']\n",
        "\n",
        "# Создаем объект модели\n",
        "reg_model_clean = LinearRegression()\n",
        "\n",
        "# Обучаем модель на данных, применяя метод fit()\n",
        "reg_model_clean.fit(x, y)\n",
        "\n",
        "# Делаем предказание, применяя метод predict(), и сохраняем его в отдельную переменную\n",
        "pred_clean = reg_model_clean.predict(x)\n",
        "\n",
        "# Метрики качества\n",
        "print('R2: ', r2_score(y, pred_clean))\n",
        "print('Mean absolute error (MAE): ', mean_absolute_error(y, pred_clean))"
      ],
      "metadata": {
        "colab": {
          "base_uri": "https://localhost:8080/"
        },
        "id": "Zx5U24xzqaH6",
        "outputId": "1f428b27-1310-4466-d7ae-938b069505fe"
      },
      "execution_count": 14,
      "outputs": [
        {
          "output_type": "stream",
          "name": "stdout",
          "text": [
            "R2:  0.4401879736282832\n",
            "Mean absolute error (MAE):  2431980.821562141\n"
          ]
        }
      ]
    },
    {
      "cell_type": "code",
      "source": [
        "clean_data.plot(x='full_sq', y='price_doc', kind='scatter')"
      ],
      "metadata": {
        "colab": {
          "base_uri": "https://localhost:8080/",
          "height": 308
        },
        "id": "1WUvzHj_zLkW",
        "outputId": "ba5adf4b-2bff-4380-b978-110a44e7eab4"
      },
      "execution_count": 15,
      "outputs": [
        {
          "output_type": "execute_result",
          "data": {
            "text/plain": [
              "<matplotlib.axes._subplots.AxesSubplot at 0x7f990be368d0>"
            ]
          },
          "metadata": {},
          "execution_count": 15
        },
        {
          "output_type": "display_data",
          "data": {
            "image/png": "[encoded data removed]",
            "text/plain": [
              "<Figure size 432x288 with 1 Axes>"
            ]
          },
          "metadata": {
            "needs_background": "light"
          }
        }
      ]
    },
    {
      "cell_type": "code",
      "source": [
        "# Выведем коэффициент модели (k) и свободный член модели (b)\n",
        "print('Коэффициент модели (k): ', reg_model_clean.coef_)\n",
        "print('Свободный член (сдвиг) модели (b): ', reg_model_clean.intercept_)"
      ],
      "metadata": {
        "colab": {
          "base_uri": "https://localhost:8080/"
        },
        "id": "BC9MKiTayEn5",
        "outputId": "b6dd0a26-60d2-4ea4-b901-ed83402b5e8d"
      },
      "execution_count": 16,
      "outputs": [
        {
          "output_type": "stream",
          "name": "stdout",
          "text": [
            "Коэффициент модели (k):  [160588.12960721]\n",
            "Свободный член (сдвиг) модели (b):  -805480.8918236354\n"
          ]
        }
      ]
    },
    {
      "cell_type": "markdown",
      "source": [
        "Сравним линии тренда, проходящие через данные до очистки и после"
      ],
      "metadata": {
        "id": "1HV3o85EYUSX"
      }
    },
    {
      "cell_type": "code",
      "source": [
        "data.plot(x='full_sq', y='price_doc', kind='scatter')\n",
        "plt.plot(data['full_sq'], pred_1, color='red');\n",
        "plt.plot(clean_data['full_sq'], pred_clean, color='green');"
      ],
      "metadata": {
        "colab": {
          "base_uri": "https://localhost:8080/",
          "height": 291
        },
        "id": "dgXcXzeczIcu",
        "outputId": "80b1a10d-f536-4fc0-a29d-01b6959b1b65"
      },
      "execution_count": 17,
      "outputs": [
        {
          "output_type": "display_data",
          "data": {
            "image/png": "[encoded data removed]",
            "text/plain": [
              "<Figure size 432x288 with 1 Axes>"
            ]
          },
          "metadata": {
            "needs_background": "light"
          }
        }
      ]
    },
    {
      "cell_type": "code",
      "source": [
        "# Для анализа остатков создадим новый датафрейм с колонками: Price - цена жил. площади, \n",
        "#Predictions - предсказания, Errors - ошибки модели\n",
        "remains_clean = pd.DataFrame({'Price': clean_data['price_doc'],\n",
        "                              'Predictions': pred_clean,\n",
        "                              'Errors': clean_data['price_doc']-pred_clean})\n",
        "remains_clean.head()"
      ],
      "metadata": {
        "colab": {
          "base_uri": "https://localhost:8080/",
          "height": 206
        },
        "id": "XjqHHS9tZcPV",
        "outputId": "b842d426-65de-4d16-8884-f58711cd33d7"
      },
      "execution_count": 18,
      "outputs": [
        {
          "output_type": "execute_result",
          "data": {
            "text/html": [
              "<div>\n",
              "<style scoped>\n",
              "    .dataframe tbody tr th:only-of-type {\n",
              "        vertical-align: middle;\n",
              "    }\n",
              "\n",
              "    .dataframe tbody tr th {\n",
              "        vertical-align: top;\n",
              "    }\n",
              "\n",
              "    .dataframe thead th {\n",
              "        text-align: right;\n",
              "    }\n",
              "</style>\n",
              "<table border=\"1\" class=\"dataframe\">\n",
              "  <thead>\n",
              "    <tr style=\"text-align: right;\">\n",
              "      <th></th>\n",
              "      <th>Price</th>\n",
              "      <th>Predictions</th>\n",
              "      <th>Errors</th>\n",
              "    </tr>\n",
              "  </thead>\n",
              "  <tbody>\n",
              "    <tr>\n",
              "      <th>0</th>\n",
              "      <td>2750000</td>\n",
              "      <td>9.609885e+05</td>\n",
              "      <td>1.789011e+06</td>\n",
              "    </tr>\n",
              "    <tr>\n",
              "      <th>1</th>\n",
              "      <td>9000000</td>\n",
              "      <td>7.705690e+06</td>\n",
              "      <td>1.294310e+06</td>\n",
              "    </tr>\n",
              "    <tr>\n",
              "      <th>2</th>\n",
              "      <td>7011550</td>\n",
              "      <td>1.155981e+07</td>\n",
              "      <td>-4.548255e+06</td>\n",
              "    </tr>\n",
              "    <tr>\n",
              "      <th>3</th>\n",
              "      <td>7100000</td>\n",
              "      <td>6.420985e+06</td>\n",
              "      <td>6.790151e+05</td>\n",
              "    </tr>\n",
              "    <tr>\n",
              "      <th>4</th>\n",
              "      <td>12100000</td>\n",
              "      <td>1.107804e+07</td>\n",
              "      <td>1.021959e+06</td>\n",
              "    </tr>\n",
              "  </tbody>\n",
              "</table>\n",
              "</div>"
            ],
            "text/plain": [
              "      Price   Predictions        Errors\n",
              "0   2750000  9.609885e+05  1.789011e+06\n",
              "1   9000000  7.705690e+06  1.294310e+06\n",
              "2   7011550  1.155981e+07 -4.548255e+06\n",
              "3   7100000  6.420985e+06  6.790151e+05\n",
              "4  12100000  1.107804e+07  1.021959e+06"
            ]
          },
          "metadata": {},
          "execution_count": 18
        }
      ]
    },
    {
      "cell_type": "markdown",
      "source": [
        "Сравним гистограммы распределения остатков"
      ],
      "metadata": {
        "id": "eSfULr3faQ23"
      }
    },
    {
      "cell_type": "code",
      "source": [
        "# До очистки\n",
        "remains['Errors'].hist(bins=30)"
      ],
      "metadata": {
        "colab": {
          "base_uri": "https://localhost:8080/",
          "height": 295
        },
        "id": "j9A_PbWGaE5W",
        "outputId": "f56f13fe-43dd-4422-9254-3bfddaf20950"
      },
      "execution_count": 19,
      "outputs": [
        {
          "output_type": "execute_result",
          "data": {
            "text/plain": [
              "<matplotlib.axes._subplots.AxesSubplot at 0x7f9918789590>"
            ]
          },
          "metadata": {},
          "execution_count": 19
        },
        {
          "output_type": "display_data",
          "data": {
            "image/png": "[encoded data removed]",
            "text/plain": [
              "<Figure size 432x288 with 1 Axes>"
            ]
          },
          "metadata": {
            "needs_background": "light"
          }
        }
      ]
    },
    {
      "cell_type": "code",
      "source": [
        "# После очистки\n",
        "remains_clean['Errors'].hist(bins=30)"
      ],
      "metadata": {
        "colab": {
          "base_uri": "https://localhost:8080/",
          "height": 295
        },
        "id": "QCTy_JirZcMH",
        "outputId": "bfd35f1e-c81c-48fb-9d85-9d4357fc9df6"
      },
      "execution_count": 20,
      "outputs": [
        {
          "output_type": "execute_result",
          "data": {
            "text/plain": [
              "<matplotlib.axes._subplots.AxesSubplot at 0x7f990fc9ae90>"
            ]
          },
          "metadata": {},
          "execution_count": 20
        },
        {
          "output_type": "display_data",
          "data": {
            "image/png": "[encoded data removed]",
            "text/plain": [
              "<Figure size 432x288 with 1 Axes>"
            ]
          },
          "metadata": {
            "needs_background": "light"
          }
        }
      ]
    },
    {
      "cell_type": "code",
      "source": [
        "# До очистки\n",
        "remains.plot(x='Price', y='Errors', kind='scatter', grid=True)"
      ],
      "metadata": {
        "colab": {
          "base_uri": "https://localhost:8080/",
          "height": 307
        },
        "id": "MZYdxeRXanXu",
        "outputId": "1430e763-3e06-4749-b5f4-1a87542de822"
      },
      "execution_count": 21,
      "outputs": [
        {
          "output_type": "execute_result",
          "data": {
            "text/plain": [
              "<matplotlib.axes._subplots.AxesSubplot at 0x7f990fde17d0>"
            ]
          },
          "metadata": {},
          "execution_count": 21
        },
        {
          "output_type": "display_data",
          "data": {
            "image/png": "[encoded data removed]",
            "text/plain": [
              "<Figure size 432x288 with 1 Axes>"
            ]
          },
          "metadata": {
            "needs_background": "light"
          }
        }
      ]
    },
    {
      "cell_type": "code",
      "source": [
        "# После очистки\n",
        "remains_clean.plot(x='Price', y='Errors', kind='scatter', grid=True)"
      ],
      "metadata": {
        "colab": {
          "base_uri": "https://localhost:8080/",
          "height": 307
        },
        "id": "MZpLdb4lanBP",
        "outputId": "fd9eca87-37a5-404d-c40d-10786b385fb7"
      },
      "execution_count": 22,
      "outputs": [
        {
          "output_type": "execute_result",
          "data": {
            "text/plain": [
              "<matplotlib.axes._subplots.AxesSubplot at 0x7f990fd74450>"
            ]
          },
          "metadata": {},
          "execution_count": 22
        },
        {
          "output_type": "display_data",
          "data": {
            "image/png": "[encoded data removed]",
            "text/plain": [
              "<Figure size 432x288 with 1 Axes>"
            ]
          },
          "metadata": {
            "needs_background": "light"
          }
        }
      ]
    },
    {
      "cell_type": "code",
      "source": [
        "mean_absolute_percentage_error(remains_clean['Price'], remains_clean['Predictions'])"
      ],
      "metadata": {
        "colab": {
          "base_uri": "https://localhost:8080/"
        },
        "id": "Ke9Cwo7dZNg_",
        "outputId": "4417399f-df0b-4c2a-85c2-0d70a68d1618"
      },
      "execution_count": 23,
      "outputs": [
        {
          "output_type": "execute_result",
          "data": {
            "text/plain": [
              "0.6023802030636859"
            ]
          },
          "metadata": {},
          "execution_count": 23
        }
      ]
    },
    {
      "cell_type": "markdown",
      "source": [
        "*В результате удаления выбросов не получилось построить модель значительно лучше. Хоть показатель R2 стал немного выше, но показаетль MAE у второй модели также немного увеличились. Но показатель MAPE незначительно уменьшился.*"
      ],
      "metadata": {
        "id": "Jv_9Nq2wbO9H"
      }
    },
    {
      "cell_type": "markdown",
      "source": [
        "**3. Постройте многофакторную модель регрессии по всем признакам. Сделайте анализ остатков модели, посмотрите на качество метрик, сделайте выводы о качестве модели.**"
      ],
      "metadata": {
        "id": "FODzeJKok5T4"
      }
    },
    {
      "cell_type": "code",
      "source": [
        "# Формируем X и y для построения модели\n",
        "x = data[['full_sq', 'life_sq',\t'floor',\t'state',\t'max_floor',\t'material',\t'build_year',\t'num_room',\t'kitch_sq',\t'full_all',\t'salary',\t'fixed_basket',\t'rent_price_3room_eco',\t'rent_price_2room_eco',\t'rent_price_1room_eco',\t'average_life_exp']]\n",
        "y = data['price_doc']\n",
        "\n",
        "# Создаем объект модели\n",
        "reg_model_multi = LinearRegression()\n",
        "\n",
        "# Обучаем модель на данных, применяя метод fit()\n",
        "reg_model_multi.fit(x, y)\n",
        "\n",
        "# Делаем предказание, применяя метод predict(), и сохраняем его в отдельную переменную\n",
        "pred_multi = reg_model_multi.predict(x)\n",
        "\n",
        "# Метрики качества\n",
        "print('R2: ', r2_score(y, pred_multi))\n",
        "print('Mean absolute error (MAE): ', mean_absolute_error(y, pred_multi))"
      ],
      "metadata": {
        "id": "Ikj7Jr0ht6tW",
        "colab": {
          "base_uri": "https://localhost:8080/"
        },
        "outputId": "382be35a-e1de-4e8a-bb8d-7049b62cf58f"
      },
      "execution_count": 24,
      "outputs": [
        {
          "output_type": "stream",
          "name": "stdout",
          "text": [
            "R2:  0.43491190047646633\n",
            "Mean absolute error (MAE):  2305029.771740145\n"
          ]
        }
      ]
    },
    {
      "cell_type": "code",
      "source": [
        "# Выведем коэффициенты модели и свободный член модели\n",
        "print('Коэффициенты модели: ', reg_model_multi.coef_)\n",
        "print('Свободный член (сдвиг) модели: ', reg_model_multi.intercept_)"
      ],
      "metadata": {
        "id": "erp4lFzPt6qK",
        "colab": {
          "base_uri": "https://localhost:8080/"
        },
        "outputId": "19e05e43-08d3-4c4f-f980-36df2043541b"
      },
      "execution_count": 25,
      "outputs": [
        {
          "output_type": "stream",
          "name": "stdout",
          "text": [
            "Коэффициенты модели:  [ 1.45040134e+05 -9.16438607e+02  4.43469884e+04  1.04712482e+06\n",
            "  6.24024220e+03  1.41792421e+05 -1.39094508e+00  1.51390418e+05\n",
            " -7.19679176e+02  1.07571579e-01 -3.47539383e+02  5.03200616e+02\n",
            " -3.10371375e+04  7.86953385e+04 -1.27287230e+04  6.21243840e+06]\n",
            "Свободный член (сдвиг) модели:  -467946179.32874584\n"
          ]
        }
      ]
    },
    {
      "cell_type": "code",
      "source": [
        "remains_multi = pd.DataFrame({'Price': data['price_doc'],\n",
        "                              'Predictions': pred_multi,\n",
        "                              'Errors': data['price_doc']-pred_multi})\n",
        "remains_multi.head()"
      ],
      "metadata": {
        "colab": {
          "base_uri": "https://localhost:8080/",
          "height": 206
        },
        "id": "ZFFxx75xBV_0",
        "outputId": "3aca3eed-309f-4f52-c969-dd53f9dfcb43"
      },
      "execution_count": 26,
      "outputs": [
        {
          "output_type": "execute_result",
          "data": {
            "text/html": [
              "<div>\n",
              "<style scoped>\n",
              "    .dataframe tbody tr th:only-of-type {\n",
              "        vertical-align: middle;\n",
              "    }\n",
              "\n",
              "    .dataframe tbody tr th {\n",
              "        vertical-align: top;\n",
              "    }\n",
              "\n",
              "    .dataframe thead th {\n",
              "        text-align: right;\n",
              "    }\n",
              "</style>\n",
              "<table border=\"1\" class=\"dataframe\">\n",
              "  <thead>\n",
              "    <tr style=\"text-align: right;\">\n",
              "      <th></th>\n",
              "      <th>Price</th>\n",
              "      <th>Predictions</th>\n",
              "      <th>Errors</th>\n",
              "    </tr>\n",
              "  </thead>\n",
              "  <tbody>\n",
              "    <tr>\n",
              "      <th>0</th>\n",
              "      <td>2750000</td>\n",
              "      <td>1.742189e+06</td>\n",
              "      <td>1.007811e+06</td>\n",
              "    </tr>\n",
              "    <tr>\n",
              "      <th>1</th>\n",
              "      <td>9000000</td>\n",
              "      <td>8.251531e+06</td>\n",
              "      <td>7.484695e+05</td>\n",
              "    </tr>\n",
              "    <tr>\n",
              "      <th>2</th>\n",
              "      <td>7011550</td>\n",
              "      <td>1.013070e+07</td>\n",
              "      <td>-3.119149e+06</td>\n",
              "    </tr>\n",
              "    <tr>\n",
              "      <th>3</th>\n",
              "      <td>7100000</td>\n",
              "      <td>6.875417e+06</td>\n",
              "      <td>2.245834e+05</td>\n",
              "    </tr>\n",
              "    <tr>\n",
              "      <th>4</th>\n",
              "      <td>12100000</td>\n",
              "      <td>1.156759e+07</td>\n",
              "      <td>5.324079e+05</td>\n",
              "    </tr>\n",
              "  </tbody>\n",
              "</table>\n",
              "</div>"
            ],
            "text/plain": [
              "      Price   Predictions        Errors\n",
              "0   2750000  1.742189e+06  1.007811e+06\n",
              "1   9000000  8.251531e+06  7.484695e+05\n",
              "2   7011550  1.013070e+07 -3.119149e+06\n",
              "3   7100000  6.875417e+06  2.245834e+05\n",
              "4  12100000  1.156759e+07  5.324079e+05"
            ]
          },
          "metadata": {},
          "execution_count": 26
        }
      ]
    },
    {
      "cell_type": "code",
      "source": [
        "# Проверка остатков\n",
        "remains_multi.plot(x='Price', y='Errors', kind='scatter', grid=True);"
      ],
      "metadata": {
        "colab": {
          "base_uri": "https://localhost:8080/",
          "height": 290
        },
        "id": "fx-gFAfxCrY0",
        "outputId": "136c4979-badf-475e-a98e-a08e33abb57a"
      },
      "execution_count": 27,
      "outputs": [
        {
          "output_type": "display_data",
          "data": {
            "image/png": "[encoded data removed]",
            "text/plain": [
              "<Figure size 432x288 with 1 Axes>"
            ]
          },
          "metadata": {
            "needs_background": "light"
          }
        }
      ]
    },
    {
      "cell_type": "code",
      "source": [
        "remains_multi['Errors'].hist(bins=30)"
      ],
      "metadata": {
        "id": "UMifRMgvC7os",
        "outputId": "d38ec45b-6e3f-4bf7-cfa1-392da0592e49",
        "colab": {
          "base_uri": "https://localhost:8080/",
          "height": 295
        }
      },
      "execution_count": 28,
      "outputs": [
        {
          "output_type": "execute_result",
          "data": {
            "text/plain": [
              "<matplotlib.axes._subplots.AxesSubplot at 0x7f990aa4c250>"
            ]
          },
          "metadata": {},
          "execution_count": 28
        },
        {
          "output_type": "display_data",
          "data": {
            "image/png": "[encoded data removed]",
            "text/plain": [
              "<Figure size 432x288 with 1 Axes>"
            ]
          },
          "metadata": {
            "needs_background": "light"
          }
        }
      ]
    },
    {
      "cell_type": "markdown",
      "source": [
        "*Распределение остатков относительно близко к нормальному. Построенная модель не самая хорошая, если оценивать показатели качества модели.*"
      ],
      "metadata": {
        "id": "Gscf_VA-nWzo"
      }
    },
    {
      "cell_type": "markdown",
      "source": [
        "**4. Поочередно выкидывайте признаки из модели, чтобы оценить, какие из них являются важными, а какие - нет. Сделайте выводы о важности признаков.**"
      ],
      "metadata": {
        "id": "X-3QE7XRk-Gv"
      }
    },
    {
      "cell_type": "code",
      "source": [
        "# Убираю из датафрейма поля id, timestamp (не нужно для анализа), sub_area (текстовый формат, не понятно, как он сможет повлиять на модель)\n",
        "data_without_some_column = data.drop(columns = ['id', 'timestamp', 'sub_area'])"
      ],
      "metadata": {
        "id": "7RVBmPb-OlCl"
      },
      "execution_count": 29,
      "outputs": []
    },
    {
      "cell_type": "code",
      "source": [
        "for col in x.columns[1:]:\n",
        "    tmp = data_without_some_column.drop([col, 'price_doc'], axis='columns')\n",
        "    print('Убрали признак: ', col)\n",
        "    y_tmp = data['price_doc']\n",
        "    x_tmp = sm.add_constant(tmp)\n",
        "    model_tmp = LinearRegression() \n",
        "    model_tmp.fit(x_tmp, y_tmp)\n",
        "    preds =  model_tmp.predict(x_tmp)\n",
        "    print('R2: ', r2_score(y, preds)) \n",
        "    print('Mean absolute error (MAE): ', mean_absolute_error(y, preds))\n",
        "    print('_'*50)"
      ],
      "metadata": {
        "id": "rfZc5hWNt6mw",
        "colab": {
          "base_uri": "https://localhost:8080/"
        },
        "outputId": "399d241a-261a-4f5b-a9ff-e71932ef1cd2"
      },
      "execution_count": 30,
      "outputs": [
        {
          "output_type": "stream",
          "name": "stdout",
          "text": [
            "Убрали признак:  life_sq\n",
            "R2:  0.4347846920338949\n",
            "Mean absolute error (MAE):  2305180.7387019745\n",
            "__________________________________________________\n",
            "Убрали признак:  floor\n",
            "R2:  0.4335246093340701\n",
            "Mean absolute error (MAE):  2306595.2110737367\n",
            "__________________________________________________\n",
            "Убрали признак:  state\n",
            "R2:  0.4095745731731283\n",
            "Mean absolute error (MAE):  2428589.207136601\n",
            "__________________________________________________\n",
            "Убрали признак:  max_floor\n",
            "R2:  0.4348736034569185\n",
            "Mean absolute error (MAE):  2305234.5356461327\n",
            "__________________________________________________\n",
            "Убрали признак:  material\n",
            "R2:  0.4331260901951961\n",
            "Mean absolute error (MAE):  2304030.746590646\n",
            "__________________________________________________\n",
            "Убрали признак:  build_year\n",
            "R2:  0.4330554262074763\n",
            "Mean absolute error (MAE):  2309265.7108446625\n",
            "__________________________________________________\n",
            "Убрали признак:  num_room\n",
            "R2:  0.4346015763858352\n",
            "Mean absolute error (MAE):  2303286.2351111155\n",
            "__________________________________________________\n",
            "Убрали признак:  kitch_sq\n",
            "R2:  0.43489468021708555\n",
            "Mean absolute error (MAE):  2305050.796420423\n",
            "__________________________________________________\n",
            "Убрали признак:  full_all\n",
            "R2:  0.43486608947749994\n",
            "Mean absolute error (MAE):  2304377.117850714\n",
            "__________________________________________________\n",
            "Убрали признак:  salary\n",
            "R2:  0.434610126905018\n",
            "Mean absolute error (MAE):  2305646.1995719247\n",
            "__________________________________________________\n",
            "Убрали признак:  fixed_basket\n",
            "R2:  0.4339902187467869\n",
            "Mean absolute error (MAE):  2307222.147948296\n",
            "__________________________________________________\n",
            "Убрали признак:  rent_price_3room_eco\n",
            "R2:  0.43488222439458724\n",
            "Mean absolute error (MAE):  2305228.051268437\n",
            "__________________________________________________\n",
            "Убрали признак:  rent_price_2room_eco\n",
            "R2:  0.4348560799527742\n",
            "Mean absolute error (MAE):  2305161.479598745\n",
            "__________________________________________________\n",
            "Убрали признак:  rent_price_1room_eco\n",
            "R2:  0.43490852526472845\n",
            "Mean absolute error (MAE):  2305052.1128010694\n",
            "__________________________________________________\n",
            "Убрали признак:  average_life_exp\n",
            "R2:  0.43453382985730327\n",
            "Mean absolute error (MAE):  2305503.22428368\n",
            "__________________________________________________\n"
          ]
        }
      ]
    },
    {
      "cell_type": "markdown",
      "source": [
        "*Вероятно есть какая-то ошибка, поскольку все коэффициенты получились +/- равносильными по оказанию влияния на переменную price_doc.*"
      ],
      "metadata": {
        "id": "-MbxNI9ejiD1"
      }
    },
    {
      "cell_type": "markdown",
      "source": [
        "Построим многофакторную модель на данных без выбросов"
      ],
      "metadata": {
        "id": "I7_SEcUsAin1"
      }
    },
    {
      "cell_type": "code",
      "source": [
        "# Формируем X и y для построения модели\n",
        "x = clean_data[['full_sq', 'life_sq',\t'floor',\t'state',\t'max_floor',\t'material',\t'build_year',\t'num_room',\t'kitch_sq',\t'full_all',\t'salary',\t'fixed_basket',\t'rent_price_3room_eco',\t'rent_price_2room_eco',\t'rent_price_1room_eco',\t'average_life_exp']]\n",
        "y = clean_data['price_doc']\n",
        "\n",
        "# Создаем объект модели\n",
        "reg_model_multi_clean = LinearRegression()\n",
        "\n",
        "# Обучаем модель на данных, применяя метод fit()\n",
        "reg_model_multi_clean.fit(x, y)\n",
        "\n",
        "# Делаем предказание, применяя метод predict() и сохраняем его в отдельную переменную\n",
        "pred_multi_clean = reg_model_multi_clean.predict(x)\n",
        "\n",
        "# Метрики качества\n",
        "print('R2: ', r2_score(y, pred_multi_clean))\n",
        "print('Mean absolute error (MAE): ', mean_absolute_error(y, pred_multi_clean))"
      ],
      "metadata": {
        "colab": {
          "base_uri": "https://localhost:8080/"
        },
        "id": "XVUl_OpFAuUc",
        "outputId": "3312d645-fb1f-47f8-bfca-fe54014a3f07"
      },
      "execution_count": 31,
      "outputs": [
        {
          "output_type": "stream",
          "name": "stdout",
          "text": [
            "R2:  0.4748840226546872\n",
            "Mean absolute error (MAE):  2307903.375148324\n"
          ]
        }
      ]
    },
    {
      "cell_type": "code",
      "source": [
        "# Выведем коэффициенты модели и свободный член модели\n",
        "print('Коэффициенты модели: ', reg_model_multi_clean.coef_)\n",
        "print('Свободный член (сдвиг) модели: ', reg_model_multi_clean.intercept_)"
      ],
      "metadata": {
        "colab": {
          "base_uri": "https://localhost:8080/"
        },
        "id": "reR38yNVis1C",
        "outputId": "7280dfe0-be5d-405a-9c11-b5c2e3d545de"
      },
      "execution_count": 32,
      "outputs": [
        {
          "output_type": "stream",
          "name": "stdout",
          "text": [
            "Коэффициенты модели:  [ 1.74290554e+05 -4.18909238e+02  4.05958042e+04  1.12596929e+06\n",
            " -1.14324034e+04  1.34469878e+05 -1.51275875e+00 -3.85893652e+05\n",
            " -1.24122379e+03  1.43949895e-01 -2.84525459e+02  4.56599373e+02\n",
            " -3.35650945e+04  8.19343981e+04 -1.52375699e+03  5.16253888e+06]\n",
            "Свободный член (сдвиг) модели:  -391374848.72533286\n"
          ]
        }
      ]
    },
    {
      "cell_type": "code",
      "source": [
        "remains_multi_clean = pd.DataFrame({'Price': clean_data['price_doc'],\n",
        "                                    'Predictions': pred_multi_clean,\n",
        "                                    'Errors': clean_data['price_doc']-pred_multi_clean})\n",
        "remains_multi_clean.head()"
      ],
      "metadata": {
        "colab": {
          "base_uri": "https://localhost:8080/",
          "height": 206
        },
        "id": "OEnqn0AwBrls",
        "outputId": "e6d7bc8c-5e9c-4ac0-a8d6-876f02e981d2"
      },
      "execution_count": 33,
      "outputs": [
        {
          "output_type": "execute_result",
          "data": {
            "text/html": [
              "<div>\n",
              "<style scoped>\n",
              "    .dataframe tbody tr th:only-of-type {\n",
              "        vertical-align: middle;\n",
              "    }\n",
              "\n",
              "    .dataframe tbody tr th {\n",
              "        vertical-align: top;\n",
              "    }\n",
              "\n",
              "    .dataframe thead th {\n",
              "        text-align: right;\n",
              "    }\n",
              "</style>\n",
              "<table border=\"1\" class=\"dataframe\">\n",
              "  <thead>\n",
              "    <tr style=\"text-align: right;\">\n",
              "      <th></th>\n",
              "      <th>Price</th>\n",
              "      <th>Predictions</th>\n",
              "      <th>Errors</th>\n",
              "    </tr>\n",
              "  </thead>\n",
              "  <tbody>\n",
              "    <tr>\n",
              "      <th>0</th>\n",
              "      <td>2750000</td>\n",
              "      <td>8.812232e+05</td>\n",
              "      <td>1.868777e+06</td>\n",
              "    </tr>\n",
              "    <tr>\n",
              "      <th>1</th>\n",
              "      <td>9000000</td>\n",
              "      <td>7.875997e+06</td>\n",
              "      <td>1.124003e+06</td>\n",
              "    </tr>\n",
              "    <tr>\n",
              "      <th>2</th>\n",
              "      <td>7011550</td>\n",
              "      <td>9.739160e+06</td>\n",
              "      <td>-2.727610e+06</td>\n",
              "    </tr>\n",
              "    <tr>\n",
              "      <th>3</th>\n",
              "      <td>7100000</td>\n",
              "      <td>6.404508e+06</td>\n",
              "      <td>6.954922e+05</td>\n",
              "    </tr>\n",
              "    <tr>\n",
              "      <th>4</th>\n",
              "      <td>12100000</td>\n",
              "      <td>1.112611e+07</td>\n",
              "      <td>9.738927e+05</td>\n",
              "    </tr>\n",
              "  </tbody>\n",
              "</table>\n",
              "</div>"
            ],
            "text/plain": [
              "      Price   Predictions        Errors\n",
              "0   2750000  8.812232e+05  1.868777e+06\n",
              "1   9000000  7.875997e+06  1.124003e+06\n",
              "2   7011550  9.739160e+06 -2.727610e+06\n",
              "3   7100000  6.404508e+06  6.954922e+05\n",
              "4  12100000  1.112611e+07  9.738927e+05"
            ]
          },
          "metadata": {},
          "execution_count": 33
        }
      ]
    },
    {
      "cell_type": "code",
      "source": [
        "# Проверка остатков\n",
        "remains_multi_clean.plot(x='Price', y='Errors', kind='scatter', grid=True);"
      ],
      "metadata": {
        "colab": {
          "base_uri": "https://localhost:8080/",
          "height": 290
        },
        "id": "KNwxJvFyBrha",
        "outputId": "fb5cbe0e-2942-46a6-9060-eb290590b777"
      },
      "execution_count": 34,
      "outputs": [
        {
          "output_type": "display_data",
          "data": {
            "image/png": "[encoded data removed]",
            "text/plain": [
              "<Figure size 432x288 with 1 Axes>"
            ]
          },
          "metadata": {
            "needs_background": "light"
          }
        }
      ]
    },
    {
      "cell_type": "code",
      "source": [
        "remains_multi_clean['Errors'].hist(bins=30)"
      ],
      "metadata": {
        "colab": {
          "base_uri": "https://localhost:8080/",
          "height": 298
        },
        "id": "gkOD-7sQBrcM",
        "outputId": "e4e6cd62-ea09-46bb-9485-1b1ee1c90c4c"
      },
      "execution_count": 35,
      "outputs": [
        {
          "output_type": "execute_result",
          "data": {
            "text/plain": [
              "<matplotlib.axes._subplots.AxesSubplot at 0x7f990a901c50>"
            ]
          },
          "metadata": {},
          "execution_count": 35
        },
        {
          "output_type": "display_data",
          "data": {
            "image/png": "[encoded data removed]",
            "text/plain": [
              "<Figure size 432x288 with 1 Axes>"
            ]
          },
          "metadata": {
            "needs_background": "light"
          }
        }
      ]
    },
    {
      "cell_type": "markdown",
      "source": [
        "*Распределение остатков относительно близко к нормальному. Построенная модель не самая хорошая, если оценивать показатели качества модели, но несколько лучше, чем модель, построенная на данных с выбросами.*"
      ],
      "metadata": {
        "id": "Tzisfxh-z6XI"
      }
    },
    {
      "cell_type": "code",
      "source": [
        "# Убираю из датафрейма поля id, timestamp (не нужно для анализа), sub_area (текстовый формат, не понятно, как он сможет повлиять на модель)\n",
        "clean_data_without_some_column = clean_data.drop(columns = ['id', 'timestamp', 'sub_area'])"
      ],
      "metadata": {
        "id": "SeXix48CcKGt"
      },
      "execution_count": 36,
      "outputs": []
    },
    {
      "cell_type": "code",
      "source": [
        "# Очищенные данные\n",
        "for col in x.columns[1:]:\n",
        "    tmp = clean_data_without_some_column.drop([col, 'price_doc'], axis='columns')\n",
        "    print('Убрали признак: ', col)\n",
        "    y_tmp = clean_data_without_some_column['price_doc']\n",
        "    x_tmp = sm.add_constant(tmp)\n",
        "    model_tmp = LinearRegression() \n",
        "    model_tmp.fit(x_tmp, y_tmp)\n",
        "    preds =  model_tmp.predict(x_tmp)\n",
        "    print('R2: ', r2_score(y, preds)) # reg_model.score\n",
        "    print('Mean absolute error (MAE)', mean_absolute_error(y, preds))\n",
        "    print('_'*50)"
      ],
      "metadata": {
        "id": "BWttCF6Wt6hK",
        "colab": {
          "base_uri": "https://localhost:8080/"
        },
        "outputId": "17da62bf-c7f5-4370-cd0f-f40101d5620d"
      },
      "execution_count": 37,
      "outputs": [
        {
          "output_type": "stream",
          "name": "stdout",
          "text": [
            "Убрали признак:  life_sq\n",
            "R2:  0.4748564908387537\n",
            "Mean absolute error (MAE) 2308126.1596303233\n",
            "__________________________________________________\n",
            "Убрали признак:  floor\n",
            "R2:  0.47368641124493194\n",
            "Mean absolute error (MAE) 2308939.777593563\n",
            "__________________________________________________\n",
            "Убрали признак:  state\n",
            "R2:  0.4447974789272835\n",
            "Mean absolute error (MAE) 2433593.247754351\n",
            "__________________________________________________\n",
            "Убрали признак:  max_floor\n",
            "R2:  0.4747529572041116\n",
            "Mean absolute error (MAE) 2307416.000530912\n",
            "__________________________________________________\n",
            "Убрали признак:  material\n",
            "R2:  0.4732203703827018\n",
            "Mean absolute error (MAE) 2309118.1366284457\n",
            "__________________________________________________\n",
            "Убрали признак:  build_year\n",
            "R2:  0.47260875711300276\n",
            "Mean absolute error (MAE) 2311021.410417673\n",
            "__________________________________________________\n",
            "Убрали признак:  num_room\n",
            "R2:  0.47301466937550685\n",
            "Mean absolute error (MAE) 2306586.2178792674\n",
            "__________________________________________________\n",
            "Убрали признак:  kitch_sq\n",
            "R2:  0.474830910656851\n",
            "Mean absolute error (MAE) 2307962.0880931416\n",
            "__________________________________________________\n",
            "Убрали признак:  full_all\n",
            "R2:  0.47479896465715354\n",
            "Mean absolute error (MAE) 2306991.1856917427\n",
            "__________________________________________________\n",
            "Убрали признак:  salary\n",
            "R2:  0.47467474130902065\n",
            "Mean absolute error (MAE) 2308547.1684556715\n",
            "__________________________________________________\n",
            "Убрали признак:  fixed_basket\n",
            "R2:  0.4740995902820737\n",
            "Mean absolute error (MAE) 2309763.187554835\n",
            "__________________________________________________\n",
            "Убрали признак:  rent_price_3room_eco\n",
            "R2:  0.47484811430515217\n",
            "Mean absolute error (MAE) 2308023.293914236\n",
            "__________________________________________________\n",
            "Убрали признак:  rent_price_2room_eco\n",
            "R2:  0.4748213680160098\n",
            "Mean absolute error (MAE) 2307975.3058257466\n",
            "__________________________________________________\n",
            "Убрали признак:  rent_price_1room_eco\n",
            "R2:  0.4748839725094277\n",
            "Mean absolute error (MAE) 2307907.3063347777\n",
            "__________________________________________________\n",
            "Убрали признак:  average_life_exp\n",
            "R2:  0.4746138916645336\n",
            "Mean absolute error (MAE) 2308552.0038945074\n",
            "__________________________________________________\n"
          ]
        }
      ]
    },
    {
      "cell_type": "markdown",
      "source": [
        "*В данной моделе наибольшее влияние оказывает переменная state, поскольку без неё R2 ниже, чем у других.*"
      ],
      "metadata": {
        "id": "JJmUo7wVoe8g"
      }
    },
    {
      "cell_type": "markdown",
      "source": [
        "**5. Разбейте данные на обучающую и тестовую выборки, обучите модель, выведите метрики качества, сравните метрики на трейне и тесте**"
      ],
      "metadata": {
        "id": "yFvhgVwrlCPm"
      }
    },
    {
      "cell_type": "code",
      "source": [
        "X = data[['full_sq']]\n",
        "y = data['price_doc']\n",
        "\n",
        "X_train, X_test, y_train, y_test = train_test_split(X, y, test_size=0.3, random_state=8)\n",
        "\n",
        "# Создаем объект модели\n",
        "reg_model = LinearRegression()\n",
        "\n",
        "# Обучаем модель на данных, применяя метод fit()\n",
        "reg_model.fit(X_train, y_train)\n",
        "\n",
        "# Делаем предказание, применяя метод predict(), и сохраняем его в отдельную переменную\n",
        "pred_train = reg_model.predict(X_train)\n",
        "\n",
        "# __Смотрим метрики качества__\n",
        "print('Метрики на трейне:')\n",
        "print('R2: ', r2_score(y_train, pred_train)) # reg_model.score\n",
        "print('Mean absolute error (MAE)', mean_absolute_error(y_train, pred_train))\n",
        "\n",
        "pred_test = reg_model.predict(X_test)\n",
        "\n",
        "print('\\n Метрики на тесте:')\n",
        "print('R2: ', r2_score(y_test, pred_test)) \n",
        "print('Mean absolute error (MAE)', mean_absolute_error(y_test, pred_test))"
      ],
      "metadata": {
        "id": "SEmA16kDt6aP",
        "colab": {
          "base_uri": "https://localhost:8080/"
        },
        "outputId": "d9424e0b-f5e6-4ee4-bc93-0fc61e9f95da"
      },
      "execution_count": 38,
      "outputs": [
        {
          "output_type": "stream",
          "name": "stdout",
          "text": [
            "Метрики на трейне:\n",
            "R2:  0.38556343488378375\n",
            "Mean absolute error (MAE) 2423356.606122777\n",
            "\n",
            " Метрики на тесте:\n",
            "R2:  0.4418568677101732\n",
            "Mean absolute error (MAE) 2400472.839331195\n"
          ]
        }
      ]
    },
    {
      "cell_type": "code",
      "source": [
        "plt.scatter(X_train['full_sq'].values, y_train)\n",
        "plt.plot(X_train['full_sq'], pred_train, color='red')"
      ],
      "metadata": {
        "id": "lLvb93QklFrY",
        "colab": {
          "base_uri": "https://localhost:8080/",
          "height": 294
        },
        "outputId": "86047a05-d2dd-498b-f6f8-6936476f2763"
      },
      "execution_count": 39,
      "outputs": [
        {
          "output_type": "execute_result",
          "data": {
            "text/plain": [
              "[<matplotlib.lines.Line2D at 0x7f990a819190>]"
            ]
          },
          "metadata": {},
          "execution_count": 39
        },
        {
          "output_type": "display_data",
          "data": {
            "image/png": "[encoded data removed]",
            "text/plain": [
              "<Figure size 432x288 with 1 Axes>"
            ]
          },
          "metadata": {
            "needs_background": "light"
          }
        }
      ]
    },
    {
      "cell_type": "code",
      "source": [
        "plt.scatter(X_test['full_sq'].values, y_test);\n",
        "plt.plot(X_test['full_sq'], pred_test, color='red');"
      ],
      "metadata": {
        "colab": {
          "base_uri": "https://localhost:8080/",
          "height": 276
        },
        "id": "9R4INvZNpqXG",
        "outputId": "48be4688-0bf2-4448-9e67-8570c15065f8"
      },
      "execution_count": 40,
      "outputs": [
        {
          "output_type": "display_data",
          "data": {
            "image/png": "[encoded data removed]",
            "text/plain": [
              "<Figure size 432x288 with 1 Axes>"
            ]
          },
          "metadata": {
            "needs_background": "light"
          }
        }
      ]
    },
    {
      "cell_type": "markdown",
      "source": [
        "*Модель обучилась хорошо, метрики на тесте немного выше, чем на трейне.*"
      ],
      "metadata": {
        "id": "jX0hX6rOHKbk"
      }
    },
    {
      "cell_type": "markdown",
      "source": [
        "**6. Отчистить данные от аномалий и выбросов. Перестроить модель. Как это повлияло на качество модели?**"
      ],
      "metadata": {
        "id": "qVVSL7A9lF_Y"
      }
    },
    {
      "cell_type": "code",
      "source": [
        "X = clean_data[['full_sq']]\n",
        "y = clean_data['price_doc']\n",
        "\n",
        "X_train, X_test, y_train, y_test = train_test_split(X, y, test_size=0.3, random_state=8)\n",
        "\n",
        "# Создаем объект модели\n",
        "reg_model = LinearRegression()\n",
        "\n",
        "# Обучаем модель на данных, применяя метод fit()\n",
        "reg_model.fit(X_train, y_train)\n",
        "\n",
        "# Делаем предказание, применяя метод predict(), и сохраняем его в отдельную переменную\n",
        "pred_train = reg_model.predict(X_train)\n",
        "\n",
        "# __Смотрим метрики качества__\n",
        "print('Метрики на трейне: ')\n",
        "print('R2: ', r2_score(y_train, pred_train)) # reg_model.score\n",
        "print('Mean absolute error (MAE): ', mean_absolute_error(y_train, pred_train))\n",
        "\n",
        "pred_test = reg_model.predict(X_test)\n",
        "\n",
        "print('\\n Метрики на тесте: ')\n",
        "print('R2: ', r2_score(y_test, pred_test)) \n",
        "print('Mean absolute error (MAE): ', mean_absolute_error(y_test, pred_test))"
      ],
      "metadata": {
        "id": "8tKqXtcMlTjA",
        "colab": {
          "base_uri": "https://localhost:8080/"
        },
        "outputId": "4b3c8598-d954-4e98-f9f0-f3f2145fc271"
      },
      "execution_count": 41,
      "outputs": [
        {
          "output_type": "stream",
          "name": "stdout",
          "text": [
            "Метрики на трейне: \n",
            "R2:  0.44736583864247337\n",
            "Mean absolute error (MAE):  2417280.5632609464\n",
            "\n",
            " Метрики на тесте: \n",
            "R2:  0.42096597924788737\n",
            "Mean absolute error (MAE):  2488324.4575716034\n"
          ]
        }
      ]
    },
    {
      "cell_type": "code",
      "source": [
        "plt.scatter(X_train['full_sq'].values, y_train)\n",
        "plt.plot(X_train['full_sq'], pred_train, color='red')"
      ],
      "metadata": {
        "id": "qd_yrtpFlUBn",
        "colab": {
          "base_uri": "https://localhost:8080/",
          "height": 294
        },
        "outputId": "b571178d-9885-461a-9acb-d9cf8feeeafb"
      },
      "execution_count": 42,
      "outputs": [
        {
          "output_type": "execute_result",
          "data": {
            "text/plain": [
              "[<matplotlib.lines.Line2D at 0x7f990a966bd0>]"
            ]
          },
          "metadata": {},
          "execution_count": 42
        },
        {
          "output_type": "display_data",
          "data": {
            "image/png": "[encoded data removed]",
            "text/plain": [
              "<Figure size 432x288 with 1 Axes>"
            ]
          },
          "metadata": {
            "needs_background": "light"
          }
        }
      ]
    },
    {
      "cell_type": "code",
      "source": [
        "plt.scatter(X_test['full_sq'].values, y_test);\n",
        "plt.plot(X_test['full_sq'], pred_test, color='red');"
      ],
      "metadata": {
        "colab": {
          "base_uri": "https://localhost:8080/",
          "height": 276
        },
        "id": "B5pC9NHqILdm",
        "outputId": "81d82a5f-6089-40fd-dab5-ae33f9398eca"
      },
      "execution_count": 43,
      "outputs": [
        {
          "output_type": "display_data",
          "data": {
            "image/png": "[encoded data removed]",
            "text/plain": [
              "<Figure size 432x288 with 1 Axes>"
            ]
          },
          "metadata": {
            "needs_background": "light"
          }
        }
      ]
    },
    {
      "cell_type": "markdown",
      "source": [
        "*Модель на данных без выбросов также обучилась хорошо - показатели качества на трейне и тесте имеют небольшие различия, но не критичные, чтобы считать модель недообученной или переученной.*"
      ],
      "metadata": {
        "id": "CaV1BLF2HwGE"
      }
    }
  ],
  "metadata": {
    "kernelspec": {
      "display_name": "Python 3",
      "language": "python",
      "name": "python3"
    },
    "language_info": {
      "codemirror_mode": {
        "name": "ipython",
        "version": 3
      },
      "file_extension": ".py",
      "mimetype": "text/x-python",
      "name": "python",
      "nbconvert_exporter": "python",
      "pygments_lexer": "ipython3",
      "version": "3.8.5"
    },
    "colab": {
      "name": "Задание_Линейная регрессия.ipynb",
      "provenance": [],
      "collapsed_sections": []
    }
  },
  "nbformat": 4,
  "nbformat_minor": 0
}