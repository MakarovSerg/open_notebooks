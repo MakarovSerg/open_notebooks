{
  "cells": [
    {
      "cell_type": "code",
      "execution_count": 1,
      "metadata": {
        "id": "yEN_5iluqKMW"
      },
      "outputs": [],
      "source": [
        "import pandas as pd\n",
        "import numpy as np\n",
        "import seaborn as sns\n",
        "import matplotlib.pyplot as plt\n",
        "from sklearn.model_selection import train_test_split\n",
        "from sklearn.linear_model import LinearRegression, Ridge, RidgeCV, Lasso, LassoCV, ElasticNet, ElasticNetCV\n",
        "import warnings\n",
        "warnings.filterwarnings('ignore')"
      ]
    },
    {
      "cell_type": "markdown",
      "source": [
        "*С Новым годом!*"
      ],
      "metadata": {
        "id": "qA-cC6FL6Tpk"
      }
    },
    {
      "cell_type": "markdown",
      "metadata": {
        "id": "mo0yhu8YqKMe"
      },
      "source": [
        "### <center> Задание по регуляризации"
      ]
    },
    {
      "cell_type": "markdown",
      "metadata": {
        "id": "AhbNd8gSqKMi"
      },
      "source": [
        "Для выполнения данной работы необходимо использовать набор данных из прошлой лабораторной работы.\n",
        "\n",
        "1. Обучить Ridge, Lasso и ElasticNet регрессии. Посмотреть, становится ли качество модели лучше после применения данных видов регрессии с регуляризацией. Сравнить качество модели\n",
        "2. Построить кривые обучения регрессии с регуляризацией и обычной линейной регрессией, прокоментровать полученные графики."
      ]
    },
    {
      "cell_type": "code",
      "source": [
        "data = pd.read_csv('regression_data.csv')\n",
        "data.head()"
      ],
      "metadata": {
        "colab": {
          "base_uri": "https://localhost:8080/",
          "height": 357
        },
        "id": "Pm-5eB1L0qXD",
        "outputId": "90048bdd-9d18-49e2-bded-916c2ea7265c"
      },
      "execution_count": 2,
      "outputs": [
        {
          "output_type": "execute_result",
          "data": {
            "text/html": [
              "\n",
              "  <div id=\"df-09fec293-1979-43d4-8976-165f431118e7\">\n",
              "    <div class=\"colab-df-container\">\n",
              "      <div>\n",
              "<style scoped>\n",
              "    .dataframe tbody tr th:only-of-type {\n",
              "        vertical-align: middle;\n",
              "    }\n",
              "\n",
              "    .dataframe tbody tr th {\n",
              "        vertical-align: top;\n",
              "    }\n",
              "\n",
              "    .dataframe thead th {\n",
              "        text-align: right;\n",
              "    }\n",
              "</style>\n",
              "<table border=\"1\" class=\"dataframe\">\n",
              "  <thead>\n",
              "    <tr style=\"text-align: right;\">\n",
              "      <th></th>\n",
              "      <th>id</th>\n",
              "      <th>timestamp</th>\n",
              "      <th>full_sq</th>\n",
              "      <th>life_sq</th>\n",
              "      <th>floor</th>\n",
              "      <th>state</th>\n",
              "      <th>max_floor</th>\n",
              "      <th>material</th>\n",
              "      <th>build_year</th>\n",
              "      <th>num_room</th>\n",
              "      <th>kitch_sq</th>\n",
              "      <th>full_all</th>\n",
              "      <th>sub_area</th>\n",
              "      <th>price_doc</th>\n",
              "      <th>salary</th>\n",
              "      <th>fixed_basket</th>\n",
              "      <th>rent_price_3room_eco</th>\n",
              "      <th>rent_price_2room_eco</th>\n",
              "      <th>rent_price_1room_eco</th>\n",
              "      <th>average_life_exp</th>\n",
              "    </tr>\n",
              "  </thead>\n",
              "  <tbody>\n",
              "    <tr>\n",
              "      <th>0</th>\n",
              "      <td>8059</td>\n",
              "      <td>2013-05-21</td>\n",
              "      <td>11</td>\n",
              "      <td>11.0</td>\n",
              "      <td>2.0</td>\n",
              "      <td>3.0</td>\n",
              "      <td>5.0</td>\n",
              "      <td>2.0</td>\n",
              "      <td>1907</td>\n",
              "      <td>1.0</td>\n",
              "      <td>12.0</td>\n",
              "      <td>75377</td>\n",
              "      <td>Hamovniki</td>\n",
              "      <td>2750000</td>\n",
              "      <td>55485.2</td>\n",
              "      <td>14983.92</td>\n",
              "      <td>47.35</td>\n",
              "      <td>40.77</td>\n",
              "      <td>2.31</td>\n",
              "      <td>76.37</td>\n",
              "    </tr>\n",
              "    <tr>\n",
              "      <th>1</th>\n",
              "      <td>8138</td>\n",
              "      <td>2013-05-25</td>\n",
              "      <td>53</td>\n",
              "      <td>30.0</td>\n",
              "      <td>10.0</td>\n",
              "      <td>3.0</td>\n",
              "      <td>16.0</td>\n",
              "      <td>1.0</td>\n",
              "      <td>1980</td>\n",
              "      <td>2.0</td>\n",
              "      <td>8.0</td>\n",
              "      <td>68630</td>\n",
              "      <td>Lianozovo</td>\n",
              "      <td>9000000</td>\n",
              "      <td>55485.2</td>\n",
              "      <td>14983.92</td>\n",
              "      <td>47.35</td>\n",
              "      <td>40.77</td>\n",
              "      <td>2.31</td>\n",
              "      <td>76.37</td>\n",
              "    </tr>\n",
              "    <tr>\n",
              "      <th>2</th>\n",
              "      <td>8156</td>\n",
              "      <td>2013-05-27</td>\n",
              "      <td>77</td>\n",
              "      <td>41.0</td>\n",
              "      <td>2.0</td>\n",
              "      <td>1.0</td>\n",
              "      <td>17.0</td>\n",
              "      <td>6.0</td>\n",
              "      <td>2014</td>\n",
              "      <td>3.0</td>\n",
              "      <td>12.0</td>\n",
              "      <td>9553</td>\n",
              "      <td>Poselenie Voskresenskoe</td>\n",
              "      <td>7011550</td>\n",
              "      <td>55485.2</td>\n",
              "      <td>14983.92</td>\n",
              "      <td>47.35</td>\n",
              "      <td>40.77</td>\n",
              "      <td>2.31</td>\n",
              "      <td>76.37</td>\n",
              "    </tr>\n",
              "    <tr>\n",
              "      <th>3</th>\n",
              "      <td>8157</td>\n",
              "      <td>2013-05-27</td>\n",
              "      <td>45</td>\n",
              "      <td>27.0</td>\n",
              "      <td>6.0</td>\n",
              "      <td>3.0</td>\n",
              "      <td>9.0</td>\n",
              "      <td>1.0</td>\n",
              "      <td>1970</td>\n",
              "      <td>2.0</td>\n",
              "      <td>6.0</td>\n",
              "      <td>78616</td>\n",
              "      <td>Severnoe Butovo</td>\n",
              "      <td>7100000</td>\n",
              "      <td>55485.2</td>\n",
              "      <td>14983.92</td>\n",
              "      <td>47.35</td>\n",
              "      <td>40.77</td>\n",
              "      <td>2.31</td>\n",
              "      <td>76.37</td>\n",
              "    </tr>\n",
              "    <tr>\n",
              "      <th>4</th>\n",
              "      <td>8258</td>\n",
              "      <td>2013-05-30</td>\n",
              "      <td>74</td>\n",
              "      <td>46.0</td>\n",
              "      <td>12.0</td>\n",
              "      <td>3.0</td>\n",
              "      <td>24.0</td>\n",
              "      <td>1.0</td>\n",
              "      <td>2004</td>\n",
              "      <td>3.0</td>\n",
              "      <td>9.0</td>\n",
              "      <td>27992</td>\n",
              "      <td>Juzhnoe Medvedkovo</td>\n",
              "      <td>12100000</td>\n",
              "      <td>55485.2</td>\n",
              "      <td>14983.92</td>\n",
              "      <td>47.35</td>\n",
              "      <td>40.77</td>\n",
              "      <td>2.31</td>\n",
              "      <td>76.37</td>\n",
              "    </tr>\n",
              "  </tbody>\n",
              "</table>\n",
              "</div>\n",
              "      <button class=\"colab-df-convert\" onclick=\"convertToInteractive('df-09fec293-1979-43d4-8976-165f431118e7')\"\n",
              "              title=\"Convert this dataframe to an interactive table.\"\n",
              "              style=\"display:none;\">\n",
              "        \n",
              "  <svg xmlns=\"http://www.w3.org/2000/svg\" height=\"24px\"viewBox=\"0 0 24 24\"\n",
              "       width=\"24px\">\n",
              "    <path d=\"M0 0h24v24H0V0z\" fill=\"none\"/>\n",
              "    <path d=\"M18.56 5.44l.94 2.06.94-2.06 2.06-.94-2.06-.94-.94-2.06-.94 2.06-2.06.94zm-11 1L8.5 8.5l.94-2.06 2.06-.94-2.06-.94L8.5 2.5l-.94 2.06-2.06.94zm10 10l.94 2.06.94-2.06 2.06-.94-2.06-.94-.94-2.06-.94 2.06-2.06.94z\"/><path d=\"M17.41 7.96l-1.37-1.37c-.4-.4-.92-.59-1.43-.59-.52 0-1.04.2-1.43.59L10.3 9.45l-7.72 7.72c-.78.78-.78 2.05 0 2.83L4 21.41c.39.39.9.59 1.41.59.51 0 1.02-.2 1.41-.59l7.78-7.78 2.81-2.81c.8-.78.8-2.07 0-2.86zM5.41 20L4 18.59l7.72-7.72 1.47 1.35L5.41 20z\"/>\n",
              "  </svg>\n",
              "      </button>\n",
              "      \n",
              "  <style>\n",
              "    .colab-df-container {\n",
              "      display:flex;\n",
              "      flex-wrap:wrap;\n",
              "      gap: 12px;\n",
              "    }\n",
              "\n",
              "    .colab-df-convert {\n",
              "      background-color: #E8F0FE;\n",
              "      border: none;\n",
              "      border-radius: 50%;\n",
              "      cursor: pointer;\n",
              "      display: none;\n",
              "      fill: #1967D2;\n",
              "      height: 32px;\n",
              "      padding: 0 0 0 0;\n",
              "      width: 32px;\n",
              "    }\n",
              "\n",
              "    .colab-df-convert:hover {\n",
              "      background-color: #E2EBFA;\n",
              "      box-shadow: 0px 1px 2px rgba(60, 64, 67, 0.3), 0px 1px 3px 1px rgba(60, 64, 67, 0.15);\n",
              "      fill: #174EA6;\n",
              "    }\n",
              "\n",
              "    [theme=dark] .colab-df-convert {\n",
              "      background-color: #3B4455;\n",
              "      fill: #D2E3FC;\n",
              "    }\n",
              "\n",
              "    [theme=dark] .colab-df-convert:hover {\n",
              "      background-color: #434B5C;\n",
              "      box-shadow: 0px 1px 3px 1px rgba(0, 0, 0, 0.15);\n",
              "      filter: drop-shadow(0px 1px 2px rgba(0, 0, 0, 0.3));\n",
              "      fill: #FFFFFF;\n",
              "    }\n",
              "  </style>\n",
              "\n",
              "      <script>\n",
              "        const buttonEl =\n",
              "          document.querySelector('#df-09fec293-1979-43d4-8976-165f431118e7 button.colab-df-convert');\n",
              "        buttonEl.style.display =\n",
              "          google.colab.kernel.accessAllowed ? 'block' : 'none';\n",
              "\n",
              "        async function convertToInteractive(key) {\n",
              "          const element = document.querySelector('#df-09fec293-1979-43d4-8976-165f431118e7');\n",
              "          const dataTable =\n",
              "            await google.colab.kernel.invokeFunction('convertToInteractive',\n",
              "                                                     [key], {});\n",
              "          if (!dataTable) return;\n",
              "\n",
              "          const docLinkHtml = 'Like what you see? Visit the ' +\n",
              "            '<a target=\"_blank\" href=https://colab.research.google.com/notebooks/data_table.ipynb>data table notebook</a>'\n",
              "            + ' to learn more about interactive tables.';\n",
              "          element.innerHTML = '';\n",
              "          dataTable['output_type'] = 'display_data';\n",
              "          await google.colab.output.renderOutput(dataTable, element);\n",
              "          const docLink = document.createElement('div');\n",
              "          docLink.innerHTML = docLinkHtml;\n",
              "          element.appendChild(docLink);\n",
              "        }\n",
              "      </script>\n",
              "    </div>\n",
              "  </div>\n",
              "  "
            ],
            "text/plain": [
              "     id   timestamp  ...  rent_price_1room_eco  average_life_exp\n",
              "0  8059  2013-05-21  ...                  2.31             76.37\n",
              "1  8138  2013-05-25  ...                  2.31             76.37\n",
              "2  8156  2013-05-27  ...                  2.31             76.37\n",
              "3  8157  2013-05-27  ...                  2.31             76.37\n",
              "4  8258  2013-05-30  ...                  2.31             76.37\n",
              "\n",
              "[5 rows x 20 columns]"
            ]
          },
          "metadata": {},
          "execution_count": 2
        }
      ]
    },
    {
      "cell_type": "code",
      "source": [
        "data.plot(x='full_sq', y='price_doc', kind='scatter')"
      ],
      "metadata": {
        "colab": {
          "base_uri": "https://localhost:8080/",
          "height": 308
        },
        "id": "JTcep8RGE9Rp",
        "outputId": "bfbe52eb-decf-4eee-b8c6-94f031e1c714"
      },
      "execution_count": 3,
      "outputs": [
        {
          "output_type": "execute_result",
          "data": {
            "text/plain": [
              "<matplotlib.axes._subplots.AxesSubplot at 0x7fa739169f90>"
            ]
          },
          "metadata": {},
          "execution_count": 3
        },
        {
          "output_type": "display_data",
          "data": {
            "image/png": "[encoded data removed]",
            "text/plain": [
              "<Figure size 432x288 with 1 Axes>"
            ]
          },
          "metadata": {
            "needs_background": "light"
          }
        }
      ]
    },
    {
      "cell_type": "markdown",
      "source": [
        "Удалим выбросы - точки, у которых площадь больше 250 м2 и точки, у которых цена больше 75000000 рублей, а также точки, у которых площадь около нуля, а цена доходит до 2х миллионов (включил в выбросы помещения с площадью меньше 10 кв.м, поскольку минимальное жилое помещение по нормам СанПина - 8 кв.м + добавил 2 кв. м на кухню)."
      ],
      "metadata": {
        "id": "IBwd_8Cc3iTf"
      }
    },
    {
      "cell_type": "code",
      "source": [
        "# Находим выбросы, их индексы и удаляем\n",
        "ind = data[(data['full_sq']>250)|(data['price_doc']>75000000)|(data['full_sq']<10)].index\n",
        "clean_data = data.drop(ind, axis='index')\n",
        "clean_data.plot(x='full_sq', y='price_doc', kind='scatter')"
      ],
      "metadata": {
        "colab": {
          "base_uri": "https://localhost:8080/",
          "height": 308
        },
        "id": "NE5_zKqF0qRN",
        "outputId": "c4c4be21-cfd9-4742-cd23-fc7d7fe87e71"
      },
      "execution_count": 4,
      "outputs": [
        {
          "output_type": "execute_result",
          "data": {
            "text/plain": [
              "<matplotlib.axes._subplots.AxesSubplot at 0x7fa738983fd0>"
            ]
          },
          "metadata": {},
          "execution_count": 4
        },
        {
          "output_type": "display_data",
          "data": {
            "image/png": "[encoded data removed]",
            "text/plain": [
              "<Figure size 432x288 with 1 Axes>"
            ]
          },
          "metadata": {
            "needs_background": "light"
          }
        }
      ]
    },
    {
      "cell_type": "markdown",
      "source": [
        "# **Ridge Regression**"
      ],
      "metadata": {
        "id": "ehG7JN-zaypi"
      }
    },
    {
      "cell_type": "code",
      "source": [
        "# Формируем X и y для построения модели\n",
        "X = clean_data[['full_sq', 'life_sq',\t'floor',\t'state',\t'max_floor',\t'material',\t'build_year',\t'num_room',\t'kitch_sq',\t'full_all',\t'salary',\t'fixed_basket',\t'rent_price_3room_eco',\t'rent_price_2room_eco',\t'rent_price_1room_eco',\t'average_life_exp']]\n",
        "y = clean_data['price_doc']\n",
        "\n",
        "X_train, X_test, y_train, y_test = train_test_split(X, y, random_state=0)\n",
        "\n",
        "# Создаем объект модели\n",
        "lr = LinearRegression()\n",
        "# Обучаем модель на данных, применяя метод fit()\n",
        "lr.fit(X_train, y_train)\n",
        "\n",
        "print(\"R-квадрат на обучающем наборе:\", lr.score(X_train, y_train))\n",
        "print(\"R-квадрат на тестовом наборе:\", lr.score(X_test, y_test))"
      ],
      "metadata": {
        "colab": {
          "base_uri": "https://localhost:8080/"
        },
        "id": "dwXtENErCfzi",
        "outputId": "5c49effd-f519-4993-8df9-c946f4b2b9e8"
      },
      "execution_count": 5,
      "outputs": [
        {
          "output_type": "stream",
          "name": "stdout",
          "text": [
            "R-квадрат на обучающем наборе: 0.4657653717330844\n",
            "R-квадрат на тестовом наборе: 0.5008732919690839\n"
          ]
        }
      ]
    },
    {
      "cell_type": "code",
      "source": [
        "lr.coef_"
      ],
      "metadata": {
        "colab": {
          "base_uri": "https://localhost:8080/"
        },
        "id": "TUphauN0C5jp",
        "outputId": "76c35976-12df-4559-afa5-187c96dafbd0"
      },
      "execution_count": 6,
      "outputs": [
        {
          "output_type": "execute_result",
          "data": {
            "text/plain": [
              "array([ 1.71573060e+05, -3.10956421e+02,  4.86003835e+04,  1.14143770e+06,\n",
              "       -1.80848161e+04,  1.28532547e+05, -1.53850416e+00, -3.66125994e+05,\n",
              "       -1.48383077e+03,  1.61250674e-01, -2.84613305e+02,  4.59730277e+02,\n",
              "       -1.59267581e+04,  7.63567002e+04, -4.25975922e+03,  5.06190568e+06])"
            ]
          },
          "metadata": {},
          "execution_count": 6
        }
      ]
    },
    {
      "cell_type": "code",
      "source": [
        "ridge = Ridge().fit(X_train, y_train)\n",
        "\n",
        "print(\"R-квадрат на обучающем наборе:\", ridge.score(X_train, y_train))\n",
        "print(\"R-квадрат на тестовом наборе:\", ridge.score(X_test, y_test))"
      ],
      "metadata": {
        "colab": {
          "base_uri": "https://localhost:8080/"
        },
        "id": "K7Zlsv0nCfwX",
        "outputId": "56a58f2f-71dd-4dce-d553-27e4e3d8e228"
      },
      "execution_count": 7,
      "outputs": [
        {
          "output_type": "stream",
          "name": "stdout",
          "text": [
            "R-квадрат на обучающем наборе: 0.46574696374660873\n",
            "R-квадрат на тестовом наборе: 0.5008445828994463\n"
          ]
        }
      ]
    },
    {
      "cell_type": "code",
      "source": [
        "ridge.coef_"
      ],
      "metadata": {
        "colab": {
          "base_uri": "https://localhost:8080/"
        },
        "id": "DueMQN7_CftJ",
        "outputId": "c7aa5392-8e4c-4cc7-9532-266cd3fbb4b3"
      },
      "execution_count": 8,
      "outputs": [
        {
          "output_type": "execute_result",
          "data": {
            "text/plain": [
              "array([ 1.71572281e+05, -3.11519642e+02,  4.85875686e+04,  1.14068788e+06,\n",
              "       -1.80611493e+04,  1.28519594e+05, -1.53808389e+00, -3.66627747e+05,\n",
              "       -1.49024823e+03,  1.61406211e-01, -2.01553907e+02,  4.04314122e+02,\n",
              "       -1.49817233e+04,  8.26239726e+04, -3.54632792e+03,  3.71630239e+06])"
            ]
          },
          "metadata": {},
          "execution_count": 8
        }
      ]
    },
    {
      "cell_type": "code",
      "source": [
        "ridge = Ridge(alpha=1).fit(X_train, y_train)\n",
        "print(\"R-квадрат на обучающем наборе:\", ridge.score(X_train, y_train))\n",
        "print(\"R-квадрат на тестовом наборе:\", ridge.score(X_test, y_test))"
      ],
      "metadata": {
        "colab": {
          "base_uri": "https://localhost:8080/"
        },
        "id": "77sEDcTeCfqa",
        "outputId": "b03a9abe-60dd-4eff-b6a7-4adca35471c2"
      },
      "execution_count": 9,
      "outputs": [
        {
          "output_type": "stream",
          "name": "stdout",
          "text": [
            "R-квадрат на обучающем наборе: 0.46574696374660873\n",
            "R-квадрат на тестовом наборе: 0.5008445828994463\n"
          ]
        }
      ]
    },
    {
      "cell_type": "code",
      "source": [
        "lasr_cv = RidgeCV(alphas=[0.1, 0.3, 0.5, 1.0, 5.0, 10.0, 15.0, 20.0])\n",
        "lasr_cv.fit(X_train, y_train)\n",
        "print(f\"alpha = {lasr_cv.alpha_}, score = {lasr_cv.score(X_train, y_train)}\")\n",
        "print(\"R-квадрат на тестовом наборе:\", lasr_cv.score(X_test, y_test))"
      ],
      "metadata": {
        "colab": {
          "base_uri": "https://localhost:8080/"
        },
        "id": "FgsLWJiYCfnX",
        "outputId": "0b7a861f-ae2f-40f3-f369-ce4eee3912a8"
      },
      "execution_count": 10,
      "outputs": [
        {
          "output_type": "stream",
          "name": "stdout",
          "text": [
            "alpha = 10.0, score = 0.4655988138973828\n",
            "R-квадрат на тестовом наборе: 0.5006579468742522\n"
          ]
        }
      ]
    },
    {
      "cell_type": "markdown",
      "source": [
        "# **Lasso Regression**"
      ],
      "metadata": {
        "id": "WaXysVvPa5Hw"
      }
    },
    {
      "cell_type": "code",
      "source": [
        "lasso = Lasso(alpha=1).fit(X_train, y_train)\n",
        "print(\"R-квадрат на обучающем наборе:\", lasso.score(X_train, y_train))\n",
        "print(\"R-квадрат на тестовом наборе:\", lasso.score(X_test, y_test))\n",
        "print(\"Количество использованных признаков: {}\".format(np.sum(lasso.coef_ != 0)))"
      ],
      "metadata": {
        "colab": {
          "base_uri": "https://localhost:8080/"
        },
        "id": "pjFcZ8wQbGbg",
        "outputId": "4b87597d-dc66-4042-dfac-530abb60c4c8"
      },
      "execution_count": 11,
      "outputs": [
        {
          "output_type": "stream",
          "name": "stdout",
          "text": [
            "R-квадрат на обучающем наборе: 0.4657653715541735\n",
            "R-квадрат на тестовом наборе: 0.5008732515464054\n",
            "Количество использованных признаков: 16\n"
          ]
        }
      ]
    },
    {
      "cell_type": "code",
      "source": [
        "lasso.coef_"
      ],
      "metadata": {
        "colab": {
          "base_uri": "https://localhost:8080/"
        },
        "id": "ou62QRyybGYO",
        "outputId": "7f43108e-9379-467e-9f9b-8732edd5c4f9"
      },
      "execution_count": 12,
      "outputs": [
        {
          "output_type": "execute_result",
          "data": {
            "text/plain": [
              "array([ 1.71572937e+05, -3.10958792e+02,  4.86002729e+04,  1.14143382e+06,\n",
              "       -1.80845954e+04,  1.28532129e+05, -1.53850009e+00, -3.66124084e+05,\n",
              "       -1.48384830e+03,  1.61251460e-01, -2.84354858e+02,  4.59554901e+02,\n",
              "       -1.59210099e+04,  7.63693544e+04, -4.25456444e+03,  5.05772000e+06])"
            ]
          },
          "metadata": {},
          "execution_count": 12
        }
      ]
    },
    {
      "cell_type": "code",
      "source": [
        "# Изменяем значение \"max_iter\" и \"alpha\" для проверки изменения метрик.\n",
        "lasso_100000 = Lasso(alpha=0.01, max_iter=100000).fit(X_train, y_train) # \n",
        "print(\"R-квадрат на обучающем наборе:\", lasso_100000.score(X_train, y_train))\n",
        "print(\"R-квадрат на тестовом наборе:\", lasso_100000.score(X_test, y_test))\n",
        "print(\"Количество использованных признаков: {}\".format(np.sum(lasso_100000.coef_ != 0)))"
      ],
      "metadata": {
        "colab": {
          "base_uri": "https://localhost:8080/"
        },
        "id": "WNlweoKlbGGA",
        "outputId": "c8094443-057d-414e-e63a-71c488bddc96"
      },
      "execution_count": 13,
      "outputs": [
        {
          "output_type": "stream",
          "name": "stdout",
          "text": [
            "R-квадрат на обучающем наборе: 0.4657653717330681\n",
            "R-квадрат на тестовом наборе: 0.5008732915789786\n",
            "Количество использованных признаков: 16\n"
          ]
        }
      ]
    },
    {
      "cell_type": "code",
      "source": [
        "lasso_100000.coef_"
      ],
      "metadata": {
        "colab": {
          "base_uri": "https://localhost:8080/"
        },
        "id": "06w7q-gmbnRH",
        "outputId": "54c7326f-60da-4bc6-d585-795c86047ece"
      },
      "execution_count": 14,
      "outputs": [
        {
          "output_type": "execute_result",
          "data": {
            "text/plain": [
              "array([ 1.71573059e+05, -3.10956445e+02,  4.86003824e+04,  1.14143766e+06,\n",
              "       -1.80848139e+04,  1.28532542e+05, -1.53850412e+00, -3.66125974e+05,\n",
              "       -1.48383094e+03,  1.61250682e-01, -2.84610836e+02,  4.59728600e+02,\n",
              "       -1.59267015e+04,  7.63568178e+04, -4.25970839e+03,  5.06186566e+06])"
            ]
          },
          "metadata": {},
          "execution_count": 14
        }
      ]
    },
    {
      "cell_type": "code",
      "source": [
        "lasr_cv = LassoCV(alphas=[0.1, 0.3, 0.5, 1.0, 5.0, 10.0, 15.0, 20.0])\n",
        "lasr_cv.fit(X_train, y_train)\n",
        "print(f\"alpha = {lasr_cv.alpha_}, score = {lasr_cv.score(X_train, y_train)}\")\n",
        "print(\"R-квадрат на тестовом наборе:\", lasr_cv.score(X_test, y_test))"
      ],
      "metadata": {
        "colab": {
          "base_uri": "https://localhost:8080/"
        },
        "id": "5HDFoKWZb0wX",
        "outputId": "3489484b-7bd2-454d-e86c-eda8c77447d9"
      },
      "execution_count": 15,
      "outputs": [
        {
          "output_type": "stream",
          "name": "stdout",
          "text": [
            "alpha = 20.0, score = 0.4657653059942499\n",
            "R-квадрат на тестовом наборе: 0.5008724456051972\n"
          ]
        }
      ]
    },
    {
      "cell_type": "markdown",
      "source": [
        "# **ElasticNet**"
      ],
      "metadata": {
        "id": "MCUv2A11iyy9"
      }
    },
    {
      "cell_type": "code",
      "source": [
        "elastic_net = ElasticNet(alpha=0.1, l1_ratio=0.3).fit(X_train, y_train)\n",
        "print(\"R-квадрат на обучающем наборе:\", elastic_net.score(X_train, y_train))\n",
        "print(\"R-квадрат на тестовом наборе:\", elastic_net.score(X_test, y_test))"
      ],
      "metadata": {
        "colab": {
          "base_uri": "https://localhost:8080/"
        },
        "id": "oa6SSFIGi1C9",
        "outputId": "c4201e9b-902f-4829-8f0e-64b7db5bc24b"
      },
      "execution_count": 16,
      "outputs": [
        {
          "output_type": "stream",
          "name": "stdout",
          "text": [
            "R-квадрат на обучающем наборе: 0.4650492282363815\n",
            "R-квадрат на тестовом наборе: 0.5002958371620925\n"
          ]
        }
      ]
    },
    {
      "cell_type": "code",
      "source": [
        "el_cv_clf = ElasticNetCV(alphas=[0.1, 0.3, 0.5, 1.0, 5.0, 10.0, 20.0],\n",
        "                         l1_ratio=[0, 0.1, 0.25, 0.4, 0.5, 0.7, 0.8, 0.9, 1])\n",
        "el_cv_clf.fit(X_train, y_train)\n",
        "\n",
        "print(f\"alpha = {el_cv_clf.alpha_}, l1_ratio = {el_cv_clf.l1_ratio_}, score = {el_cv_clf.score(X_train, y_train)}\")\n",
        "print(\"R-квадрат на тестовом наборе:\", el_cv_clf.score(X_test, y_test))"
      ],
      "metadata": {
        "colab": {
          "base_uri": "https://localhost:8080/"
        },
        "id": "Xs9nhlo5jBvI",
        "outputId": "df791111-d5ae-4a56-9f13-d0b1a591bf4f"
      },
      "execution_count": 17,
      "outputs": [
        {
          "output_type": "stream",
          "name": "stdout",
          "text": [
            "alpha = 20.0, l1_ratio = 1.0, score = 0.4657653059942499\n",
            "R-квадрат на тестовом наборе: 0.5008724456051972\n"
          ]
        }
      ]
    },
    {
      "cell_type": "markdown",
      "source": [
        "*Анализируя полученнные результаты, есть ощущение, что я допустил какую-то ошибку, поскольку различия в качестве модели минимальные (изменения только после 3 знаков после запятой).\n",
        "Возможно конечно, что модель очень хорошо обучилась и попались удачные данные, но не уверен, что настолько всё ровно может получаться даже при таком раскладе.*"
      ],
      "metadata": {
        "id": "dnHAm8KD5wIs"
      }
    },
    {
      "cell_type": "markdown",
      "source": [
        "# **Кривые обучения**"
      ],
      "metadata": {
        "id": "IyqZ-a-p3qQ1"
      }
    },
    {
      "cell_type": "code",
      "source": [
        "lin_r2_train = []\n",
        "lin_r2_test = []\n",
        "\n",
        "ridge_r2_train = []\n",
        "ridge_r2_test = []\n",
        "\n",
        "X_train, X_test, y_train, y_test = train_test_split(X, y, random_state=0)\n",
        "\n",
        "for n in range(1, len(X_train), 10):\n",
        "#     Метрики по линейной регрессия\n",
        "    lr = LinearRegression().fit(X_train[:n], y_train[:n])\n",
        "    lr_train_pred = lr.predict(X_train[:n])\n",
        "    lr_test_pred = lr.predict(X_test)\n",
        "\n",
        "    lin_r2_train.append(lr.score(X_train[:n], y_train[:n]))\n",
        "    lin_r2_test.append(lr.score(X_test, y_test))\n",
        "    \n",
        "#     Метрики по гребневой регрессии\n",
        "    ridge = Ridge().fit(X_train[:n], y_train[:n])\n",
        "    ridge_train_pred = ridge.predict(X_train[:n])\n",
        "    ridge_test_pred = ridge.predict(X_test)\n",
        "    \n",
        "    ridge_r2_train.append(ridge.score(X_train[:n], y_train[:n]))\n",
        "    ridge_r2_test.append(ridge.score(X_test, y_test))"
      ],
      "metadata": {
        "id": "qmx6akN37WB1"
      },
      "execution_count": null,
      "outputs": []
    },
    {
      "cell_type": "markdown",
      "source": [
        "По данному моменту не совсем понял, что мы делаем. Хотел бы уточнить на паре, если будем просматривать задание."
      ],
      "metadata": {
        "id": "OiuofG6n76S8"
      }
    },
    {
      "cell_type": "code",
      "source": [
        "plt.figure(figsize=(10,6))\n",
        "sns.lineplot(x=[i for i in range(len(ridge_r2_test))], y=ridge_r2_test, label='Ridge_test', color='b');\n",
        "sns.lineplot(x=[i for i in range(len(ridge_r2_train))], y=ridge_r2_train, label='Ridge_train', linestyle='dashed', color='b');\n",
        "\n",
        "sns.lineplot(x=[i for i in range(len(lin_r2_test))], y=lin_r2_test, label='Linear_test', color='red');\n",
        "sns.lineplot(x=[i for i in range(len(lin_r2_train))], y=lin_r2_train, label='Linear_train', linestyle='dashed', color='red');\n",
        "plt.ylim((-0.1, 1.1))\n",
        "plt.xlabel('Объем обучающих данных')\n",
        "plt.ylabel('R-квадрат')\n",
        "plt.title('Кривые обучения');"
      ],
      "metadata": {
        "colab": {
          "base_uri": "https://localhost:8080/",
          "height": 404
        },
        "id": "P5-yoTWokYRm",
        "outputId": "d0dbd4c2-88fa-4528-e59c-1e3247887b8a"
      },
      "execution_count": 25,
      "outputs": [
        {
          "output_type": "display_data",
          "data": {
            "image/png": "[encoded data removed]",
            "text/plain": [
              "<Figure size 720x432 with 1 Axes>"
            ]
          },
          "metadata": {
            "needs_background": "light"
          }
        }
      ]
    },
    {
      "cell_type": "markdown",
      "source": [
        "*В данном случае качество работы гребневой и линейной регрессии одинаковы. Это может быть вызвано тем, что в обучении участвовало достаточное количество обучающих данных, что свело важность регуляризации к минимуму.\n",
        "Но, может быть, что-то не так сделал, так как в предыдущей части и в этой результаты моделей практически не отличаются друг от друга. Но я так и не смог понять ошибку, если она есть...*"
      ],
      "metadata": {
        "id": "oCorpe2P49Hl"
      }
    }
  ],
  "metadata": {
    "kernelspec": {
      "display_name": "Python 3",
      "language": "python",
      "name": "python3"
    },
    "language_info": {
      "codemirror_mode": {
        "name": "ipython",
        "version": 3
      },
      "file_extension": ".py",
      "mimetype": "text/x-python",
      "name": "python",
      "nbconvert_exporter": "python",
      "pygments_lexer": "ipython3",
      "version": "3.8.5"
    },
    "colab": {
      "name": "Задание по регуляризации.ipynb",
      "provenance": []
    }
  },
  "nbformat": 4,
  "nbformat_minor": 0
}