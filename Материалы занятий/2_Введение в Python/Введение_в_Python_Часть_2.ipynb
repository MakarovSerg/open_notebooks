{
  "nbformat": 4,
  "nbformat_minor": 0,
  "metadata": {
    "kernelspec": {
      "display_name": "Python 3",
      "language": "python",
      "name": "python3"
    },
    "language_info": {
      "codemirror_mode": {
        "name": "ipython",
        "version": 3
      },
      "file_extension": ".py",
      "mimetype": "text/x-python",
      "name": "python",
      "nbconvert_exporter": "python",
      "pygments_lexer": "ipython3",
      "version": "3.8.5"
    },
    "colab": {
      "name": "Введение в Python_Часть 2.ipynb",
      "provenance": []
    }
  },
  "cells": [
    {
      "cell_type": "markdown",
      "metadata": {
        "id": "OusgAaGZZ5eD"
      },
      "source": [
        "## <center>Введение в Python. Часть 2\n",
        "        "
      ]
    },
    {
      "cell_type": "markdown",
      "metadata": {
        "id": "KxiV1UOtZ5ed"
      },
      "source": [
        "### Словари dict"
      ]
    },
    {
      "cell_type": "markdown",
      "metadata": {
        "id": "hzPVY_liZ5eh"
      },
      "source": [
        "* Формат хранения ключ:значение\n",
        "* Значения не упорядочены\n",
        "* Значения ключей должны быть уникальны\n",
        "* Изменяемый тип данных"
      ]
    },
    {
      "cell_type": "code",
      "metadata": {
        "id": "7M4jIUoTZ5el",
        "outputId": "cf19f430-2a6f-43e3-845a-f0cc8ceab580"
      },
      "source": [
        "# пустой словарь\n",
        "d = {}\n",
        "# еще способ создания \n",
        "d = dict()\n",
        "d\n",
        "type(d)"
      ],
      "execution_count": null,
      "outputs": [
        {
          "data": {
            "text/plain": [
              "dict"
            ]
          },
          "execution_count": 3,
          "metadata": {},
          "output_type": "execute_result"
        }
      ]
    },
    {
      "cell_type": "code",
      "metadata": {
        "id": "7eXRY60pZ5ex",
        "outputId": "00697b39-a766-481b-a80d-bcc18e1a9e47"
      },
      "source": [
        "# добавить или изменить элемент\n",
        "d = {'key1':1, 'key2':2, 'key3':3}\n",
        "d\n",
        "# d['key1']\n",
        "\n",
        "# не можем обращаться по индексу\n",
        "# d[0]\n",
        "# d['key4'] = 15\n",
        "# d"
      ],
      "execution_count": null,
      "outputs": [
        {
          "data": {
            "text/plain": [
              "{'key1': 1, 'key2': 2, 'key3': 3, 'key4': 15}"
            ]
          },
          "execution_count": 8,
          "metadata": {},
          "output_type": "execute_result"
        }
      ]
    },
    {
      "cell_type": "code",
      "metadata": {
        "id": "D3KfNzmVZ5e0",
        "outputId": "02400d72-f246-4876-c93a-718ff7e3311d"
      },
      "source": [
        "# Ключем в словаре МОГУТ быть типы: int, float, str, tuple (кортеж)\n",
        "# Ключем НЕ МОГУТ быть изменяемые типы данных: list (cписок), dict (словарь), set (множество)\n",
        "d = {(1,2):[55,26,37]}\n",
        "d"
      ],
      "execution_count": null,
      "outputs": [
        {
          "data": {
            "text/plain": [
              "{1: [55, 26, 37]}"
            ]
          },
          "execution_count": 11,
          "metadata": {},
          "output_type": "execute_result"
        }
      ]
    },
    {
      "cell_type": "code",
      "metadata": {
        "id": "7XcahOyGZ5e7",
        "outputId": "bbe01b53-0c41-480a-ccfa-b76545ef87d1"
      },
      "source": [
        "# могут быть разные типы значений\n",
        "d = {'first_key':True, 'second_key':[1,2,3], 'third_key':{'key':'value'}}\n",
        "d['second_key'][2]\n",
        "# ключи уникальны\n",
        "# {'key2':1, 'key2':2, 'key2':3}"
      ],
      "execution_count": null,
      "outputs": [
        {
          "data": {
            "text/plain": [
              "3"
            ]
          },
          "execution_count": 13,
          "metadata": {},
          "output_type": "execute_result"
        }
      ]
    },
    {
      "cell_type": "code",
      "metadata": {
        "id": "WCP9CKG7Z5fK",
        "outputId": "53ad14b3-d8e2-46cf-8d33-7096884be840"
      },
      "source": [
        "# генератор словарей\n",
        "d = {'key_'+ str(a):a ** 2 for a in range(7)}\n",
        "d"
      ],
      "execution_count": null,
      "outputs": [
        {
          "data": {
            "text/plain": [
              "{'key_0': 0,\n",
              " 'key_1': 1,\n",
              " 'key_2': 4,\n",
              " 'key_3': 9,\n",
              " 'key_4': 16,\n",
              " 'key_5': 25,\n",
              " 'key_6': 36}"
            ]
          },
          "execution_count": 14,
          "metadata": {},
          "output_type": "execute_result"
        }
      ]
    },
    {
      "cell_type": "code",
      "metadata": {
        "id": "BMP8_QNTZ5fR",
        "outputId": "e29bf30a-78fb-495c-de7f-5a90fb68f8f3"
      },
      "source": [
        "# Генерация словаря из двух списков\n",
        "keys = ['key1', 'key2', 'key3','key4']\n",
        "values = [11, 12, 13, 14]\n",
        "\n",
        "d = {keys[i]: values[i] for i in range(len(keys))}\n",
        "d\n",
        "dict(zip(keys, values))"
      ],
      "execution_count": null,
      "outputs": [
        {
          "data": {
            "text/plain": [
              "{'key1': 11, 'key2': 12, 'key3': 13, 'key4': 14}"
            ]
          },
          "execution_count": 18,
          "metadata": {},
          "output_type": "execute_result"
        }
      ]
    },
    {
      "cell_type": "code",
      "metadata": {
        "id": "5YXYQ_KbZ5fV",
        "outputId": "6e4850b0-052b-469a-bcd0-01aec410398d"
      },
      "source": [
        "# Методы словарей\n",
        "# вернуть значение по ключу\n",
        "d.get('key5','not found')\n",
        "# вернуть ключи\n",
        "# d.keys()\n",
        "# вернуть значения\n",
        "# d.values()\n",
        "# вернуть пары ключ-значение\n",
        "# d.items()\n",
        "# удалить значение по ключу - возвращает удаленное значенеи\n",
        "# d.pop('key1')\n",
        "# удаляет произвольную пару из словаря\n",
        "# d.popitem()\n",
        "# создать копию\n",
        "# d.copy()\n",
        "# очистить словарь\n",
        "# d.clear()\n",
        "d"
      ],
      "execution_count": null,
      "outputs": [
        {
          "data": {
            "text/plain": [
              "{}"
            ]
          },
          "execution_count": 26,
          "metadata": {},
          "output_type": "execute_result"
        }
      ]
    },
    {
      "cell_type": "markdown",
      "metadata": {
        "id": "hVxFk3zIZ5fX"
      },
      "source": [
        "### Кортежи tuple"
      ]
    },
    {
      "cell_type": "markdown",
      "metadata": {
        "id": "h-59f1iMZ5fY"
      },
      "source": [
        "* Неизменяемый тип данных\n",
        "* Во многом похож на список, можно сказать, что это - неизменяемый список\n",
        "* Занимает меньше памяти"
      ]
    },
    {
      "cell_type": "code",
      "metadata": {
        "id": "PT5RPN0KZ5fa"
      },
      "source": [
        "# пустой кортеж\n",
        "t = ()\n",
        "t = tuple()"
      ],
      "execution_count": null,
      "outputs": []
    },
    {
      "cell_type": "code",
      "metadata": {
        "colab": {
          "base_uri": "https://localhost:8080/"
        },
        "id": "vFYAUwbkZ5fc",
        "outputId": "4d5f991a-a2ab-4bcc-d211-d06dc699de00"
      },
      "source": [
        "t = (1,2,3,2,1)\n",
        "# t = tuple([1,1,1,1])\n",
        "# t = tuple('hello')\n",
        "# t = ('1',)\n",
        "# t = 's',\n",
        "# print(t)\n",
        "# type(t)\n",
        "# l = [1,2,3]\n",
        "# l[0] = 5\n",
        "# l\n",
        "\n",
        "# t = (1,2,3)\n",
        "# t[0] = 5\n",
        "t"
      ],
      "execution_count": 1,
      "outputs": [
        {
          "output_type": "execute_result",
          "data": {
            "text/plain": [
              "(1, 2, 3, 2, 1)"
            ]
          },
          "metadata": {},
          "execution_count": 1
        }
      ]
    },
    {
      "cell_type": "code",
      "metadata": {
        "collapsed": true,
        "id": "1hHTNfqTZ5fe",
        "outputId": "a1d46d16-d829-430b-c0e7-ebc61d401727"
      },
      "source": [
        "# возможны многие операции списков, которые не меняют кортеж\n",
        "t[1:3]\n",
        "# help(tuple)"
      ],
      "execution_count": null,
      "outputs": [
        {
          "name": "stdout",
          "output_type": "stream",
          "text": [
            "Help on class tuple in module builtins:\n",
            "\n",
            "class tuple(object)\n",
            " |  tuple(iterable=(), /)\n",
            " |  \n",
            " |  Built-in immutable sequence.\n",
            " |  \n",
            " |  If no argument is given, the constructor returns an empty tuple.\n",
            " |  If iterable is specified the tuple is initialized from iterable's items.\n",
            " |  \n",
            " |  If the argument is a tuple, the return value is the same object.\n",
            " |  \n",
            " |  Built-in subclasses:\n",
            " |      asyncgen_hooks\n",
            " |      UnraisableHookArgs\n",
            " |  \n",
            " |  Methods defined here:\n",
            " |  \n",
            " |  __add__(self, value, /)\n",
            " |      Return self+value.\n",
            " |  \n",
            " |  __contains__(self, key, /)\n",
            " |      Return key in self.\n",
            " |  \n",
            " |  __eq__(self, value, /)\n",
            " |      Return self==value.\n",
            " |  \n",
            " |  __ge__(self, value, /)\n",
            " |      Return self>=value.\n",
            " |  \n",
            " |  __getattribute__(self, name, /)\n",
            " |      Return getattr(self, name).\n",
            " |  \n",
            " |  __getitem__(self, key, /)\n",
            " |      Return self[key].\n",
            " |  \n",
            " |  __getnewargs__(self, /)\n",
            " |  \n",
            " |  __gt__(self, value, /)\n",
            " |      Return self>value.\n",
            " |  \n",
            " |  __hash__(self, /)\n",
            " |      Return hash(self).\n",
            " |  \n",
            " |  __iter__(self, /)\n",
            " |      Implement iter(self).\n",
            " |  \n",
            " |  __le__(self, value, /)\n",
            " |      Return self<=value.\n",
            " |  \n",
            " |  __len__(self, /)\n",
            " |      Return len(self).\n",
            " |  \n",
            " |  __lt__(self, value, /)\n",
            " |      Return self<value.\n",
            " |  \n",
            " |  __mul__(self, value, /)\n",
            " |      Return self*value.\n",
            " |  \n",
            " |  __ne__(self, value, /)\n",
            " |      Return self!=value.\n",
            " |  \n",
            " |  __repr__(self, /)\n",
            " |      Return repr(self).\n",
            " |  \n",
            " |  __rmul__(self, value, /)\n",
            " |      Return value*self.\n",
            " |  \n",
            " |  count(self, value, /)\n",
            " |      Return number of occurrences of value.\n",
            " |  \n",
            " |  index(self, value, start=0, stop=9223372036854775807, /)\n",
            " |      Return first index of value.\n",
            " |      \n",
            " |      Raises ValueError if the value is not present.\n",
            " |  \n",
            " |  ----------------------------------------------------------------------\n",
            " |  Static methods defined here:\n",
            " |  \n",
            " |  __new__(*args, **kwargs) from builtins.type\n",
            " |      Create and return a new object.  See help(type) for accurate signature.\n",
            "\n"
          ]
        }
      ]
    },
    {
      "cell_type": "markdown",
      "metadata": {
        "id": "pNP3uZcsZ5fg"
      },
      "source": [
        "### Множества set"
      ]
    },
    {
      "cell_type": "markdown",
      "metadata": {
        "id": "6Fb71Ye1Z5fh"
      },
      "source": [
        "* Множество содержит неупорядоченные уникальные элементы"
      ]
    },
    {
      "cell_type": "code",
      "metadata": {
        "colab": {
          "base_uri": "https://localhost:8080/"
        },
        "id": "WPLsJUx8Z5fi",
        "outputId": "a8d2c5a2-9c68-4079-8c99-82edfc22b51a"
      },
      "source": [
        "b = {1,2,3,4,1,4,3} \n",
        "b\n",
        "# type(b)"
      ],
      "execution_count": 2,
      "outputs": [
        {
          "output_type": "execute_result",
          "data": {
            "text/plain": [
              "{1, 2, 3, 4}"
            ]
          },
          "metadata": {},
          "execution_count": 2
        }
      ]
    },
    {
      "cell_type": "code",
      "metadata": {
        "id": "Q9qnE0glZ5fk",
        "outputId": "18b6a765-f92d-43e1-d9a1-05fd83d2c8d8"
      },
      "source": [
        "# так нельзя создать пустое множество, получим словарь\n",
        "b = {}\n",
        "# type(b)\n",
        "# правильный способ создания пустого множества\n",
        "# b = set()\n",
        "# b\n",
        "# type(b)"
      ],
      "execution_count": null,
      "outputs": [
        {
          "data": {
            "text/plain": [
              "set()"
            ]
          },
          "execution_count": 44,
          "metadata": {},
          "output_type": "execute_result"
        }
      ]
    },
    {
      "cell_type": "code",
      "metadata": {
        "colab": {
          "base_uri": "https://localhost:8080/"
        },
        "id": "S120eHakZ5fl",
        "outputId": "12189529-c980-4277-d1c5-576f8fd9e58c"
      },
      "source": [
        "# достаем уникальные объекты из списка\n",
        "l = [1,2,2,3,1,53,2]\n",
        "l_unique = list(set(l))\n",
        "l_unique\n",
        "# пробуем сделать то же на словаре\n",
        "# d = {'key':1, 'key2':2}\n",
        "# d_unique = set(d)\n",
        "# d_unique"
      ],
      "execution_count": 3,
      "outputs": [
        {
          "output_type": "execute_result",
          "data": {
            "text/plain": [
              "[1, 2, 3, 53]"
            ]
          },
          "metadata": {},
          "execution_count": 3
        }
      ]
    },
    {
      "cell_type": "code",
      "metadata": {
        "colab": {
          "base_uri": "https://localhost:8080/"
        },
        "id": "Brj86ohqZ5fm",
        "outputId": "76b90cbf-adce-4b98-82b9-b335312df955"
      },
      "source": [
        "b = set('hello')\n",
        "# \n",
        "b\n",
        "# b[0]"
      ],
      "execution_count": 4,
      "outputs": [
        {
          "output_type": "execute_result",
          "data": {
            "text/plain": [
              "{'e', 'h', 'l', 'o'}"
            ]
          },
          "metadata": {},
          "execution_count": 4
        }
      ]
    },
    {
      "cell_type": "code",
      "metadata": {
        "id": "9IwcPMRiZ5fo",
        "outputId": "c6359768-b206-4c4d-e813-d28dacdb6611"
      },
      "source": [
        "# генератор множества\n",
        "b = {i ** 2 for i in range(10)}\n",
        "b"
      ],
      "execution_count": null,
      "outputs": [
        {
          "data": {
            "text/plain": [
              "{0, 1, 4, 9, 16, 25, 36, 49, 64, 81}"
            ]
          },
          "execution_count": 50,
          "metadata": {},
          "output_type": "execute_result"
        }
      ]
    },
    {
      "cell_type": "code",
      "metadata": {
        "colab": {
          "base_uri": "https://localhost:8080/"
        },
        "id": "JwHpeD0sZ5fp",
        "outputId": "024b5e11-802c-496d-fb1b-e4d5b887912a"
      },
      "source": [
        "# Методы \n",
        "# добавить элемент\n",
        "b.add(5)\n",
        "# удалить элемент, при его отсутсвии - ошибка\n",
        "# b.remove(0)\n",
        "# удалить элемент, при его отсутсвии - ничего не делает\n",
        "# b.discard(1)\n",
        "# копировать\n",
        "# b.copy()\n",
        "# очистить\n",
        "# b.clear()\n",
        "print(b)"
      ],
      "execution_count": 5,
      "outputs": [
        {
          "output_type": "stream",
          "name": "stdout",
          "text": [
            "{'h', 5, 'e', 'l', 'o'}\n"
          ]
        }
      ]
    },
    {
      "cell_type": "code",
      "metadata": {
        "id": "U_dtgv6NZ5fr",
        "outputId": "1af35e14-fa13-4148-aefe-bdef0a2f257a"
      },
      "source": [
        "# операции на нескольких множествах\n",
        "a = {1,2,3,4,5}\n",
        "b = {3,4,5,6,7,8}\n",
        "# объединение\n",
        "a.union(b)\n",
        "# пересечение\n",
        "# a.intersection(b)\n",
        "# разница\n",
        "# a.difference(b)"
      ],
      "execution_count": null,
      "outputs": [
        {
          "data": {
            "text/plain": [
              "{1, 2}"
            ]
          },
          "execution_count": 63,
          "metadata": {},
          "output_type": "execute_result"
        }
      ]
    },
    {
      "cell_type": "code",
      "metadata": {
        "colab": {
          "base_uri": "https://localhost:8080/"
        },
        "id": "-AvMV2dvZ5fs",
        "outputId": "4acf400f-e3ba-467b-b4a0-220e3d10f94d"
      },
      "source": [
        "# неизменяемое множество\n",
        "d = frozenset([1,2,3])\n",
        "type(d)\n",
        "# d.add(4)"
      ],
      "execution_count": 6,
      "outputs": [
        {
          "output_type": "execute_result",
          "data": {
            "text/plain": [
              "frozenset"
            ]
          },
          "metadata": {},
          "execution_count": 6
        }
      ]
    },
    {
      "cell_type": "markdown",
      "metadata": {
        "id": "v9ueW_WUZ5ft"
      },
      "source": [
        "### Функции"
      ]
    },
    {
      "cell_type": "code",
      "metadata": {
        "id": "thboOpc2Z5fu",
        "outputId": "983d37c1-03ad-498d-d1d6-01f7aefe2d64"
      },
      "source": [
        "# функция без аргументов\n",
        "def my_func():\n",
        "    print('Hi, everyone')\n",
        "\n",
        "my_func()"
      ],
      "execution_count": null,
      "outputs": [
        {
          "name": "stdout",
          "output_type": "stream",
          "text": [
            "Hi, everyone\n"
          ]
        }
      ]
    },
    {
      "cell_type": "code",
      "metadata": {
        "id": "x7gR0332Z5f7",
        "outputId": "0d1e2c3f-2496-47dd-f407-836351a23e62"
      },
      "source": [
        "# функция с аргументами, ничего не вовращает + docstrings\n",
        "def my_sum(a, b):\n",
        "    \"\"\"\n",
        "        функция считает сумму двух чисел a и b\n",
        "    \"\"\"\n",
        "    print (a+b)\n",
        "\n",
        "\n",
        "sum_ = my_sum(5,3)\n",
        "sum_ + 5\n",
        "type(sum_)\n",
        "# my_sum(5,3)"
      ],
      "execution_count": null,
      "outputs": [
        {
          "name": "stdout",
          "output_type": "stream",
          "text": [
            "8\n"
          ]
        },
        {
          "data": {
            "text/plain": [
              "NoneType"
            ]
          },
          "execution_count": 73,
          "metadata": {},
          "output_type": "execute_result"
        }
      ]
    },
    {
      "cell_type": "code",
      "metadata": {
        "collapsed": true,
        "id": "P3_6Ue_1Z5f9"
      },
      "source": [
        "help(str)"
      ],
      "execution_count": null,
      "outputs": []
    },
    {
      "cell_type": "code",
      "metadata": {
        "id": "zRL8T1cbZ5f-",
        "outputId": "6120417f-0c2c-42a4-a972-40bae9710244"
      },
      "source": [
        "help(print)\n",
        "# help(my_sum)"
      ],
      "execution_count": null,
      "outputs": [
        {
          "name": "stdout",
          "output_type": "stream",
          "text": [
            "Help on function my_sum in module __main__:\n",
            "\n",
            "my_sum(a, b)\n",
            "    функция считает сумму двух чисел a и b\n",
            "\n"
          ]
        }
      ]
    },
    {
      "cell_type": "code",
      "metadata": {
        "colab": {
          "base_uri": "https://localhost:8080/"
        },
        "id": "C-nDNVBwZ5gA",
        "outputId": "868dc813-36dd-40de-d990-444a9c45b259"
      },
      "source": [
        "# функция с аргументами, возвращает значение\n",
        "def my_sum(a, b):\n",
        "    return a+b\n",
        "\n",
        "sum_ = my_sum(5,3)\n",
        "sum_\n",
        "# sum_ + 5\n",
        "# type(sum_)\n",
        "# my_sum()"
      ],
      "execution_count": 9,
      "outputs": [
        {
          "output_type": "execute_result",
          "data": {
            "text/plain": [
              "8"
            ]
          },
          "metadata": {},
          "execution_count": 9
        }
      ]
    },
    {
      "cell_type": "code",
      "metadata": {
        "id": "2tsUlNvtZ5gC",
        "outputId": "8b77317a-4b86-4d98-bd89-1abeac078fab"
      },
      "source": [
        "# функция с аргументами по умолчанию\n",
        "def my_sum(a, b=3):\n",
        "    return a+b\n",
        "\n",
        "my_sum(5)"
      ],
      "execution_count": null,
      "outputs": [
        {
          "data": {
            "text/plain": [
              "8"
            ]
          },
          "execution_count": 81,
          "metadata": {},
          "output_type": "execute_result"
        }
      ]
    },
    {
      "cell_type": "markdown",
      "metadata": {
        "id": "RGTEt1GYZ5gD"
      },
      "source": [
        "Области видимости"
      ]
    },
    {
      "cell_type": "code",
      "metadata": {
        "id": "xYuQmCCcZ5gE",
        "outputId": "debd5513-c996-47c9-982c-c25830ab6234"
      },
      "source": [
        "def new_f():\n",
        "    print(var)\n",
        "new_f()"
      ],
      "execution_count": null,
      "outputs": [
        {
          "ename": "NameError",
          "evalue": "name 'var' is not defined",
          "output_type": "error",
          "traceback": [
            "\u001b[1;31m---------------------------------------------------------------------------\u001b[0m",
            "\u001b[1;31mNameError\u001b[0m                                 Traceback (most recent call last)",
            "\u001b[1;32m<ipython-input-82-a018d0040f78>\u001b[0m in \u001b[0;36m<module>\u001b[1;34m\u001b[0m\n\u001b[0;32m      1\u001b[0m \u001b[1;32mdef\u001b[0m \u001b[0mnew_f\u001b[0m\u001b[1;33m(\u001b[0m\u001b[1;33m)\u001b[0m\u001b[1;33m:\u001b[0m\u001b[1;33m\u001b[0m\u001b[1;33m\u001b[0m\u001b[0m\n\u001b[0;32m      2\u001b[0m     \u001b[0mprint\u001b[0m\u001b[1;33m(\u001b[0m\u001b[0mvar\u001b[0m\u001b[1;33m)\u001b[0m\u001b[1;33m\u001b[0m\u001b[1;33m\u001b[0m\u001b[0m\n\u001b[1;32m----> 3\u001b[1;33m \u001b[0mnew_f\u001b[0m\u001b[1;33m(\u001b[0m\u001b[1;33m)\u001b[0m\u001b[1;33m\u001b[0m\u001b[1;33m\u001b[0m\u001b[0m\n\u001b[0m",
            "\u001b[1;32m<ipython-input-82-a018d0040f78>\u001b[0m in \u001b[0;36mnew_f\u001b[1;34m()\u001b[0m\n\u001b[0;32m      1\u001b[0m \u001b[1;32mdef\u001b[0m \u001b[0mnew_f\u001b[0m\u001b[1;33m(\u001b[0m\u001b[1;33m)\u001b[0m\u001b[1;33m:\u001b[0m\u001b[1;33m\u001b[0m\u001b[1;33m\u001b[0m\u001b[0m\n\u001b[1;32m----> 2\u001b[1;33m     \u001b[0mprint\u001b[0m\u001b[1;33m(\u001b[0m\u001b[0mvar\u001b[0m\u001b[1;33m)\u001b[0m\u001b[1;33m\u001b[0m\u001b[1;33m\u001b[0m\u001b[0m\n\u001b[0m\u001b[0;32m      3\u001b[0m \u001b[0mnew_f\u001b[0m\u001b[1;33m(\u001b[0m\u001b[1;33m)\u001b[0m\u001b[1;33m\u001b[0m\u001b[1;33m\u001b[0m\u001b[0m\n",
            "\u001b[1;31mNameError\u001b[0m: name 'var' is not defined"
          ]
        }
      ]
    },
    {
      "cell_type": "code",
      "metadata": {
        "id": "Mqi5CS17Z5gF",
        "outputId": "1711c7a2-37e0-437e-c2e8-e3df83e6aa2d"
      },
      "source": [
        "# локальная переменная внутри функции\n",
        "def new_f():\n",
        "    var = 3\n",
        "    print(var)\n",
        "new_f()"
      ],
      "execution_count": null,
      "outputs": [
        {
          "name": "stdout",
          "output_type": "stream",
          "text": [
            "3\n"
          ]
        }
      ]
    },
    {
      "cell_type": "code",
      "metadata": {
        "id": "WFrYVcsQZ5gG",
        "outputId": "cc15cc85-52cb-4af2-f6db-d589db1623ac"
      },
      "source": [
        "# В первую очередь функция видит локальные переменные\n",
        "var = 5 # глобальная переменная\n",
        "def new_f():\n",
        "    var = 3 # локальная переменная\n",
        "    print(var)\n",
        "new_f()"
      ],
      "execution_count": null,
      "outputs": [
        {
          "name": "stdout",
          "output_type": "stream",
          "text": [
            "3\n"
          ]
        }
      ]
    },
    {
      "cell_type": "code",
      "metadata": {
        "id": "F8jlajovZ5gH",
        "outputId": "4938687b-c641-48f9-ffff-6c4eb8b9bb7e"
      },
      "source": [
        "# Но! если нет локальной x, то функция видит глобальную!\n",
        "var = 5\n",
        "def new_f():\n",
        "    print(var)\n",
        "new_f()"
      ],
      "execution_count": null,
      "outputs": [
        {
          "name": "stdout",
          "output_type": "stream",
          "text": [
            "5\n"
          ]
        }
      ]
    },
    {
      "cell_type": "code",
      "metadata": {
        "id": "eyIP4XpSZ5gI",
        "outputId": "243fb2dd-9f39-4a41-d1be-ec5aa36701fe"
      },
      "source": [
        "# явно указать глобальную переменную в фукции\n",
        "var = 5\n",
        "def new_f():\n",
        "    global var\n",
        "    print(var)\n",
        "    var = 3\n",
        "    print(var)\n",
        "new_f()"
      ],
      "execution_count": null,
      "outputs": [
        {
          "name": "stdout",
          "output_type": "stream",
          "text": [
            "5\n",
            "3\n"
          ]
        }
      ]
    },
    {
      "cell_type": "code",
      "metadata": {
        "id": "B0kG6UWZZ5gJ",
        "outputId": "4bff9712-a1a8-4222-e82a-46c324c8a960"
      },
      "source": [
        "def print_func(n):\n",
        "    print('Это квадрат числа {}'.format(n))\n",
        "\n",
        "def n_square(n):\n",
        "    print_func(n)\n",
        "    return n**2\n",
        "\n",
        "n_square(5)\n"
      ],
      "execution_count": null,
      "outputs": [
        {
          "name": "stdout",
          "output_type": "stream",
          "text": [
            "Это квадрат числа 5\n"
          ]
        },
        {
          "data": {
            "text/plain": [
              "25"
            ]
          },
          "execution_count": 87,
          "metadata": {},
          "output_type": "execute_result"
        }
      ]
    },
    {
      "cell_type": "code",
      "metadata": {
        "id": "4MAvzjuVZ5gK",
        "outputId": "5d176cfc-1f38-4b73-ff72-0c0bba781a8a"
      },
      "source": [
        "# в функции можно вызывать другую функцию, а также передавать другую функцию в качестве аргумента\n",
        "n_square(my_sum(3,6))"
      ],
      "execution_count": null,
      "outputs": [
        {
          "name": "stdout",
          "output_type": "stream",
          "text": [
            "Это квадрат числа 9\n"
          ]
        },
        {
          "data": {
            "text/plain": [
              "81"
            ]
          },
          "execution_count": 88,
          "metadata": {},
          "output_type": "execute_result"
        }
      ]
    },
    {
      "cell_type": "code",
      "metadata": {
        "id": "aMwCAIEYZ5gL",
        "outputId": "d840b929-a4fc-4111-f856-eb16f65b0b09"
      },
      "source": [
        "# Рекурсия - вызов функции внутри себя самой\n",
        "def factorial(n):\n",
        "    ''' Функция считает и возвращает факториал числа n\n",
        "        5! = 5*4*3*2*1\n",
        "    '''\n",
        "    print('current n = %d' % n)\n",
        "    if n <= 0: \n",
        "        return 1\n",
        "    return n * factorial(n - 1)\n",
        "\n",
        "factorial(5)   \n"
      ],
      "execution_count": null,
      "outputs": [
        {
          "name": "stdout",
          "output_type": "stream",
          "text": [
            "current n = 5\n",
            "current n = 4\n",
            "current n = 3\n",
            "current n = 2\n",
            "current n = 1\n",
            "current n = 0\n"
          ]
        },
        {
          "data": {
            "text/plain": [
              "120"
            ]
          },
          "execution_count": 93,
          "metadata": {},
          "output_type": "execute_result"
        }
      ]
    },
    {
      "cell_type": "markdown",
      "metadata": {
        "id": "hRGO6iNYZ5gM"
      },
      "source": [
        "### Задачки"
      ]
    },
    {
      "cell_type": "code",
      "metadata": {
        "id": "2EYntDPAZ5gN"
      },
      "source": [
        "\"\"\"\n",
        "1. Написать функцию, которая принимает на вход строку, считает частоту встречаемости каждого символа в ней,\n",
        "    записывает частоту в словарь и возвращает его. В этом словаре ключ - символ, \n",
        "    а значение ключа - количество встречаемости символа в строке.\n",
        "    Например: строка 'abaabcdcccd' --> словарь {'a':3, 'b':2, 'c':4, 'd':2}\n",
        "    \n",
        "\"\"\""
      ],
      "execution_count": null,
      "outputs": []
    },
    {
      "cell_type": "code",
      "metadata": {
        "id": "NDi_q2H4Z5gO"
      },
      "source": [
        "\"\"\"\n",
        "2. Написать функцию, которая осуществляет сжатие /восстановление строки. \n",
        "   Например, когда функция принимает на вход строку 'abbaabccccdd', она должна сжать ее \n",
        "   и вернуть сжатую строку '1a2b2a1b4c2d'\n",
        "   И наоборот, когда функция принимает на вход сжатую строку '1a2b2a1b4c2d', она должна\n",
        "   вернуть восстановленную исходную строку 'abbaabccccdd'\n",
        "   \n",
        "   Есть два варианта реализации того, как одна функция может выполнять разные операции (сжатие и \n",
        "   восстановление):\n",
        "   Первый варинат - добавить в функцию параметр, который будет определять режим функции. \n",
        "       Например, вводим параметр work_type. Если work_type = True, выполнять сжатие, если \n",
        "       work_type = False, то восстановление. \n",
        "   Второй вариант - функция должна сама анализировать, что ей пришло на вход и решать, какую из операций \n",
        "   выполнять - сжатие или восстановление.\n",
        "   \n",
        "   Выбрать и реализовать один из вариантов.\n",
        "\"\"\""
      ],
      "execution_count": null,
      "outputs": []
    }
  ]
}