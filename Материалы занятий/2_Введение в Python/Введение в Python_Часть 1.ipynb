{
 "cells": [
  {
   "cell_type": "markdown",
   "metadata": {
    "id": "YRhyNok9tCvH"
   },
   "source": [
    "# <center>Введение в Python. Часть 1\n",
    "        "
   ]
  },
  {
   "cell_type": "code",
   "execution_count": null,
   "metadata": {
    "colab": {
     "base_uri": "https://localhost:8080/"
    },
    "id": "QSkVkCqhtXEu",
    "outputId": "2c9e83eb-867b-4f2a-b1a1-91a167a06caa"
   },
   "outputs": [
    {
     "name": "stdout",
     "output_type": "stream",
     "text": [
      "Drive already mounted at /content/drive; to attempt to forcibly remount, call drive.mount(\"/content/drive\", force_remount=True).\n"
     ]
    }
   ],
   "source": [
    "#Подключение гугл-диска для колаба\n",
    "from google.colab import drive\n",
    "drive.mount('/content/drive')\n",
    "#Путь к данным    'drive/My Drive/...'"
   ]
  },
  {
   "cell_type": "markdown",
   "metadata": {
    "id": "PTILG7tutCv5"
   },
   "source": [
    "### Переменные. Простые типы данных и работа с ними"
   ]
  },
  {
   "cell_type": "code",
   "execution_count": null,
   "metadata": {
    "id": "cPaS_LKvtCv8",
    "outputId": "e61a43ae-cc2a-4649-8893-b98d8117cfa0"
   },
   "outputs": [
    {
     "name": "stdout",
     "output_type": "stream",
     "text": [
      "Requirement already satisfied: pandas in c:\\users\\malika\\anaconda3\\lib\\site-packages (1.1.3)\n",
      "Requirement already satisfied: numpy>=1.15.4 in c:\\users\\malika\\anaconda3\\lib\\site-packages (from pandas) (1.19.2)\n",
      "Requirement already satisfied: python-dateutil>=2.7.3 in c:\\users\\malika\\anaconda3\\lib\\site-packages (from pandas) (2.8.1)\n",
      "Requirement already satisfied: pytz>=2017.2 in c:\\users\\malika\\anaconda3\\lib\\site-packages (from pandas) (2020.1)\n",
      "Requirement already satisfied: six>=1.5 in c:\\users\\malika\\anaconda3\\lib\\site-packages (from python-dateutil>=2.7.3->pandas) (1.15.0)\n"
     ]
    }
   ],
   "source": [
    "!pip install pandas"
   ]
  },
  {
   "cell_type": "code",
   "execution_count": null,
   "metadata": {
    "colab": {
     "base_uri": "https://localhost:8080/"
    },
    "id": "cyOnVKdztCwF",
    "outputId": "c45f8dd6-6348-43dd-b285-174fdfa9560a"
   },
   "outputs": [
    {
     "data": {
      "text/plain": [
       "str"
      ]
     },
     "execution_count": 3,
     "metadata": {},
     "output_type": "execute_result"
    }
   ],
   "source": [
    "# Числа\n",
    "a = 5            # int\n",
    "b = 4.2           # float\n",
    "\n",
    "# Логический тип \n",
    "c = True\n",
    "c = False\n",
    "\n",
    "# Строка\n",
    "word = \"s\"\n",
    "# Word = 'a'\n",
    "type(word)"
   ]
  },
  {
   "cell_type": "code",
   "execution_count": null,
   "metadata": {
    "colab": {
     "base_uri": "https://localhost:8080/"
    },
    "id": "k-k8Hv__BEKE",
    "outputId": "21647719-504f-4eac-8395-680bf4fb5d40"
   },
   "outputs": [
    {
     "name": "stdout",
     "output_type": "stream",
     "text": [
      "4.2\n"
     ]
    },
    {
     "data": {
      "text/plain": [
       "5"
      ]
     },
     "execution_count": 8,
     "metadata": {},
     "output_type": "execute_result"
    }
   ],
   "source": [
    "print(b)\n",
    "a"
   ]
  },
  {
   "cell_type": "markdown",
   "metadata": {
    "id": "uYH43YZStCwH"
   },
   "source": [
    "Переменная не может начинаться с цифры или содержать в себе посторонние символы - + ! , кроме _"
   ]
  },
  {
   "cell_type": "code",
   "execution_count": null,
   "metadata": {
    "colab": {
     "base_uri": "https://localhost:8080/",
     "height": 132
    },
    "id": "gDIdYfBjtCwI",
    "outputId": "993ba907-d18c-420d-d8dd-219d256a35c5"
   },
   "outputs": [
    {
     "ename": "SyntaxError",
     "evalue": "ignored",
     "output_type": "error",
     "traceback": [
      "\u001b[0;36m  File \u001b[0;32m\"<ipython-input-10-23728fa18075>\"\u001b[0;36m, line \u001b[0;32m3\u001b[0m\n\u001b[0;31m    5а = 10\u001b[0m\n\u001b[0m     ^\u001b[0m\n\u001b[0;31mSyntaxError\u001b[0m\u001b[0;31m:\u001b[0m invalid syntax\n"
     ]
    }
   ],
   "source": [
    "# Нельзя\n",
    "#RatsOf@ = 5\n",
    "5а = 10\n",
    "# Можно\n",
    "var = 5\n",
    "VaR = 5\n",
    "next_var = 5"
   ]
  },
  {
   "cell_type": "code",
   "execution_count": null,
   "metadata": {
    "id": "6SI1xGw0tCwK"
   },
   "outputs": [],
   "source": [
    "# Однострочный комментарий\n",
    "\"\"\" Многострочный\n",
    "    комментарий\n",
    "\"\"\"\n",
    "\n",
    "'''comment\n",
    "'''"
   ]
  },
  {
   "cell_type": "code",
   "execution_count": null,
   "metadata": {
    "id": "1043OboUtCwM",
    "outputId": "acfb15e3-5ff5-4c65-b53e-3a77c78428d3"
   },
   "outputs": [
    {
     "data": {
      "text/plain": [
       "str"
      ]
     },
     "execution_count": 12,
     "metadata": {},
     "output_type": "execute_result"
    }
   ],
   "source": [
    "# Определение типа данных\n",
    "type(word)"
   ]
  },
  {
   "cell_type": "code",
   "execution_count": null,
   "metadata": {
    "colab": {
     "base_uri": "https://localhost:8080/"
    },
    "id": "If9NaNwwtCwN",
    "outputId": "1305103f-1d5d-4dc9-9577-54f21c9889c0"
   },
   "outputs": [
    {
     "data": {
      "text/plain": [
       "int"
      ]
     },
     "execution_count": 12,
     "metadata": {},
     "output_type": "execute_result"
    }
   ],
   "source": [
    "x = 5\n",
    "type(x)"
   ]
  },
  {
   "cell_type": "code",
   "execution_count": null,
   "metadata": {
    "colab": {
     "base_uri": "https://localhost:8080/",
     "height": 202
    },
    "id": "b2RTgeB7tCwQ",
    "outputId": "e7b6fc5f-13f5-4532-de61-c2e84f0e61e5"
   },
   "outputs": [
    {
     "ename": "ValueError",
     "evalue": "ignored",
     "output_type": "error",
     "traceback": [
      "\u001b[0;31m---------------------------------------------------------------------------\u001b[0m",
      "\u001b[0;31mValueError\u001b[0m                                Traceback (most recent call last)",
      "\u001b[0;32m<ipython-input-17-18dfd5e96ef3>\u001b[0m in \u001b[0;36m<module>\u001b[0;34m()\u001b[0m\n\u001b[1;32m      3\u001b[0m \u001b[0mstr_x\u001b[0m\u001b[0;34m\u001b[0m\u001b[0;34m\u001b[0m\u001b[0m\n\u001b[1;32m      4\u001b[0m \u001b[0ms\u001b[0m \u001b[0;34m=\u001b[0m \u001b[0;34m'6,3'\u001b[0m\u001b[0;34m\u001b[0m\u001b[0;34m\u001b[0m\u001b[0m\n\u001b[0;32m----> 5\u001b[0;31m \u001b[0mfloat\u001b[0m\u001b[0;34m(\u001b[0m\u001b[0ms\u001b[0m\u001b[0;34m)\u001b[0m\u001b[0;34m\u001b[0m\u001b[0;34m\u001b[0m\u001b[0m\n\u001b[0m",
      "\u001b[0;31mValueError\u001b[0m: could not convert string to float: '6,3'"
     ]
    }
   ],
   "source": [
    "# Переопределение типов\n",
    "str_x = str(x) \n",
    "str_x\n",
    "s = '6,3'\n",
    "float(s)\n"
   ]
  },
  {
   "cell_type": "code",
   "execution_count": null,
   "metadata": {
    "id": "kTRP40B7tCwS",
    "outputId": "04b45155-7d5f-485b-f4e8-1406f1e105ba"
   },
   "outputs": [
    {
     "data": {
      "text/plain": [
       "5"
      ]
     },
     "execution_count": 18,
     "metadata": {},
     "output_type": "execute_result"
    }
   ],
   "source": [
    "# Поменять переменные местами\n",
    "x = 5\n",
    "y = 2\n",
    "x, y = y, x\n",
    "y"
   ]
  },
  {
   "cell_type": "code",
   "execution_count": null,
   "metadata": {
    "id": "bILa11_atCwT",
    "outputId": "6385b6e3-bc47-4f5d-d093-91a9e522d58c"
   },
   "outputs": [
    {
     "name": "stdout",
     "output_type": "stream",
     "text": [
      "7\n",
      "3\n",
      "2.5\n",
      "10\n",
      "2\n",
      "1\n",
      "25\n"
     ]
    }
   ],
   "source": [
    "# Основные операции с числами \n",
    "x = 5\n",
    "y = 2\n",
    "print(x + y)\n",
    "print(x - y)\n",
    "print(x / y)\n",
    "print(x * y)  \n",
    "print(x // y) # целочисленное деление \n",
    "print(x % y) # остаток от деления\n",
    "print(x ** y) # возведение в степень\n"
   ]
  },
  {
   "cell_type": "code",
   "execution_count": null,
   "metadata": {
    "id": "IcZ5ioqKtCwV",
    "outputId": "d49f658b-2423-4fbd-da2b-006440f4a5b8"
   },
   "outputs": [
    {
     "data": {
      "text/plain": [
       "10"
      ]
     },
     "execution_count": 21,
     "metadata": {},
     "output_type": "execute_result"
    }
   ],
   "source": [
    "x + y\n",
    "x * y"
   ]
  },
  {
   "cell_type": "code",
   "execution_count": null,
   "metadata": {
    "id": "Bv2lbmfptCwZ"
   },
   "outputs": [],
   "source": [
    "\"\"\"\n",
    "Приоритеты операций:\n",
    "1. **\n",
    "2. * / // %\n",
    "3. + - \n",
    "\"\"\""
   ]
  },
  {
   "cell_type": "code",
   "execution_count": null,
   "metadata": {
    "colab": {
     "base_uri": "https://localhost:8080/"
    },
    "id": "vhxffufYtCwb",
    "outputId": "052211c1-d00d-4199-ba51-0e4243aa3121"
   },
   "outputs": [
    {
     "data": {
      "text/plain": [
       "2"
      ]
     },
     "execution_count": 19,
     "metadata": {},
     "output_type": "execute_result"
    }
   ],
   "source": [
    "# Операции сравнния\n",
    "x = 5\n",
    "y = 2\n",
    "\n",
    "x >= y\n",
    "x <= y\n",
    "x != y # неравенство\n",
    "x == y\n",
    "x = y\n",
    "x"
   ]
  },
  {
   "cell_type": "markdown",
   "metadata": {
    "id": "Y33ptWfbtCwd"
   },
   "source": [
    "### Вывод на печать print()"
   ]
  },
  {
   "cell_type": "code",
   "execution_count": null,
   "metadata": {
    "id": "GwuMrse4tCwe",
    "outputId": "d8bc43e1-2e56-4f2f-e0d4-469ae5d33bc7",
    "scrolled": true
   },
   "outputs": [
    {
     "name": "stdout",
     "output_type": "stream",
     "text": [
      "5\n",
      "5 2\n",
      "5;2\n",
      "6,3 Mark\n",
      "Hi\n"
     ]
    }
   ],
   "source": [
    "print(x)\n",
    "print(x, y)\n",
    "print(x, y, sep=';')\n",
    "print(s, 'Mark')\n",
    "print(\"Hi\")"
   ]
  },
  {
   "cell_type": "code",
   "execution_count": 3,
   "metadata": {
    "colab": {
     "base_uri": "https://localhost:8080/"
    },
    "id": "aUBY5-owtCwf",
    "outputId": "5a120813-5294-45b8-c824-1bd8ee19ebed",
    "scrolled": true
   },
   "outputs": [
    {
     "name": "stdout",
     "output_type": "stream",
     "text": [
      "Одинарные кавычки\n",
      "Двойные кавычки\n",
      "Двойны \"g\" кавычки внутри\n",
      "Одинарные 'g' кавычки внутри\n",
      "Экранирование ' кавычек\n"
     ]
    }
   ],
   "source": [
    "# Одинарные и двойные кавычки\n",
    "print('Одинарные кавычки')\n",
    "print(\"Двойные кавычки\")\n",
    "print('Двойны \"g\" кавычки внутри')\n",
    "print(\"Одинарные 'g' кавычки внутри\")\n",
    "# Экранирование кавычек\n",
    "print(\"Экранирование \\' кавычек\")"
   ]
  },
  {
   "cell_type": "code",
   "execution_count": null,
   "metadata": {
    "id": "HoZvRIQptCwh",
    "outputId": "d071c632-e977-42de-a251-f4711d0fead5"
   },
   "outputs": [
    {
     "name": "stdout",
     "output_type": "stream",
     "text": [
      "Студент получил 5 баллов\n"
     ]
    }
   ],
   "source": [
    "# Форматирование строки\n",
    "score = 5\n",
    "s = \"Студент получил %d баллов\"\n",
    "print(s % score)"
   ]
  },
  {
   "cell_type": "code",
   "execution_count": null,
   "metadata": {
    "id": "nNBTWwcytCwi",
    "outputId": "01d9d8e9-bb65-485c-cf6e-bb7c19b27a34"
   },
   "outputs": [
    {
     "name": "stdout",
     "output_type": "stream",
     "text": [
      "Студент Миша получил 5 баллов\n"
     ]
    }
   ],
   "source": [
    "s = \"Студент {n} получил {s} баллов\"\n",
    "score = 5\n",
    "name = \"Миша\"\n",
    "print(s.format(n = name, s = score))"
   ]
  },
  {
   "cell_type": "markdown",
   "metadata": {
    "id": "BIv1aCZhtCwk"
   },
   "source": [
    "### Строки str"
   ]
  },
  {
   "cell_type": "code",
   "execution_count": null,
   "metadata": {
    "id": "VX5hmXedtCwl"
   },
   "outputs": [],
   "source": [
    "s = \"abcdefj 12345\""
   ]
  },
  {
   "cell_type": "code",
   "execution_count": null,
   "metadata": {
    "colab": {
     "base_uri": "https://localhost:8080/"
    },
    "id": "xGFDUI8stCwm",
    "outputId": "3cae17b6-ebbc-499e-df49-951d61f0c84b"
   },
   "outputs": [
    {
     "data": {
      "text/plain": [
       "15"
      ]
     },
     "execution_count": 49,
     "metadata": {},
     "output_type": "execute_result"
    }
   ],
   "source": [
    "# Длинна строки\n",
    "len(s)"
   ]
  },
  {
   "cell_type": "code",
   "execution_count": null,
   "metadata": {
    "colab": {
     "base_uri": "https://localhost:8080/",
     "height": 35
    },
    "id": "y2kjBr7UtCwn",
    "outputId": "a35b4c63-2fd2-4bc8-f044-c550e128802d"
   },
   "outputs": [
    {
     "data": {
      "application/vnd.google.colaboratory.intrinsic+json": {
       "type": "string"
      },
      "text/plain": [
       "'1'"
      ]
     },
     "execution_count": 23,
     "metadata": {},
     "output_type": "execute_result"
    }
   ],
   "source": [
    "# Обращение по индексам, индексация начинается с 0\n",
    "s[10]\n",
    "s[-5]"
   ]
  },
  {
   "cell_type": "code",
   "execution_count": null,
   "metadata": {
    "colab": {
     "base_uri": "https://localhost:8080/",
     "height": 35
    },
    "id": "andFztC6tCwo",
    "outputId": "bedbe309-98f7-462e-e8eb-42461cdafec1"
   },
   "outputs": [
    {
     "data": {
      "application/vnd.google.colaboratory.intrinsic+json": {
       "type": "string"
      },
      "text/plain": [
       "'abcdefj 1234'"
      ]
     },
     "execution_count": 28,
     "metadata": {},
     "output_type": "execute_result"
    }
   ],
   "source": [
    "# Слайсинг\n",
    "s[2:7]\n",
    "s[:]\n",
    "s[:5]\n",
    "s[-3:]\n",
    " # все кроме последнего\n",
    "s[:-1]"
   ]
  },
  {
   "cell_type": "code",
   "execution_count": null,
   "metadata": {
    "colab": {
     "base_uri": "https://localhost:8080/",
     "height": 35
    },
    "id": "LI_4h8KLtCwp",
    "outputId": "fc2241b7-fd3b-4f15-d505-3e45615ea671"
   },
   "outputs": [
    {
     "data": {
      "application/vnd.google.colaboratory.intrinsic+json": {
       "type": "string"
      },
      "text/plain": [
       "'cej1'"
      ]
     },
     "execution_count": 29,
     "metadata": {},
     "output_type": "execute_result"
    }
   ],
   "source": [
    "# слайсинг с:по:шаг\n",
    "s[2:9:2]\n",
    "s[:5]"
   ]
  },
  {
   "cell_type": "code",
   "execution_count": null,
   "metadata": {
    "colab": {
     "base_uri": "https://localhost:8080/",
     "height": 185
    },
    "id": "dKiMimhjtCwr",
    "outputId": "2deb3091-2b18-4b44-cf80-a3909d7b45ff"
   },
   "outputs": [
    {
     "ename": "TypeError",
     "evalue": "ignored",
     "output_type": "error",
     "traceback": [
      "\u001b[0;31m---------------------------------------------------------------------------\u001b[0m",
      "\u001b[0;31mTypeError\u001b[0m                                 Traceback (most recent call last)",
      "\u001b[0;32m<ipython-input-30-4e0a50708023>\u001b[0m in \u001b[0;36m<module>\u001b[0;34m()\u001b[0m\n\u001b[1;32m      1\u001b[0m \u001b[0;31m# Попытка изменить элемент вызовет ошибку! Строка - неизменяемый тип\u001b[0m\u001b[0;34m\u001b[0m\u001b[0;34m\u001b[0m\u001b[0;34m\u001b[0m\u001b[0m\n\u001b[0;32m----> 2\u001b[0;31m \u001b[0ms\u001b[0m\u001b[0;34m[\u001b[0m\u001b[0;36m0\u001b[0m\u001b[0;34m]\u001b[0m \u001b[0;34m=\u001b[0m \u001b[0;34m'b'\u001b[0m\u001b[0;34m\u001b[0m\u001b[0;34m\u001b[0m\u001b[0m\n\u001b[0m",
      "\u001b[0;31mTypeError\u001b[0m: 'str' object does not support item assignment"
     ]
    }
   ],
   "source": [
    "# Попытка изменить элемент вызовет ошибку! Строка - неизменяемый тип\n",
    "s[0] = 'b'"
   ]
  },
  {
   "cell_type": "code",
   "execution_count": null,
   "metadata": {
    "id": "ZBxrFm1xtCwt"
   },
   "outputs": [],
   "source": [
    "help(str)"
   ]
  },
  {
   "cell_type": "code",
   "execution_count": null,
   "metadata": {
    "colab": {
     "base_uri": "https://localhost:8080/",
     "height": 35
    },
    "id": "3ndRjY83tCwu",
    "outputId": "ee2884e0-575b-4359-ef87-3e5735ad0423"
   },
   "outputs": [
    {
     "data": {
      "application/vnd.google.colaboratory.intrinsic+json": {
       "type": "string"
      },
      "text/plain": [
       "'MashaMashaMasha'"
      ]
     },
     "execution_count": 33,
     "metadata": {},
     "output_type": "execute_result"
    }
   ],
   "source": [
    "# Операции со строками\n",
    "s = \"My real name is\"\n",
    "name = \"Masha\"\n",
    "s + ' Ivanova ' + name\n",
    "name * 3"
   ]
  },
  {
   "cell_type": "code",
   "execution_count": null,
   "metadata": {
    "colab": {
     "base_uri": "https://localhost:8080/"
    },
    "id": "Dx0t41eqtCwv",
    "outputId": "476cc280-36ff-49bc-8a32-02df1f09f869"
   },
   "outputs": [
    {
     "data": {
      "text/plain": [
       "['My', 'real', 'name', 'is']"
      ]
     },
     "execution_count": 38,
     "metadata": {},
     "output_type": "execute_result"
    }
   ],
   "source": [
    "# Методы строк\n",
    "# поиск по строке слева\n",
    "s.find('y')\n",
    "# поиск по строке справа\n",
    "s.rfind('s')\n",
    "# замена символа\n",
    "s.replace('a','f')\n",
    "# Разбить строку по раздерителю\n",
    "s.split(\" \")\n"
   ]
  },
  {
   "cell_type": "markdown",
   "metadata": {
    "id": "6vwufKZ0tCww"
   },
   "source": [
    "### Условные операторы"
   ]
  },
  {
   "cell_type": "code",
   "execution_count": null,
   "metadata": {
    "colab": {
     "base_uri": "https://localhost:8080/"
    },
    "id": "lv4xXVVztCwx",
    "outputId": "4b40f14e-185d-4277-df3c-c2a4190215f9"
   },
   "outputs": [
    {
     "name": "stdout",
     "output_type": "stream",
     "text": [
      "X больше\n"
     ]
    }
   ],
   "source": [
    "x = 20\n",
    "y = 10\n",
    "\n",
    "if x > y:\n",
    "    print(\"X больше\")\n",
    "elif x < y:\n",
    "    print(\"Y больше\")\n",
    "# elif x == y:\n",
    "else:\n",
    "    print(\"Значения равны\")"
   ]
  },
  {
   "cell_type": "code",
   "execution_count": null,
   "metadata": {
    "id": "NJl6AEYCFMJY"
   },
   "outputs": [],
   "source": [
    "\n"
   ]
  },
  {
   "cell_type": "markdown",
   "metadata": {
    "id": "63aUtuoztCw9"
   },
   "source": [
    "В python важны отступы!!!"
   ]
  },
  {
   "cell_type": "code",
   "execution_count": null,
   "metadata": {
    "id": "lwnPG6gMtCw_",
    "outputId": "175ec295-4981-46d8-852d-e35107b5f2dc"
   },
   "outputs": [
    {
     "ename": "IndentationError",
     "evalue": "expected an indented block (<ipython-input-78-7e401f059ebb>, line 3)",
     "output_type": "error",
     "traceback": [
      "\u001b[1;36m  File \u001b[1;32m\"<ipython-input-78-7e401f059ebb>\"\u001b[1;36m, line \u001b[1;32m3\u001b[0m\n\u001b[1;33m    print('\"X больше')\u001b[0m\n\u001b[1;37m    ^\u001b[0m\n\u001b[1;31mIndentationError\u001b[0m\u001b[1;31m:\u001b[0m expected an indented block\n"
     ]
    }
   ],
   "source": [
    "# Отсутсвие отступов или неправильные отступы вызовут ошибку!\n",
    "if x > y:\n",
    "    print('X больше')"
   ]
  },
  {
   "cell_type": "code",
   "execution_count": null,
   "metadata": {
    "id": "w46IsTjytCxA",
    "outputId": "5fbba28e-b20c-4eac-8ef4-044215209bef"
   },
   "outputs": [
    {
     "name": "stdout",
     "output_type": "stream",
     "text": [
      "Хоть что-то больше 0\n"
     ]
    }
   ],
   "source": [
    "# операторы and и or\n",
    "a, b, c = 1, -5, 7\n",
    "\n",
    "if a and b > 0:\n",
    "    print(\"Обе больше 0\")\n",
    "elif a or b > 0:\n",
    "    print (\"Хоть что-то больше 0\")\n"
   ]
  },
  {
   "cell_type": "code",
   "execution_count": null,
   "metadata": {
    "colab": {
     "base_uri": "https://localhost:8080/"
    },
    "id": "cJILQDlatCxB",
    "outputId": "d5063209-ae90-43a7-ec77-464a8c91ff81"
   },
   "outputs": [
    {
     "data": {
      "text/plain": [
       "True"
      ]
     },
     "execution_count": 43,
     "metadata": {},
     "output_type": "execute_result"
    }
   ],
   "source": [
    "# оператор not\n",
    "a = True\n",
    "a\n",
    "not(a)\n",
    "not(0)"
   ]
  },
  {
   "cell_type": "markdown",
   "metadata": {
    "id": "cjzz5iOrtCxC"
   },
   "source": [
    "### Циклы"
   ]
  },
  {
   "cell_type": "code",
   "execution_count": null,
   "metadata": {
    "colab": {
     "base_uri": "https://localhost:8080/"
    },
    "id": "_CfqBzHrtCxC",
    "outputId": "51e8b104-7cc7-49b4-f4fa-3a2cc762162e",
    "scrolled": true
   },
   "outputs": [
    {
     "name": "stdout",
     "output_type": "stream",
     "text": [
      "0\n",
      "1\n",
      "2\n",
      "3\n",
      "4\n"
     ]
    }
   ],
   "source": [
    "# Цикл for - перебор всех значений\n",
    "j = 10\n",
    "\n",
    "#for i in range(1, 11, 5): #10, 4, -1\n",
    "#    print(i)\n",
    "    \n",
    "#for el in range(10, 4, -1):\n",
    " #      print(el)\n",
    "    \n",
    "    \n",
    "for i in range(5):\n",
    "    print(i)"
   ]
  },
  {
   "cell_type": "code",
   "execution_count": null,
   "metadata": {
    "id": "3m6x_1YMtCxD",
    "outputId": "65d3035c-e2b8-4a9c-b495-2ec47fe607bb"
   },
   "outputs": [
    {
     "name": "stdout",
     "output_type": "stream",
     "text": [
      "H\n",
      "e\n",
      "l\n",
      "l\n",
      "o\n",
      ",\n",
      " \n",
      "w\n",
      "o\n",
      "r\n",
      "l\n",
      "d\n",
      "!\n"
     ]
    }
   ],
   "source": [
    "# цикл по элементам строки \n",
    "# 1 способ\n",
    "phrase = \"Hello, world!\"\n",
    "for char in phrase:\n",
    "    print(char)"
   ]
  },
  {
   "cell_type": "code",
   "execution_count": null,
   "metadata": {
    "id": "nd8iRNjDtCxE",
    "outputId": "a854827c-139b-4ba8-ddb6-da0bdb7bed1e"
   },
   "outputs": [
    {
     "data": {
      "text/plain": [
       "13"
      ]
     },
     "execution_count": 97,
     "metadata": {},
     "output_type": "execute_result"
    }
   ],
   "source": [
    "len(phrase)"
   ]
  },
  {
   "cell_type": "code",
   "execution_count": null,
   "metadata": {
    "id": "8UsryD1vtCxF",
    "outputId": "9fc611ab-7a64-433f-8572-dc58a72826d9"
   },
   "outputs": [
    {
     "name": "stdout",
     "output_type": "stream",
     "text": [
      "H\n",
      "e\n",
      "l\n",
      "l\n",
      "o\n",
      ",\n",
      " \n",
      "w\n",
      "o\n",
      "r\n",
      "l\n",
      "d\n",
      "!\n"
     ]
    }
   ],
   "source": [
    "# цикл по элементам строки \n",
    "# 2 способ\n",
    "phrase = \"Hello, world!\"\n",
    "for i in range(len(phrase)):\n",
    "    print(phrase[i])\n",
    "    "
   ]
  },
  {
   "cell_type": "code",
   "execution_count": null,
   "metadata": {
    "id": "1sUDrPRHtCxH",
    "outputId": "e7800c96-68db-48a9-cec3-992b6d2b1738"
   },
   "outputs": [
    {
     "name": "stdout",
     "output_type": "stream",
     "text": [
      "5\n",
      "4\n",
      "3\n",
      "2\n",
      "1\n"
     ]
    }
   ],
   "source": [
    "# цикл while - остановка по условию\n",
    "counter = 5\n",
    "while counter > 0:\n",
    "    print(counter)\n",
    "    counter = counter-1"
   ]
  },
  {
   "cell_type": "markdown",
   "metadata": {
    "id": "mWuFuqBmtCxI"
   },
   "source": [
    "### Списки list "
   ]
  },
  {
   "cell_type": "code",
   "execution_count": null,
   "metadata": {
    "colab": {
     "base_uri": "https://localhost:8080/"
    },
    "id": "Q8uvL33utCxJ",
    "outputId": "bbb22510-6d74-48fe-a31e-b8cd247070b7"
   },
   "outputs": [
    {
     "data": {
      "text/plain": [
       "list"
      ]
     },
     "execution_count": 51,
     "metadata": {},
     "output_type": "execute_result"
    }
   ],
   "source": [
    "# создание напрямую\n",
    "l = [1,2,3,4,5]\n",
    "l = []\n",
    "# создание с помощью функции list()\n",
    "l = list()\n",
    "type(l)\n"
   ]
  },
  {
   "cell_type": "code",
   "execution_count": null,
   "metadata": {
    "id": "Srve67dPtCxK",
    "outputId": "2229c315-5fb6-4d8c-8b66-535c77ec07a9"
   },
   "outputs": [
    {
     "data": {
      "text/plain": [
       "[1, 2, 3, 4, 5, 6, 1, 1, 1, 2, 1, 2]"
      ]
     },
     "execution_count": 104,
     "metadata": {},
     "output_type": "execute_result"
    }
   ],
   "source": [
    "# могут быть элементы разных типов\n",
    "l = [1, 2, 3.4, True, False, 'ssdf', [1,2,3]]\n",
    "l = [1,2,3,4,5,6,1,1,1,2,1,2]\n",
    "l"
   ]
  },
  {
   "cell_type": "code",
   "execution_count": null,
   "metadata": {
    "id": "nelVggEKtCxL",
    "outputId": "e3dbcb4c-90e8-4ac8-c1a7-5685dfa2fd9f"
   },
   "outputs": [
    {
     "data": {
      "text/plain": [
       "[3, 4, 5]"
      ]
     },
     "execution_count": 106,
     "metadata": {},
     "output_type": "execute_result"
    }
   ],
   "source": [
    "# обращение по индексу\n",
    "l[-1]\n",
    "#слайсинг\n",
    "l[2:5]"
   ]
  },
  {
   "cell_type": "code",
   "execution_count": null,
   "metadata": {
    "id": "kmB9NA6ytCxN",
    "outputId": "18ca0a8e-9642-4e5a-dad6-7d57b9ceac8f"
   },
   "outputs": [
    {
     "data": {
      "text/plain": [
       "[5, 2, 3, 4, 5, 6, 1, 1, 1, 2, 1, 2]"
      ]
     },
     "execution_count": 107,
     "metadata": {},
     "output_type": "execute_result"
    }
   ],
   "source": [
    "l[0] = 5\n",
    "l"
   ]
  },
  {
   "cell_type": "code",
   "execution_count": null,
   "metadata": {
    "colab": {
     "base_uri": "https://localhost:8080/"
    },
    "id": "T0YAW7setCxO",
    "outputId": "2ebd5f47-c491-4962-9036-781cbb5a2656"
   },
   "outputs": [
    {
     "data": {
      "text/plain": [
       "True"
      ]
     },
     "execution_count": 55,
     "metadata": {},
     "output_type": "execute_result"
    }
   ],
   "source": [
    "# Операции и методы списков\n",
    "l1 = [1,2,3]\n",
    "l2 = [4,5,6]\n",
    "\n",
    "# сложение\n",
    "l1+l2\n",
    "# умножение\n",
    "l2*3\n",
    "# проверка вхождения элемента в список\n",
    "a = 'a'\n",
    "a in l1\n",
    "a not in l1"
   ]
  },
  {
   "cell_type": "code",
   "execution_count": null,
   "metadata": {
    "colab": {
     "base_uri": "https://localhost:8080/"
    },
    "id": "-bRD3j90tCxP",
    "outputId": "26f5f5b9-6181-48d2-d5f4-b494fec26af4"
   },
   "outputs": [
    {
     "data": {
      "text/plain": [
       "True"
      ]
     },
     "execution_count": 56,
     "metadata": {},
     "output_type": "execute_result"
    }
   ],
   "source": [
    "s = 'absbd'\n",
    "'a' in s"
   ]
  },
  {
   "cell_type": "code",
   "execution_count": null,
   "metadata": {
    "colab": {
     "base_uri": "https://localhost:8080/"
    },
    "id": "Dy8FN6NCtCxQ",
    "outputId": "38192b9a-0490-48f0-9fee-ea01620236e4"
   },
   "outputs": [
    {
     "data": {
      "text/plain": [
       "3"
      ]
     },
     "execution_count": 58,
     "metadata": {},
     "output_type": "execute_result"
    }
   ],
   "source": [
    "# длина списка\n",
    "len(l1)"
   ]
  },
  {
   "cell_type": "code",
   "execution_count": null,
   "metadata": {
    "colab": {
     "base_uri": "https://localhost:8080/"
    },
    "id": "cgvoG5OstCxR",
    "outputId": "9e43319b-a1a9-42a6-b82e-a8671942cc6b"
   },
   "outputs": [
    {
     "data": {
      "text/plain": [
       "['a', 'aaa', 'ab', 'ac', 'bbb']"
      ]
     },
     "execution_count": 72,
     "metadata": {},
     "output_type": "execute_result"
    }
   ],
   "source": [
    "l = [1,2,3,4,5,6,1,1,1,2,1,2]\n",
    "# Методы списка\n",
    "# посчитать количество элементов с указанным значение\n",
    "l.count(1)\n",
    "# добавление элемента\n",
    "#l.append(\"f\")\n",
    "# разворачивание списка\n",
    "l.reverse()\n",
    "# сортировка \n",
    "l.sort()\n",
    "# сортировка нечислового списка\n",
    "l3 = ['a','ab','aa','aaa','bbb','ac']\n",
    "l3.sort()\n",
    "l3\n",
    "# удаление из списка по значению\n",
    "l3.remove('aa')\n",
    "# удаление из списка по индексу\n",
    "#l3.pop(0)\n",
    "l3\n",
    "#l"
   ]
  },
  {
   "cell_type": "code",
   "execution_count": null,
   "metadata": {
    "id": "4RALlBvLtCxS",
    "outputId": "db6d7623-aaf7-4620-85f8-275c6667f90b"
   },
   "outputs": [
    {
     "name": "stdout",
     "output_type": "stream",
     "text": [
      "a:  5\n",
      "a_clone:  5\n",
      "_________________________\n",
      "a измененная:  3\n",
      "a_clone:  5\n"
     ]
    }
   ],
   "source": [
    "# Особенности копирования\n",
    "a = 5\n",
    "a_clone = a\n",
    "print('a: ', a)\n",
    "print('a_clone: ', a_clone)\n",
    "\n",
    "a = 3\n",
    "print('_'*25)\n",
    "print('a измененная: ', a)\n",
    "print('a_clone: ', a_clone)"
   ]
  },
  {
   "cell_type": "code",
   "execution_count": null,
   "metadata": {
    "id": "r8BS7v_6tCxT",
    "outputId": "0fad140b-374f-42b2-bed8-abc13d406b26",
    "scrolled": true
   },
   "outputs": [
    {
     "name": "stdout",
     "output_type": "stream",
     "text": [
      "l:  [1, 2, 3]\n",
      "l_copy:  [1, 2, 3]\n",
      "_________________________\n",
      "меняем l :  [1, 2, 3, 'a']\n",
      "l_copy:  [1, 2, 3, 'a']\n"
     ]
    }
   ],
   "source": [
    "# при копировании обычным присваиванием копирование не происходит!\n",
    "l = [1,2,3]\n",
    "l_copy = l\n",
    "print('l: ', l)\n",
    "print('l_copy: ', l_copy)\n",
    "l.append('a')\n",
    "print('_'*25)\n",
    "print('меняем l : ', l)\n",
    "print('l_copy: ', l_copy)\n"
   ]
  },
  {
   "cell_type": "code",
   "execution_count": null,
   "metadata": {
    "colab": {
     "base_uri": "https://localhost:8080/"
    },
    "id": "jia71RwItCxV",
    "outputId": "59e23c35-3b62-4622-9b73-9a863ee492f6"
   },
   "outputs": [
    {
     "data": {
      "text/plain": [
       "[1, 1, 1, 1, 1, 2, 2, 2, 3, 4, 5, 6, 'new', 'new']"
      ]
     },
     "execution_count": 74,
     "metadata": {},
     "output_type": "execute_result"
    }
   ],
   "source": [
    "# правильное копирование списков\n",
    "l_copy2 = l.copy()\n",
    "l.append('new')\n",
    "l_copy2\n",
    "l"
   ]
  },
  {
   "cell_type": "code",
   "execution_count": null,
   "metadata": {
    "colab": {
     "base_uri": "https://localhost:8080/"
    },
    "id": "vlCqPIdBtCxW",
    "outputId": "73845975-6289-4117-8e83-1508980d55ab"
   },
   "outputs": [
    {
     "name": "stdout",
     "output_type": "stream",
     "text": [
      "1\n",
      "1\n",
      "1\n",
      "1\n",
      "1\n",
      "2\n",
      "2\n",
      "2\n",
      "3\n",
      "4\n",
      "5\n",
      "6\n",
      "new\n",
      "new\n"
     ]
    }
   ],
   "source": [
    "# цикл по спискам\n",
    "for el in l:\n",
    "    print(el)"
   ]
  },
  {
   "cell_type": "code",
   "execution_count": null,
   "metadata": {
    "colab": {
     "base_uri": "https://localhost:8080/"
    },
    "id": "YqMX1IZctCxW",
    "outputId": "52540773-b142-409d-987c-ffa298c5d3eb"
   },
   "outputs": [
    {
     "name": "stdout",
     "output_type": "stream",
     "text": [
      "1\n",
      "1\n",
      "1\n",
      "1\n",
      "1\n",
      "2\n",
      "2\n",
      "2\n",
      "3\n",
      "4\n",
      "5\n",
      "6\n",
      "new\n",
      "new\n"
     ]
    }
   ],
   "source": [
    "# цикл по спискам\n",
    "for i in range(len(l)):\n",
    "    print(l[i])"
   ]
  },
  {
   "cell_type": "code",
   "execution_count": null,
   "metadata": {
    "colab": {
     "base_uri": "https://localhost:8080/"
    },
    "id": "HNrspLq-tCxX",
    "outputId": "83c25955-aeb4-4b6b-c50a-38ab1ddc0f6c"
   },
   "outputs": [
    {
     "name": "stdout",
     "output_type": "stream",
     "text": [
      "11\n",
      "12\n",
      "21\n",
      "22\n",
      "23\n",
      "22\n"
     ]
    }
   ],
   "source": [
    "# многомерный список\n",
    "multi_list = [[11,12],[21,22],[23,22]]\n",
    "multi_list[1][0]\n",
    "\n",
    "# цикл по многомерному списку\n",
    "for sub_list in multi_list:\n",
    "    for el in sub_list:\n",
    "        print(el)"
   ]
  },
  {
   "cell_type": "code",
   "execution_count": null,
   "metadata": {
    "id": "BuhGt4Y0tCxZ",
    "outputId": "382f4feb-efea-4f51-a197-e05aa6cb4ada"
   },
   "outputs": [
    {
     "name": "stdout",
     "output_type": "stream",
     "text": [
      "[5, 7, 9]\n"
     ]
    },
    {
     "data": {
      "text/plain": [
       "[[0, 1, 4, 9, 16], [0, 1, 4, 9, 16], [0, 1, 4, 9, 16]]"
      ]
     },
     "execution_count": 135,
     "metadata": {},
     "output_type": "execute_result"
    }
   ],
   "source": [
    "# Генераторы списка\n",
    "l = [i for i in range(5,10,2)]\n",
    "print(l)\n",
    "\n",
    "ll = [[i**2 for i in range(5)] for j in range(3)]\n",
    "ll"
   ]
  },
  {
   "cell_type": "markdown",
   "metadata": {
    "id": "QgBQC1nBtCxa"
   },
   "source": [
    "### Задачки"
   ]
  },
  {
   "cell_type": "code",
   "execution_count": null,
   "metadata": {
    "id": "YuozHuIOtCxb"
   },
   "outputs": [],
   "source": [
    "'''\n",
    "1. Написать скрипт, который будет менять местами первый и последний элемент списка\n",
    "    Пример: ['a','b','c','d'] --> ['d','b','c','a']\n",
    "'''\n",
    "\n",
    "l = ['a','b','c','d','k'] \n"
   ]
  },
  {
   "cell_type": "code",
   "execution_count": null,
   "metadata": {
    "id": "nx1EN3E3tCxc"
   },
   "outputs": [],
   "source": [
    "'''\n",
    "2. Написать скрипт, который будет раскладывать многомерный список в одноменрый\n",
    "    Пример: [[1,2,3],[4,5,6],[7,8,9]] --> [1,2,3,4,5,6,7,8,9] \n",
    "'''\n",
    "l = [[1,2,3],[4,5,6],[7,8,9]]\n"
   ]
  },
  {
   "cell_type": "code",
   "execution_count": null,
   "metadata": {
    "id": "EQGVScZStCxe"
   },
   "outputs": [],
   "source": [
    "'''\n",
    "3. Написать скрипт, который считает количество гласных букв в строке\n",
    "    Пример: \"Happy New Year!\" ->  5\n",
    "'''\n",
    "s = 'Happy New Year!'\n",
    "tmp = 'aeiouyAEIOUY'"
   ]
  },
  {
   "cell_type": "code",
   "execution_count": null,
   "metadata": {
    "id": "LMQEyWOitCxf"
   },
   "outputs": [],
   "source": [
    "'''\n",
    "4. Написать скрипт, который преобразует список: ['a1', 'b2', 'c3', 'd4'] --> ['1a', '2b', '3c', '4d']\n",
    "'''\n",
    "l = ['a1', 'b2', 'c3', 'd4']"
   ]
  },
  {
   "cell_type": "code",
   "execution_count": null,
   "metadata": {
    "id": "nWd581MztCxf"
   },
   "outputs": [],
   "source": [
    "'''\n",
    "5. Написать скрипт, который находит последовательность гласных букв в строке\n",
    "    Пример: \"Happy New Year!\" ->  \"ayeYea\"\n",
    "'''\n",
    "s = 'Happy New Year!'\n",
    "tmp = 'aeiouyAEIOUY'\n"
   ]
  }
 ],
 "metadata": {
  "colab": {
   "collapsed_sections": [
    "6vwufKZ0tCww",
    "cjzz5iOrtCxC",
    "mWuFuqBmtCxI"
   ],
   "name": "Введение в Python_Часть 1.ipynb",
   "provenance": []
  },
  "kernelspec": {
   "display_name": "Python 3",
   "language": "python",
   "name": "python3"
  },
  "language_info": {
   "codemirror_mode": {
    "name": "ipython",
    "version": 3
   },
   "file_extension": ".py",
   "mimetype": "text/x-python",
   "name": "python",
   "nbconvert_exporter": "python",
   "pygments_lexer": "ipython3",
   "version": "3.8.5"
  }
 },
 "nbformat": 4,
 "nbformat_minor": 1
}
