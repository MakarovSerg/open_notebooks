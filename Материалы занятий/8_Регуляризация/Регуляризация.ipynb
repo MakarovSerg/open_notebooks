{
 "cells": [
  {
   "cell_type": "code",
   "execution_count": 1,
   "metadata": {},
   "outputs": [],
   "source": [
    "import pandas as pd\n",
    "import numpy as np\n",
    "import seaborn as sns\n",
    "import matplotlib.pyplot as plt\n",
    "from sklearn.model_selection import train_test_split\n",
    "from sklearn.linear_model import LinearRegression, Ridge, RidgeCV, Lasso, LassoCV, ElasticNet, ElasticNetCV\n",
    "from sklearn.metrics import r2_score, mean_absolute_error, mean_squared_error\n",
    "import mglearn\n",
    "from mglearn.datasets import load_extended_boston\n",
    "import warnings\n",
    "warnings.filterwarnings('ignore')"
   ]
  },
  {
   "cell_type": "markdown",
   "metadata": {},
   "source": [
    "### <center> Регуляризация в линейной регрессии"
   ]
  },
  {
   "cell_type": "markdown",
   "metadata": {},
   "source": [
    "\n",
    "**Регуляризация** - метод добавления дополнительных ограничений в модель, чтобы предотвратить переобучение. Чаще всего эта информация имеет вид ***штрафа за сложность*** модели.\n",
    "\n",
    "Однин из способов бороться с негативным эффектом излишнего подстраивания под данные — использование регуляризации, т. е. добавление некоторого штрафа за большие значения коэффициентов у линейной модели. Тем самым запрещаются слишком \"резкие\" изгибы, и предотвращается переобучение.\n",
    "\n",
    "<img src='https://github.com/MalikaL17/course_materials/blob/main/img/overfit.PNG?raw=true'>\n",
    "\n",
    "**Обычная линейная регрессия**\n",
    "\n",
    "В стандартной линейной регрессии модель тренируется минимизировать сумму квадратов ошибки между истинными значениями **у** и предсказываемыми $\\widehat{y}$, или остаточную сумму квадратов (residual sum of squares,**RSS**). То есть, мы стремимся подобрать коэффициенты модели таким образом, чтобы сумма квадратов ошибки была минимальна:\n",
    "$$RSS = \\sum_{i=1}^n(y_{i} - \\widehat{y_{i}})^{2}$$\n",
    "$$RSS \\rightarrow min$$\n",
    "\n",
    "### <center> Виды регуляризации:\n",
    "\n",
    "1. **L2-регуляризация** - стремится сделать коэффициенты модели как можно меньше, близкими их к нулю. При этом, коэфициенты **не зануляются**.\n",
    "\n",
    "Ее реализация в линейной регрессии **Гребневая регрессия (Ridge Regression)**. Помимо минимизации **RSS** также минимизирует общий размер коэффициентов, чтобы коэффициенты модели были как можно меньше. \n",
    "\n",
    "**Фактический смысл:** в результати применения L2-регуляризации каждый признак должен иметь как можно меньшее влияние на результат (то есть каждый признак должен иметь небольшой регрессионный коэффициент) и в то же время он должен по-прежнему обладать хорошей прогнозной силой.\n",
    "\n",
    "Для этого мы минимизируем не только **RSS**, но и некий **штраф** за общий размер значений коэффициентов, называемый сжимающим штрафом, потому что он пытается \"сжать\" модель. \n",
    "\n",
    "В гребневой регрессии сжимающий штраф — это настроечный гиперпараметр, умноженный на ***квадрат суммы всех коэффициентов***:\n",
    "$$RSS + \\alpha\\sum_{j=1}^p\\beta_j^2 \\rightarrow min $$\n",
    "$\\beta_j$  - коэффициент  j-го  из  p  признака\n",
    "\n",
    "$\\alpha$ - гиперпараметр \n",
    "    \n",
    "- Увеличение $\\alpha$ заставляет коэффициенты сжиматься до близких к нулю значений, что снижает качество работы модели на обучающем наборе, но может улучшить ее обобщающую способность.\n",
    "- При очень малых значениях alpha, ограничение на коэффициенты практически не накладывается и мы в конечном итоге получаем модель, напоминающую линейную регрессию\n",
    "\n",
    "2. **L1-регуляризация** - также стремится сделать коэффициенты модели как можно меньше, близкими их к нулю, однако, в отличии от L2-регуляризации, некоторые коэфициенты  могут **становится равными нулю**. Это означает, что некоторые признаки могут ***полностью*** исключится из модели.\n",
    "\n",
    "Линйная регрессия с L1-регуляризацией называется **Лассо-регрессия (Lasso Regression)**. Лассо очень похожа на гребневую регрессию, за исключением того, что сжимающий штраф — это настроечный параметр, умножаемый на ***сумму абсолютных значений всех коэффициентов***:\n",
    "    \n",
    "$$\\frac{1}{2n}RSS + \\alpha\\sum_{j=1}^p|\\beta_j| \\rightarrow min $$\n",
    "где n - количество наблюдений\n",
    "\n",
    "**Фактический смысл:** этот вид регуляризации можно рассматривать как один из видов автоматического отбора признаков. Получение нулевых значений для некоторых коэффициентов часто упрощает интерпретацию модели и может выявить наиболее важные признаки вашей модели."
   ]
  },
  {
   "cell_type": "markdown",
   "metadata": {},
   "source": [
    "**Так какую же из них следует использовать?**\n",
    "\n",
    "- В качестве очень общего эмпирического правила нужно учитывать, что **гребневая perрессия** часто дает несколько лучшие предсказания, чем лассо, но **лассо** производит более интерпретируемые модели. \n",
    "- Если мы хотим сбалансировать штрафные функции между гребнем и лассо, мы можем использовать **ElasticNet**, представляющую собой регрессионную модель, в которую включены оба штрафа. Независимо от того, какой из них мы используем, гребневая регрессия и лассо-регрессия могут штрафовать большие или сложные модели, включая значения коэффициентов в функцию потери, которую мы пытаемся минимизировать.\n",
    "- Гиперпараметр $\\alpha$  позволяет нам контролировать то, насколько мы штрафуем коэффициенты, где более высокие значения а создают более простые модели. Идеальное значение а должно быть настроено, как и любой другой гиперпараметр. В библиотеке scikit-leam а устанавливается с помощью параметра alpha.\n",
    "\n",
    "- Библиотека scikit-leam включает класс Ridgecv, реализующий метод, который позволяет отбирать идеальное значение для $\\alpha$ "
   ]
  },
  {
   "cell_type": "markdown",
   "metadata": {},
   "source": [
    "### Что такое гиперпараметры модели?\n",
    "\n",
    "**Гиперпараметры** - параметры алгоритмов, которые используются для ***управления процессом обучения**. Их значения устанавливаются **перед** началом обучения модели. \n",
    "\n",
    "**Важно!:** Это не то же самое, что обычные параметры модели (!). Обычные параметры модели вычисляются **в процессе обучения**. \n",
    "\n",
    "Если рассматривать Гребневую регрессию, то $\\alpha$  - это **гиперпараметр**, который мы устанавливаем перед обучением. Пример обычных **параметров** в линейной регрессии - это коффициенты $\\beta_j$ перед факторами, именно их мы и получаем в результате обучения "
   ]
  },
  {
   "cell_type": "markdown",
   "metadata": {},
   "source": []
  },
  {
   "cell_type": "markdown",
   "metadata": {},
   "source": [
    "### 1. Ridge Regression\n",
    "\n",
    "Рассмотрим на примере прогнозирования цен на бостонских домах. Но для иллюстрации будем использовать не классический датасет, а расширенный. "
   ]
  },
  {
   "cell_type": "code",
   "execution_count": 4,
   "metadata": {},
   "outputs": [
    {
     "name": "stdout",
     "output_type": "stream",
     "text": [
      "R-квадрат на обучающем наборе: 0.95\n",
      "R-квадрат на тестовом наборе: 0.61\n"
     ]
    }
   ],
   "source": [
    "X, y = mglearn.datasets.load_extended_boston()\n",
    "X_train, X_test, y_train, y_test = train_test_split(X, y, random_state=0)\n",
    "lr = LinearRegression().fit(X_train, y_train)\n",
    "\n",
    "print(\"R-квадрат на обучающем наборе: {:.2f}\".format(lr.score(X_train, y_train)))\n",
    "print(\"R-квадрат на тестовом наборе: {:.2f}\".format(lr.score(X_test, y_test)))"
   ]
  },
  {
   "cell_type": "markdown",
   "metadata": {},
   "source": [
    "Видим, что значения коэффициентов довольно большие"
   ]
  },
  {
   "cell_type": "code",
   "execution_count": 101,
   "metadata": {},
   "outputs": [
    {
     "data": {
      "text/plain": [
       "array([-412.7109467 ,  -52.24320682, -131.89881469,  -12.00413648,\n",
       "        -15.51071293,   28.71633421,   54.70409916,  -49.53466595,\n",
       "         26.58239271,   37.0620316 ])"
      ]
     },
     "execution_count": 101,
     "metadata": {},
     "output_type": "execute_result"
    }
   ],
   "source": [
    "lr.coef_[:10]"
   ]
  },
  {
   "cell_type": "markdown",
   "metadata": {},
   "source": [
    "Здесь мы видим, что на обучающем наборе модель Ridge дает меньшее значение R2, чем модель LinearRegression, тогда как значение R2 на тестовом наборе в случае применения гребневой регрессии выше. Это согласуется с нашими ожиданиями. При использовании линейной регрессии мы получили переобучение. Ridge – модель с более строгим ограничением, поэтому меньше вероятность переобучения. Менее сложная модель дает меньшее значение R2 на обучающем наборе, но лучшую обобщающую способность."
   ]
  },
  {
   "cell_type": "code",
   "execution_count": 197,
   "metadata": {},
   "outputs": [
    {
     "name": "stdout",
     "output_type": "stream",
     "text": [
      "R-квадрат на обучающем наборе: 0.89\n",
      "R-квадрат на тестовом наборе: 0.75\n"
     ]
    }
   ],
   "source": [
    "ridge = Ridge().fit(X_train, y_train)\n",
    "print(\"R-квадрат на обучающем наборе: {:.2f}\".format(ridge.score(X_train, y_train)))\n",
    "print(\"R-квадрат на тестовом наборе: {:.2f}\".format(ridge.score(X_test, y_test)))"
   ]
  },
  {
   "cell_type": "code",
   "execution_count": 102,
   "metadata": {},
   "outputs": [
    {
     "data": {
      "text/plain": [
       "array([-1.41368408, -1.55661895, -1.46543409, -0.12661607, -0.07911936,\n",
       "        8.33161023,  0.25497506, -4.94145701,  3.89862268, -1.05866058])"
      ]
     },
     "execution_count": 102,
     "metadata": {},
     "output_type": "execute_result"
    }
   ],
   "source": [
    "ridge.coef_[:10]"
   ]
  },
  {
   "cell_type": "markdown",
   "metadata": {},
   "source": [
    "Попробуем изменить параметр **alpha**"
   ]
  },
  {
   "cell_type": "code",
   "execution_count": 172,
   "metadata": {},
   "outputs": [
    {
     "name": "stdout",
     "output_type": "stream",
     "text": [
      "R-квадрат на обучающем наборе: 0.93\n",
      "R-квадрат на тестовом наборе: 0.77\n"
     ]
    }
   ],
   "source": [
    "ridge = Ridge(alpha=0.1).fit(X_train, y_train)\n",
    "print(\"R-квадрат на обучающем наборе: {:.2f}\".format(ridge.score(X_train, y_train)))\n",
    "print(\"R-квадрат на тестовом наборе: {:.2f}\".format(ridge.score(X_test, y_test)))"
   ]
  },
  {
   "cell_type": "markdown",
   "metadata": {},
   "source": [
    "**RidgeCV** позволяет автоматически подобрать лучшие значения гиперпараметра **alpha**"
   ]
  },
  {
   "cell_type": "code",
   "execution_count": 200,
   "metadata": {},
   "outputs": [
    {
     "name": "stdout",
     "output_type": "stream",
     "text": [
      "alpha = 0.1, score = 0.928227368500198\n",
      "R-квадрат на тестовом наборе: 0.77\n"
     ]
    }
   ],
   "source": [
    "lasr_cv = RidgeCV(alphas=[0.1, 0.3, 0.5, 1.0, 5.0, 10.0, 15.0, 20.0])\n",
    "lasr_cv.fit(X_train, y_train)\n",
    "print(f\"alpha = {lasr_cv.alpha_}, score = {lasr_cv.score(X_train, y_train)}\")\n",
    "print(\"R-квадрат на тестовом наборе: {:.2f}\".format(lasr_cv.score(X_test, y_test)))"
   ]
  },
  {
   "cell_type": "code",
   "execution_count": null,
   "metadata": {},
   "outputs": [],
   "source": []
  },
  {
   "cell_type": "markdown",
   "metadata": {},
   "source": [
    "### Кривая обучения (Learning curve)"
   ]
  },
  {
   "cell_type": "markdown",
   "metadata": {},
   "source": [
    "**Кривая обучения** - график, показывающий как меняетя качество модели с увеличение объема выборки. Обычно на графике откладывают две кривые - изменение метрик на трейте и тесте при увеличении обучающей выборки\n",
    "\n",
    "<img src='https://github.com/MalikaL17/course_materials/blob/main/img/learning_curve_1.png?raw=true'>\n",
    "\n",
    "<img src='https://github.com/MalikaL17/course_materials/blob/main/img/learning_curve_2.png?raw=true' width=40%>\n"
   ]
  },
  {
   "cell_type": "markdown",
   "metadata": {},
   "source": [
    "Построим кривую обучения для линейной и ргербневой регрессии"
   ]
  },
  {
   "cell_type": "code",
   "execution_count": 205,
   "metadata": {},
   "outputs": [
    {
     "data": {
      "text/plain": [
       "array([[0.00000000e+00, 1.80000000e-01, 6.78152493e-02, ...,\n",
       "        1.00000000e+00, 8.96799117e-02, 8.04248656e-03],\n",
       "       [2.35922539e-04, 0.00000000e+00, 2.42302053e-01, ...,\n",
       "        1.00000000e+00, 2.04470199e-01, 4.18080621e-02],\n",
       "       [2.35697744e-04, 0.00000000e+00, 2.42302053e-01, ...,\n",
       "        9.79579831e-01, 6.28144504e-02, 4.02790570e-03],\n",
       "       ...,\n",
       "       [6.11892474e-04, 0.00000000e+00, 4.20454545e-01, ...,\n",
       "        1.00000000e+00, 1.07891832e-01, 1.16406475e-02],\n",
       "       [1.16072990e-03, 0.00000000e+00, 4.20454545e-01, ...,\n",
       "        9.82676920e-01, 1.29930407e-01, 1.71795127e-02],\n",
       "       [4.61841693e-04, 0.00000000e+00, 4.20454545e-01, ...,\n",
       "        1.00000000e+00, 1.69701987e-01, 2.87987643e-02]])"
      ]
     },
     "execution_count": 205,
     "metadata": {},
     "output_type": "execute_result"
    }
   ],
   "source": []
  },
  {
   "cell_type": "code",
   "execution_count": 5,
   "metadata": {
    "collapsed": true
   },
   "outputs": [
    {
     "ename": "ValueError",
     "evalue": "Expected 2D array, got 1D array instead:\narray=[17.0920011  16.68012794 32.28431441 15.30414674  7.90129708 12.95816217\n 19.38995855  8.35972032 34.400316   21.92921103 13.21410249 27.94943319\n  7.02511688  9.58862708 24.03409748 37.70445704 26.99371436 26.08239664\n 15.70274556 33.79320043 32.6481271  10.7276867   8.30254965 26.11467875\n 26.53400449 14.61850576 27.16907307 17.81340944 26.37050967 20.08746187\n 15.46842762 17.23317403 13.61999804  6.80817166 18.06538675 34.54512064\n 33.18228991 32.00207426 22.14832855 21.87994199 25.63098606 24.00574692\n 15.13321192 28.49108199 13.11862761 18.96947532 30.71921503 19.45382016\n 10.69592072 18.69814084 17.37456769 25.13476908 20.915002   16.4417526\n  9.43376044 19.84000767 22.30271323 18.28777217 26.75255846 24.38864561\n 26.50931214 45.90335797 15.16995481  8.14222426 32.74275145 31.11285242\n 17.30761325 46.70997366 22.29445074 25.33114145 18.38370071 24.02634059\n 44.17942352 24.52096667 14.74425503 38.20874842 34.75923581 16.78271948\n 27.29973149 24.88538757 25.34479055 23.077247   20.19817314 28.02534186\n 27.92875215 10.73752464 20.28830364 18.41958227  9.96352465 15.19126393\n 25.61160112 17.50544586 32.6155447  14.91353536 21.10468787 17.17543534\n 15.08936209 19.64134819 20.23344493 14.59710314 20.53884698 25.78323534\n 19.20946931 13.71974347 21.8946429  24.90357414 31.2373815  20.52875374\n 24.1620971  12.40245096 21.36405252 34.34811728 15.52045952 23.2636702\n 24.26668889 22.54435602 15.45499758 31.85412141 25.74892597 29.92342698\n 14.70711327 33.58632991 13.09071409 15.15199043 12.64800919 14.4262241\n 43.10918089 17.00679146 14.17582644 29.34923702 21.50189442 16.64916157\n 33.59640101 25.23260858 24.32599838 22.00322086 22.55702876 23.13640497\n  8.83865523 18.91932676 31.37734885 17.89726919 13.57799112 27.05983232\n 15.44897544 15.75479876 30.53076139 12.82428682 21.13341215 11.39443978\n 13.78243898 20.79589636 20.26819032 18.57868476 22.02576067 20.78340815\n 23.17249795 10.93641805 34.23640271 25.44522835 51.26823097 27.03415576\n 31.85823718 19.43398224 15.29396328 23.56728735 26.17452196 15.9093987\n 21.76708806 46.96475591 20.08973484 11.17996398 35.41093933 34.74489891\n 17.52667077 19.84692243 16.49211984 22.65427462 19.89204074 21.94071748\n  9.60887015 18.86452662 43.12311559 45.84449938 23.57944267 23.28425943\n 20.61020407 24.94018497 17.65361388 13.21299257 21.30464368 24.16278487\n 17.89901176 14.7984933  16.19060429 32.53460035 34.39713786 21.428435\n 17.41531898 21.72310791  2.05895286 22.53222542 18.1078672  16.10565029\n 18.31154    19.66807953 27.48343394 23.16737395 39.2054579  14.81418113\n 32.77516505 30.73299062 23.38537376 44.66253669 19.5161818  20.98125476\n 24.34871987 11.90862112 20.28343731 33.44888761 20.12876605 15.14383175\n 36.91433775 16.4859421  29.81863729 31.46122304 34.95740295 19.13460082\n 18.10296996 23.52966345 29.82707518 22.33010422 19.54811777 18.3630764\n 31.63185062 20.8508137  19.96213155 19.16258875 12.44514812 11.55345592\n 16.20387601 16.13823051 29.58935826 21.46344562 11.61576154 20.09730908\n 31.87438962 13.79838309 24.12136824 14.51858449 24.71782846 21.73724494\n 40.88855221 20.61059396 41.86424165 26.99357645 33.8898302  22.00033852\n 30.48935391 46.18038624 40.23038878 21.15509101 23.06811954 28.66175725\n 17.11946243 25.28144482 18.77335952 28.30515052 17.67303979 30.89573161\n 10.85633471 14.00871905 17.26512731 35.29691009 31.36184471 15.42871413\n 15.55211977 23.74572361 39.52603302 18.78571842 21.02162132 13.33794218\n 21.62061127 48.03101186 25.64703328 48.2096817  25.58997939 22.16713402\n 15.81419084  8.76305408 16.65072453 16.76641958 10.07007949 25.61999303\n 25.61630089 51.33178756 19.65732258 25.75369848 35.73096225 30.70708187\n  9.61581418 24.63838951 53.55344993 11.22132423 16.18745261 22.95479438\n 18.56829124  9.61190623 19.21482377 34.59810647 13.99921105 23.68492997\n 13.61453371 20.31114138 15.40198884 12.35589218 18.27986875 31.17941226\n 17.24961435 32.6879185  49.53593393 48.98437852 18.03648126 16.9940208\n 42.69750987 14.7526398  16.72776419 15.04257425 27.14756816 16.86328141\n 13.28369433 23.10251348 11.67059581  5.53205583 19.24161094 13.70364804\n 23.98880488  7.01715209 27.16729515 32.29374433 21.87229978 13.92196092\n 15.11455247 21.17306181 30.53897983 24.70885023 21.01256141 16.8911353\n  7.50335208 22.04711016 20.84944379 23.77686972 14.92026377 23.62547236\n 19.68013977  8.03755429 24.90253132 21.18013298 28.65153658 33.01153442\n 22.02895451 14.53401958 27.20901029 21.4995339  24.89138205 25.41128598\n 27.66300473 22.23770939 31.64833471 18.50805987 19.16659494 19.4616463\n 50.08437485 24.45066545 18.44617723 34.59522039 19.49691071 18.27070643\n 20.70427474].\nReshape your data either using array.reshape(-1, 1) if your data has a single feature or array.reshape(1, -1) if it contains a single sample.",
     "output_type": "error",
     "traceback": [
      "\u001b[1;31m---------------------------------------------------------------------------\u001b[0m",
      "\u001b[1;31mValueError\u001b[0m                                Traceback (most recent call last)",
      "\u001b[1;32m<ipython-input-5-30abf2dcd69c>\u001b[0m in \u001b[0;36m<module>\u001b[1;34m\u001b[0m\n\u001b[0;32m      3\u001b[0m \u001b[0mlr\u001b[0m \u001b[1;33m=\u001b[0m \u001b[0mLinearRegression\u001b[0m\u001b[1;33m(\u001b[0m\u001b[1;33m)\u001b[0m\u001b[1;33m.\u001b[0m\u001b[0mfit\u001b[0m\u001b[1;33m(\u001b[0m\u001b[0mX_train\u001b[0m\u001b[1;33m,\u001b[0m \u001b[0my_train\u001b[0m\u001b[1;33m)\u001b[0m\u001b[1;33m\u001b[0m\u001b[1;33m\u001b[0m\u001b[0m\n\u001b[0;32m      4\u001b[0m \u001b[0mlr_train_pred\u001b[0m \u001b[1;33m=\u001b[0m \u001b[0mlr\u001b[0m\u001b[1;33m.\u001b[0m\u001b[0mpredict\u001b[0m\u001b[1;33m(\u001b[0m\u001b[0mX_train\u001b[0m\u001b[1;33m)\u001b[0m\u001b[1;33m\u001b[0m\u001b[1;33m\u001b[0m\u001b[0m\n\u001b[1;32m----> 5\u001b[1;33m \u001b[0mlr\u001b[0m\u001b[1;33m.\u001b[0m\u001b[0mscore\u001b[0m\u001b[1;33m(\u001b[0m\u001b[0mlr_train_pred\u001b[0m\u001b[1;33m,\u001b[0m \u001b[0my_train\u001b[0m\u001b[1;33m)\u001b[0m\u001b[1;33m\u001b[0m\u001b[1;33m\u001b[0m\u001b[0m\n\u001b[0m",
      "\u001b[1;32m~\\anaconda3\\lib\\site-packages\\sklearn\\base.py\u001b[0m in \u001b[0;36mscore\u001b[1;34m(self, X, y, sample_weight)\u001b[0m\n\u001b[0;32m    549\u001b[0m \u001b[1;33m\u001b[0m\u001b[0m\n\u001b[0;32m    550\u001b[0m         \u001b[1;32mfrom\u001b[0m \u001b[1;33m.\u001b[0m\u001b[0mmetrics\u001b[0m \u001b[1;32mimport\u001b[0m \u001b[0mr2_score\u001b[0m\u001b[1;33m\u001b[0m\u001b[1;33m\u001b[0m\u001b[0m\n\u001b[1;32m--> 551\u001b[1;33m         \u001b[0my_pred\u001b[0m \u001b[1;33m=\u001b[0m \u001b[0mself\u001b[0m\u001b[1;33m.\u001b[0m\u001b[0mpredict\u001b[0m\u001b[1;33m(\u001b[0m\u001b[0mX\u001b[0m\u001b[1;33m)\u001b[0m\u001b[1;33m\u001b[0m\u001b[1;33m\u001b[0m\u001b[0m\n\u001b[0m\u001b[0;32m    552\u001b[0m         \u001b[1;32mreturn\u001b[0m \u001b[0mr2_score\u001b[0m\u001b[1;33m(\u001b[0m\u001b[0my\u001b[0m\u001b[1;33m,\u001b[0m \u001b[0my_pred\u001b[0m\u001b[1;33m,\u001b[0m \u001b[0msample_weight\u001b[0m\u001b[1;33m=\u001b[0m\u001b[0msample_weight\u001b[0m\u001b[1;33m)\u001b[0m\u001b[1;33m\u001b[0m\u001b[1;33m\u001b[0m\u001b[0m\n\u001b[0;32m    553\u001b[0m \u001b[1;33m\u001b[0m\u001b[0m\n",
      "\u001b[1;32m~\\anaconda3\\lib\\site-packages\\sklearn\\linear_model\\_base.py\u001b[0m in \u001b[0;36mpredict\u001b[1;34m(self, X)\u001b[0m\n\u001b[0;32m    234\u001b[0m             \u001b[0mReturns\u001b[0m \u001b[0mpredicted\u001b[0m \u001b[0mvalues\u001b[0m\u001b[1;33m.\u001b[0m\u001b[1;33m\u001b[0m\u001b[1;33m\u001b[0m\u001b[0m\n\u001b[0;32m    235\u001b[0m         \"\"\"\n\u001b[1;32m--> 236\u001b[1;33m         \u001b[1;32mreturn\u001b[0m \u001b[0mself\u001b[0m\u001b[1;33m.\u001b[0m\u001b[0m_decision_function\u001b[0m\u001b[1;33m(\u001b[0m\u001b[0mX\u001b[0m\u001b[1;33m)\u001b[0m\u001b[1;33m\u001b[0m\u001b[1;33m\u001b[0m\u001b[0m\n\u001b[0m\u001b[0;32m    237\u001b[0m \u001b[1;33m\u001b[0m\u001b[0m\n\u001b[0;32m    238\u001b[0m     \u001b[0m_preprocess_data\u001b[0m \u001b[1;33m=\u001b[0m \u001b[0mstaticmethod\u001b[0m\u001b[1;33m(\u001b[0m\u001b[0m_preprocess_data\u001b[0m\u001b[1;33m)\u001b[0m\u001b[1;33m\u001b[0m\u001b[1;33m\u001b[0m\u001b[0m\n",
      "\u001b[1;32m~\\anaconda3\\lib\\site-packages\\sklearn\\linear_model\\_base.py\u001b[0m in \u001b[0;36m_decision_function\u001b[1;34m(self, X)\u001b[0m\n\u001b[0;32m    216\u001b[0m         \u001b[0mcheck_is_fitted\u001b[0m\u001b[1;33m(\u001b[0m\u001b[0mself\u001b[0m\u001b[1;33m)\u001b[0m\u001b[1;33m\u001b[0m\u001b[1;33m\u001b[0m\u001b[0m\n\u001b[0;32m    217\u001b[0m \u001b[1;33m\u001b[0m\u001b[0m\n\u001b[1;32m--> 218\u001b[1;33m         \u001b[0mX\u001b[0m \u001b[1;33m=\u001b[0m \u001b[0mcheck_array\u001b[0m\u001b[1;33m(\u001b[0m\u001b[0mX\u001b[0m\u001b[1;33m,\u001b[0m \u001b[0maccept_sparse\u001b[0m\u001b[1;33m=\u001b[0m\u001b[1;33m[\u001b[0m\u001b[1;34m'csr'\u001b[0m\u001b[1;33m,\u001b[0m \u001b[1;34m'csc'\u001b[0m\u001b[1;33m,\u001b[0m \u001b[1;34m'coo'\u001b[0m\u001b[1;33m]\u001b[0m\u001b[1;33m)\u001b[0m\u001b[1;33m\u001b[0m\u001b[1;33m\u001b[0m\u001b[0m\n\u001b[0m\u001b[0;32m    219\u001b[0m         return safe_sparse_dot(X, self.coef_.T,\n\u001b[0;32m    220\u001b[0m                                dense_output=True) + self.intercept_\n",
      "\u001b[1;32m~\\anaconda3\\lib\\site-packages\\sklearn\\utils\\validation.py\u001b[0m in \u001b[0;36minner_f\u001b[1;34m(*args, **kwargs)\u001b[0m\n\u001b[0;32m     70\u001b[0m                           FutureWarning)\n\u001b[0;32m     71\u001b[0m         \u001b[0mkwargs\u001b[0m\u001b[1;33m.\u001b[0m\u001b[0mupdate\u001b[0m\u001b[1;33m(\u001b[0m\u001b[1;33m{\u001b[0m\u001b[0mk\u001b[0m\u001b[1;33m:\u001b[0m \u001b[0marg\u001b[0m \u001b[1;32mfor\u001b[0m \u001b[0mk\u001b[0m\u001b[1;33m,\u001b[0m \u001b[0marg\u001b[0m \u001b[1;32min\u001b[0m \u001b[0mzip\u001b[0m\u001b[1;33m(\u001b[0m\u001b[0msig\u001b[0m\u001b[1;33m.\u001b[0m\u001b[0mparameters\u001b[0m\u001b[1;33m,\u001b[0m \u001b[0margs\u001b[0m\u001b[1;33m)\u001b[0m\u001b[1;33m}\u001b[0m\u001b[1;33m)\u001b[0m\u001b[1;33m\u001b[0m\u001b[1;33m\u001b[0m\u001b[0m\n\u001b[1;32m---> 72\u001b[1;33m         \u001b[1;32mreturn\u001b[0m \u001b[0mf\u001b[0m\u001b[1;33m(\u001b[0m\u001b[1;33m**\u001b[0m\u001b[0mkwargs\u001b[0m\u001b[1;33m)\u001b[0m\u001b[1;33m\u001b[0m\u001b[1;33m\u001b[0m\u001b[0m\n\u001b[0m\u001b[0;32m     73\u001b[0m     \u001b[1;32mreturn\u001b[0m \u001b[0minner_f\u001b[0m\u001b[1;33m\u001b[0m\u001b[1;33m\u001b[0m\u001b[0m\n\u001b[0;32m     74\u001b[0m \u001b[1;33m\u001b[0m\u001b[0m\n",
      "\u001b[1;32m~\\anaconda3\\lib\\site-packages\\sklearn\\utils\\validation.py\u001b[0m in \u001b[0;36mcheck_array\u001b[1;34m(array, accept_sparse, accept_large_sparse, dtype, order, copy, force_all_finite, ensure_2d, allow_nd, ensure_min_samples, ensure_min_features, estimator)\u001b[0m\n\u001b[0;32m    617\u001b[0m             \u001b[1;31m# If input is 1D raise error\u001b[0m\u001b[1;33m\u001b[0m\u001b[1;33m\u001b[0m\u001b[1;33m\u001b[0m\u001b[0m\n\u001b[0;32m    618\u001b[0m             \u001b[1;32mif\u001b[0m \u001b[0marray\u001b[0m\u001b[1;33m.\u001b[0m\u001b[0mndim\u001b[0m \u001b[1;33m==\u001b[0m \u001b[1;36m1\u001b[0m\u001b[1;33m:\u001b[0m\u001b[1;33m\u001b[0m\u001b[1;33m\u001b[0m\u001b[0m\n\u001b[1;32m--> 619\u001b[1;33m                 raise ValueError(\n\u001b[0m\u001b[0;32m    620\u001b[0m                     \u001b[1;34m\"Expected 2D array, got 1D array instead:\\narray={}.\\n\"\u001b[0m\u001b[1;33m\u001b[0m\u001b[1;33m\u001b[0m\u001b[0m\n\u001b[0;32m    621\u001b[0m                     \u001b[1;34m\"Reshape your data either using array.reshape(-1, 1) if \"\u001b[0m\u001b[1;33m\u001b[0m\u001b[1;33m\u001b[0m\u001b[0m\n",
      "\u001b[1;31mValueError\u001b[0m: Expected 2D array, got 1D array instead:\narray=[17.0920011  16.68012794 32.28431441 15.30414674  7.90129708 12.95816217\n 19.38995855  8.35972032 34.400316   21.92921103 13.21410249 27.94943319\n  7.02511688  9.58862708 24.03409748 37.70445704 26.99371436 26.08239664\n 15.70274556 33.79320043 32.6481271  10.7276867   8.30254965 26.11467875\n 26.53400449 14.61850576 27.16907307 17.81340944 26.37050967 20.08746187\n 15.46842762 17.23317403 13.61999804  6.80817166 18.06538675 34.54512064\n 33.18228991 32.00207426 22.14832855 21.87994199 25.63098606 24.00574692\n 15.13321192 28.49108199 13.11862761 18.96947532 30.71921503 19.45382016\n 10.69592072 18.69814084 17.37456769 25.13476908 20.915002   16.4417526\n  9.43376044 19.84000767 22.30271323 18.28777217 26.75255846 24.38864561\n 26.50931214 45.90335797 15.16995481  8.14222426 32.74275145 31.11285242\n 17.30761325 46.70997366 22.29445074 25.33114145 18.38370071 24.02634059\n 44.17942352 24.52096667 14.74425503 38.20874842 34.75923581 16.78271948\n 27.29973149 24.88538757 25.34479055 23.077247   20.19817314 28.02534186\n 27.92875215 10.73752464 20.28830364 18.41958227  9.96352465 15.19126393\n 25.61160112 17.50544586 32.6155447  14.91353536 21.10468787 17.17543534\n 15.08936209 19.64134819 20.23344493 14.59710314 20.53884698 25.78323534\n 19.20946931 13.71974347 21.8946429  24.90357414 31.2373815  20.52875374\n 24.1620971  12.40245096 21.36405252 34.34811728 15.52045952 23.2636702\n 24.26668889 22.54435602 15.45499758 31.85412141 25.74892597 29.92342698\n 14.70711327 33.58632991 13.09071409 15.15199043 12.64800919 14.4262241\n 43.10918089 17.00679146 14.17582644 29.34923702 21.50189442 16.64916157\n 33.59640101 25.23260858 24.32599838 22.00322086 22.55702876 23.13640497\n  8.83865523 18.91932676 31.37734885 17.89726919 13.57799112 27.05983232\n 15.44897544 15.75479876 30.53076139 12.82428682 21.13341215 11.39443978\n 13.78243898 20.79589636 20.26819032 18.57868476 22.02576067 20.78340815\n 23.17249795 10.93641805 34.23640271 25.44522835 51.26823097 27.03415576\n 31.85823718 19.43398224 15.29396328 23.56728735 26.17452196 15.9093987\n 21.76708806 46.96475591 20.08973484 11.17996398 35.41093933 34.74489891\n 17.52667077 19.84692243 16.49211984 22.65427462 19.89204074 21.94071748\n  9.60887015 18.86452662 43.12311559 45.84449938 23.57944267 23.28425943\n 20.61020407 24.94018497 17.65361388 13.21299257 21.30464368 24.16278487\n 17.89901176 14.7984933  16.19060429 32.53460035 34.39713786 21.428435\n 17.41531898 21.72310791  2.05895286 22.53222542 18.1078672  16.10565029\n 18.31154    19.66807953 27.48343394 23.16737395 39.2054579  14.81418113\n 32.77516505 30.73299062 23.38537376 44.66253669 19.5161818  20.98125476\n 24.34871987 11.90862112 20.28343731 33.44888761 20.12876605 15.14383175\n 36.91433775 16.4859421  29.81863729 31.46122304 34.95740295 19.13460082\n 18.10296996 23.52966345 29.82707518 22.33010422 19.54811777 18.3630764\n 31.63185062 20.8508137  19.96213155 19.16258875 12.44514812 11.55345592\n 16.20387601 16.13823051 29.58935826 21.46344562 11.61576154 20.09730908\n 31.87438962 13.79838309 24.12136824 14.51858449 24.71782846 21.73724494\n 40.88855221 20.61059396 41.86424165 26.99357645 33.8898302  22.00033852\n 30.48935391 46.18038624 40.23038878 21.15509101 23.06811954 28.66175725\n 17.11946243 25.28144482 18.77335952 28.30515052 17.67303979 30.89573161\n 10.85633471 14.00871905 17.26512731 35.29691009 31.36184471 15.42871413\n 15.55211977 23.74572361 39.52603302 18.78571842 21.02162132 13.33794218\n 21.62061127 48.03101186 25.64703328 48.2096817  25.58997939 22.16713402\n 15.81419084  8.76305408 16.65072453 16.76641958 10.07007949 25.61999303\n 25.61630089 51.33178756 19.65732258 25.75369848 35.73096225 30.70708187\n  9.61581418 24.63838951 53.55344993 11.22132423 16.18745261 22.95479438\n 18.56829124  9.61190623 19.21482377 34.59810647 13.99921105 23.68492997\n 13.61453371 20.31114138 15.40198884 12.35589218 18.27986875 31.17941226\n 17.24961435 32.6879185  49.53593393 48.98437852 18.03648126 16.9940208\n 42.69750987 14.7526398  16.72776419 15.04257425 27.14756816 16.86328141\n 13.28369433 23.10251348 11.67059581  5.53205583 19.24161094 13.70364804\n 23.98880488  7.01715209 27.16729515 32.29374433 21.87229978 13.92196092\n 15.11455247 21.17306181 30.53897983 24.70885023 21.01256141 16.8911353\n  7.50335208 22.04711016 20.84944379 23.77686972 14.92026377 23.62547236\n 19.68013977  8.03755429 24.90253132 21.18013298 28.65153658 33.01153442\n 22.02895451 14.53401958 27.20901029 21.4995339  24.89138205 25.41128598\n 27.66300473 22.23770939 31.64833471 18.50805987 19.16659494 19.4616463\n 50.08437485 24.45066545 18.44617723 34.59522039 19.49691071 18.27070643\n 20.70427474].\nReshape your data either using array.reshape(-1, 1) if your data has a single feature or array.reshape(1, -1) if it contains a single sample."
     ]
    }
   ],
   "source": [
    "ridge = Ridge().fit(X_train, y_train)\n",
    "print(\"R-квадрат на обучающем наборе: {:.2f}\".format(ridge.score(X_train, y_train)))\n",
    "print(\"R-квадрат на тестовом наборе: {:.2f}\".format(ridge.score(X_test, y_test)))"
   ]
  },
  {
   "cell_type": "code",
   "execution_count": 16,
   "metadata": {},
   "outputs": [],
   "source": [
    "lin_r2_train = []\n",
    "lin_r2_test = []\n",
    "\n",
    "ridge_r2_train = []\n",
    "ridge_r2_test = []\n",
    "\n",
    "X_train, X_test, y_train, y_test = train_test_split(X, y, random_state=0)\n",
    "\n",
    "for n in range(1, len(X_train), 10):\n",
    "#     Метрики по линейной регрессия\n",
    "    lr = LinearRegression().fit(X_train[:n], y_train[:n])\n",
    "    lr_train_pred = lr.predict(X_train[:n])\n",
    "    lr_test_pred = lr.predict(X_test)\n",
    "\n",
    "    lin_r2_train.append(lr.score(X_train[:n], y_train[:n]))\n",
    "    lin_r2_test.append(lr.score(X_test, y_test))\n",
    "    \n",
    "#     Метрики по гребневой регресси\n",
    "    ridge = Ridge().fit(X_train[:n], y_train[:n])\n",
    "    ridge_train_pred = ridge.predict(X_train[:n])\n",
    "    ridge_test_pred = ridge.predict(X_test)\n",
    "    \n",
    "    ridge_r2_train.append(ridge.score(X_train[:n], y_train[:n]))\n",
    "    ridge_r2_test.append(ridge.score(X_test, y_test))"
   ]
  },
  {
   "cell_type": "markdown",
   "metadata": {},
   "source": [
    "Урок здесь состоит в том, что при достаточном объеме обучающих данных регуляризация становится менее важной и при удовлетворительном объеме данных гребневая и линейная регрессии будут демонстрировать одинаковое качество работы"
   ]
  },
  {
   "cell_type": "code",
   "execution_count": 17,
   "metadata": {},
   "outputs": [
    {
     "data": {
      "image/png": "[encoded data removed]",
      "text/plain": [
       "<Figure size 720x432 with 1 Axes>"
      ]
     },
     "metadata": {
      "needs_background": "light"
     },
     "output_type": "display_data"
    }
   ],
   "source": [
    "plt.figure(figsize=(10,6))\n",
    "sns.lineplot(x=[i for i in range(len(ridge_r2_test))], y=ridge_r2_test, label='Ridge_test', color='b');\n",
    "sns.lineplot(x=[i for i in range(len(ridge_r2_train))], y=ridge_r2_train, label='Ridge_train', linestyle='dashed', color='b');\n",
    "\n",
    "sns.lineplot(x=[i for i in range(len(lin_r2_test))], y=lin_r2_test, label='Linear_test', color='orange');\n",
    "sns.lineplot(x=[i for i in range(len(lin_r2_train))], y=lin_r2_train, label='Linear_train', linestyle='dashed', color='orange');\n",
    "plt.ylim((-0.1, 1.1))\n",
    "plt.xlabel('Объем обучающих данных')\n",
    "plt.ylabel('R-квадрат')\n",
    "plt.title('Кривые обучения');"
   ]
  },
  {
   "cell_type": "markdown",
   "metadata": {},
   "source": [
    "### 2. Lasso Regression"
   ]
  },
  {
   "cell_type": "markdown",
   "metadata": {},
   "source": [
    "Как видно из сводки, Lasso дает низкое значение R2 как на обучающем, так и на тестовом наборе. Это указывает на недообучение и мы видим, что из 105 признаков используются только 4."
   ]
  },
  {
   "cell_type": "code",
   "execution_count": 198,
   "metadata": {},
   "outputs": [
    {
     "name": "stdout",
     "output_type": "stream",
     "text": [
      "R-квадрат на обучающем наборе: 0.29\n",
      "R-квадрат на тестовом наборе: 0.21\n",
      "Количество использованных признаков: 4\n"
     ]
    }
   ],
   "source": [
    "lasso = Lasso(alpha=1).fit(X_train, y_train)\n",
    "print(\"R-квадрат на обучающем наборе: {:.2f}\".format(lasso.score(X_train, y_train)))\n",
    "print(\"R-квадрат на тестовом наборе: {:.2f}\".format(lasso.score(X_test, y_test)))\n",
    "print(\"Количество использованных признаков: {}\".format(np.sum(lasso.coef_ != 0)))"
   ]
  },
  {
   "cell_type": "code",
   "execution_count": 137,
   "metadata": {
    "collapsed": true
   },
   "outputs": [
    {
     "data": {
      "text/plain": [
       "array([-0.        ,  0.        , -0.        ,  0.        , -0.        ,\n",
       "        0.        , -0.        ,  0.        , -0.        , -0.        ,\n",
       "       -0.        ,  0.        , -5.3529079 , -0.        ,  0.        ,\n",
       "       -0.        ,  0.        , -0.        , -0.        , -0.        ,\n",
       "       -0.        , -0.        , -0.        , -0.        , -0.        ,\n",
       "       -0.        ,  0.        ,  0.        ,  0.        ,  0.        ,\n",
       "        0.        ,  0.        ,  0.        ,  0.        ,  0.        ,\n",
       "        0.        ,  0.        ,  0.        , -0.        ,  0.        ,\n",
       "       -0.        , -0.        , -0.        , -0.        , -0.        ,\n",
       "       -0.        , -0.        , -0.        , -0.        ,  0.        ,\n",
       "        0.        ,  0.        ,  0.        ,  0.        ,  0.        ,\n",
       "        0.        ,  0.        ,  0.        , -0.        , -0.        ,\n",
       "       -0.        , -0.        , -0.        , -0.        , -0.        ,\n",
       "       -0.        , -0.        , -0.        ,  0.        ,  0.        ,\n",
       "        0.        , -0.        , -0.        , -0.        ,  0.        ,\n",
       "       -0.        , -0.        ,  0.        , -0.        , -1.05063037,\n",
       "       -3.3104274 , -0.        , -0.        ,  0.        , -0.        ,\n",
       "       -0.        , -0.        ,  0.        , -0.        , -0.41386744,\n",
       "       -0.        , -0.        , -0.        , -0.        , -0.        ,\n",
       "       -0.        , -0.        , -0.        , -0.        , -0.        ,\n",
       "       -0.        ,  0.        , -0.        , -0.        ])"
      ]
     },
     "execution_count": 137,
     "metadata": {},
     "output_type": "execute_result"
    }
   ],
   "source": [
    "lasso.coef_"
   ]
  },
  {
   "cell_type": "code",
   "execution_count": 202,
   "metadata": {},
   "outputs": [
    {
     "name": "stdout",
     "output_type": "stream",
     "text": [
      "R-квадрат на обучающем наборе: 0.90\n",
      "R-квадрат на тестовом наборе: 0.77\n",
      "Количество использованных признаков: 32\n"
     ]
    }
   ],
   "source": [
    "# мы увеличиваем значение \"max_iter\",\n",
    "# иначе модель выдаст предупреждение, что нужно увеличить max_iter.\n",
    "lasso001 = Lasso(alpha=0.01,max_iter=100000).fit(X_train, y_train) # \n",
    "print(\"R-квадрат на обучающем наборе: {:.2f}\".format(lasso001.score(X_train, y_train)))\n",
    "print(\"R-квадрат на тестовом наборе: {:.2f}\".format(lasso001.score(X_test, y_test)))\n",
    "print(\"Количество использованных признаков: {}\".format(np.sum(lasso001.coef_ != 0)))"
   ]
  },
  {
   "cell_type": "code",
   "execution_count": 141,
   "metadata": {
    "collapsed": true
   },
   "outputs": [
    {
     "data": {
      "text/plain": [
       "array([ -0.        ,  -0.        ,  -0.        ,   0.        ,\n",
       "        -0.        ,   0.        ,  -0.        ,  -1.43260465,\n",
       "        10.94771183,   0.        ,   0.        ,   0.        ,\n",
       "        -0.39260971,  -0.        ,  -0.        ,  -0.        ,\n",
       "         0.        ,  -0.        ,  -0.        ,  -0.        ,\n",
       "        -0.        ,  -8.75628457,  -0.        ,  -0.        ,\n",
       "        -0.        ,  -0.        ,   2.10027365,  -0.        ,\n",
       "         0.        ,  -0.        ,   0.        ,  -0.        ,\n",
       "         0.        ,   0.        ,  -0.        ,   0.        ,\n",
       "        -0.        ,  -0.        ,   0.        ,   0.        ,\n",
       "         0.        ,  -0.        ,   0.        ,  -3.96958293,\n",
       "         0.        ,   6.61845793,  -0.        ,  -0.        ,\n",
       "        -0.        ,   0.        ,  -4.42086828,  -2.10371434,\n",
       "         3.79607992,  -0.        ,   4.38591262,   0.        ,\n",
       "         0.        ,   0.1795777 ,  -0.        ,  -1.1614282 ,\n",
       "        -4.33485764,  -0.        ,  -0.        ,  -2.13549022,\n",
       "        -0.        ,  -1.85967636,  -0.        ,  -0.        ,\n",
       "        29.81957225,  -2.05624806,   0.        , -11.98034348,\n",
       "       -11.14870694, -11.67147204,  12.974385  , -10.93053676,\n",
       "        -0.        ,  -0.        ,   3.441574  ,   0.        ,\n",
       "        -0.        ,  -0.        ,  -8.56750394,   0.        ,\n",
       "         0.        ,  -0.        ,   0.        ,  -7.26115293,\n",
       "        -0.        ,   0.        ,   0.94254631,   0.        ,\n",
       "         0.        ,  -7.62603559,   1.65255854,   0.        ,\n",
       "         0.        , -17.39462971,   0.        ,   0.        ,\n",
       "        -0.        ,   0.34404124,  -8.24645566,  17.5606721 ])"
      ]
     },
     "execution_count": 141,
     "metadata": {},
     "output_type": "execute_result"
    }
   ],
   "source": [
    "lasso001.coef_"
   ]
  },
  {
   "cell_type": "code",
   "execution_count": 184,
   "metadata": {},
   "outputs": [
    {
     "name": "stdout",
     "output_type": "stream",
     "text": [
      "alpha = 0.1, score = 0.7709955157630054\n",
      "R-квадрат на тестовом наборе: 0.63\n"
     ]
    }
   ],
   "source": [
    "lasr_cv = LassoCV(alphas=[0.1, 0.3, 0.5, 1.0, 5.0, 10.0, 15.0, 20.0])\n",
    "lasr_cv.fit(X_train, y_train)\n",
    "print(f\"alpha = {lasr_cv.alpha_}, score = {lasr_cv.score(X_train, y_train)}\")\n",
    "print(\"R-квадрат на тестовом наборе: {:.2f}\".format(lasr_cv.score(X_test, y_test)))"
   ]
  },
  {
   "cell_type": "code",
   "execution_count": 147,
   "metadata": {},
   "outputs": [
    {
     "name": "stdout",
     "output_type": "stream",
     "text": [
      "-0.0 0.0 -0.0 0.0 -0.0 0.0 -0.0 -0.0 -0.0 -0.0 -6.94791 0.0 -15.73533 -0.0 0.0 -0.0 0.0 -0.0 -0.0 -0.0 -0.0 -0.0 -0.0 -0.0 -0.0 -0.0 0.0 -0.0 0.0 0.0 0.0 0.0 -0.0 0.0 -0.0 -0.0 0.0 -0.0 -0.0 0.0 -0.0 -0.0 -0.0 -0.0 -0.0 -0.0 -0.0 -0.0 -0.0 0.0 0.0 0.0 0.0 0.0 0.0 0.0 0.0 1.5725 0.0 -0.06795 -0.0 -0.0 -0.0 -0.0 -0.0 -0.0 -0.0 -0.0 19.43341 -0.0 -0.0 -0.0 -5.13377 -0.0 5.34522 -0.0 -0.0 -0.0 -0.0 -0.0 -0.0 0.0 -0.45783 -0.0 -0.0 -0.0 -0.0 -0.0 -0.0 -0.0 -0.0 -0.0 0.0 -0.0 -0.0 -0.0 -0.0 -0.0 -0.0 -0.0 -0.0 0.0 -0.0 0.0\n"
     ]
    }
   ],
   "source": [
    "print(*lasr_cv.coef_.round(5))"
   ]
  },
  {
   "cell_type": "markdown",
   "metadata": {},
   "source": [
    "### ElasticNet"
   ]
  },
  {
   "cell_type": "code",
   "execution_count": 161,
   "metadata": {},
   "outputs": [
    {
     "name": "stdout",
     "output_type": "stream",
     "text": [
      "R-квадрат на обучающем наборе: 0.71\n",
      "R-квадрат на тестовом наборе: 0.54\n"
     ]
    }
   ],
   "source": [
    "elastic_net = ElasticNet(alpha=0.1, l1_ratio=0.3).fit(X_train, y_train)\n",
    "print(\"R-квадрат на обучающем наборе: {:.2f}\".format(elastic_net.score(X_train, y_train)))\n",
    "print(\"R-квадрат на тестовом наборе: {:.2f}\".format(elastic_net.score(X_test, y_test)))"
   ]
  },
  {
   "cell_type": "code",
   "execution_count": 168,
   "metadata": {
    "scrolled": false
   },
   "outputs": [
    {
     "name": "stdout",
     "output_type": "stream",
     "text": [
      "alpha = 0.1, l1_ratio = 1.0, score = 0.7709955157630054\n",
      "R-квадрат на тестовом наборе: 0.63\n"
     ]
    }
   ],
   "source": [
    "el_cv_clf = ElasticNetCV(alphas=[0.1, 0.3, 0.5, 1.0, 5.0, 10.0, 20.0],\n",
    "                         l1_ratio=[0, 0.1, 0.25, 0.4, 0.5, 0.7, 0.8, 0.9, 1])\n",
    "el_cv_clf.fit(X_train, y_train)\n",
    "\n",
    "print(f\"alpha = {el_cv_clf.alpha_}, l1_ratio = {el_cv_clf.l1_ratio_}, score = {el_cv_clf.score(X_train, y_train)}\")\n",
    "print(\"R-квадрат на тестовом наборе: {:.2f}\".format(el_cv_clf.score(X_test, y_test)))"
   ]
  },
  {
   "cell_type": "code",
   "execution_count": null,
   "metadata": {},
   "outputs": [],
   "source": []
  },
  {
   "cell_type": "markdown",
   "metadata": {},
   "source": []
  },
  {
   "cell_type": "code",
   "execution_count": 61,
   "metadata": {},
   "outputs": [
    {
     "name": "stdout",
     "output_type": "stream",
     "text": [
      "alpha:  0.0\n",
      "R2:  0.7112260057484923\n",
      "MAE:  3.162709871457409\n",
      "__________________________________________________\n",
      "alpha:  0.1\n",
      "R2:  0.7103178206391327\n",
      "MAE:  3.162396775689548\n",
      "__________________________________________________\n",
      "alpha:  0.5\n",
      "R2:  0.7070756189146228\n",
      "MAE:  3.168235652913517\n",
      "__________________________________________________\n",
      "alpha:  1.0\n",
      "R2:  0.7041586727559435\n",
      "MAE:  3.1785390760345544\n",
      "__________________________________________________\n",
      "alpha:  5.0\n",
      "R2:  0.6970172810260663\n",
      "MAE:  3.2272757597567003\n",
      "__________________________________________________\n",
      "alpha:  10.0\n",
      "R2:  0.6954181695183627\n",
      "MAE:  3.249169899307783\n",
      "__________________________________________________\n",
      "alpha:  100.0\n",
      "R2:  0.6850436955094978\n",
      "MAE:  3.4209579918647974\n",
      "__________________________________________________\n",
      "alpha:  1000\n",
      "R2:  0.6363004655780667\n",
      "MAE:  3.802084315738072\n",
      "__________________________________________________\n"
     ]
    }
   ],
   "source": [
    "for alpha in [0.0, 0.1, 0.5, 1.0, 5.0, 10.0, 100.0, 1000]:\n",
    "    print('alpha: ', alpha)\n",
    "    ridge_reg = Ridge(alpha=alpha)\n",
    "    ridge_reg.fit(X_train, y_train)\n",
    "    \n",
    "    pred_train = ridge_reg.predict(X_train)\n",
    "\n",
    "    pred_test = ridge_reg.predict(X_test)\n",
    "    print('R2: ', r2_score(y_test, pred_test)) \n",
    "    print('MAE: ', mean_absolute_error(y_test, pred_test))\n",
    "    print('_'*50)"
   ]
  },
  {
   "cell_type": "code",
   "execution_count": 40,
   "metadata": {
    "collapsed": true
   },
   "outputs": [
    {
     "name": "stdout",
     "output_type": "stream",
     "text": [
      "alpha:  0.0\n",
      "MAE:  3.162709871457413\n",
      "__________________________________________________\n",
      "alpha:  0.1\n",
      "MAE:  3.267373797848226\n",
      "__________________________________________________\n",
      "alpha:  0.5\n",
      "MAE:  3.395941585868075\n",
      "__________________________________________________\n",
      "alpha:  1.0\n",
      "MAE:  3.6587976291978785\n",
      "__________________________________________________\n",
      "alpha:  5.0\n",
      "MAE:  4.486736208450633\n",
      "__________________________________________________\n",
      "alpha:  10.0\n",
      "MAE:  4.525931484269644\n",
      "__________________________________________________\n",
      "alpha:  100.0\n",
      "MAE:  5.63383400378495\n",
      "__________________________________________________\n",
      "alpha:  1000\n",
      "MAE:  6.533251561106156\n",
      "__________________________________________________\n"
     ]
    },
    {
     "name": "stderr",
     "output_type": "stream",
     "text": [
      "<ipython-input-40-a30faa0e64a3>:4: UserWarning: With alpha=0, this algorithm does not converge well. You are advised to use the LinearRegression estimator\n",
      "  ridge_reg.fit(X_train, y_train)\n",
      "C:\\Users\\Malika\\anaconda3\\lib\\site-packages\\sklearn\\linear_model\\_coordinate_descent.py:529: UserWarning: Coordinate descent with no regularization may lead to unexpected results and is discouraged.\n",
      "  model = cd_fast.enet_coordinate_descent(\n",
      "C:\\Users\\Malika\\anaconda3\\lib\\site-packages\\sklearn\\linear_model\\_coordinate_descent.py:529: ConvergenceWarning: Objective did not converge. You might want to increase the number of iterations. Duality gap: 3990.550223273599, tolerance: 3.111537141242938\n",
      "  model = cd_fast.enet_coordinate_descent(\n"
     ]
    }
   ],
   "source": [
    "for alpha in [0.0, 0.1, 0.5, 1.0, 5.0, 10.0, 100.0, 1000]:\n",
    "    print('alpha: ', alpha)\n",
    "    ridge_reg = Lasso(alpha=alpha)\n",
    "    ridge_reg.fit(X_train, y_train)\n",
    "    \n",
    "    pred_train = ridge_reg.predict(X_train)\n",
    "\n",
    "    pred_test = ridge_reg.predict(X_test)\n",
    "    print('MAE: ', mean_absolute_error(y_test, pred_test))\n",
    "    print('_'*50)"
   ]
  },
  {
   "cell_type": "code",
   "execution_count": 86,
   "metadata": {},
   "outputs": [
    {
     "name": "stdout",
     "output_type": "stream",
     "text": [
      "Метрики на трейне:\n",
      "R2:  0.9469794920108194\n",
      "Mean absolute error (MAE) 1.6945117794034887\n",
      "__________________________________________________\n",
      "Метрики на тесте:\n",
      "R2:  0.6610321968877197\n",
      "Mean absolute error (MAE) 3.0649504691611713\n"
     ]
    }
   ],
   "source": [
    "X_train, X_test, y_train, y_test = train_test_split(X, y, test_size=0.3, random_state=42)\n",
    "\n",
    "# создаем объект модели\n",
    "reg_model = LinearRegression()\n",
    "\n",
    "# Обучаем модель на данных, применяя fit()\n",
    "reg_model.fit(X_train, y_train)\n",
    "\n",
    "# Делаем предказание, применяя метод predict()б и сохраняем его в отдельную переменную\n",
    "pred_train = reg_model.predict(X_train)\n",
    "\n",
    "# __Смотрим метрики качества__\n",
    "print('Метрики на трейне:')\n",
    "print('R2: ', r2_score(y_train, pred_train)) \n",
    "print('Mean absolute error (MAE)', mean_absolute_error(y_train, pred_train))\n",
    "\n",
    "pred_test = reg_model.predict(X_test)\n",
    "print('_'*50)\n",
    "print('Метрики на тесте:')\n",
    "print('R2: ', r2_score(y_test, pred_test)) \n",
    "print('Mean absolute error (MAE)', mean_absolute_error(y_test, pred_test))"
   ]
  },
  {
   "cell_type": "code",
   "execution_count": 105,
   "metadata": {},
   "outputs": [
    {
     "data": {
      "image/png": "[encoded data removed]",
      "text/plain": [
       "<Figure size 432x288 with 1 Axes>"
      ]
     },
     "metadata": {
      "needs_background": "light"
     },
     "output_type": "display_data"
    }
   ],
   "source": [
    "mglearn.plots.plot_ridge_n_samples():\n"
   ]
  },
  {
   "cell_type": "code",
   "execution_count": 123,
   "metadata": {},
   "outputs": [
    {
     "name": "stderr",
     "output_type": "stream",
     "text": [
      "C:\\Users\\Malika\\anaconda3\\lib\\site-packages\\sklearn\\metrics\\_regression.py:594: UndefinedMetricWarning: R^2 score is not well-defined with less than two samples.\n",
      "  warnings.warn(msg, UndefinedMetricWarning)\n"
     ]
    },
    {
     "data": {
      "image/png": "[encoded data removed]",
      "text/plain": [
       "<Figure size 432x288 with 1 Axes>"
      ]
     },
     "metadata": {
      "needs_background": "light"
     },
     "output_type": "display_data"
    }
   ],
   "source": [
    "lin_r2_train = []\n",
    "lin_r2_test = []\n",
    "\n",
    "for n in range(1, len(X_train)):\n",
    "    lr = LinearRegression()\n",
    "    lr.fit(X_train[:n], y_train[:n])\n",
    "    \n",
    "    pred_train = lr.predict(X_train[:n])\n",
    "    pred_test = lr.predict(X_test)\n",
    "    \n",
    "    lin_r2_train.append(lr.score(X_train[:n], y_train[:n]))\n",
    "    lin_r2_test.append(lr.score(X_test, y_test))\n",
    "    \n",
    "\n",
    "sns.lineplot(x=[i for i in range(len(r2_test))], y=r2_test, label='test');\n",
    "sns.lineplot(x=[i for i in range(len(r2_train))], y=r2_train, label='train');\n",
    "plt.title('Кривые обучения');"
   ]
  },
  {
   "cell_type": "code",
   "execution_count": 132,
   "metadata": {},
   "outputs": [
    {
     "data": {
      "text/plain": [
       "(127, 104)"
      ]
     },
     "execution_count": 132,
     "metadata": {},
     "output_type": "execute_result"
    }
   ],
   "source": [
    "X_test.shape"
   ]
  }
 ],
 "metadata": {
  "kernelspec": {
   "display_name": "Python 3",
   "language": "python",
   "name": "python3"
  },
  "language_info": {
   "codemirror_mode": {
    "name": "ipython",
    "version": 3
   },
   "file_extension": ".py",
   "mimetype": "text/x-python",
   "name": "python",
   "nbconvert_exporter": "python",
   "pygments_lexer": "ipython3",
   "version": "3.8.5"
  }
 },
 "nbformat": 4,
 "nbformat_minor": 4
}
