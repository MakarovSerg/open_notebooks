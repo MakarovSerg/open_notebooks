{
 "cells": [
  {
   "cell_type": "code",
   "execution_count": 1,
   "metadata": {
    "colab": {
     "base_uri": "https://localhost:8080/"
    },
    "executionInfo": {
     "elapsed": 2077,
     "status": "ok",
     "timestamp": 1631537561529,
     "user": {
      "displayName": "Малика Лутфуллаева",
      "photoUrl": "https://lh3.googleusercontent.com/a-/AOh14GhasEUQeJuylvCKkFTqGyMfSxwhLgHIRyRYPTwLaA=s64",
      "userId": "12169271378359815395"
     },
     "user_tz": -300
    },
    "id": "DdI1obRBM6vU",
    "outputId": "d2d660ff-97db-4354-dccd-1777d82367e8"
   },
   "outputs": [
    {
     "name": "stderr",
     "output_type": "stream",
     "text": [
      "/usr/local/lib/python3.7/dist-packages/statsmodels/tools/_testing.py:19: FutureWarning: pandas.util.testing is deprecated. Use the functions in the public API at pandas.testing instead.\n",
      "  import pandas.util.testing as tm\n"
     ]
    }
   ],
   "source": [
    "import pandas as pd\n",
    "import numpy as np\n",
    "from sklearn.datasets import load_wine, load_boston # встроенные в sklearn датасеты\n",
    "from sklearn.tree import DecisionTreeRegressor\n",
    "from sklearn.linear_model import LogisticRegression\n",
    "from sklearn.preprocessing import MinMaxScaler, StandardScaler\n",
    "from sklearn.metrics import  mean_squared_error, f1_score, classification_report\n",
    "# Для линейной регрессии можно использовать библиотеку statmodel: \n",
    "import statsmodels.api as sm\n",
    "# Или использовать реализацию из библиотеки sklearn:\n",
    "from sklearn.linear_model import LinearRegression"
   ]
  },
  {
   "cell_type": "markdown",
   "metadata": {
    "id": "FookLutLM6vZ"
   },
   "source": [
    "**Задание**: для каждого набора данных построить соответствующие модели регрессии и классификации. \n",
    "\n",
    "Выполнить такие пункты:\n",
    "\n",
    "1. Сделать небольшую визуализацию данных на свое усмотрение, чтобы посмотреть на признаки \n",
    "2. Построить линейные модели для классификации (логистическая регрессия) и регрессии (линейная регрессия). Выбрать и вывести метрики качества моделей\n",
    "3. Нормализовать/стандартизовать данные любым способом и еще раз построить линейные модели классификации и регрессии, вывести метрики качества\n",
    "4. Построить модели на основе деревьев решений для классификации и регрессии. Выбрать и вывести метрики качества моделей\n",
    "5. Визуализировать полученные деревья решений\n",
    "5. Сравнить качество работы линейных и \"деревянных\" моделей, написать комментарии.\n",
    "6. Посмотреть на значимость признаков по деревьям (через feature importance) \n",
    "7. Попробовать поменять основные параметры деревьев решение (max_depth, min_samples_leaf, min_samples_split, criterion). Посмотреть, как ведет себя дерево при разных параметрах? При каких значениях параметров можно говорить о переобучении,а при каких - о недообучении модели?\n"
   ]
  },
  {
   "cell_type": "markdown",
   "metadata": {
    "id": "x6WCf6ICM6vb"
   },
   "source": [
    "### <center> Классификация "
   ]
  },
  {
   "cell_type": "code",
   "execution_count": 2,
   "metadata": {
    "executionInfo": {
     "elapsed": 277,
     "status": "ok",
     "timestamp": 1631537572356,
     "user": {
      "displayName": "Малика Лутфуллаева",
      "photoUrl": "https://lh3.googleusercontent.com/a-/AOh14GhasEUQeJuylvCKkFTqGyMfSxwhLgHIRyRYPTwLaA=s64",
      "userId": "12169271378359815395"
     },
     "user_tz": -300
    },
    "id": "ZHWmZYaxM6vf"
   },
   "outputs": [],
   "source": [
    "# данные для классификации, 3 класса\n",
    "data_wine = load_wine()\n",
    "wine_target = data_wine.target\n",
    "wine_data = data_wine.data\n",
    "wine_feature_names = data_wine.feature_names\n"
   ]
  },
  {
   "cell_type": "code",
   "execution_count": 3,
   "metadata": {
    "colab": {
     "base_uri": "https://localhost:8080/"
    },
    "collapsed": true,
    "executionInfo": {
     "elapsed": 288,
     "status": "ok",
     "timestamp": 1631537582216,
     "user": {
      "displayName": "Малика Лутфуллаева",
      "photoUrl": "https://lh3.googleusercontent.com/a-/AOh14GhasEUQeJuylvCKkFTqGyMfSxwhLgHIRyRYPTwLaA=s64",
      "userId": "12169271378359815395"
     },
     "user_tz": -300
    },
    "id": "M4cg6JMyM6vh",
    "outputId": "4ac0dab8-281e-4433-b64b-fb0f7d29f8c6"
   },
   "outputs": [
    {
     "data": {
      "text/plain": [
       "array([0, 0, 0, 0, 0, 0, 0, 0, 0, 0, 0, 0, 0, 0, 0, 0, 0, 0, 0, 0, 0, 0,\n",
       "       0, 0, 0, 0, 0, 0, 0, 0, 0, 0, 0, 0, 0, 0, 0, 0, 0, 0, 0, 0, 0, 0,\n",
       "       0, 0, 0, 0, 0, 0, 0, 0, 0, 0, 0, 0, 0, 0, 0, 1, 1, 1, 1, 1, 1, 1,\n",
       "       1, 1, 1, 1, 1, 1, 1, 1, 1, 1, 1, 1, 1, 1, 1, 1, 1, 1, 1, 1, 1, 1,\n",
       "       1, 1, 1, 1, 1, 1, 1, 1, 1, 1, 1, 1, 1, 1, 1, 1, 1, 1, 1, 1, 1, 1,\n",
       "       1, 1, 1, 1, 1, 1, 1, 1, 1, 1, 1, 1, 1, 1, 1, 1, 1, 1, 1, 1, 2, 2,\n",
       "       2, 2, 2, 2, 2, 2, 2, 2, 2, 2, 2, 2, 2, 2, 2, 2, 2, 2, 2, 2, 2, 2,\n",
       "       2, 2, 2, 2, 2, 2, 2, 2, 2, 2, 2, 2, 2, 2, 2, 2, 2, 2, 2, 2, 2, 2,\n",
       "       2, 2])"
      ]
     },
     "execution_count": 3,
     "metadata": {},
     "output_type": "execute_result"
    }
   ],
   "source": [
    "wine_target"
   ]
  },
  {
   "cell_type": "code",
   "execution_count": 4,
   "metadata": {
    "colab": {
     "base_uri": "https://localhost:8080/"
    },
    "collapsed": true,
    "executionInfo": {
     "elapsed": 254,
     "status": "ok",
     "timestamp": 1631537592903,
     "user": {
      "displayName": "Малика Лутфуллаева",
      "photoUrl": "https://lh3.googleusercontent.com/a-/AOh14GhasEUQeJuylvCKkFTqGyMfSxwhLgHIRyRYPTwLaA=s64",
      "userId": "12169271378359815395"
     },
     "user_tz": -300
    },
    "id": "EXpNm3cKM6vi",
    "outputId": "b64d5fa0-004f-4da8-f1d9-bdf78eb063fa"
   },
   "outputs": [
    {
     "data": {
      "text/plain": [
       "array([[1.423e+01, 1.710e+00, 2.430e+00, ..., 1.040e+00, 3.920e+00,\n",
       "        1.065e+03],\n",
       "       [1.320e+01, 1.780e+00, 2.140e+00, ..., 1.050e+00, 3.400e+00,\n",
       "        1.050e+03],\n",
       "       [1.316e+01, 2.360e+00, 2.670e+00, ..., 1.030e+00, 3.170e+00,\n",
       "        1.185e+03],\n",
       "       ...,\n",
       "       [1.327e+01, 4.280e+00, 2.260e+00, ..., 5.900e-01, 1.560e+00,\n",
       "        8.350e+02],\n",
       "       [1.317e+01, 2.590e+00, 2.370e+00, ..., 6.000e-01, 1.620e+00,\n",
       "        8.400e+02],\n",
       "       [1.413e+01, 4.100e+00, 2.740e+00, ..., 6.100e-01, 1.600e+00,\n",
       "        5.600e+02]])"
      ]
     },
     "execution_count": 4,
     "metadata": {},
     "output_type": "execute_result"
    }
   ],
   "source": [
    "wine_data"
   ]
  },
  {
   "cell_type": "code",
   "execution_count": 5,
   "metadata": {
    "colab": {
     "base_uri": "https://localhost:8080/"
    },
    "collapsed": true,
    "executionInfo": {
     "elapsed": 258,
     "status": "ok",
     "timestamp": 1631537601592,
     "user": {
      "displayName": "Малика Лутфуллаева",
      "photoUrl": "https://lh3.googleusercontent.com/a-/AOh14GhasEUQeJuylvCKkFTqGyMfSxwhLgHIRyRYPTwLaA=s64",
      "userId": "12169271378359815395"
     },
     "user_tz": -300
    },
    "id": "-5sqUnI3M6vi",
    "outputId": "4b54c9d9-970b-4acc-889d-a752c7f41eb2"
   },
   "outputs": [
    {
     "data": {
      "text/plain": [
       "['alcohol',\n",
       " 'malic_acid',\n",
       " 'ash',\n",
       " 'alcalinity_of_ash',\n",
       " 'magnesium',\n",
       " 'total_phenols',\n",
       " 'flavanoids',\n",
       " 'nonflavanoid_phenols',\n",
       " 'proanthocyanins',\n",
       " 'color_intensity',\n",
       " 'hue',\n",
       " 'od280/od315_of_diluted_wines',\n",
       " 'proline']"
      ]
     },
     "execution_count": 5,
     "metadata": {},
     "output_type": "execute_result"
    }
   ],
   "source": [
    "wine_feature_names"
   ]
  },
  {
   "cell_type": "code",
   "execution_count": null,
   "metadata": {
    "id": "WbtNINU_M6vj"
   },
   "outputs": [],
   "source": []
  },
  {
   "cell_type": "markdown",
   "metadata": {
    "id": "Nb_9ty_4M6vj"
   },
   "source": [
    "### <center> Регрессия "
   ]
  },
  {
   "cell_type": "code",
   "execution_count": 6,
   "metadata": {
    "executionInfo": {
     "elapsed": 395,
     "status": "ok",
     "timestamp": 1631537681810,
     "user": {
      "displayName": "Малика Лутфуллаева",
      "photoUrl": "https://lh3.googleusercontent.com/a-/AOh14GhasEUQeJuylvCKkFTqGyMfSxwhLgHIRyRYPTwLaA=s64",
      "userId": "12169271378359815395"
     },
     "user_tz": -300
    },
    "id": "DvWX08F2M6vk"
   },
   "outputs": [],
   "source": [
    "# Данные для регрессии\n",
    "data_boston = load_boston()\n",
    "boston_target = data_boston.target\n",
    "boston_data = data_boston.data\n",
    "boston_feature_names = data_boston.feature_names"
   ]
  },
  {
   "cell_type": "code",
   "execution_count": 7,
   "metadata": {
    "colab": {
     "base_uri": "https://localhost:8080/"
    },
    "collapsed": true,
    "executionInfo": {
     "elapsed": 260,
     "status": "ok",
     "timestamp": 1631537686424,
     "user": {
      "displayName": "Малика Лутфуллаева",
      "photoUrl": "https://lh3.googleusercontent.com/a-/AOh14GhasEUQeJuylvCKkFTqGyMfSxwhLgHIRyRYPTwLaA=s64",
      "userId": "12169271378359815395"
     },
     "user_tz": -300
    },
    "id": "R3C1iMlrM6vl",
    "outputId": "85800b57-b54a-4767-b959-33c98dd8aa7b"
   },
   "outputs": [
    {
     "data": {
      "text/plain": [
       "array(['CRIM', 'ZN', 'INDUS', 'CHAS', 'NOX', 'RM', 'AGE', 'DIS', 'RAD',\n",
       "       'TAX', 'PTRATIO', 'B', 'LSTAT'], dtype='<U7')"
      ]
     },
     "execution_count": 7,
     "metadata": {},
     "output_type": "execute_result"
    }
   ],
   "source": [
    "boston_feature_names"
   ]
  },
  {
   "cell_type": "code",
   "execution_count": 8,
   "metadata": {
    "colab": {
     "base_uri": "https://localhost:8080/"
    },
    "collapsed": true,
    "executionInfo": {
     "elapsed": 266,
     "status": "ok",
     "timestamp": 1631537719083,
     "user": {
      "displayName": "Малика Лутфуллаева",
      "photoUrl": "https://lh3.googleusercontent.com/a-/AOh14GhasEUQeJuylvCKkFTqGyMfSxwhLgHIRyRYPTwLaA=s64",
      "userId": "12169271378359815395"
     },
     "user_tz": -300
    },
    "id": "qsKhyQ8qM6vl",
    "outputId": "ebac9dad-414a-42e4-f3ec-cf612c56ba71"
   },
   "outputs": [
    {
     "data": {
      "text/plain": [
       "array([24. , 21.6, 34.7, 33.4, 36.2, 28.7, 22.9, 27.1, 16.5, 18.9, 15. ,\n",
       "       18.9, 21.7, 20.4, 18.2, 19.9, 23.1, 17.5, 20.2, 18.2, 13.6, 19.6,\n",
       "       15.2, 14.5, 15.6, 13.9, 16.6, 14.8, 18.4, 21. , 12.7, 14.5, 13.2,\n",
       "       13.1, 13.5, 18.9, 20. , 21. , 24.7, 30.8, 34.9, 26.6, 25.3, 24.7,\n",
       "       21.2, 19.3, 20. , 16.6, 14.4, 19.4, 19.7, 20.5, 25. , 23.4, 18.9,\n",
       "       35.4, 24.7, 31.6, 23.3, 19.6, 18.7, 16. , 22.2, 25. , 33. , 23.5,\n",
       "       19.4, 22. , 17.4, 20.9, 24.2, 21.7, 22.8, 23.4, 24.1, 21.4, 20. ,\n",
       "       20.8, 21.2, 20.3, 28. , 23.9, 24.8, 22.9, 23.9, 26.6, 22.5, 22.2,\n",
       "       23.6, 28.7, 22.6, 22. , 22.9, 25. , 20.6, 28.4, 21.4, 38.7, 43.8,\n",
       "       33.2, 27.5, 26.5, 18.6, 19.3, 20.1, 19.5, 19.5, 20.4, 19.8, 19.4,\n",
       "       21.7, 22.8, 18.8, 18.7, 18.5, 18.3, 21.2, 19.2, 20.4, 19.3, 22. ,\n",
       "       20.3, 20.5, 17.3, 18.8, 21.4, 15.7, 16.2, 18. , 14.3, 19.2, 19.6,\n",
       "       23. , 18.4, 15.6, 18.1, 17.4, 17.1, 13.3, 17.8, 14. , 14.4, 13.4,\n",
       "       15.6, 11.8, 13.8, 15.6, 14.6, 17.8, 15.4, 21.5, 19.6, 15.3, 19.4,\n",
       "       17. , 15.6, 13.1, 41.3, 24.3, 23.3, 27. , 50. , 50. , 50. , 22.7,\n",
       "       25. , 50. , 23.8, 23.8, 22.3, 17.4, 19.1, 23.1, 23.6, 22.6, 29.4,\n",
       "       23.2, 24.6, 29.9, 37.2, 39.8, 36.2, 37.9, 32.5, 26.4, 29.6, 50. ,\n",
       "       32. , 29.8, 34.9, 37. , 30.5, 36.4, 31.1, 29.1, 50. , 33.3, 30.3,\n",
       "       34.6, 34.9, 32.9, 24.1, 42.3, 48.5, 50. , 22.6, 24.4, 22.5, 24.4,\n",
       "       20. , 21.7, 19.3, 22.4, 28.1, 23.7, 25. , 23.3, 28.7, 21.5, 23. ,\n",
       "       26.7, 21.7, 27.5, 30.1, 44.8, 50. , 37.6, 31.6, 46.7, 31.5, 24.3,\n",
       "       31.7, 41.7, 48.3, 29. , 24. , 25.1, 31.5, 23.7, 23.3, 22. , 20.1,\n",
       "       22.2, 23.7, 17.6, 18.5, 24.3, 20.5, 24.5, 26.2, 24.4, 24.8, 29.6,\n",
       "       42.8, 21.9, 20.9, 44. , 50. , 36. , 30.1, 33.8, 43.1, 48.8, 31. ,\n",
       "       36.5, 22.8, 30.7, 50. , 43.5, 20.7, 21.1, 25.2, 24.4, 35.2, 32.4,\n",
       "       32. , 33.2, 33.1, 29.1, 35.1, 45.4, 35.4, 46. , 50. , 32.2, 22. ,\n",
       "       20.1, 23.2, 22.3, 24.8, 28.5, 37.3, 27.9, 23.9, 21.7, 28.6, 27.1,\n",
       "       20.3, 22.5, 29. , 24.8, 22. , 26.4, 33.1, 36.1, 28.4, 33.4, 28.2,\n",
       "       22.8, 20.3, 16.1, 22.1, 19.4, 21.6, 23.8, 16.2, 17.8, 19.8, 23.1,\n",
       "       21. , 23.8, 23.1, 20.4, 18.5, 25. , 24.6, 23. , 22.2, 19.3, 22.6,\n",
       "       19.8, 17.1, 19.4, 22.2, 20.7, 21.1, 19.5, 18.5, 20.6, 19. , 18.7,\n",
       "       32.7, 16.5, 23.9, 31.2, 17.5, 17.2, 23.1, 24.5, 26.6, 22.9, 24.1,\n",
       "       18.6, 30.1, 18.2, 20.6, 17.8, 21.7, 22.7, 22.6, 25. , 19.9, 20.8,\n",
       "       16.8, 21.9, 27.5, 21.9, 23.1, 50. , 50. , 50. , 50. , 50. , 13.8,\n",
       "       13.8, 15. , 13.9, 13.3, 13.1, 10.2, 10.4, 10.9, 11.3, 12.3,  8.8,\n",
       "        7.2, 10.5,  7.4, 10.2, 11.5, 15.1, 23.2,  9.7, 13.8, 12.7, 13.1,\n",
       "       12.5,  8.5,  5. ,  6.3,  5.6,  7.2, 12.1,  8.3,  8.5,  5. , 11.9,\n",
       "       27.9, 17.2, 27.5, 15. , 17.2, 17.9, 16.3,  7. ,  7.2,  7.5, 10.4,\n",
       "        8.8,  8.4, 16.7, 14.2, 20.8, 13.4, 11.7,  8.3, 10.2, 10.9, 11. ,\n",
       "        9.5, 14.5, 14.1, 16.1, 14.3, 11.7, 13.4,  9.6,  8.7,  8.4, 12.8,\n",
       "       10.5, 17.1, 18.4, 15.4, 10.8, 11.8, 14.9, 12.6, 14.1, 13. , 13.4,\n",
       "       15.2, 16.1, 17.8, 14.9, 14.1, 12.7, 13.5, 14.9, 20. , 16.4, 17.7,\n",
       "       19.5, 20.2, 21.4, 19.9, 19. , 19.1, 19.1, 20.1, 19.9, 19.6, 23.2,\n",
       "       29.8, 13.8, 13.3, 16.7, 12. , 14.6, 21.4, 23. , 23.7, 25. , 21.8,\n",
       "       20.6, 21.2, 19.1, 20.6, 15.2,  7. ,  8.1, 13.6, 20.1, 21.8, 24.5,\n",
       "       23.1, 19.7, 18.3, 21.2, 17.5, 16.8, 22.4, 20.6, 23.9, 22. , 11.9])"
      ]
     },
     "execution_count": 8,
     "metadata": {},
     "output_type": "execute_result"
    }
   ],
   "source": [
    "boston_target"
   ]
  }
 ],
 "metadata": {
  "colab": {
   "name": "Задание_Деревья решений.ipynb",
   "provenance": []
  },
  "kernelspec": {
   "display_name": "Python 3",
   "language": "python",
   "name": "python3"
  },
  "language_info": {
   "codemirror_mode": {
    "name": "ipython",
    "version": 3
   },
   "file_extension": ".py",
   "mimetype": "text/x-python",
   "name": "python",
   "nbconvert_exporter": "python",
   "pygments_lexer": "ipython3",
   "version": "3.9.1"
  }
 },
 "nbformat": 4,
 "nbformat_minor": 1
}
