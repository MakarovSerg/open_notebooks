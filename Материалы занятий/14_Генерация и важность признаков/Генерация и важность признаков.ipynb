{
  "cells": [
    {
      "cell_type": "code",
      "execution_count": null,
      "metadata": {
        "id": "Gaow5dKFJGnP"
      },
      "outputs": [],
      "source": [
        "import pandas as pd\n",
        "import numpy as np\n",
        "import datetime as dt\n",
        "import matplotlib.pyplot as plt\n",
        "import seaborn as sns\n",
        "from sklearn.pipeline import make_pipeline, Pipeline\n",
        "from sklearn.linear_model import LogisticRegression, LinearRegression\n",
        "from sklearn.tree import DecisionTreeRegressor, DecisionTreeClassifier\n",
        "from sklearn.model_selection import train_test_split, KFold, cross_val_score \n",
        "from sklearn.metrics import classification_report, mean_absolute_error, f1_score"
      ]
    },
    {
      "cell_type": "markdown",
      "metadata": {
        "id": "FKMZb3H0JGnV"
      },
      "source": [
        "### <center> Генерация и анализ важности признаков"
      ]
    },
    {
      "cell_type": "markdown",
      "metadata": {
        "id": "nnwVbce_JGnX"
      },
      "source": [
        "###  1. Анализ важности признаков и интерпретаци модели"
      ]
    },
    {
      "cell_type": "markdown",
      "metadata": {
        "id": "rDczicFEJGnY"
      },
      "source": [
        "Очень важно не только уметь строить хорошую модель, но и интерпретировать ее работу, понимать, какие именно признаки имеют большую значимость для модели.\n",
        "\n",
        "**Как можно определить важность признаков?**\n",
        "\n",
        "**1. Встроеные инструменты моделей**\n",
        "-  **feature_importance** в деревьях решений\n",
        "- **коэффициенты линейной регрессии** - привлекательный способ анализа важности признаков, но тут надо быть осторожным! На величину коэффициента влияет размерность признаков: фича, измеряемая в тысячах единиц, может иметь больший коэффициент, чем фича, измеряемая в десятках. \n",
        "\n",
        "**2. Поочередное исключать признаки из модели и смотреть, как изменится качество модели**\n",
        "\n",
        "Такой способ очень затратный по времени, если у вас большое количество признаков, перебор всех возможных комбинаций признаков и многократное переобучение модели может занять много времени. Кроме того, данные похдод показывает скорее, какие из признаков являются важными в ***исходном наборе данных***, а не в конкретной обученной модели. А нас иногда интересует именно модель. \n",
        "\n",
        "**3. Permutation_importance** \n",
        "\n",
        "Идея данного метода заключается в следующем: \n",
        "- Вот мы обучили модель и получили точность модели, к примеру, на кросс-валидации. \n",
        "- Чтобы понять, насколько важен признак, давайте перемешаем все значения в столбце, соответсвующему данному признаку, и посмотрим на точность модель после такого перемешивания. \n",
        "- Если признак вносит вклад в модель - качество модели после перемешивания ухудшится. Чем хуже метрики модели после перемешивания, тем бльший вклад вносит данный признак в модель\n",
        "\n",
        "**Вопрос к размышлению:** можно ли вместо перемешивания столбца просто заменить его случайно сгенерированными данными (случайным шумом)?\n",
        "\n",
        "**4. Специальные библиотеки для интерпретации моделей**\n",
        "\n",
        "Различные подходы к анализу важности признаков реализованы в таких библиотеках:\n",
        " - shap\n",
        " - eli5\n",
        " - lime\n",
        " - др"
      ]
    },
    {
      "cell_type": "markdown",
      "metadata": {
        "id": "7PMV5ipJJGnZ"
      },
      "source": [
        "Рассмотрим процесс анализа признаков на примере. Но сперва установим необходимые библиотеки"
      ]
    },
    {
      "cell_type": "code",
      "execution_count": null,
      "metadata": {
        "collapsed": true,
        "id": "NnNu91KqJGna",
        "outputId": "2b5ee5cf-2419-4eed-b8d1-ceabedea47f5"
      },
      "outputs": [
        {
          "name": "stdout",
          "output_type": "stream",
          "text": [
            "Requirement already satisfied: eli5 in c:\\users\\malika\\anaconda3\\lib\\site-packages (0.11.0)\n",
            "Requirement already satisfied: scipy in c:\\users\\malika\\anaconda3\\lib\\site-packages (from eli5) (1.4.1)\n",
            "Requirement already satisfied: numpy>=1.9.0 in c:\\users\\malika\\anaconda3\\lib\\site-packages (from eli5) (1.18.5)\n",
            "Requirement already satisfied: tabulate>=0.7.7 in c:\\users\\malika\\anaconda3\\lib\\site-packages (from eli5) (0.8.9)\n",
            "Requirement already satisfied: six in c:\\users\\malika\\anaconda3\\lib\\site-packages (from eli5) (1.15.0)\n",
            "Requirement already satisfied: graphviz in c:\\users\\malika\\anaconda3\\lib\\site-packages (from eli5) (0.16)\n",
            "Requirement already satisfied: attrs>16.0.0 in c:\\users\\malika\\anaconda3\\lib\\site-packages (from eli5) (20.3.0)\n",
            "Requirement already satisfied: scikit-learn>=0.20 in c:\\users\\malika\\anaconda3\\lib\\site-packages (from eli5) (0.23.2)\n",
            "Requirement already satisfied: jinja2 in c:\\users\\malika\\anaconda3\\lib\\site-packages (from eli5) (2.11.2)\n",
            "Requirement already satisfied: threadpoolctl>=2.0.0 in c:\\users\\malika\\anaconda3\\lib\\site-packages (from scikit-learn>=0.20->eli5) (2.1.0)\n",
            "Requirement already satisfied: joblib>=0.11 in c:\\users\\malika\\anaconda3\\lib\\site-packages (from scikit-learn>=0.20->eli5) (0.17.0)\n",
            "Requirement already satisfied: MarkupSafe>=0.23 in c:\\users\\malika\\anaconda3\\lib\\site-packages (from jinja2->eli5) (1.1.1)\n",
            "Collecting shap\n",
            "  Downloading shap-0.40.0-cp38-cp38-win_amd64.whl (431 kB)\n",
            "Requirement already satisfied: tqdm>4.25.0 in c:\\users\\malika\\anaconda3\\lib\\site-packages (from shap) (4.50.2)\n",
            "Requirement already satisfied: numba in c:\\users\\malika\\anaconda3\\lib\\site-packages (from shap) (0.51.2)\n",
            "Requirement already satisfied: numpy in c:\\users\\malika\\anaconda3\\lib\\site-packages (from shap) (1.18.5)\n",
            "Requirement already satisfied: cloudpickle in c:\\users\\malika\\anaconda3\\lib\\site-packages (from shap) (1.6.0)\n",
            "Collecting slicer==0.0.7\n",
            "  Downloading slicer-0.0.7-py3-none-any.whl (14 kB)\n",
            "Requirement already satisfied: scikit-learn in c:\\users\\malika\\anaconda3\\lib\\site-packages (from shap) (0.23.2)\n",
            "Requirement already satisfied: pandas in c:\\users\\malika\\anaconda3\\lib\\site-packages (from shap) (1.1.3)\n",
            "Requirement already satisfied: scipy in c:\\users\\malika\\anaconda3\\lib\\site-packages (from shap) (1.4.1)\n",
            "Collecting packaging>20.9\n",
            "  Downloading packaging-21.3-py3-none-any.whl (40 kB)\n",
            "Requirement already satisfied: llvmlite<0.35,>=0.34.0.dev0 in c:\\users\\malika\\anaconda3\\lib\\site-packages (from numba->shap) (0.34.0)\n",
            "Requirement already satisfied: setuptools in c:\\users\\malika\\anaconda3\\lib\\site-packages (from numba->shap) (50.3.1.post20201107)\n",
            "Requirement already satisfied: threadpoolctl>=2.0.0 in c:\\users\\malika\\anaconda3\\lib\\site-packages (from scikit-learn->shap) (2.1.0)\n",
            "Requirement already satisfied: joblib>=0.11 in c:\\users\\malika\\anaconda3\\lib\\site-packages (from scikit-learn->shap) (0.17.0)\n",
            "Requirement already satisfied: pytz>=2017.2 in c:\\users\\malika\\anaconda3\\lib\\site-packages (from pandas->shap) (2020.1)\n",
            "Requirement already satisfied: python-dateutil>=2.7.3 in c:\\users\\malika\\anaconda3\\lib\\site-packages (from pandas->shap) (2.8.1)\n",
            "Requirement already satisfied: pyparsing!=3.0.5,>=2.0.2 in c:\\users\\malika\\anaconda3\\lib\\site-packages (from packaging>20.9->shap) (2.4.7)\n",
            "Requirement already satisfied: six>=1.5 in c:\\users\\malika\\anaconda3\\lib\\site-packages (from python-dateutil>=2.7.3->pandas->shap) (1.15.0)\n",
            "Installing collected packages: slicer, packaging, shap\n",
            "  Attempting uninstall: packaging\n",
            "    Found existing installation: packaging 20.4\n",
            "    Uninstalling packaging-20.4:\n",
            "      Successfully uninstalled packaging-20.4\n",
            "Successfully installed packaging-21.3 shap-0.40.0 slicer-0.0.7\n"
          ]
        }
      ],
      "source": [
        "!pip install eli5\n",
        "!pip install shap\n",
        "import shap\n",
        "import eli5"
      ]
    },
    {
      "cell_type": "code",
      "execution_count": null,
      "metadata": {
        "colab": {
          "base_uri": "https://localhost:8080/",
          "height": 206
        },
        "id": "AKWLSHVJJGnc",
        "outputId": "a0a8ac99-1595-4767-d5ac-0b95275512eb"
      },
      "outputs": [
        {
          "output_type": "execute_result",
          "data": {
            "text/plain": [
              "   PassengerId  Survived  Pclass  \\\n",
              "0            1         0       3   \n",
              "1            2         1       1   \n",
              "2            3         1       3   \n",
              "3            4         1       1   \n",
              "4            5         0       3   \n",
              "\n",
              "                                                Name     Sex   Age  SibSp  \\\n",
              "0                            Braund, Mr. Owen Harris    male  22.0      1   \n",
              "1  Cumings, Mrs. John Bradley (Florence Briggs Th...  female  38.0      1   \n",
              "2                             Heikkinen, Miss. Laina  female  26.0      0   \n",
              "3       Futrelle, Mrs. Jacques Heath (Lily May Peel)  female  35.0      1   \n",
              "4                           Allen, Mr. William Henry    male  35.0      0   \n",
              "\n",
              "   Parch            Ticket     Fare Cabin Embarked  \n",
              "0      0         A/5 21171   7.2500   NaN        S  \n",
              "1      0          PC 17599  71.2833   C85        C  \n",
              "2      0  STON/O2. 3101282   7.9250   NaN        S  \n",
              "3      0            113803  53.1000  C123        S  \n",
              "4      0            373450   8.0500   NaN        S  "
            ],
            "text/html": [
              "\n",
              "  <div id=\"df-cf631c4e-4937-4148-bbfe-85a220887930\">\n",
              "    <div class=\"colab-df-container\">\n",
              "      <div>\n",
              "<style scoped>\n",
              "    .dataframe tbody tr th:only-of-type {\n",
              "        vertical-align: middle;\n",
              "    }\n",
              "\n",
              "    .dataframe tbody tr th {\n",
              "        vertical-align: top;\n",
              "    }\n",
              "\n",
              "    .dataframe thead th {\n",
              "        text-align: right;\n",
              "    }\n",
              "</style>\n",
              "<table border=\"1\" class=\"dataframe\">\n",
              "  <thead>\n",
              "    <tr style=\"text-align: right;\">\n",
              "      <th></th>\n",
              "      <th>PassengerId</th>\n",
              "      <th>Survived</th>\n",
              "      <th>Pclass</th>\n",
              "      <th>Name</th>\n",
              "      <th>Sex</th>\n",
              "      <th>Age</th>\n",
              "      <th>SibSp</th>\n",
              "      <th>Parch</th>\n",
              "      <th>Ticket</th>\n",
              "      <th>Fare</th>\n",
              "      <th>Cabin</th>\n",
              "      <th>Embarked</th>\n",
              "    </tr>\n",
              "  </thead>\n",
              "  <tbody>\n",
              "    <tr>\n",
              "      <th>0</th>\n",
              "      <td>1</td>\n",
              "      <td>0</td>\n",
              "      <td>3</td>\n",
              "      <td>Braund, Mr. Owen Harris</td>\n",
              "      <td>male</td>\n",
              "      <td>22.0</td>\n",
              "      <td>1</td>\n",
              "      <td>0</td>\n",
              "      <td>A/5 21171</td>\n",
              "      <td>7.2500</td>\n",
              "      <td>NaN</td>\n",
              "      <td>S</td>\n",
              "    </tr>\n",
              "    <tr>\n",
              "      <th>1</th>\n",
              "      <td>2</td>\n",
              "      <td>1</td>\n",
              "      <td>1</td>\n",
              "      <td>Cumings, Mrs. John Bradley (Florence Briggs Th...</td>\n",
              "      <td>female</td>\n",
              "      <td>38.0</td>\n",
              "      <td>1</td>\n",
              "      <td>0</td>\n",
              "      <td>PC 17599</td>\n",
              "      <td>71.2833</td>\n",
              "      <td>C85</td>\n",
              "      <td>C</td>\n",
              "    </tr>\n",
              "    <tr>\n",
              "      <th>2</th>\n",
              "      <td>3</td>\n",
              "      <td>1</td>\n",
              "      <td>3</td>\n",
              "      <td>Heikkinen, Miss. Laina</td>\n",
              "      <td>female</td>\n",
              "      <td>26.0</td>\n",
              "      <td>0</td>\n",
              "      <td>0</td>\n",
              "      <td>STON/O2. 3101282</td>\n",
              "      <td>7.9250</td>\n",
              "      <td>NaN</td>\n",
              "      <td>S</td>\n",
              "    </tr>\n",
              "    <tr>\n",
              "      <th>3</th>\n",
              "      <td>4</td>\n",
              "      <td>1</td>\n",
              "      <td>1</td>\n",
              "      <td>Futrelle, Mrs. Jacques Heath (Lily May Peel)</td>\n",
              "      <td>female</td>\n",
              "      <td>35.0</td>\n",
              "      <td>1</td>\n",
              "      <td>0</td>\n",
              "      <td>113803</td>\n",
              "      <td>53.1000</td>\n",
              "      <td>C123</td>\n",
              "      <td>S</td>\n",
              "    </tr>\n",
              "    <tr>\n",
              "      <th>4</th>\n",
              "      <td>5</td>\n",
              "      <td>0</td>\n",
              "      <td>3</td>\n",
              "      <td>Allen, Mr. William Henry</td>\n",
              "      <td>male</td>\n",
              "      <td>35.0</td>\n",
              "      <td>0</td>\n",
              "      <td>0</td>\n",
              "      <td>373450</td>\n",
              "      <td>8.0500</td>\n",
              "      <td>NaN</td>\n",
              "      <td>S</td>\n",
              "    </tr>\n",
              "  </tbody>\n",
              "</table>\n",
              "</div>\n",
              "      <button class=\"colab-df-convert\" onclick=\"convertToInteractive('df-cf631c4e-4937-4148-bbfe-85a220887930')\"\n",
              "              title=\"Convert this dataframe to an interactive table.\"\n",
              "              style=\"display:none;\">\n",
              "        \n",
              "  <svg xmlns=\"http://www.w3.org/2000/svg\" height=\"24px\"viewBox=\"0 0 24 24\"\n",
              "       width=\"24px\">\n",
              "    <path d=\"M0 0h24v24H0V0z\" fill=\"none\"/>\n",
              "    <path d=\"M18.56 5.44l.94 2.06.94-2.06 2.06-.94-2.06-.94-.94-2.06-.94 2.06-2.06.94zm-11 1L8.5 8.5l.94-2.06 2.06-.94-2.06-.94L8.5 2.5l-.94 2.06-2.06.94zm10 10l.94 2.06.94-2.06 2.06-.94-2.06-.94-.94-2.06-.94 2.06-2.06.94z\"/><path d=\"M17.41 7.96l-1.37-1.37c-.4-.4-.92-.59-1.43-.59-.52 0-1.04.2-1.43.59L10.3 9.45l-7.72 7.72c-.78.78-.78 2.05 0 2.83L4 21.41c.39.39.9.59 1.41.59.51 0 1.02-.2 1.41-.59l7.78-7.78 2.81-2.81c.8-.78.8-2.07 0-2.86zM5.41 20L4 18.59l7.72-7.72 1.47 1.35L5.41 20z\"/>\n",
              "  </svg>\n",
              "      </button>\n",
              "      \n",
              "  <style>\n",
              "    .colab-df-container {\n",
              "      display:flex;\n",
              "      flex-wrap:wrap;\n",
              "      gap: 12px;\n",
              "    }\n",
              "\n",
              "    .colab-df-convert {\n",
              "      background-color: #E8F0FE;\n",
              "      border: none;\n",
              "      border-radius: 50%;\n",
              "      cursor: pointer;\n",
              "      display: none;\n",
              "      fill: #1967D2;\n",
              "      height: 32px;\n",
              "      padding: 0 0 0 0;\n",
              "      width: 32px;\n",
              "    }\n",
              "\n",
              "    .colab-df-convert:hover {\n",
              "      background-color: #E2EBFA;\n",
              "      box-shadow: 0px 1px 2px rgba(60, 64, 67, 0.3), 0px 1px 3px 1px rgba(60, 64, 67, 0.15);\n",
              "      fill: #174EA6;\n",
              "    }\n",
              "\n",
              "    [theme=dark] .colab-df-convert {\n",
              "      background-color: #3B4455;\n",
              "      fill: #D2E3FC;\n",
              "    }\n",
              "\n",
              "    [theme=dark] .colab-df-convert:hover {\n",
              "      background-color: #434B5C;\n",
              "      box-shadow: 0px 1px 3px 1px rgba(0, 0, 0, 0.15);\n",
              "      filter: drop-shadow(0px 1px 2px rgba(0, 0, 0, 0.3));\n",
              "      fill: #FFFFFF;\n",
              "    }\n",
              "  </style>\n",
              "\n",
              "      <script>\n",
              "        const buttonEl =\n",
              "          document.querySelector('#df-cf631c4e-4937-4148-bbfe-85a220887930 button.colab-df-convert');\n",
              "        buttonEl.style.display =\n",
              "          google.colab.kernel.accessAllowed ? 'block' : 'none';\n",
              "\n",
              "        async function convertToInteractive(key) {\n",
              "          const element = document.querySelector('#df-cf631c4e-4937-4148-bbfe-85a220887930');\n",
              "          const dataTable =\n",
              "            await google.colab.kernel.invokeFunction('convertToInteractive',\n",
              "                                                     [key], {});\n",
              "          if (!dataTable) return;\n",
              "\n",
              "          const docLinkHtml = 'Like what you see? Visit the ' +\n",
              "            '<a target=\"_blank\" href=https://colab.research.google.com/notebooks/data_table.ipynb>data table notebook</a>'\n",
              "            + ' to learn more about interactive tables.';\n",
              "          element.innerHTML = '';\n",
              "          dataTable['output_type'] = 'display_data';\n",
              "          await google.colab.output.renderOutput(dataTable, element);\n",
              "          const docLink = document.createElement('div');\n",
              "          docLink.innerHTML = docLinkHtml;\n",
              "          element.appendChild(docLink);\n",
              "        }\n",
              "      </script>\n",
              "    </div>\n",
              "  </div>\n",
              "  "
            ]
          },
          "metadata": {},
          "execution_count": 4
        }
      ],
      "source": [
        "data = pd.read_csv('titanic.csv')\n",
        "data.head()"
      ]
    },
    {
      "cell_type": "markdown",
      "metadata": {
        "id": "AuFvlzSRJGnd"
      },
      "source": [
        "#### BaseLine"
      ]
    },
    {
      "cell_type": "markdown",
      "metadata": {
        "id": "LzuZRRrdJGne"
      },
      "source": [
        "Проведем небольшую предобработку датасета. Преобразуем текстовые признаки: пол, город отправления. Заполним пропуски в данных"
      ]
    },
    {
      "cell_type": "code",
      "execution_count": null,
      "metadata": {
        "colab": {
          "base_uri": "https://localhost:8080/",
          "height": 206
        },
        "id": "CbeMRtgRJGne",
        "outputId": "1c2854a9-1216-45ed-e541-4e2e4094fca4"
      },
      "outputs": [
        {
          "output_type": "execute_result",
          "data": {
            "text/plain": [
              "   PassengerId  Survived  Pclass  \\\n",
              "0            1         0       3   \n",
              "1            2         1       1   \n",
              "2            3         1       3   \n",
              "3            4         1       1   \n",
              "4            5         0       3   \n",
              "\n",
              "                                                Name  Sex   Age  SibSp  Parch  \\\n",
              "0                            Braund, Mr. Owen Harris    0  22.0      1      0   \n",
              "1  Cumings, Mrs. John Bradley (Florence Briggs Th...    1  38.0      1      0   \n",
              "2                             Heikkinen, Miss. Laina    1  26.0      0      0   \n",
              "3       Futrelle, Mrs. Jacques Heath (Lily May Peel)    1  35.0      1      0   \n",
              "4                           Allen, Mr. William Henry    0  35.0      0      0   \n",
              "\n",
              "             Ticket     Fare Cabin  Embarked  \n",
              "0         A/5 21171   7.2500   NaN       0.0  \n",
              "1          PC 17599  71.2833   C85       1.0  \n",
              "2  STON/O2. 3101282   7.9250   NaN       0.0  \n",
              "3            113803  53.1000  C123       0.0  \n",
              "4            373450   8.0500   NaN       0.0  "
            ],
            "text/html": [
              "\n",
              "  <div id=\"df-b65a5cc8-156a-405c-a44c-cb9d1b589231\">\n",
              "    <div class=\"colab-df-container\">\n",
              "      <div>\n",
              "<style scoped>\n",
              "    .dataframe tbody tr th:only-of-type {\n",
              "        vertical-align: middle;\n",
              "    }\n",
              "\n",
              "    .dataframe tbody tr th {\n",
              "        vertical-align: top;\n",
              "    }\n",
              "\n",
              "    .dataframe thead th {\n",
              "        text-align: right;\n",
              "    }\n",
              "</style>\n",
              "<table border=\"1\" class=\"dataframe\">\n",
              "  <thead>\n",
              "    <tr style=\"text-align: right;\">\n",
              "      <th></th>\n",
              "      <th>PassengerId</th>\n",
              "      <th>Survived</th>\n",
              "      <th>Pclass</th>\n",
              "      <th>Name</th>\n",
              "      <th>Sex</th>\n",
              "      <th>Age</th>\n",
              "      <th>SibSp</th>\n",
              "      <th>Parch</th>\n",
              "      <th>Ticket</th>\n",
              "      <th>Fare</th>\n",
              "      <th>Cabin</th>\n",
              "      <th>Embarked</th>\n",
              "    </tr>\n",
              "  </thead>\n",
              "  <tbody>\n",
              "    <tr>\n",
              "      <th>0</th>\n",
              "      <td>1</td>\n",
              "      <td>0</td>\n",
              "      <td>3</td>\n",
              "      <td>Braund, Mr. Owen Harris</td>\n",
              "      <td>0</td>\n",
              "      <td>22.0</td>\n",
              "      <td>1</td>\n",
              "      <td>0</td>\n",
              "      <td>A/5 21171</td>\n",
              "      <td>7.2500</td>\n",
              "      <td>NaN</td>\n",
              "      <td>0.0</td>\n",
              "    </tr>\n",
              "    <tr>\n",
              "      <th>1</th>\n",
              "      <td>2</td>\n",
              "      <td>1</td>\n",
              "      <td>1</td>\n",
              "      <td>Cumings, Mrs. John Bradley (Florence Briggs Th...</td>\n",
              "      <td>1</td>\n",
              "      <td>38.0</td>\n",
              "      <td>1</td>\n",
              "      <td>0</td>\n",
              "      <td>PC 17599</td>\n",
              "      <td>71.2833</td>\n",
              "      <td>C85</td>\n",
              "      <td>1.0</td>\n",
              "    </tr>\n",
              "    <tr>\n",
              "      <th>2</th>\n",
              "      <td>3</td>\n",
              "      <td>1</td>\n",
              "      <td>3</td>\n",
              "      <td>Heikkinen, Miss. Laina</td>\n",
              "      <td>1</td>\n",
              "      <td>26.0</td>\n",
              "      <td>0</td>\n",
              "      <td>0</td>\n",
              "      <td>STON/O2. 3101282</td>\n",
              "      <td>7.9250</td>\n",
              "      <td>NaN</td>\n",
              "      <td>0.0</td>\n",
              "    </tr>\n",
              "    <tr>\n",
              "      <th>3</th>\n",
              "      <td>4</td>\n",
              "      <td>1</td>\n",
              "      <td>1</td>\n",
              "      <td>Futrelle, Mrs. Jacques Heath (Lily May Peel)</td>\n",
              "      <td>1</td>\n",
              "      <td>35.0</td>\n",
              "      <td>1</td>\n",
              "      <td>0</td>\n",
              "      <td>113803</td>\n",
              "      <td>53.1000</td>\n",
              "      <td>C123</td>\n",
              "      <td>0.0</td>\n",
              "    </tr>\n",
              "    <tr>\n",
              "      <th>4</th>\n",
              "      <td>5</td>\n",
              "      <td>0</td>\n",
              "      <td>3</td>\n",
              "      <td>Allen, Mr. William Henry</td>\n",
              "      <td>0</td>\n",
              "      <td>35.0</td>\n",
              "      <td>0</td>\n",
              "      <td>0</td>\n",
              "      <td>373450</td>\n",
              "      <td>8.0500</td>\n",
              "      <td>NaN</td>\n",
              "      <td>0.0</td>\n",
              "    </tr>\n",
              "  </tbody>\n",
              "</table>\n",
              "</div>\n",
              "      <button class=\"colab-df-convert\" onclick=\"convertToInteractive('df-b65a5cc8-156a-405c-a44c-cb9d1b589231')\"\n",
              "              title=\"Convert this dataframe to an interactive table.\"\n",
              "              style=\"display:none;\">\n",
              "        \n",
              "  <svg xmlns=\"http://www.w3.org/2000/svg\" height=\"24px\"viewBox=\"0 0 24 24\"\n",
              "       width=\"24px\">\n",
              "    <path d=\"M0 0h24v24H0V0z\" fill=\"none\"/>\n",
              "    <path d=\"M18.56 5.44l.94 2.06.94-2.06 2.06-.94-2.06-.94-.94-2.06-.94 2.06-2.06.94zm-11 1L8.5 8.5l.94-2.06 2.06-.94-2.06-.94L8.5 2.5l-.94 2.06-2.06.94zm10 10l.94 2.06.94-2.06 2.06-.94-2.06-.94-.94-2.06-.94 2.06-2.06.94z\"/><path d=\"M17.41 7.96l-1.37-1.37c-.4-.4-.92-.59-1.43-.59-.52 0-1.04.2-1.43.59L10.3 9.45l-7.72 7.72c-.78.78-.78 2.05 0 2.83L4 21.41c.39.39.9.59 1.41.59.51 0 1.02-.2 1.41-.59l7.78-7.78 2.81-2.81c.8-.78.8-2.07 0-2.86zM5.41 20L4 18.59l7.72-7.72 1.47 1.35L5.41 20z\"/>\n",
              "  </svg>\n",
              "      </button>\n",
              "      \n",
              "  <style>\n",
              "    .colab-df-container {\n",
              "      display:flex;\n",
              "      flex-wrap:wrap;\n",
              "      gap: 12px;\n",
              "    }\n",
              "\n",
              "    .colab-df-convert {\n",
              "      background-color: #E8F0FE;\n",
              "      border: none;\n",
              "      border-radius: 50%;\n",
              "      cursor: pointer;\n",
              "      display: none;\n",
              "      fill: #1967D2;\n",
              "      height: 32px;\n",
              "      padding: 0 0 0 0;\n",
              "      width: 32px;\n",
              "    }\n",
              "\n",
              "    .colab-df-convert:hover {\n",
              "      background-color: #E2EBFA;\n",
              "      box-shadow: 0px 1px 2px rgba(60, 64, 67, 0.3), 0px 1px 3px 1px rgba(60, 64, 67, 0.15);\n",
              "      fill: #174EA6;\n",
              "    }\n",
              "\n",
              "    [theme=dark] .colab-df-convert {\n",
              "      background-color: #3B4455;\n",
              "      fill: #D2E3FC;\n",
              "    }\n",
              "\n",
              "    [theme=dark] .colab-df-convert:hover {\n",
              "      background-color: #434B5C;\n",
              "      box-shadow: 0px 1px 3px 1px rgba(0, 0, 0, 0.15);\n",
              "      filter: drop-shadow(0px 1px 2px rgba(0, 0, 0, 0.3));\n",
              "      fill: #FFFFFF;\n",
              "    }\n",
              "  </style>\n",
              "\n",
              "      <script>\n",
              "        const buttonEl =\n",
              "          document.querySelector('#df-b65a5cc8-156a-405c-a44c-cb9d1b589231 button.colab-df-convert');\n",
              "        buttonEl.style.display =\n",
              "          google.colab.kernel.accessAllowed ? 'block' : 'none';\n",
              "\n",
              "        async function convertToInteractive(key) {\n",
              "          const element = document.querySelector('#df-b65a5cc8-156a-405c-a44c-cb9d1b589231');\n",
              "          const dataTable =\n",
              "            await google.colab.kernel.invokeFunction('convertToInteractive',\n",
              "                                                     [key], {});\n",
              "          if (!dataTable) return;\n",
              "\n",
              "          const docLinkHtml = 'Like what you see? Visit the ' +\n",
              "            '<a target=\"_blank\" href=https://colab.research.google.com/notebooks/data_table.ipynb>data table notebook</a>'\n",
              "            + ' to learn more about interactive tables.';\n",
              "          element.innerHTML = '';\n",
              "          dataTable['output_type'] = 'display_data';\n",
              "          await google.colab.output.renderOutput(dataTable, element);\n",
              "          const docLink = document.createElement('div');\n",
              "          docLink.innerHTML = docLinkHtml;\n",
              "          element.appendChild(docLink);\n",
              "        }\n",
              "      </script>\n",
              "    </div>\n",
              "  </div>\n",
              "  "
            ]
          },
          "metadata": {},
          "execution_count": 52
        }
      ],
      "source": [
        "df = data.copy()\n",
        "df['Sex'] = df['Sex'].map({'female':1, 'male':0})\n",
        "df['Embarked'] = df['Embarked'].map({'S':0, 'C':1, 'Q':2})\n",
        "df['Age'] = df['Age'].fillna(df['Age'].mean())\n",
        "df['Embarked'] = df['Embarked'].fillna(df['Embarked'].mode()[0])\n",
        "df.head()"
      ]
    },
    {
      "cell_type": "code",
      "execution_count": null,
      "metadata": {
        "colab": {
          "base_uri": "https://localhost:8080/"
        },
        "id": "8BsqPmADJGng",
        "outputId": "5be179dc-556d-44ec-9a56-d1d74cebe995"
      },
      "outputs": [
        {
          "output_type": "stream",
          "name": "stdout",
          "text": [
            "Точность на трейне: \n",
            "0.7795031055900622\n",
            "Точность на кросс-валидации: \n",
            "0.7413950845019892\n"
          ]
        }
      ],
      "source": [
        "X = df[['Pclass', 'Sex', 'Age', 'SibSp', 'Parch', 'Fare', 'Embarked']]\n",
        "y = df['Survived']\n",
        "\n",
        "kf = KFold(n_splits=5, shuffle=True, random_state=42)\n",
        "\n",
        "tree = DecisionTreeClassifier(max_depth=5, random_state=17)\n",
        "tree.fit(X, y)\n",
        "\n",
        "scores = cross_val_score(tree, X, y, cv=kf, scoring='f1')\n",
        "\n",
        "print(\"Точность на трейне: \\n{}\".format(f1_score(tree.predict(X), y)))\n",
        "print(\"Точность на кросс-валидации: \\n{}\".format(scores.mean()))"
      ]
    },
    {
      "cell_type": "markdown",
      "metadata": {
        "id": "3JbtE1b3JGng"
      },
      "source": [
        "Посмотрим **permutation_importance** для признаков базовой модели, используя библиотеку **eli5**.\n",
        "\n",
        "Не забывайте в параметре **scoring** указать, какую именно метрику качества вы хотите измерять. \n",
        "\n",
        "Так же можно указать количество итераций **n_iter**. Это чем-то похоже на кросс-валидацию: позволит провести перемешивание несколько раз и минимизировать случайность результата\n",
        "\n",
        "Если вы используете модель не из **sklearn**, а из другой библиотеки, используйте следующую функцию \n",
        "\n",
        "`from eli5.permutation_importance import get_score_importances`"
      ]
    },
    {
      "cell_type": "code",
      "source": [
        "#!pip install eli5\n",
        "from eli5.sklearn import PermutationImportance"
      ],
      "metadata": {
        "id": "vgpM2bESROGC"
      },
      "execution_count": null,
      "outputs": []
    },
    {
      "cell_type": "code",
      "source": [
        "import eli5"
      ],
      "metadata": {
        "id": "KDsDNhEIRU7G"
      },
      "execution_count": null,
      "outputs": []
    },
    {
      "cell_type": "code",
      "execution_count": null,
      "metadata": {
        "id": "qnh21YHdJGnh",
        "outputId": "b839de0d-8fa1-4575-d45f-ce2662a520ad"
      },
      "outputs": [
        {
          "data": {
            "text/html": [
              "\n",
              "    <style>\n",
              "    table.eli5-weights tr:hover {\n",
              "        filter: brightness(85%);\n",
              "    }\n",
              "</style>\n",
              "\n",
              "\n",
              "\n",
              "    \n",
              "\n",
              "    \n",
              "\n",
              "    \n",
              "\n",
              "    \n",
              "\n",
              "    \n",
              "\n",
              "    \n",
              "\n",
              "\n",
              "    \n",
              "\n",
              "    \n",
              "\n",
              "    \n",
              "\n",
              "    \n",
              "\n",
              "    \n",
              "\n",
              "    \n",
              "\n",
              "\n",
              "    \n",
              "\n",
              "    \n",
              "\n",
              "    \n",
              "\n",
              "    \n",
              "\n",
              "    \n",
              "        <table class=\"eli5-weights eli5-feature-importances\" style=\"border-collapse: collapse; border: none; margin-top: 0em; table-layout: auto;\">\n",
              "    <thead>\n",
              "    <tr style=\"border: none;\">\n",
              "        <th style=\"padding: 0 1em 0 0.5em; text-align: right; border: none;\">Weight</th>\n",
              "        <th style=\"padding: 0 0.5em 0 0.5em; text-align: left; border: none;\">Feature</th>\n",
              "    </tr>\n",
              "    </thead>\n",
              "    <tbody>\n",
              "    \n",
              "        <tr style=\"background-color: hsl(120, 100.00%, 80.00%); border: none;\">\n",
              "            <td style=\"padding: 0 1em 0 0.5em; text-align: right; border: none;\">\n",
              "                0.3336\n",
              "                \n",
              "                    &plusmn; 0.0221\n",
              "                \n",
              "            </td>\n",
              "            <td style=\"padding: 0 0.5em 0 0.5em; text-align: left; border: none;\">\n",
              "                Sex\n",
              "            </td>\n",
              "        </tr>\n",
              "    \n",
              "        <tr style=\"background-color: hsl(120, 100.00%, 89.95%); border: none;\">\n",
              "            <td style=\"padding: 0 1em 0 0.5em; text-align: right; border: none;\">\n",
              "                0.1249\n",
              "                \n",
              "                    &plusmn; 0.0210\n",
              "                \n",
              "            </td>\n",
              "            <td style=\"padding: 0 0.5em 0 0.5em; text-align: left; border: none;\">\n",
              "                Pclass\n",
              "            </td>\n",
              "        </tr>\n",
              "    \n",
              "        <tr style=\"background-color: hsl(120, 100.00%, 90.63%); border: none;\">\n",
              "            <td style=\"padding: 0 1em 0 0.5em; text-align: right; border: none;\">\n",
              "                0.1129\n",
              "                \n",
              "                    &plusmn; 0.0119\n",
              "                \n",
              "            </td>\n",
              "            <td style=\"padding: 0 0.5em 0 0.5em; text-align: left; border: none;\">\n",
              "                Age\n",
              "            </td>\n",
              "        </tr>\n",
              "    \n",
              "        <tr style=\"background-color: hsl(120, 100.00%, 92.12%); border: none;\">\n",
              "            <td style=\"padding: 0 1em 0 0.5em; text-align: right; border: none;\">\n",
              "                0.0882\n",
              "                \n",
              "                    &plusmn; 0.0143\n",
              "                \n",
              "            </td>\n",
              "            <td style=\"padding: 0 0.5em 0 0.5em; text-align: left; border: none;\">\n",
              "                Fare\n",
              "            </td>\n",
              "        </tr>\n",
              "    \n",
              "        <tr style=\"background-color: hsl(120, 100.00%, 96.46%); border: none;\">\n",
              "            <td style=\"padding: 0 1em 0 0.5em; text-align: right; border: none;\">\n",
              "                0.0281\n",
              "                \n",
              "                    &plusmn; 0.0053\n",
              "                \n",
              "            </td>\n",
              "            <td style=\"padding: 0 0.5em 0 0.5em; text-align: left; border: none;\">\n",
              "                Parch\n",
              "            </td>\n",
              "        </tr>\n",
              "    \n",
              "        <tr style=\"background-color: hsl(120, 100.00%, 96.76%); border: none;\">\n",
              "            <td style=\"padding: 0 1em 0 0.5em; text-align: right; border: none;\">\n",
              "                0.0248\n",
              "                \n",
              "                    &plusmn; 0.0073\n",
              "                \n",
              "            </td>\n",
              "            <td style=\"padding: 0 0.5em 0 0.5em; text-align: left; border: none;\">\n",
              "                Embarked\n",
              "            </td>\n",
              "        </tr>\n",
              "    \n",
              "        <tr style=\"background-color: hsl(120, 100.00%, 97.47%); border: none;\">\n",
              "            <td style=\"padding: 0 1em 0 0.5em; text-align: right; border: none;\">\n",
              "                0.0174\n",
              "                \n",
              "                    &plusmn; 0.0042\n",
              "                \n",
              "            </td>\n",
              "            <td style=\"padding: 0 0.5em 0 0.5em; text-align: left; border: none;\">\n",
              "                SibSp\n",
              "            </td>\n",
              "        </tr>\n",
              "    \n",
              "    \n",
              "    </tbody>\n",
              "</table>\n",
              "    \n",
              "\n",
              "    \n",
              "\n",
              "\n",
              "    \n",
              "\n",
              "    \n",
              "\n",
              "    \n",
              "\n",
              "    \n",
              "\n",
              "    \n",
              "\n",
              "    \n",
              "\n",
              "\n",
              "\n"
            ],
            "text/plain": [
              "<IPython.core.display.HTML object>"
            ]
          },
          "execution_count": 51,
          "metadata": {},
          "output_type": "execute_result"
        }
      ],
      "source": [
        "from eli5.sklearn import PermutationImportance\n",
        "permutation = PermutationImportance(tree,  scoring ='f1', n_iter=5, random_state=17).fit(X, y)\n",
        "eli5.show_weights(permutation, feature_names=X.columns.tolist())"
      ]
    },
    {
      "cell_type": "markdown",
      "metadata": {
        "id": "z-Lqm3eXJGnh"
      },
      "source": [
        "**Как интерпретировать результаты?**\n",
        "\n",
        "Признаки расположени по убыванию важности. В нашей модели самым важным признаком является **Sex**. Значение `0.3336` показывает, что при перемешивании признака  Число `+-0.0221` показывает, как менялось значение прироста метрики при разных перестановках (итерацийх).\n",
        "\n",
        "В данном примере нет признаков, отрицательно влияющих на модель, однако такое тоже возможно. Это бы означало, что в случае прогноза на перемешанных фичах прогноз оказывался точнее, чем с реальными фичами. (В таблице с результатами добавились строки с красной заливкой и отрицательными значениями, близкими к нулю). Это означало бы, что данные признаки не важные.\n",
        "\n"
      ]
    },
    {
      "cell_type": "markdown",
      "metadata": {
        "id": "Jt2moQO4JGnh"
      },
      "source": [
        "### 2. Добавим в модель новые признаки\n",
        "\n",
        "Для чего нужно генерировать новые признаки? Это позволяет модели лучше понять зависимости в данных, \"взглянуть на них под другим углом\".\n",
        "\n",
        "Новые признаки можно генерировать исходя из логики самих данных. Попробуем рассмотреть, какую еще дополнительную информацию можно добавить, испоьзуя признаки **Parch** и **SibSp**."
      ]
    },
    {
      "cell_type": "code",
      "execution_count": null,
      "metadata": {
        "colab": {
          "base_uri": "https://localhost:8080/",
          "height": 276
        },
        "id": "eVuPR5tVJGni",
        "outputId": "bc1e45c4-9ef1-4905-a8af-e5869fe2504d"
      },
      "outputs": [
        {
          "output_type": "display_data",
          "data": {
            "text/plain": [
              "<Figure size 432x288 with 1 Axes>"
            ],
            "image/png": "[encoded data removed]"
          },
          "metadata": {
            "needs_background": "light"
          }
        }
      ],
      "source": [
        "gr = df.groupby(['Parch'])[['Survived']].mean().reset_index()\n",
        "gr['Survived'].plot(kind='bar');\n",
        "plt.xlabel('Количество родственников по вертикали (родители, дети)');\n",
        "plt.ylabel('Процент выживших');"
      ]
    },
    {
      "cell_type": "code",
      "execution_count": null,
      "metadata": {
        "colab": {
          "base_uri": "https://localhost:8080/",
          "height": 276
        },
        "id": "gyhucJdcJGni",
        "outputId": "e1512ceb-011d-4a8b-b072-03932f85a046"
      },
      "outputs": [
        {
          "output_type": "display_data",
          "data": {
            "text/plain": [
              "<Figure size 432x288 with 1 Axes>"
            ],
            "image/png": "[encoded data removed]"
          },
          "metadata": {
            "needs_background": "light"
          }
        }
      ],
      "source": [
        "gr = df.groupby(['SibSp'])[['Survived']].mean().reset_index()\n",
        "gr['Survived'].plot(kind='bar');\n",
        "plt.xlabel('Количество родственников по горизонтали(братья, сестры, супруги');\n",
        "plt.ylabel('Процент выживших');"
      ]
    },
    {
      "cell_type": "markdown",
      "metadata": {
        "id": "dszEchfhJGnj"
      },
      "source": [
        "Добавим признак с общим количесвтом родственников на корабле и посмотрим, как он влияет на выживаемость.\n",
        "Так же приходит в голову добавить признак \"одиночества\" пассажира "
      ]
    },
    {
      "cell_type": "code",
      "execution_count": null,
      "metadata": {
        "id": "ZLJqBm7yJGnj"
      },
      "outputs": [],
      "source": [
        "# Общее количество родственноков: SibSp (братья и сестры / супруги) Parch (родители/дети)\n",
        "df['Relatives'] = df['SibSp'] + df['Parch'] \n",
        "# Одинокий ли человек\n",
        "df['IsAlone'] = df['Relatives'].apply(lambda x: 1 if x==0 else 0)"
      ]
    },
    {
      "cell_type": "markdown",
      "metadata": {
        "id": "g4A1tZw4JGno"
      },
      "source": [
        "Видим, что люди с маленьким количеством родственников (от 1 до 3) выживали существенно чаще чем люди с большим количеством родственников. При этом, отсутсвие родственников также не слишком хорошо помогало спастись."
      ]
    },
    {
      "cell_type": "code",
      "execution_count": null,
      "metadata": {
        "id": "JA-6BZkQJGnp"
      },
      "outputs": [],
      "source": [
        "# Мало родственников\n",
        "df['NotMuchRelatives'] = df['Relatives'].apply(lambda x: 0 if x in [0, 4, 5, 6, 7, 8] else 1)"
      ]
    },
    {
      "cell_type": "code",
      "execution_count": null,
      "metadata": {
        "colab": {
          "base_uri": "https://localhost:8080/",
          "height": 276
        },
        "id": "x1z8T1Z2JGnp",
        "outputId": "4dde7825-2496-4d28-f67d-d53ebeb40b4f"
      },
      "outputs": [
        {
          "output_type": "display_data",
          "data": {
            "text/plain": [
              "<Figure size 432x288 with 1 Axes>"
            ],
            "image/png": "[encoded data removed]"
          },
          "metadata": {
            "needs_background": "light"
          }
        }
      ],
      "source": [
        "gr = df.groupby(['Relatives'])[['Survived']].mean().reset_index()\n",
        "gr['Survived'].plot(kind='bar');\n",
        "plt.xlabel('Количество родственников');\n",
        "plt.ylabel('Процент выживших');"
      ]
    },
    {
      "cell_type": "code",
      "execution_count": null,
      "metadata": {
        "colab": {
          "base_uri": "https://localhost:8080/",
          "height": 260
        },
        "id": "2IVGgolXJGnq",
        "outputId": "1509b2ba-eb87-44c6-f423-e7841ac4344e"
      },
      "outputs": [
        {
          "output_type": "stream",
          "name": "stdout",
          "text": [
            "Точность на трейне: \n",
            "0.7795031055900622\n",
            "Точность на кросс-валидации: \n",
            "0.7417911439420856\n"
          ]
        },
        {
          "output_type": "execute_result",
          "data": {
            "text/plain": [
              "<IPython.core.display.HTML object>"
            ],
            "text/html": [
              "\n",
              "    <style>\n",
              "    table.eli5-weights tr:hover {\n",
              "        filter: brightness(85%);\n",
              "    }\n",
              "</style>\n",
              "\n",
              "\n",
              "\n",
              "    \n",
              "\n",
              "    \n",
              "\n",
              "    \n",
              "\n",
              "    \n",
              "\n",
              "    \n",
              "\n",
              "    \n",
              "\n",
              "\n",
              "    \n",
              "\n",
              "    \n",
              "\n",
              "    \n",
              "\n",
              "    \n",
              "\n",
              "    \n",
              "\n",
              "    \n",
              "\n",
              "\n",
              "    \n",
              "\n",
              "    \n",
              "\n",
              "    \n",
              "\n",
              "    \n",
              "\n",
              "    \n",
              "        <table class=\"eli5-weights eli5-feature-importances\" style=\"border-collapse: collapse; border: none; margin-top: 0em; table-layout: auto;\">\n",
              "    <thead>\n",
              "    <tr style=\"border: none;\">\n",
              "        <th style=\"padding: 0 1em 0 0.5em; text-align: right; border: none;\">Weight</th>\n",
              "        <th style=\"padding: 0 0.5em 0 0.5em; text-align: left; border: none;\">Feature</th>\n",
              "    </tr>\n",
              "    </thead>\n",
              "    <tbody>\n",
              "    \n",
              "        <tr style=\"background-color: hsl(120, 100.00%, 80.00%); border: none;\">\n",
              "            <td style=\"padding: 0 1em 0 0.5em; text-align: right; border: none;\">\n",
              "                0.3370\n",
              "                \n",
              "                    &plusmn; 0.0191\n",
              "                \n",
              "            </td>\n",
              "            <td style=\"padding: 0 0.5em 0 0.5em; text-align: left; border: none;\">\n",
              "                Sex\n",
              "            </td>\n",
              "        </tr>\n",
              "    \n",
              "        <tr style=\"background-color: hsl(120, 100.00%, 92.80%); border: none;\">\n",
              "            <td style=\"padding: 0 1em 0 0.5em; text-align: right; border: none;\">\n",
              "                0.0783\n",
              "                \n",
              "                    &plusmn; 0.0024\n",
              "                \n",
              "            </td>\n",
              "            <td style=\"padding: 0 0.5em 0 0.5em; text-align: left; border: none;\">\n",
              "                Pclass\n",
              "            </td>\n",
              "        </tr>\n",
              "    \n",
              "        <tr style=\"background-color: hsl(120, 100.00%, 93.63%); border: none;\">\n",
              "            <td style=\"padding: 0 1em 0 0.5em; text-align: right; border: none;\">\n",
              "                0.0657\n",
              "                \n",
              "                    &plusmn; 0.0225\n",
              "                \n",
              "            </td>\n",
              "            <td style=\"padding: 0 0.5em 0 0.5em; text-align: left; border: none;\">\n",
              "                Age\n",
              "            </td>\n",
              "        </tr>\n",
              "    \n",
              "        <tr style=\"background-color: hsl(120, 100.00%, 94.68%); border: none;\">\n",
              "            <td style=\"padding: 0 1em 0 0.5em; text-align: right; border: none;\">\n",
              "                0.0507\n",
              "                \n",
              "                    &plusmn; 0.0157\n",
              "                \n",
              "            </td>\n",
              "            <td style=\"padding: 0 0.5em 0 0.5em; text-align: left; border: none;\">\n",
              "                Fare\n",
              "            </td>\n",
              "        </tr>\n",
              "    \n",
              "        <tr style=\"background-color: hsl(120, 100.00%, 97.28%); border: none;\">\n",
              "            <td style=\"padding: 0 1em 0 0.5em; text-align: right; border: none;\">\n",
              "                0.0195\n",
              "                \n",
              "                    &plusmn; 0.0056\n",
              "                \n",
              "            </td>\n",
              "            <td style=\"padding: 0 0.5em 0 0.5em; text-align: left; border: none;\">\n",
              "                Parch\n",
              "            </td>\n",
              "        </tr>\n",
              "    \n",
              "        <tr style=\"background-color: hsl(120, 100.00%, 98.48%); border: none;\">\n",
              "            <td style=\"padding: 0 1em 0 0.5em; text-align: right; border: none;\">\n",
              "                0.0085\n",
              "                \n",
              "                    &plusmn; 0.0027\n",
              "                \n",
              "            </td>\n",
              "            <td style=\"padding: 0 0.5em 0 0.5em; text-align: left; border: none;\">\n",
              "                SibSp\n",
              "            </td>\n",
              "        </tr>\n",
              "    \n",
              "        <tr style=\"background-color: hsl(120, 100.00%, 99.61%); border: none;\">\n",
              "            <td style=\"padding: 0 1em 0 0.5em; text-align: right; border: none;\">\n",
              "                0.0012\n",
              "                \n",
              "                    &plusmn; 0.0000\n",
              "                \n",
              "            </td>\n",
              "            <td style=\"padding: 0 0.5em 0 0.5em; text-align: left; border: none;\">\n",
              "                Relatives\n",
              "            </td>\n",
              "        </tr>\n",
              "    \n",
              "        <tr style=\"background-color: hsl(0, 100.00%, 100.00%); border: none;\">\n",
              "            <td style=\"padding: 0 1em 0 0.5em; text-align: right; border: none;\">\n",
              "                0\n",
              "                \n",
              "                    &plusmn; 0.0000\n",
              "                \n",
              "            </td>\n",
              "            <td style=\"padding: 0 0.5em 0 0.5em; text-align: left; border: none;\">\n",
              "                IsAlone\n",
              "            </td>\n",
              "        </tr>\n",
              "    \n",
              "        <tr style=\"background-color: hsl(0, 100.00%, 100.00%); border: none;\">\n",
              "            <td style=\"padding: 0 1em 0 0.5em; text-align: right; border: none;\">\n",
              "                0\n",
              "                \n",
              "                    &plusmn; 0.0000\n",
              "                \n",
              "            </td>\n",
              "            <td style=\"padding: 0 0.5em 0 0.5em; text-align: left; border: none;\">\n",
              "                Embarked\n",
              "            </td>\n",
              "        </tr>\n",
              "    \n",
              "    \n",
              "    </tbody>\n",
              "</table>\n",
              "    \n",
              "\n",
              "    \n",
              "\n",
              "\n",
              "    \n",
              "\n",
              "    \n",
              "\n",
              "    \n",
              "\n",
              "    \n",
              "\n",
              "    \n",
              "\n",
              "    \n",
              "\n",
              "\n",
              "\n"
            ]
          },
          "metadata": {},
          "execution_count": 57
        }
      ],
      "source": [
        "X = df[['Pclass', 'Sex', 'Age', 'Fare', 'Embarked','SibSp', 'Parch', 'Relatives', 'IsAlone']]\n",
        "y = df['Survived']\n",
        "\n",
        "kf = KFold(n_splits=5, shuffle=True, random_state=42)\n",
        "tree = DecisionTreeClassifier(max_depth=5, random_state=17) \n",
        "tree.fit(X, y)\n",
        "scores = cross_val_score(tree, X, y, cv=kf, scoring='f1')\n",
        "print(\"Точность на трейне: \\n{}\".format(f1_score(tree.predict(X), y)))\n",
        "print(\"Точность на кросс-валидации: \\n{}\".format(scores.mean()))\n",
        "\n",
        "permutation = PermutationImportance(tree,  scoring ='f1', n_iter=5, random_state=17).fit(X, y)\n",
        "eli5.show_weights(permutation, feature_names=X.columns.tolist())"
      ]
    },
    {
      "cell_type": "code",
      "execution_count": null,
      "metadata": {
        "colab": {
          "base_uri": "https://localhost:8080/",
          "height": 277
        },
        "id": "fSdirCW6JGnr",
        "outputId": "f80b0f84-557f-4bb9-d164-6dca3db4d16e"
      },
      "outputs": [
        {
          "output_type": "stream",
          "name": "stdout",
          "text": [
            "Точность на трейне: \n",
            "0.7795031055900622\n",
            "Точность на кросс-валидации: \n",
            "0.7429676145303208\n"
          ]
        },
        {
          "output_type": "execute_result",
          "data": {
            "text/plain": [
              "<IPython.core.display.HTML object>"
            ],
            "text/html": [
              "\n",
              "    <style>\n",
              "    table.eli5-weights tr:hover {\n",
              "        filter: brightness(85%);\n",
              "    }\n",
              "</style>\n",
              "\n",
              "\n",
              "\n",
              "    \n",
              "\n",
              "    \n",
              "\n",
              "    \n",
              "\n",
              "    \n",
              "\n",
              "    \n",
              "\n",
              "    \n",
              "\n",
              "\n",
              "    \n",
              "\n",
              "    \n",
              "\n",
              "    \n",
              "\n",
              "    \n",
              "\n",
              "    \n",
              "\n",
              "    \n",
              "\n",
              "\n",
              "    \n",
              "\n",
              "    \n",
              "\n",
              "    \n",
              "\n",
              "    \n",
              "\n",
              "    \n",
              "        <table class=\"eli5-weights eli5-feature-importances\" style=\"border-collapse: collapse; border: none; margin-top: 0em; table-layout: auto;\">\n",
              "    <thead>\n",
              "    <tr style=\"border: none;\">\n",
              "        <th style=\"padding: 0 1em 0 0.5em; text-align: right; border: none;\">Weight</th>\n",
              "        <th style=\"padding: 0 0.5em 0 0.5em; text-align: left; border: none;\">Feature</th>\n",
              "    </tr>\n",
              "    </thead>\n",
              "    <tbody>\n",
              "    \n",
              "        <tr style=\"background-color: hsl(120, 100.00%, 80.00%); border: none;\">\n",
              "            <td style=\"padding: 0 1em 0 0.5em; text-align: right; border: none;\">\n",
              "                0.3375\n",
              "                \n",
              "                    &plusmn; 0.0254\n",
              "                \n",
              "            </td>\n",
              "            <td style=\"padding: 0 0.5em 0 0.5em; text-align: left; border: none;\">\n",
              "                Sex\n",
              "            </td>\n",
              "        </tr>\n",
              "    \n",
              "        <tr style=\"background-color: hsl(120, 100.00%, 93.32%); border: none;\">\n",
              "            <td style=\"padding: 0 1em 0 0.5em; text-align: right; border: none;\">\n",
              "                0.0704\n",
              "                \n",
              "                    &plusmn; 0.0289\n",
              "                \n",
              "            </td>\n",
              "            <td style=\"padding: 0 0.5em 0 0.5em; text-align: left; border: none;\">\n",
              "                Age\n",
              "            </td>\n",
              "        </tr>\n",
              "    \n",
              "        <tr style=\"background-color: hsl(120, 100.00%, 93.74%); border: none;\">\n",
              "            <td style=\"padding: 0 1em 0 0.5em; text-align: right; border: none;\">\n",
              "                0.0641\n",
              "                \n",
              "                    &plusmn; 0.0110\n",
              "                \n",
              "            </td>\n",
              "            <td style=\"padding: 0 0.5em 0 0.5em; text-align: left; border: none;\">\n",
              "                Pclass\n",
              "            </td>\n",
              "        </tr>\n",
              "    \n",
              "        <tr style=\"background-color: hsl(120, 100.00%, 95.44%); border: none;\">\n",
              "            <td style=\"padding: 0 1em 0 0.5em; text-align: right; border: none;\">\n",
              "                0.0408\n",
              "                \n",
              "                    &plusmn; 0.0124\n",
              "                \n",
              "            </td>\n",
              "            <td style=\"padding: 0 0.5em 0 0.5em; text-align: left; border: none;\">\n",
              "                Fare\n",
              "            </td>\n",
              "        </tr>\n",
              "    \n",
              "        <tr style=\"background-color: hsl(120, 100.00%, 96.59%); border: none;\">\n",
              "            <td style=\"padding: 0 1em 0 0.5em; text-align: right; border: none;\">\n",
              "                0.0270\n",
              "                \n",
              "                    &plusmn; 0.0065\n",
              "                \n",
              "            </td>\n",
              "            <td style=\"padding: 0 0.5em 0 0.5em; text-align: left; border: none;\">\n",
              "                Relatives\n",
              "            </td>\n",
              "        </tr>\n",
              "    \n",
              "        <tr style=\"background-color: hsl(120, 100.00%, 99.50%); border: none;\">\n",
              "            <td style=\"padding: 0 1em 0 0.5em; text-align: right; border: none;\">\n",
              "                0.0017\n",
              "                \n",
              "                    &plusmn; 0.0024\n",
              "                \n",
              "            </td>\n",
              "            <td style=\"padding: 0 0.5em 0 0.5em; text-align: left; border: none;\">\n",
              "                Parch\n",
              "            </td>\n",
              "        </tr>\n",
              "    \n",
              "        <tr style=\"background-color: hsl(0, 100.00%, 100.00%); border: none;\">\n",
              "            <td style=\"padding: 0 1em 0 0.5em; text-align: right; border: none;\">\n",
              "                0\n",
              "                \n",
              "                    &plusmn; 0.0000\n",
              "                \n",
              "            </td>\n",
              "            <td style=\"padding: 0 0.5em 0 0.5em; text-align: left; border: none;\">\n",
              "                NotMuchRelatives\n",
              "            </td>\n",
              "        </tr>\n",
              "    \n",
              "        <tr style=\"background-color: hsl(0, 100.00%, 100.00%); border: none;\">\n",
              "            <td style=\"padding: 0 1em 0 0.5em; text-align: right; border: none;\">\n",
              "                0\n",
              "                \n",
              "                    &plusmn; 0.0000\n",
              "                \n",
              "            </td>\n",
              "            <td style=\"padding: 0 0.5em 0 0.5em; text-align: left; border: none;\">\n",
              "                IsAlone\n",
              "            </td>\n",
              "        </tr>\n",
              "    \n",
              "        <tr style=\"background-color: hsl(0, 100.00%, 100.00%); border: none;\">\n",
              "            <td style=\"padding: 0 1em 0 0.5em; text-align: right; border: none;\">\n",
              "                0\n",
              "                \n",
              "                    &plusmn; 0.0000\n",
              "                \n",
              "            </td>\n",
              "            <td style=\"padding: 0 0.5em 0 0.5em; text-align: left; border: none;\">\n",
              "                SibSp\n",
              "            </td>\n",
              "        </tr>\n",
              "    \n",
              "        <tr style=\"background-color: hsl(0, 100.00%, 100.00%); border: none;\">\n",
              "            <td style=\"padding: 0 1em 0 0.5em; text-align: right; border: none;\">\n",
              "                0\n",
              "                \n",
              "                    &plusmn; 0.0000\n",
              "                \n",
              "            </td>\n",
              "            <td style=\"padding: 0 0.5em 0 0.5em; text-align: left; border: none;\">\n",
              "                Embarked\n",
              "            </td>\n",
              "        </tr>\n",
              "    \n",
              "    \n",
              "    </tbody>\n",
              "</table>\n",
              "    \n",
              "\n",
              "    \n",
              "\n",
              "\n",
              "    \n",
              "\n",
              "    \n",
              "\n",
              "    \n",
              "\n",
              "    \n",
              "\n",
              "    \n",
              "\n",
              "    \n",
              "\n",
              "\n",
              "\n"
            ]
          },
          "metadata": {},
          "execution_count": 20
        }
      ],
      "source": [
        "X = df[['Pclass', 'Sex', 'Age', 'Fare', 'Embarked','SibSp', 'Parch', 'Relatives', 'IsAlone', 'NotMuchRelatives']]\n",
        "y = df['Survived']\n",
        "\n",
        "kf = KFold(n_splits=5, shuffle=True, random_state=42)\n",
        "tree = DecisionTreeClassifier(max_depth=5, random_state=17) \n",
        "tree.fit(X, y)\n",
        "scores = cross_val_score(tree, X, y, cv=kf, scoring='f1')\n",
        "print(\"Точность на трейне: \\n{}\".format(f1_score(tree.predict(X), y)))\n",
        "print(\"Точность на кросс-валидации: \\n{}\".format(scores.mean()))\n",
        "\n",
        "permutation = PermutationImportance(tree,  scoring ='f1', n_iter=5, random_state=17).fit(X, y)\n",
        "eli5.show_weights(permutation, feature_names=X.columns.tolist())"
      ]
    },
    {
      "cell_type": "markdown",
      "metadata": {
        "id": "yTof5ofcJGnr"
      },
      "source": [
        "**Какие признаки оставить?**\n",
        "Попробуем оставить самые значимые признаки, построить модель по ним посмотреть метрики качества. Самые значимые и устойчивые значения имеют признаки Sex, Age, Pclass, Fare и Relatives\n",
        "\n",
        "**Вопрос:**\n",
        "Несмотря на то, что значение для  признака Parch > 0, мы не будем его использовать. Подумайте, почему\n"
      ]
    },
    {
      "cell_type": "code",
      "execution_count": null,
      "metadata": {
        "colab": {
          "base_uri": "https://localhost:8080/",
          "height": 190
        },
        "id": "S8QpMuSFJGnr",
        "outputId": "d7348941-8961-4561-ab7c-0df26af6f831"
      },
      "outputs": [
        {
          "output_type": "stream",
          "name": "stdout",
          "text": [
            "Точность на трейне: \n",
            "0.7795031055900622\n",
            "Точность на кросс-валидации: \n",
            "0.7427679553770182\n"
          ]
        },
        {
          "output_type": "execute_result",
          "data": {
            "text/plain": [
              "<IPython.core.display.HTML object>"
            ],
            "text/html": [
              "\n",
              "    <style>\n",
              "    table.eli5-weights tr:hover {\n",
              "        filter: brightness(85%);\n",
              "    }\n",
              "</style>\n",
              "\n",
              "\n",
              "\n",
              "    \n",
              "\n",
              "    \n",
              "\n",
              "    \n",
              "\n",
              "    \n",
              "\n",
              "    \n",
              "\n",
              "    \n",
              "\n",
              "\n",
              "    \n",
              "\n",
              "    \n",
              "\n",
              "    \n",
              "\n",
              "    \n",
              "\n",
              "    \n",
              "\n",
              "    \n",
              "\n",
              "\n",
              "    \n",
              "\n",
              "    \n",
              "\n",
              "    \n",
              "\n",
              "    \n",
              "\n",
              "    \n",
              "        <table class=\"eli5-weights eli5-feature-importances\" style=\"border-collapse: collapse; border: none; margin-top: 0em; table-layout: auto;\">\n",
              "    <thead>\n",
              "    <tr style=\"border: none;\">\n",
              "        <th style=\"padding: 0 1em 0 0.5em; text-align: right; border: none;\">Weight</th>\n",
              "        <th style=\"padding: 0 0.5em 0 0.5em; text-align: left; border: none;\">Feature</th>\n",
              "    </tr>\n",
              "    </thead>\n",
              "    <tbody>\n",
              "    \n",
              "        <tr style=\"background-color: hsl(120, 100.00%, 80.00%); border: none;\">\n",
              "            <td style=\"padding: 0 1em 0 0.5em; text-align: right; border: none;\">\n",
              "                0.3356\n",
              "                \n",
              "                    &plusmn; 0.0254\n",
              "                \n",
              "            </td>\n",
              "            <td style=\"padding: 0 0.5em 0 0.5em; text-align: left; border: none;\">\n",
              "                Sex\n",
              "            </td>\n",
              "        </tr>\n",
              "    \n",
              "        <tr style=\"background-color: hsl(120, 100.00%, 92.91%); border: none;\">\n",
              "            <td style=\"padding: 0 1em 0 0.5em; text-align: right; border: none;\">\n",
              "                0.0763\n",
              "                \n",
              "                    &plusmn; 0.0244\n",
              "                \n",
              "            </td>\n",
              "            <td style=\"padding: 0 0.5em 0 0.5em; text-align: left; border: none;\">\n",
              "                Age\n",
              "            </td>\n",
              "        </tr>\n",
              "    \n",
              "        <tr style=\"background-color: hsl(120, 100.00%, 93.83%); border: none;\">\n",
              "            <td style=\"padding: 0 1em 0 0.5em; text-align: right; border: none;\">\n",
              "                0.0626\n",
              "                \n",
              "                    &plusmn; 0.0094\n",
              "                \n",
              "            </td>\n",
              "            <td style=\"padding: 0 0.5em 0 0.5em; text-align: left; border: none;\">\n",
              "                Pclass\n",
              "            </td>\n",
              "        </tr>\n",
              "    \n",
              "        <tr style=\"background-color: hsl(120, 100.00%, 94.50%); border: none;\">\n",
              "            <td style=\"padding: 0 1em 0 0.5em; text-align: right; border: none;\">\n",
              "                0.0531\n",
              "                \n",
              "                    &plusmn; 0.0082\n",
              "                \n",
              "            </td>\n",
              "            <td style=\"padding: 0 0.5em 0 0.5em; text-align: left; border: none;\">\n",
              "                Fare\n",
              "            </td>\n",
              "        </tr>\n",
              "    \n",
              "        <tr style=\"background-color: hsl(120, 100.00%, 96.35%); border: none;\">\n",
              "            <td style=\"padding: 0 1em 0 0.5em; text-align: right; border: none;\">\n",
              "                0.0296\n",
              "                \n",
              "                    &plusmn; 0.0043\n",
              "                \n",
              "            </td>\n",
              "            <td style=\"padding: 0 0.5em 0 0.5em; text-align: left; border: none;\">\n",
              "                Relatives\n",
              "            </td>\n",
              "        </tr>\n",
              "    \n",
              "    \n",
              "    </tbody>\n",
              "</table>\n",
              "    \n",
              "\n",
              "    \n",
              "\n",
              "\n",
              "    \n",
              "\n",
              "    \n",
              "\n",
              "    \n",
              "\n",
              "    \n",
              "\n",
              "    \n",
              "\n",
              "    \n",
              "\n",
              "\n",
              "\n"
            ]
          },
          "metadata": {},
          "execution_count": 21
        }
      ],
      "source": [
        "X = df[['Pclass', 'Sex', 'Age', 'Fare','Relatives']]\n",
        "y = df['Survived']\n",
        "\n",
        "kf = KFold(n_splits=5, shuffle=True, random_state=42)\n",
        "tree = DecisionTreeClassifier(max_depth=5, random_state=17) \n",
        "tree.fit(X, y)\n",
        "scores = cross_val_score(tree, X, y, cv=kf, scoring='f1')\n",
        "print(\"Точность на трейне: \\n{}\".format(f1_score(tree.predict(X), y)))\n",
        "print(\"Точность на кросс-валидации: \\n{}\".format(scores.mean()))\n",
        "\n",
        "permutation = PermutationImportance(tree,  scoring ='f1', n_iter=5, random_state=17).fit(X, y)\n",
        "eli5.show_weights(permutation, feature_names=X.columns.tolist())"
      ]
    },
    {
      "cell_type": "markdown",
      "metadata": {
        "id": "74badfX0JGns"
      },
      "source": [
        "Отлично, точность модели на кросс-валидации улучшилась.\n",
        "\n",
        "Но мы также можем пойти другим путем. Сгенерированные признаки **Relatives**, **IsAlone**, **NotMuchRelatives** являются производными от **SibSp**, **Parch**  и в каком-то смысле несут похожую информацию, только в ином представлении. Что, если какой-то один или несколько из них могут лучше всего передать информацию, необходимую для модели?\n",
        "\n",
        "Попробуем построить модель только на этих признаках и посмотреть их важность."
      ]
    },
    {
      "cell_type": "code",
      "execution_count": null,
      "metadata": {
        "colab": {
          "base_uri": "https://localhost:8080/",
          "height": 190
        },
        "id": "aIKZLv8uJGnt",
        "outputId": "e9c1de73-8da6-45e2-fb67-9d0182f1026f"
      },
      "outputs": [
        {
          "output_type": "stream",
          "name": "stdout",
          "text": [
            "Точность на трейне: \n",
            "0.5363489499192245\n",
            "Точность на кросс-валидации: \n",
            "0.48878183222765104\n"
          ]
        },
        {
          "output_type": "execute_result",
          "data": {
            "text/plain": [
              "<IPython.core.display.HTML object>"
            ],
            "text/html": [
              "\n",
              "    <style>\n",
              "    table.eli5-weights tr:hover {\n",
              "        filter: brightness(85%);\n",
              "    }\n",
              "</style>\n",
              "\n",
              "\n",
              "\n",
              "    \n",
              "\n",
              "    \n",
              "\n",
              "    \n",
              "\n",
              "    \n",
              "\n",
              "    \n",
              "\n",
              "    \n",
              "\n",
              "\n",
              "    \n",
              "\n",
              "    \n",
              "\n",
              "    \n",
              "\n",
              "    \n",
              "\n",
              "    \n",
              "\n",
              "    \n",
              "\n",
              "\n",
              "    \n",
              "\n",
              "    \n",
              "\n",
              "    \n",
              "\n",
              "    \n",
              "\n",
              "    \n",
              "        <table class=\"eli5-weights eli5-feature-importances\" style=\"border-collapse: collapse; border: none; margin-top: 0em; table-layout: auto;\">\n",
              "    <thead>\n",
              "    <tr style=\"border: none;\">\n",
              "        <th style=\"padding: 0 1em 0 0.5em; text-align: right; border: none;\">Weight</th>\n",
              "        <th style=\"padding: 0 0.5em 0 0.5em; text-align: left; border: none;\">Feature</th>\n",
              "    </tr>\n",
              "    </thead>\n",
              "    <tbody>\n",
              "    \n",
              "        <tr style=\"background-color: hsl(120, 100.00%, 80.00%); border: none;\">\n",
              "            <td style=\"padding: 0 1em 0 0.5em; text-align: right; border: none;\">\n",
              "                0.1724\n",
              "                \n",
              "                    &plusmn; 0.0345\n",
              "                \n",
              "            </td>\n",
              "            <td style=\"padding: 0 0.5em 0 0.5em; text-align: left; border: none;\">\n",
              "                NotMuchRelatives\n",
              "            </td>\n",
              "        </tr>\n",
              "    \n",
              "        <tr style=\"background-color: hsl(120, 100.00%, 96.16%); border: none;\">\n",
              "            <td style=\"padding: 0 1em 0 0.5em; text-align: right; border: none;\">\n",
              "                0.0163\n",
              "                \n",
              "                    &plusmn; 0.0063\n",
              "                \n",
              "            </td>\n",
              "            <td style=\"padding: 0 0.5em 0 0.5em; text-align: left; border: none;\">\n",
              "                Relatives\n",
              "            </td>\n",
              "        </tr>\n",
              "    \n",
              "        <tr style=\"background-color: hsl(120, 100.00%, 96.53%); border: none;\">\n",
              "            <td style=\"padding: 0 1em 0 0.5em; text-align: right; border: none;\">\n",
              "                0.0141\n",
              "                \n",
              "                    &plusmn; 0.0112\n",
              "                \n",
              "            </td>\n",
              "            <td style=\"padding: 0 0.5em 0 0.5em; text-align: left; border: none;\">\n",
              "                SibSp\n",
              "            </td>\n",
              "        </tr>\n",
              "    \n",
              "        <tr style=\"background-color: hsl(120, 100.00%, 98.89%); border: none;\">\n",
              "            <td style=\"padding: 0 1em 0 0.5em; text-align: right; border: none;\">\n",
              "                0.0028\n",
              "                \n",
              "                    &plusmn; 0.0052\n",
              "                \n",
              "            </td>\n",
              "            <td style=\"padding: 0 0.5em 0 0.5em; text-align: left; border: none;\">\n",
              "                Parch\n",
              "            </td>\n",
              "        </tr>\n",
              "    \n",
              "        <tr style=\"background-color: hsl(0, 100.00%, 100.00%); border: none;\">\n",
              "            <td style=\"padding: 0 1em 0 0.5em; text-align: right; border: none;\">\n",
              "                0\n",
              "                \n",
              "                    &plusmn; 0.0000\n",
              "                \n",
              "            </td>\n",
              "            <td style=\"padding: 0 0.5em 0 0.5em; text-align: left; border: none;\">\n",
              "                IsAlone\n",
              "            </td>\n",
              "        </tr>\n",
              "    \n",
              "    \n",
              "    </tbody>\n",
              "</table>\n",
              "    \n",
              "\n",
              "    \n",
              "\n",
              "\n",
              "    \n",
              "\n",
              "    \n",
              "\n",
              "    \n",
              "\n",
              "    \n",
              "\n",
              "    \n",
              "\n",
              "    \n",
              "\n",
              "\n",
              "\n"
            ]
          },
          "metadata": {},
          "execution_count": 22
        }
      ],
      "source": [
        "X = df[['SibSp', 'Parch', 'Relatives', 'IsAlone', 'NotMuchRelatives']]\n",
        "y = df['Survived']\n",
        "\n",
        "kf = KFold(n_splits=5, shuffle=True, random_state=42)\n",
        "tree = DecisionTreeClassifier(max_depth=5, random_state=17) \n",
        "tree.fit(X, y)\n",
        "scores = cross_val_score(tree, X, y, cv=kf, scoring='f1')\n",
        "print(\"Точность на трейне: \\n{}\".format(f1_score(tree.predict(X), y)))\n",
        "print(\"Точность на кросс-валидации: \\n{}\".format(scores.mean()))\n",
        "\n",
        "permutation = PermutationImportance(tree,  scoring ='f1', n_iter=5, random_state=17).fit(X, y)\n",
        "eli5.show_weights(permutation, feature_names=X.columns.tolist())"
      ]
    },
    {
      "cell_type": "markdown",
      "metadata": {
        "id": "Tp_MXe8GJGnu"
      },
      "source": [
        "Сейчас нас не интересуют метрики точности самой модели, т.к. понятное дело, из-за того, что мы исключили все остальные признаки, она стала очень неточной. Нам интересна таблица с влиянием оставшихся признаков на модель.\n",
        "\n",
        "Как видно из таблицы, самыми важным является признак **NotMuchRelatives**, который с большим отрывом обгоняет **Relatives**.\n",
        "Можно попробовать оставить только самый важный или два самых важных в основной модели. Посмотрим на ее качество."
      ]
    },
    {
      "cell_type": "code",
      "execution_count": null,
      "metadata": {
        "scrolled": true,
        "colab": {
          "base_uri": "https://localhost:8080/",
          "height": 190
        },
        "id": "6hT6ROvbJGnu",
        "outputId": "0632fe36-8616-4beb-b0fa-8580f8d38311"
      },
      "outputs": [
        {
          "output_type": "stream",
          "name": "stdout",
          "text": [
            "Точность на трейне: \n",
            "0.7832817337461301\n",
            "Точность на кросс-валидации: \n",
            "0.7458773402141914\n"
          ]
        },
        {
          "output_type": "execute_result",
          "data": {
            "text/plain": [
              "<IPython.core.display.HTML object>"
            ],
            "text/html": [
              "\n",
              "    <style>\n",
              "    table.eli5-weights tr:hover {\n",
              "        filter: brightness(85%);\n",
              "    }\n",
              "</style>\n",
              "\n",
              "\n",
              "\n",
              "    \n",
              "\n",
              "    \n",
              "\n",
              "    \n",
              "\n",
              "    \n",
              "\n",
              "    \n",
              "\n",
              "    \n",
              "\n",
              "\n",
              "    \n",
              "\n",
              "    \n",
              "\n",
              "    \n",
              "\n",
              "    \n",
              "\n",
              "    \n",
              "\n",
              "    \n",
              "\n",
              "\n",
              "    \n",
              "\n",
              "    \n",
              "\n",
              "    \n",
              "\n",
              "    \n",
              "\n",
              "    \n",
              "        <table class=\"eli5-weights eli5-feature-importances\" style=\"border-collapse: collapse; border: none; margin-top: 0em; table-layout: auto;\">\n",
              "    <thead>\n",
              "    <tr style=\"border: none;\">\n",
              "        <th style=\"padding: 0 1em 0 0.5em; text-align: right; border: none;\">Weight</th>\n",
              "        <th style=\"padding: 0 0.5em 0 0.5em; text-align: left; border: none;\">Feature</th>\n",
              "    </tr>\n",
              "    </thead>\n",
              "    <tbody>\n",
              "    \n",
              "        <tr style=\"background-color: hsl(120, 100.00%, 80.00%); border: none;\">\n",
              "            <td style=\"padding: 0 1em 0 0.5em; text-align: right; border: none;\">\n",
              "                0.3443\n",
              "                \n",
              "                    &plusmn; 0.0251\n",
              "                \n",
              "            </td>\n",
              "            <td style=\"padding: 0 0.5em 0 0.5em; text-align: left; border: none;\">\n",
              "                Sex\n",
              "            </td>\n",
              "        </tr>\n",
              "    \n",
              "        <tr style=\"background-color: hsl(120, 100.00%, 87.99%); border: none;\">\n",
              "            <td style=\"padding: 0 1em 0 0.5em; text-align: right; border: none;\">\n",
              "                0.1661\n",
              "                \n",
              "                    &plusmn; 0.0161\n",
              "                \n",
              "            </td>\n",
              "            <td style=\"padding: 0 0.5em 0 0.5em; text-align: left; border: none;\">\n",
              "                Pclass\n",
              "            </td>\n",
              "        </tr>\n",
              "    \n",
              "        <tr style=\"background-color: hsl(120, 100.00%, 92.74%); border: none;\">\n",
              "            <td style=\"padding: 0 1em 0 0.5em; text-align: right; border: none;\">\n",
              "                0.0809\n",
              "                \n",
              "                    &plusmn; 0.0077\n",
              "                \n",
              "            </td>\n",
              "            <td style=\"padding: 0 0.5em 0 0.5em; text-align: left; border: none;\">\n",
              "                Fare\n",
              "            </td>\n",
              "        </tr>\n",
              "    \n",
              "        <tr style=\"background-color: hsl(120, 100.00%, 93.80%); border: none;\">\n",
              "            <td style=\"padding: 0 1em 0 0.5em; text-align: right; border: none;\">\n",
              "                0.0646\n",
              "                \n",
              "                    &plusmn; 0.0210\n",
              "                \n",
              "            </td>\n",
              "            <td style=\"padding: 0 0.5em 0 0.5em; text-align: left; border: none;\">\n",
              "                Age\n",
              "            </td>\n",
              "        </tr>\n",
              "    \n",
              "        <tr style=\"background-color: hsl(120, 100.00%, 97.28%); border: none;\">\n",
              "            <td style=\"padding: 0 1em 0 0.5em; text-align: right; border: none;\">\n",
              "                0.0200\n",
              "                \n",
              "                    &plusmn; 0.0032\n",
              "                \n",
              "            </td>\n",
              "            <td style=\"padding: 0 0.5em 0 0.5em; text-align: left; border: none;\">\n",
              "                NotMuchRelatives\n",
              "            </td>\n",
              "        </tr>\n",
              "    \n",
              "    \n",
              "    </tbody>\n",
              "</table>\n",
              "    \n",
              "\n",
              "    \n",
              "\n",
              "\n",
              "    \n",
              "\n",
              "    \n",
              "\n",
              "    \n",
              "\n",
              "    \n",
              "\n",
              "    \n",
              "\n",
              "    \n",
              "\n",
              "\n",
              "\n"
            ]
          },
          "metadata": {},
          "execution_count": 23
        }
      ],
      "source": [
        "X = df[['Pclass', 'Sex', 'Age', 'Fare', 'NotMuchRelatives']]\n",
        "y = df['Survived']\n",
        "\n",
        "kf = KFold(n_splits=5, shuffle=True, random_state=42)\n",
        "tree = DecisionTreeClassifier(max_depth=5, random_state=17) \n",
        "tree.fit(X, y)\n",
        "scores = cross_val_score(tree, X, y, cv=kf, scoring='f1')\n",
        "print(\"Точность на трейне: \\n{}\".format(f1_score(tree.predict(X), y)))\n",
        "print(\"Точность на кросс-валидации: \\n{}\".format(scores.mean()))\n",
        "\n",
        "permutation = PermutationImportance(tree,  scoring ='f1', n_iter=5, random_state=17).fit(X, y)\n",
        "eli5.show_weights(permutation, feature_names=X.columns.tolist())"
      ]
    },
    {
      "cell_type": "markdown",
      "metadata": {
        "id": "KdD2qmrFJGnu"
      },
      "source": [
        "Нам удалось неплохо увеличить точность! "
      ]
    },
    {
      "cell_type": "markdown",
      "metadata": {
        "id": "f_PHaQkyJGnv"
      },
      "source": [
        "### <center> 2. Моделируем взаимодействия признаков"
      ]
    },
    {
      "cell_type": "markdown",
      "metadata": {
        "id": "GhfL_hnzJGnv"
      },
      "source": [
        "Иногда влияние признака на целевую переменную по крайней мере частично зависит от другого признака. Например, представьте себе простой пример с кофе, где у нас два бинарных признака — наличие сахара (**sugar**) и было ли выполнено перемешивание (**stirred**) — и требуется предсказать, сладкий ли кофе на вкус. Просто положив сахар в кофе (**sugar=1**, **stirred=0**), мы не сделаем вкус кофе сладким (весь сахар на дне!), а одно перемешивание кофе без добавления сахара (**sugar=0**, **stirred=1**) не сделает его сладким. Как раз наоборот, именно взаимодействие брошенного в кофе сахара и перемешивания кофе (**sugar=1**, **stirred=1**) сделает вкус кофе сладким. \n",
        "\n",
        "Влияния сахара и перемешивания на сладость зависят друг от друга. В этом случае мы говорим, что существует эффект взаимодействия между признаками **sugar** И **stirred**.\n",
        "$$\\widehat{y} = \\widehat{\\beta_{0}} + \\widehat{\\beta_{1}}x_{1} + \\widehat{\\beta_{2}}x_{2}+ \\widehat{\\beta_{3}}x_{1}x_{2} + \\epsilon$$\n"
      ]
    },
    {
      "cell_type": "markdown",
      "metadata": {
        "id": "rRMu8ffZJGnw"
      },
      "source": [
        "Попробуем воссоздать такое взаимодействие с признаками с помощью библиотеки **sklearn.**\n",
        "\n",
        "**Полиномиальное преобразование** генерирует полиномиальную комбинуцию признаков указанной степени полинома.\n",
        "\n",
        "Например, есть матрица из двух признаков a и b: \n",
        "\n",
        "$$[a, b]$$\n",
        "\n",
        "Полиномиальная комбинация призаков **2-й** степени будет выглядеть так: \n",
        "$$[1, a, b, a^2, ab, b^2]$$\n",
        "Полиномиальная комбинация призаков **3-й** степени будет выглядеть так: \n",
        "$$[1, a, b, a^2, ab, b^2, a^3, a^2b, ab^2, b3]$$\n",
        "И так далее ..."
      ]
    },
    {
      "cell_type": "markdown",
      "metadata": {
        "id": "O9RXQ8QJJGnw"
      },
      "source": [
        "**Фактически мы получили 2 дополнительных вида признаков:**\n",
        "\n",
        "1. Перемножение признаков друг с другой - ***взаимодействие признаков***\n",
        "2. Возведение признака в степень - ***нелинейность***"
      ]
    },
    {
      "cell_type": "code",
      "execution_count": null,
      "metadata": {
        "id": "CTcpX66SJGnx"
      },
      "outputs": [],
      "source": [
        "from sklearn.preprocessing import PolynomialFeatures"
      ]
    },
    {
      "cell_type": "code",
      "execution_count": null,
      "metadata": {
        "colab": {
          "base_uri": "https://localhost:8080/"
        },
        "id": "ANp7cGT_JGnx",
        "outputId": "a72be199-6c2a-4d7e-b14a-6c8523f54fb2"
      },
      "outputs": [
        {
          "output_type": "execute_result",
          "data": {
            "text/plain": [
              "array([[0, 1],\n",
              "       [2, 3],\n",
              "       [4, 5]])"
            ]
          },
          "metadata": {},
          "execution_count": 25
        }
      ],
      "source": [
        "X = np.arange(6).reshape(3, 2)\n",
        "X"
      ]
    },
    {
      "cell_type": "code",
      "execution_count": null,
      "metadata": {
        "colab": {
          "base_uri": "https://localhost:8080/"
        },
        "id": "DS92DLETJGny",
        "outputId": "a2807c3a-584b-4999-e653-80ca91b40a8f"
      },
      "outputs": [
        {
          "output_type": "execute_result",
          "data": {
            "text/plain": [
              "array([[ 1.,  0.,  1.,  0.,  0.,  1.],\n",
              "       [ 1.,  2.,  3.,  4.,  6.,  9.],\n",
              "       [ 1.,  4.,  5., 16., 20., 25.]])"
            ]
          },
          "metadata": {},
          "execution_count": 26
        }
      ],
      "source": [
        "# Полином 2-й степени \n",
        "poly = PolynomialFeatures(degree=2)\n",
        "poly.fit_transform(X)"
      ]
    },
    {
      "cell_type": "code",
      "execution_count": null,
      "metadata": {
        "colab": {
          "base_uri": "https://localhost:8080/"
        },
        "id": "XYueiKcdJGny",
        "outputId": "2feda1d5-799d-4ea1-f671-28d6421fc220"
      },
      "outputs": [
        {
          "output_type": "execute_result",
          "data": {
            "text/plain": [
              "array([[  1.,   0.,   1.,   0.,   0.,   1.,   0.,   0.,   0.,   1.],\n",
              "       [  1.,   2.,   3.,   4.,   6.,   9.,   8.,  12.,  18.,  27.],\n",
              "       [  1.,   4.,   5.,  16.,  20.,  25.,  64.,  80., 100., 125.]])"
            ]
          },
          "metadata": {},
          "execution_count": 27
        }
      ],
      "source": [
        "# Полином 3-й степени \n",
        "poly = PolynomialFeatures(degree=3)\n",
        "poly.fit_transform(X)"
      ]
    },
    {
      "cell_type": "code",
      "execution_count": null,
      "metadata": {
        "colab": {
          "base_uri": "https://localhost:8080/"
        },
        "id": "TLo5ZbBWJGnz",
        "outputId": "68de3b4c-b872-4cc4-9969-cf4989eddb1e"
      },
      "outputs": [
        {
          "output_type": "execute_result",
          "data": {
            "text/plain": [
              "array([[ 1.,  0.,  1.,  0.],\n",
              "       [ 1.,  2.,  3.,  6.],\n",
              "       [ 1.,  4.,  5., 20.]])"
            ]
          },
          "metadata": {},
          "execution_count": 28
        }
      ],
      "source": [
        "# Оставляем только взаимодействие признаков\n",
        "poly = PolynomialFeatures(degree=2, interaction_only=True)\n",
        "poly.fit_transform(X)"
      ]
    },
    {
      "cell_type": "code",
      "execution_count": null,
      "metadata": {
        "colab": {
          "base_uri": "https://localhost:8080/"
        },
        "id": "aAuX8khZJGnz",
        "outputId": "fbd48a0d-6926-4665-93a0-f1d51216f4ec"
      },
      "outputs": [
        {
          "output_type": "execute_result",
          "data": {
            "text/plain": [
              "array([[ 0.,  1.,  0.],\n",
              "       [ 2.,  3.,  6.],\n",
              "       [ 4.,  5., 20.]])"
            ]
          },
          "metadata": {},
          "execution_count": 29
        }
      ],
      "source": [
        "# Убираем свободный член полинома\n",
        "poly = PolynomialFeatures(degree=2, interaction_only=True, include_bias=False)\n",
        "poly.fit_transform(X)"
      ]
    },
    {
      "cell_type": "markdown",
      "metadata": {
        "id": "ufQhOV-MJGnz"
      },
      "source": [
        "**Рассмотрим как это раотает на реальном примере**"
      ]
    },
    {
      "cell_type": "code",
      "execution_count": null,
      "metadata": {
        "id": "MCEnkhc1JGn0"
      },
      "outputs": [],
      "source": [
        "from sklearn.datasets import load_boston"
      ]
    },
    {
      "cell_type": "code",
      "execution_count": null,
      "metadata": {
        "colab": {
          "base_uri": "https://localhost:8080/"
        },
        "id": "junqe8jlJGn0",
        "outputId": "3f885b6b-51e3-4e6c-eca8-1f0ab7484309"
      },
      "outputs": [
        {
          "output_type": "stream",
          "name": "stderr",
          "text": [
            "/usr/local/lib/python3.7/dist-packages/sklearn/utils/deprecation.py:87: FutureWarning: Function load_boston is deprecated; `load_boston` is deprecated in 1.0 and will be removed in 1.2.\n",
            "\n",
            "    The Boston housing prices dataset has an ethical problem. You can refer to\n",
            "    the documentation of this function for further details.\n",
            "\n",
            "    The scikit-learn maintainers therefore strongly discourage the use of this\n",
            "    dataset unless the purpose of the code is to study and educate about\n",
            "    ethical issues in data science and machine learning.\n",
            "\n",
            "    In this special case, you can fetch the dataset from the original\n",
            "    source::\n",
            "\n",
            "        import pandas as pd\n",
            "        import numpy as np\n",
            "\n",
            "\n",
            "        data_url = \"http://lib.stat.cmu.edu/datasets/boston\"\n",
            "        raw_df = pd.read_csv(data_url, sep=\"\\s+\", skiprows=22, header=None)\n",
            "        data = np.hstack([raw_df.values[::2, :], raw_df.values[1::2, :2]])\n",
            "        target = raw_df.values[1::2, 2]\n",
            "\n",
            "    Alternative datasets include the California housing dataset (i.e.\n",
            "    :func:`~sklearn.datasets.fetch_california_housing`) and the Ames housing\n",
            "    dataset. You can load the datasets as follows::\n",
            "\n",
            "        from sklearn.datasets import fetch_california_housing\n",
            "        housing = fetch_california_housing()\n",
            "\n",
            "    for the California housing dataset and::\n",
            "\n",
            "        from sklearn.datasets import fetch_openml\n",
            "        housing = fetch_openml(name=\"house_prices\", as_frame=True)\n",
            "\n",
            "    for the Ames housing dataset.\n",
            "    \n",
            "  warnings.warn(msg, category=FutureWarning)\n"
          ]
        },
        {
          "output_type": "execute_result",
          "data": {
            "text/plain": [
              "      CRIM    ZN  INDUS  CHAS    NOX     RM   AGE     DIS  RAD    TAX  \\\n",
              "0  0.00632  18.0   2.31   0.0  0.538  6.575  65.2  4.0900  1.0  296.0   \n",
              "1  0.02731   0.0   7.07   0.0  0.469  6.421  78.9  4.9671  2.0  242.0   \n",
              "2  0.02729   0.0   7.07   0.0  0.469  7.185  61.1  4.9671  2.0  242.0   \n",
              "3  0.03237   0.0   2.18   0.0  0.458  6.998  45.8  6.0622  3.0  222.0   \n",
              "4  0.06905   0.0   2.18   0.0  0.458  7.147  54.2  6.0622  3.0  222.0   \n",
              "\n",
              "   PTRATIO       B  LSTAT  PRICE  \n",
              "0     15.3  396.90   4.98   24.0  \n",
              "1     17.8  396.90   9.14   21.6  \n",
              "2     17.8  392.83   4.03   34.7  \n",
              "3     18.7  394.63   2.94   33.4  \n",
              "4     18.7  396.90   5.33   36.2  "
            ],
            "text/html": [
              "\n",
              "  <div id=\"df-bd41c3ac-435b-408e-8c58-20c4dd564691\">\n",
              "    <div class=\"colab-df-container\">\n",
              "      <div>\n",
              "<style scoped>\n",
              "    .dataframe tbody tr th:only-of-type {\n",
              "        vertical-align: middle;\n",
              "    }\n",
              "\n",
              "    .dataframe tbody tr th {\n",
              "        vertical-align: top;\n",
              "    }\n",
              "\n",
              "    .dataframe thead th {\n",
              "        text-align: right;\n",
              "    }\n",
              "</style>\n",
              "<table border=\"1\" class=\"dataframe\">\n",
              "  <thead>\n",
              "    <tr style=\"text-align: right;\">\n",
              "      <th></th>\n",
              "      <th>CRIM</th>\n",
              "      <th>ZN</th>\n",
              "      <th>INDUS</th>\n",
              "      <th>CHAS</th>\n",
              "      <th>NOX</th>\n",
              "      <th>RM</th>\n",
              "      <th>AGE</th>\n",
              "      <th>DIS</th>\n",
              "      <th>RAD</th>\n",
              "      <th>TAX</th>\n",
              "      <th>PTRATIO</th>\n",
              "      <th>B</th>\n",
              "      <th>LSTAT</th>\n",
              "      <th>PRICE</th>\n",
              "    </tr>\n",
              "  </thead>\n",
              "  <tbody>\n",
              "    <tr>\n",
              "      <th>0</th>\n",
              "      <td>0.00632</td>\n",
              "      <td>18.0</td>\n",
              "      <td>2.31</td>\n",
              "      <td>0.0</td>\n",
              "      <td>0.538</td>\n",
              "      <td>6.575</td>\n",
              "      <td>65.2</td>\n",
              "      <td>4.0900</td>\n",
              "      <td>1.0</td>\n",
              "      <td>296.0</td>\n",
              "      <td>15.3</td>\n",
              "      <td>396.90</td>\n",
              "      <td>4.98</td>\n",
              "      <td>24.0</td>\n",
              "    </tr>\n",
              "    <tr>\n",
              "      <th>1</th>\n",
              "      <td>0.02731</td>\n",
              "      <td>0.0</td>\n",
              "      <td>7.07</td>\n",
              "      <td>0.0</td>\n",
              "      <td>0.469</td>\n",
              "      <td>6.421</td>\n",
              "      <td>78.9</td>\n",
              "      <td>4.9671</td>\n",
              "      <td>2.0</td>\n",
              "      <td>242.0</td>\n",
              "      <td>17.8</td>\n",
              "      <td>396.90</td>\n",
              "      <td>9.14</td>\n",
              "      <td>21.6</td>\n",
              "    </tr>\n",
              "    <tr>\n",
              "      <th>2</th>\n",
              "      <td>0.02729</td>\n",
              "      <td>0.0</td>\n",
              "      <td>7.07</td>\n",
              "      <td>0.0</td>\n",
              "      <td>0.469</td>\n",
              "      <td>7.185</td>\n",
              "      <td>61.1</td>\n",
              "      <td>4.9671</td>\n",
              "      <td>2.0</td>\n",
              "      <td>242.0</td>\n",
              "      <td>17.8</td>\n",
              "      <td>392.83</td>\n",
              "      <td>4.03</td>\n",
              "      <td>34.7</td>\n",
              "    </tr>\n",
              "    <tr>\n",
              "      <th>3</th>\n",
              "      <td>0.03237</td>\n",
              "      <td>0.0</td>\n",
              "      <td>2.18</td>\n",
              "      <td>0.0</td>\n",
              "      <td>0.458</td>\n",
              "      <td>6.998</td>\n",
              "      <td>45.8</td>\n",
              "      <td>6.0622</td>\n",
              "      <td>3.0</td>\n",
              "      <td>222.0</td>\n",
              "      <td>18.7</td>\n",
              "      <td>394.63</td>\n",
              "      <td>2.94</td>\n",
              "      <td>33.4</td>\n",
              "    </tr>\n",
              "    <tr>\n",
              "      <th>4</th>\n",
              "      <td>0.06905</td>\n",
              "      <td>0.0</td>\n",
              "      <td>2.18</td>\n",
              "      <td>0.0</td>\n",
              "      <td>0.458</td>\n",
              "      <td>7.147</td>\n",
              "      <td>54.2</td>\n",
              "      <td>6.0622</td>\n",
              "      <td>3.0</td>\n",
              "      <td>222.0</td>\n",
              "      <td>18.7</td>\n",
              "      <td>396.90</td>\n",
              "      <td>5.33</td>\n",
              "      <td>36.2</td>\n",
              "    </tr>\n",
              "  </tbody>\n",
              "</table>\n",
              "</div>\n",
              "      <button class=\"colab-df-convert\" onclick=\"convertToInteractive('df-bd41c3ac-435b-408e-8c58-20c4dd564691')\"\n",
              "              title=\"Convert this dataframe to an interactive table.\"\n",
              "              style=\"display:none;\">\n",
              "        \n",
              "  <svg xmlns=\"http://www.w3.org/2000/svg\" height=\"24px\"viewBox=\"0 0 24 24\"\n",
              "       width=\"24px\">\n",
              "    <path d=\"M0 0h24v24H0V0z\" fill=\"none\"/>\n",
              "    <path d=\"M18.56 5.44l.94 2.06.94-2.06 2.06-.94-2.06-.94-.94-2.06-.94 2.06-2.06.94zm-11 1L8.5 8.5l.94-2.06 2.06-.94-2.06-.94L8.5 2.5l-.94 2.06-2.06.94zm10 10l.94 2.06.94-2.06 2.06-.94-2.06-.94-.94-2.06-.94 2.06-2.06.94z\"/><path d=\"M17.41 7.96l-1.37-1.37c-.4-.4-.92-.59-1.43-.59-.52 0-1.04.2-1.43.59L10.3 9.45l-7.72 7.72c-.78.78-.78 2.05 0 2.83L4 21.41c.39.39.9.59 1.41.59.51 0 1.02-.2 1.41-.59l7.78-7.78 2.81-2.81c.8-.78.8-2.07 0-2.86zM5.41 20L4 18.59l7.72-7.72 1.47 1.35L5.41 20z\"/>\n",
              "  </svg>\n",
              "      </button>\n",
              "      \n",
              "  <style>\n",
              "    .colab-df-container {\n",
              "      display:flex;\n",
              "      flex-wrap:wrap;\n",
              "      gap: 12px;\n",
              "    }\n",
              "\n",
              "    .colab-df-convert {\n",
              "      background-color: #E8F0FE;\n",
              "      border: none;\n",
              "      border-radius: 50%;\n",
              "      cursor: pointer;\n",
              "      display: none;\n",
              "      fill: #1967D2;\n",
              "      height: 32px;\n",
              "      padding: 0 0 0 0;\n",
              "      width: 32px;\n",
              "    }\n",
              "\n",
              "    .colab-df-convert:hover {\n",
              "      background-color: #E2EBFA;\n",
              "      box-shadow: 0px 1px 2px rgba(60, 64, 67, 0.3), 0px 1px 3px 1px rgba(60, 64, 67, 0.15);\n",
              "      fill: #174EA6;\n",
              "    }\n",
              "\n",
              "    [theme=dark] .colab-df-convert {\n",
              "      background-color: #3B4455;\n",
              "      fill: #D2E3FC;\n",
              "    }\n",
              "\n",
              "    [theme=dark] .colab-df-convert:hover {\n",
              "      background-color: #434B5C;\n",
              "      box-shadow: 0px 1px 3px 1px rgba(0, 0, 0, 0.15);\n",
              "      filter: drop-shadow(0px 1px 2px rgba(0, 0, 0, 0.3));\n",
              "      fill: #FFFFFF;\n",
              "    }\n",
              "  </style>\n",
              "\n",
              "      <script>\n",
              "        const buttonEl =\n",
              "          document.querySelector('#df-bd41c3ac-435b-408e-8c58-20c4dd564691 button.colab-df-convert');\n",
              "        buttonEl.style.display =\n",
              "          google.colab.kernel.accessAllowed ? 'block' : 'none';\n",
              "\n",
              "        async function convertToInteractive(key) {\n",
              "          const element = document.querySelector('#df-bd41c3ac-435b-408e-8c58-20c4dd564691');\n",
              "          const dataTable =\n",
              "            await google.colab.kernel.invokeFunction('convertToInteractive',\n",
              "                                                     [key], {});\n",
              "          if (!dataTable) return;\n",
              "\n",
              "          const docLinkHtml = 'Like what you see? Visit the ' +\n",
              "            '<a target=\"_blank\" href=https://colab.research.google.com/notebooks/data_table.ipynb>data table notebook</a>'\n",
              "            + ' to learn more about interactive tables.';\n",
              "          element.innerHTML = '';\n",
              "          dataTable['output_type'] = 'display_data';\n",
              "          await google.colab.output.renderOutput(dataTable, element);\n",
              "          const docLink = document.createElement('div');\n",
              "          docLink.innerHTML = docLinkHtml;\n",
              "          element.appendChild(docLink);\n",
              "        }\n",
              "      </script>\n",
              "    </div>\n",
              "  </div>\n",
              "  "
            ]
          },
          "metadata": {},
          "execution_count": 31
        }
      ],
      "source": [
        "boston = load_boston()\n",
        "df = pd.DataFrame(boston.data, columns=boston.feature_names)\n",
        "df['PRICE'] =  boston.target\n",
        "df.head()"
      ]
    },
    {
      "cell_type": "markdown",
      "metadata": {
        "id": "6O2LO5J9JGn1"
      },
      "source": [
        "**BaseLine**"
      ]
    },
    {
      "cell_type": "code",
      "execution_count": null,
      "metadata": {
        "id": "Lf0J2-7fJGn1"
      },
      "outputs": [],
      "source": [
        "features = df[['CRIM', 'ZN', 'INDUS', 'CHAS', 'NOX', 'RM', 'AGE', 'DIS', 'RAD', 'TAX','PTRATIO', 'B', 'LSTAT']]\n",
        "target = df['PRICE']\n"
      ]
    },
    {
      "cell_type": "code",
      "execution_count": null,
      "metadata": {
        "colab": {
          "base_uri": "https://localhost:8080/"
        },
        "id": "U1v6BYeuJGn1",
        "outputId": "aa20880c-ac5d-4704-b5fd-ad822803e20f"
      },
      "outputs": [
        {
          "output_type": "stream",
          "name": "stdout",
          "text": [
            "MAE:  3.2708628109003164\n",
            "__________________________________________________\n",
            "Cross-val MAE:  3.388460472275863\n"
          ]
        }
      ],
      "source": [
        "lr = LinearRegression()\n",
        "lr.fit(features, target)\n",
        "prediction = lr.predict(features)\n",
        "\n",
        "print('MAE: ', mean_absolute_error(target, prediction))\n",
        "print('_'*50)\n",
        "\n",
        "kf = KFold(n_splits=5, shuffle=True, random_state=42)\n",
        "print('Cross-val MAE: ', -cross_val_score(lr, X=features, y=target, cv=kf, scoring=\"neg_mean_absolute_error\").mean())\n"
      ]
    },
    {
      "cell_type": "markdown",
      "metadata": {
        "id": "43ZEJnlEJGn2"
      },
      "source": [
        "**Взаимодействие признаков**"
      ]
    },
    {
      "cell_type": "markdown",
      "metadata": {
        "id": "wD8hFULzJGn2"
      },
      "source": [
        "Выберем 6 признаков и добавим фичи как взаимодействия признаков"
      ]
    },
    {
      "cell_type": "code",
      "execution_count": null,
      "metadata": {
        "colab": {
          "base_uri": "https://localhost:8080/"
        },
        "id": "KU4Zi-okJGn2",
        "outputId": "9f9a2e7f-fbd1-4a66-a183-81c494e3b728"
      },
      "outputs": [
        {
          "output_type": "execute_result",
          "data": {
            "text/plain": [
              "(506, 41)"
            ]
          },
          "metadata": {},
          "execution_count": 34
        }
      ],
      "source": [
        "features_6 = df[['CRIM', 'RM', 'AGE', 'B', 'LSTAT', 'DIS']]\n",
        "\n",
        "# Добавляем взаимодействия признаков, получаем 41 признаков вместо изначальных 13\n",
        "interaction = PolynomialFeatures(degree=3, include_bias=False, interaction_only=True)\n",
        "features_interaction = interaction.fit_transform(features_6)\n",
        "features_interaction.shape"
      ]
    },
    {
      "cell_type": "code",
      "execution_count": null,
      "metadata": {
        "collapsed": true,
        "colab": {
          "base_uri": "https://localhost:8080/"
        },
        "id": "GhEJLugtJGn3",
        "outputId": "b10f6754-8b6f-494d-e192-4d241b00e08b"
      },
      "outputs": [
        {
          "output_type": "stream",
          "name": "stderr",
          "text": [
            "/usr/local/lib/python3.7/dist-packages/sklearn/utils/deprecation.py:87: FutureWarning: Function get_feature_names is deprecated; get_feature_names is deprecated in 1.0 and will be removed in 1.2. Please use get_feature_names_out instead.\n",
            "  warnings.warn(msg, category=FutureWarning)\n"
          ]
        },
        {
          "output_type": "execute_result",
          "data": {
            "text/plain": [
              "['x0',\n",
              " 'x1',\n",
              " 'x2',\n",
              " 'x3',\n",
              " 'x4',\n",
              " 'x5',\n",
              " 'x0 x1',\n",
              " 'x0 x2',\n",
              " 'x0 x3',\n",
              " 'x0 x4',\n",
              " 'x0 x5',\n",
              " 'x1 x2',\n",
              " 'x1 x3',\n",
              " 'x1 x4',\n",
              " 'x1 x5',\n",
              " 'x2 x3',\n",
              " 'x2 x4',\n",
              " 'x2 x5',\n",
              " 'x3 x4',\n",
              " 'x3 x5',\n",
              " 'x4 x5',\n",
              " 'x0 x1 x2',\n",
              " 'x0 x1 x3',\n",
              " 'x0 x1 x4',\n",
              " 'x0 x1 x5',\n",
              " 'x0 x2 x3',\n",
              " 'x0 x2 x4',\n",
              " 'x0 x2 x5',\n",
              " 'x0 x3 x4',\n",
              " 'x0 x3 x5',\n",
              " 'x0 x4 x5',\n",
              " 'x1 x2 x3',\n",
              " 'x1 x2 x4',\n",
              " 'x1 x2 x5',\n",
              " 'x1 x3 x4',\n",
              " 'x1 x3 x5',\n",
              " 'x1 x4 x5',\n",
              " 'x2 x3 x4',\n",
              " 'x2 x3 x5',\n",
              " 'x2 x4 x5',\n",
              " 'x3 x4 x5']"
            ]
          },
          "metadata": {},
          "execution_count": 35
        }
      ],
      "source": [
        "interaction.get_feature_names()"
      ]
    },
    {
      "cell_type": "markdown",
      "metadata": {
        "id": "dO8Xah5NJGn3"
      },
      "source": [
        "Метрика **MAE** с новыми фичами немного улучшилась"
      ]
    },
    {
      "cell_type": "code",
      "execution_count": null,
      "metadata": {
        "colab": {
          "base_uri": "https://localhost:8080/"
        },
        "id": "A1-kloAtJGn3",
        "outputId": "4b88f105-efb1-41f8-e940-8046151a396c"
      },
      "outputs": [
        {
          "output_type": "stream",
          "name": "stdout",
          "text": [
            "MAE:  2.599099893105942\n",
            "__________________________________________________\n",
            "Cross-val MAE:  3.241646783041806\n"
          ]
        }
      ],
      "source": [
        "interaction_lr = LinearRegression()\n",
        "interaction_lr.fit(features_interaction, target)\n",
        "prediction = interaction_lr.predict(features_interaction)\n",
        "\n",
        "print('MAE: ', mean_absolute_error(prediction, target))\n",
        "print('_'*50)\n",
        "kf = KFold(n_splits=5, shuffle=True, random_state=42)\n",
        "print('Cross-val MAE: ', -cross_val_score(interaction_lr, X=features_interaction, y=target, cv=kf, scoring=\"neg_mean_absolute_error\").mean())\n"
      ]
    },
    {
      "cell_type": "markdown",
      "metadata": {
        "id": "WjoevBfLJGn4"
      },
      "source": [
        "При применении полиномиального преобразования только на 6 признаках качество модели улучшилось. Возникает вполне логичная мылсь: почему бы не проделать такое преобразования на всех 13 исходных признаках?\n",
        "\n",
        "Посмотрим качество модели, если сгенерируем полиномиальные признаки для всех исодных признаков"
      ]
    },
    {
      "cell_type": "code",
      "execution_count": null,
      "metadata": {
        "colab": {
          "base_uri": "https://localhost:8080/"
        },
        "id": "ZAsERRABJGn4",
        "outputId": "a5bf4e81-a03e-44dd-a2a6-c5fafc357d16"
      },
      "outputs": [
        {
          "output_type": "execute_result",
          "data": {
            "text/plain": [
              "(506, 377)"
            ]
          },
          "metadata": {},
          "execution_count": 37
        }
      ],
      "source": [
        "features = df[['CRIM', 'ZN', 'INDUS', 'CHAS', 'NOX', 'RM', 'AGE', 'DIS', 'RAD', 'TAX','PTRATIO', 'B', 'LSTAT']]\n",
        "\n",
        "# Добавляем взаимодействия признаков, получаем 377 признаков вместо изначальных 13\n",
        "interaction = PolynomialFeatures(degree=3, include_bias=False, interaction_only=True)\n",
        "features_interaction = interaction.fit_transform(features)\n",
        "features_interaction.shape"
      ]
    },
    {
      "cell_type": "code",
      "execution_count": null,
      "metadata": {
        "colab": {
          "base_uri": "https://localhost:8080/"
        },
        "id": "ocgWCdiLJGn4",
        "outputId": "7a3156e7-0046-4679-e586-d83ebb87acd6"
      },
      "outputs": [
        {
          "output_type": "stream",
          "name": "stdout",
          "text": [
            "MAE:  0.8942150012326114\n",
            "__________________________________________________\n",
            "Cross-val  MAE:  14.089764392498509\n"
          ]
        }
      ],
      "source": [
        "interaction_lr = LinearRegression()\n",
        "interaction_lr.fit(features_interaction, target)\n",
        "prediction = interaction_lr.predict(features_interaction)\n",
        "\n",
        "print('MAE: ', mean_absolute_error(prediction, target))\n",
        "print('_'*50)\n",
        "kf = KFold(n_splits=5, shuffle=True, random_state=42)\n",
        "print('Cross-val  MAE: ', -cross_val_score(interaction_lr, X=features_interaction, y=target, cv=kf, scoring=\"neg_mean_absolute_error\").mean())\n"
      ]
    },
    {
      "cell_type": "markdown",
      "metadata": {
        "id": "_dkvu-UVJGn5"
      },
      "source": [
        "Видим очень сильное переобучение!\n",
        "\n",
        "**Почему так происходит?**\n",
        "\n",
        "Размерность признаков очень большая, мы получили матрицу размера 506 на 377. Для такого большого количества фич у нас слишком мало данных.\n",
        "\n",
        "Для иллюстрации этого эффекта давайте \"сломаем\" хороший пример, в котором мы генерировали полиномиальные комбинации для 6 фич. Давайте уменьшим количество наблюдений до 100 и посмотрим, будет ли переобучение при этом."
      ]
    },
    {
      "cell_type": "code",
      "execution_count": null,
      "metadata": {
        "colab": {
          "base_uri": "https://localhost:8080/"
        },
        "id": "Ae6MQj3oJGn5",
        "outputId": "7d2cf48e-6c50-441f-ed0b-772942cfeeeb"
      },
      "outputs": [
        {
          "output_type": "stream",
          "name": "stdout",
          "text": [
            "MAE:  2.6792967844357917e-12\n",
            "__________________________________________________\n",
            "Cross-val MAE:  33.82971796946204\n"
          ]
        }
      ],
      "source": [
        "interaction_lr = LinearRegression()\n",
        "interaction_lr.fit(features_interaction[:100], target[:100])\n",
        "prediction = interaction_lr.predict(features_interaction[:100])\n",
        "\n",
        "print('MAE: ', mean_absolute_error(prediction, target[:100]))\n",
        "print('_'*50)\n",
        "kf = KFold(n_splits=5, shuffle=True, random_state=42)\n",
        "print('Cross-val MAE: ', -cross_val_score(interaction_lr, X=features_interaction[:100], y=target[:100], cv=kf, scoring=\"neg_mean_absolute_error\").mean())\n"
      ]
    },
    {
      "cell_type": "markdown",
      "metadata": {
        "id": "RQMIwaccJGn6"
      },
      "source": [
        "Видим переобучение. Что изменилось? Мы имеем размерность данных 100 на 41, данных всего лишь в 2,5 раза больше чем признаков, этого не достаточно для хорошего обучения.\n",
        "\n",
        "При этом, если мы используем только 6 признаков без преобразования и 100 строк данных, переобучение не происходит, т.к. мы соблюдаем адекватное соотношение ***признаки-наблюдения.***"
      ]
    },
    {
      "cell_type": "code",
      "execution_count": null,
      "metadata": {
        "colab": {
          "base_uri": "https://localhost:8080/"
        },
        "id": "FrkL_foTJGn6",
        "outputId": "8445e263-1c64-46ec-a39e-111fdfc972c1"
      },
      "outputs": [
        {
          "output_type": "stream",
          "name": "stdout",
          "text": [
            "MAE:  1.70294863957018\n",
            "__________________________________________________\n",
            "Cross-val MAE:  1.9685866428180212\n"
          ]
        }
      ],
      "source": [
        "interaction_lr = LinearRegression()\n",
        "interaction_lr.fit(features_6[:100], target[:100])\n",
        "prediction = interaction_lr.predict(features_6[:100])\n",
        "\n",
        "print('MAE: ', mean_absolute_error(prediction, target[:100]))\n",
        "print('_'*50)\n",
        "kf = KFold(n_splits=5, shuffle=True, random_state=42)\n",
        "print('Cross-val MAE: ', -cross_val_score(interaction_lr, X=features_6[:100], y=target[:100], cv=kf, scoring=\"neg_mean_absolute_error\").mean())\n"
      ]
    },
    {
      "cell_type": "markdown",
      "metadata": {
        "id": "je9dJeRZJGn7"
      },
      "source": [
        "### <center> 3. Моделируем эффект нелинейности"
      ]
    },
    {
      "cell_type": "markdown",
      "metadata": {
        "id": "JpSCLw5hJGn7"
      },
      "source": [
        "До сих пор мы обсуждали моделирование только ***линейных связей***. Примером линейной связи может служить количество этажей здания и его высота. В линейной регрессии мы исходим из того, что эффект количества этажей и высоты здания примерно постоянен, а это означает, что 20-этажное здание будет примерно в два раза выше, чем 10-этажное, которое будет примерно в два раза выше, чем 5-этажное здание.\n",
        "\n",
        "Однако многие представляющие интерес связи не являются строго линейными. Нередко требуется смоделировать **нелинейную связь** — например, связь между количеством часов, которые учащийся тратит на учебу, и оценкой, которую он получает за контрольную работу. Интуитивно мы можем себе представить, что в оценках между учащимися, которые учились в течение одного часа, и учащимися, которые вообще не учились, есть большая разница. Вместе с тем существует гораздо меньшая разница в оценках между учащимся, который учился в течение 99 часов, и учащимся, который учился в течение 100 часов. Влияние одного часа учебы на итоговую оценку учащегося уменьшается по мере увеличения количества часов.\n",
        "\n",
        "Еще один пример нелинейности - из экономики, это так называемый **Закон убывающей предельной полезности**. Он гласит, что с каждой дополнительной единицей товара его предельная полезность падает. Проиллюстрируем на простом примере. Вы голодны и съедаете бутерброд. Первый будетерброд съедается с большим удовольствием, да и второй неплохо идет. По мере насыщения, каждый следующий бутерброд уже не представляет такой ценности и, скажем, 20 уже уже вряд ли будет вас радовать :)\n"
      ]
    },
    {
      "cell_type": "markdown",
      "metadata": {
        "id": "M9QdRG6oJGn8"
      },
      "source": [
        "**Полиномиальная регрессия** — это расширение линейной регрессии, позволяющее моделировать нелинейные связи. Для того чтобы создать полиномиальную регрессию, следует конвертировать линейную функцию\n",
        "$$\\widehat{y} = \\widehat{\\beta_{0}} + \\widehat{\\beta_{1}}x_{1} + \\widehat{\\beta_{2}}x_1^2 + ... + \\epsilon$$"
      ]
    },
    {
      "cell_type": "markdown",
      "metadata": {
        "id": "JYpjV8AfJGn8"
      },
      "source": [
        "Мы используем тот же преобразователь **PolynomialFeatures** из **sklearn**, только теперь мы оставляем не только перемножение признаков друг с другом, но и возведение их в степень"
      ]
    },
    {
      "cell_type": "code",
      "execution_count": null,
      "metadata": {
        "colab": {
          "base_uri": "https://localhost:8080/"
        },
        "id": "TOw1dH4CJGn8",
        "outputId": "acab15d8-bb84-4f4d-e98c-91abc40b253b"
      },
      "outputs": [
        {
          "output_type": "execute_result",
          "data": {
            "text/plain": [
              "(506, 83)"
            ]
          },
          "metadata": {},
          "execution_count": 41
        }
      ],
      "source": [
        "non_linear = PolynomialFeatures(degree=3, include_bias=False, interaction_only=False)\n",
        "features_non_linear = non_linear.fit_transform(features_6)\n",
        "features_non_linear.shape"
      ]
    },
    {
      "cell_type": "code",
      "execution_count": null,
      "metadata": {
        "collapsed": true,
        "colab": {
          "base_uri": "https://localhost:8080/"
        },
        "id": "eZgAGBNlJGn8",
        "outputId": "be76eb23-fb3a-4d31-a61b-2afffa7ba14e"
      },
      "outputs": [
        {
          "output_type": "stream",
          "name": "stderr",
          "text": [
            "/usr/local/lib/python3.7/dist-packages/sklearn/utils/deprecation.py:87: FutureWarning: Function get_feature_names is deprecated; get_feature_names is deprecated in 1.0 and will be removed in 1.2. Please use get_feature_names_out instead.\n",
            "  warnings.warn(msg, category=FutureWarning)\n"
          ]
        },
        {
          "output_type": "execute_result",
          "data": {
            "text/plain": [
              "['x0',\n",
              " 'x1',\n",
              " 'x2',\n",
              " 'x3',\n",
              " 'x4',\n",
              " 'x5',\n",
              " 'x0^2',\n",
              " 'x0 x1',\n",
              " 'x0 x2',\n",
              " 'x0 x3',\n",
              " 'x0 x4',\n",
              " 'x0 x5',\n",
              " 'x1^2',\n",
              " 'x1 x2',\n",
              " 'x1 x3',\n",
              " 'x1 x4',\n",
              " 'x1 x5',\n",
              " 'x2^2',\n",
              " 'x2 x3',\n",
              " 'x2 x4',\n",
              " 'x2 x5',\n",
              " 'x3^2',\n",
              " 'x3 x4',\n",
              " 'x3 x5',\n",
              " 'x4^2',\n",
              " 'x4 x5',\n",
              " 'x5^2',\n",
              " 'x0^3',\n",
              " 'x0^2 x1',\n",
              " 'x0^2 x2',\n",
              " 'x0^2 x3',\n",
              " 'x0^2 x4',\n",
              " 'x0^2 x5',\n",
              " 'x0 x1^2',\n",
              " 'x0 x1 x2',\n",
              " 'x0 x1 x3',\n",
              " 'x0 x1 x4',\n",
              " 'x0 x1 x5',\n",
              " 'x0 x2^2',\n",
              " 'x0 x2 x3',\n",
              " 'x0 x2 x4',\n",
              " 'x0 x2 x5',\n",
              " 'x0 x3^2',\n",
              " 'x0 x3 x4',\n",
              " 'x0 x3 x5',\n",
              " 'x0 x4^2',\n",
              " 'x0 x4 x5',\n",
              " 'x0 x5^2',\n",
              " 'x1^3',\n",
              " 'x1^2 x2',\n",
              " 'x1^2 x3',\n",
              " 'x1^2 x4',\n",
              " 'x1^2 x5',\n",
              " 'x1 x2^2',\n",
              " 'x1 x2 x3',\n",
              " 'x1 x2 x4',\n",
              " 'x1 x2 x5',\n",
              " 'x1 x3^2',\n",
              " 'x1 x3 x4',\n",
              " 'x1 x3 x5',\n",
              " 'x1 x4^2',\n",
              " 'x1 x4 x5',\n",
              " 'x1 x5^2',\n",
              " 'x2^3',\n",
              " 'x2^2 x3',\n",
              " 'x2^2 x4',\n",
              " 'x2^2 x5',\n",
              " 'x2 x3^2',\n",
              " 'x2 x3 x4',\n",
              " 'x2 x3 x5',\n",
              " 'x2 x4^2',\n",
              " 'x2 x4 x5',\n",
              " 'x2 x5^2',\n",
              " 'x3^3',\n",
              " 'x3^2 x4',\n",
              " 'x3^2 x5',\n",
              " 'x3 x4^2',\n",
              " 'x3 x4 x5',\n",
              " 'x3 x5^2',\n",
              " 'x4^3',\n",
              " 'x4^2 x5',\n",
              " 'x4 x5^2',\n",
              " 'x5^3']"
            ]
          },
          "metadata": {},
          "execution_count": 42
        }
      ],
      "source": [
        "non_linear.get_feature_names()"
      ]
    },
    {
      "cell_type": "markdown",
      "metadata": {
        "id": "cyA-V2pOJGn9"
      },
      "source": [
        "Как видим, применение данной техники к 6 признакам привело к переобучению"
      ]
    },
    {
      "cell_type": "code",
      "execution_count": null,
      "metadata": {
        "colab": {
          "base_uri": "https://localhost:8080/"
        },
        "id": "9ME9KhjEJGn9",
        "outputId": "6fac9214-79f7-4532-c2b5-a74dbd098e11"
      },
      "outputs": [
        {
          "output_type": "stream",
          "name": "stdout",
          "text": [
            "MAE:  2.038249081327906\n",
            "__________________________________________________\n",
            "Cross-val MAE:  4.038559536458368\n"
          ]
        }
      ],
      "source": [
        "non_linear_lr = LinearRegression()\n",
        "non_linear_lr.fit(features_non_linear, target)\n",
        "prediction = non_linear_lr.predict(features_non_linear)\n",
        "\n",
        "print('MAE: ', mean_absolute_error(prediction, target))\n",
        "print('_'*50)\n",
        "kf = KFold(n_splits=5, shuffle=True, random_state=42)\n",
        "print('Cross-val MAE: ', -cross_val_score(non_linear_lr, X=features_non_linear, y=target, cv=kf, scoring=\"neg_mean_absolute_error\").mean())"
      ]
    },
    {
      "cell_type": "markdown",
      "metadata": {
        "id": "8p0XGk6CJGn9"
      },
      "source": [
        "### <center> 4. Временные признаки"
      ]
    },
    {
      "cell_type": "markdown",
      "metadata": {
        "id": "j_DLyKYPJGn9"
      },
      "source": [
        "**Наиболее часты манипуляции с датой/временем:**\n",
        "    \n",
        "1. Выделение компонентов даты/времени: сезонов, месяцев, дня недели, часа и т.д.\n",
        "2. Выделение события: \"выходной день\", \"праздничный день\" и т.д.\n",
        "3. Отображение на круг (аналогия с наручными часами)    "
      ]
    },
    {
      "cell_type": "markdown",
      "metadata": {
        "id": "mo58TxTAJGn9"
      },
      "source": [
        "**Отображение на круг**\n",
        "\n",
        "Данное преобразование позволяет отразить физический смылс времени и близости временных промежутков друг к другу, что мы видим на круглом циферблате ручных часов и чего нет при 24-х часовом формате отображения времени. \n",
        "\n",
        "- К примеру, мы понимаем, что между 23:00 часами и полночью (00:00) не большая разница во времени. Однако, если рассматривать 24-х часовой формат, то расстояние между ними 23 единицы. \n",
        "\n",
        "- 12-и часовой формат нам так же не сильно подходит, т.к. все еще остается большая разница между 12 часами и 1 часом. К тому же в при таком формате мы теряем о периоде суток - нет разницы между 1 часом дня или 1 часом ночи. \n",
        "\n",
        "Решить это проблему помогут периодичные функции синус и косинус. Достаточно сделать вот такbt преобразования:\n",
        "$$cos\\_hour = Cos(\\frac{hour *2*\\pi}{max(hour)}) =  Cos(\\frac{hour *2*\\pi}{24})$$\n",
        " \n",
        "$$sin\\_hour = Sin(\\frac{hour *2*\\pi}{max(hour)}) =  Sin(\\frac{hour *2*\\pi}{24})$$"
      ]
    },
    {
      "cell_type": "markdown",
      "metadata": {
        "id": "WiuaWTXnJGn-"
      },
      "source": [
        "<img src='https://github.com/MalikaL17/course_materials/blob/main/img/feature_eng_1.PNG?raw=true'>\n",
        "<img src='https://github.com/MalikaL17/course_materials/blob/main/img/feature_eng_2.PNG?raw=true'>"
      ]
    },
    {
      "cell_type": "code",
      "execution_count": null,
      "metadata": {
        "id": "tSN81vFZJGn-"
      },
      "outputs": [],
      "source": [
        "import math "
      ]
    },
    {
      "cell_type": "code",
      "execution_count": null,
      "metadata": {
        "colab": {
          "base_uri": "https://localhost:8080/"
        },
        "id": "Elhft7BhJGn-",
        "outputId": "cafadbc6-bbd0-4487-fd84-74719b5f3a1a"
      },
      "outputs": [
        {
          "output_type": "execute_result",
          "data": {
            "text/plain": [
              "0.5403023058681398"
            ]
          },
          "metadata": {},
          "execution_count": 45
        }
      ],
      "source": [
        "math.cos(1)"
      ]
    },
    {
      "cell_type": "code",
      "execution_count": null,
      "metadata": {
        "scrolled": true,
        "colab": {
          "base_uri": "https://localhost:8080/"
        },
        "id": "QFaqBzXIJGn-",
        "outputId": "7e9b09f0-6386-493f-f6f2-adb121f884a6"
      },
      "outputs": [
        {
          "output_type": "execute_result",
          "data": {
            "text/plain": [
              "   hour\n",
              "0     0\n",
              "1     1\n",
              "2     2\n",
              "3     3\n",
              "4     4"
            ],
            "text/html": [
              "\n",
              "  <div id=\"df-4d1a5057-a5af-4ae3-9bd1-59b3f9cf58e5\">\n",
              "    <div class=\"colab-df-container\">\n",
              "      <div>\n",
              "<style scoped>\n",
              "    .dataframe tbody tr th:only-of-type {\n",
              "        vertical-align: middle;\n",
              "    }\n",
              "\n",
              "    .dataframe tbody tr th {\n",
              "        vertical-align: top;\n",
              "    }\n",
              "\n",
              "    .dataframe thead th {\n",
              "        text-align: right;\n",
              "    }\n",
              "</style>\n",
              "<table border=\"1\" class=\"dataframe\">\n",
              "  <thead>\n",
              "    <tr style=\"text-align: right;\">\n",
              "      <th></th>\n",
              "      <th>hour</th>\n",
              "    </tr>\n",
              "  </thead>\n",
              "  <tbody>\n",
              "    <tr>\n",
              "      <th>0</th>\n",
              "      <td>0</td>\n",
              "    </tr>\n",
              "    <tr>\n",
              "      <th>1</th>\n",
              "      <td>1</td>\n",
              "    </tr>\n",
              "    <tr>\n",
              "      <th>2</th>\n",
              "      <td>2</td>\n",
              "    </tr>\n",
              "    <tr>\n",
              "      <th>3</th>\n",
              "      <td>3</td>\n",
              "    </tr>\n",
              "    <tr>\n",
              "      <th>4</th>\n",
              "      <td>4</td>\n",
              "    </tr>\n",
              "  </tbody>\n",
              "</table>\n",
              "</div>\n",
              "      <button class=\"colab-df-convert\" onclick=\"convertToInteractive('df-4d1a5057-a5af-4ae3-9bd1-59b3f9cf58e5')\"\n",
              "              title=\"Convert this dataframe to an interactive table.\"\n",
              "              style=\"display:none;\">\n",
              "        \n",
              "  <svg xmlns=\"http://www.w3.org/2000/svg\" height=\"24px\"viewBox=\"0 0 24 24\"\n",
              "       width=\"24px\">\n",
              "    <path d=\"M0 0h24v24H0V0z\" fill=\"none\"/>\n",
              "    <path d=\"M18.56 5.44l.94 2.06.94-2.06 2.06-.94-2.06-.94-.94-2.06-.94 2.06-2.06.94zm-11 1L8.5 8.5l.94-2.06 2.06-.94-2.06-.94L8.5 2.5l-.94 2.06-2.06.94zm10 10l.94 2.06.94-2.06 2.06-.94-2.06-.94-.94-2.06-.94 2.06-2.06.94z\"/><path d=\"M17.41 7.96l-1.37-1.37c-.4-.4-.92-.59-1.43-.59-.52 0-1.04.2-1.43.59L10.3 9.45l-7.72 7.72c-.78.78-.78 2.05 0 2.83L4 21.41c.39.39.9.59 1.41.59.51 0 1.02-.2 1.41-.59l7.78-7.78 2.81-2.81c.8-.78.8-2.07 0-2.86zM5.41 20L4 18.59l7.72-7.72 1.47 1.35L5.41 20z\"/>\n",
              "  </svg>\n",
              "      </button>\n",
              "      \n",
              "  <style>\n",
              "    .colab-df-container {\n",
              "      display:flex;\n",
              "      flex-wrap:wrap;\n",
              "      gap: 12px;\n",
              "    }\n",
              "\n",
              "    .colab-df-convert {\n",
              "      background-color: #E8F0FE;\n",
              "      border: none;\n",
              "      border-radius: 50%;\n",
              "      cursor: pointer;\n",
              "      display: none;\n",
              "      fill: #1967D2;\n",
              "      height: 32px;\n",
              "      padding: 0 0 0 0;\n",
              "      width: 32px;\n",
              "    }\n",
              "\n",
              "    .colab-df-convert:hover {\n",
              "      background-color: #E2EBFA;\n",
              "      box-shadow: 0px 1px 2px rgba(60, 64, 67, 0.3), 0px 1px 3px 1px rgba(60, 64, 67, 0.15);\n",
              "      fill: #174EA6;\n",
              "    }\n",
              "\n",
              "    [theme=dark] .colab-df-convert {\n",
              "      background-color: #3B4455;\n",
              "      fill: #D2E3FC;\n",
              "    }\n",
              "\n",
              "    [theme=dark] .colab-df-convert:hover {\n",
              "      background-color: #434B5C;\n",
              "      box-shadow: 0px 1px 3px 1px rgba(0, 0, 0, 0.15);\n",
              "      filter: drop-shadow(0px 1px 2px rgba(0, 0, 0, 0.3));\n",
              "      fill: #FFFFFF;\n",
              "    }\n",
              "  </style>\n",
              "\n",
              "      <script>\n",
              "        const buttonEl =\n",
              "          document.querySelector('#df-4d1a5057-a5af-4ae3-9bd1-59b3f9cf58e5 button.colab-df-convert');\n",
              "        buttonEl.style.display =\n",
              "          google.colab.kernel.accessAllowed ? 'block' : 'none';\n",
              "\n",
              "        async function convertToInteractive(key) {\n",
              "          const element = document.querySelector('#df-4d1a5057-a5af-4ae3-9bd1-59b3f9cf58e5');\n",
              "          const dataTable =\n",
              "            await google.colab.kernel.invokeFunction('convertToInteractive',\n",
              "                                                     [key], {});\n",
              "          if (!dataTable) return;\n",
              "\n",
              "          const docLinkHtml = 'Like what you see? Visit the ' +\n",
              "            '<a target=\"_blank\" href=https://colab.research.google.com/notebooks/data_table.ipynb>data table notebook</a>'\n",
              "            + ' to learn more about interactive tables.';\n",
              "          element.innerHTML = '';\n",
              "          dataTable['output_type'] = 'display_data';\n",
              "          await google.colab.output.renderOutput(dataTable, element);\n",
              "          const docLink = document.createElement('div');\n",
              "          docLink.innerHTML = docLinkHtml;\n",
              "          element.appendChild(docLink);\n",
              "        }\n",
              "      </script>\n",
              "    </div>\n",
              "  </div>\n",
              "  "
            ]
          },
          "metadata": {},
          "execution_count": 46
        }
      ],
      "source": [
        "df = pd.DataFrame({'hour':[i for i in range(24)]})\n",
        "df.head()"
      ]
    },
    {
      "cell_type": "code",
      "execution_count": null,
      "metadata": {
        "colab": {
          "base_uri": "https://localhost:8080/"
        },
        "id": "o1RLfZHMJGn_",
        "outputId": "a781cb1f-c29c-42a4-b75e-c1dc6ef82422"
      },
      "outputs": [
        {
          "output_type": "execute_result",
          "data": {
            "text/plain": [
              "   hour  hour_cos  hour_sin\n",
              "0     0  1.000000  0.000000\n",
              "1     1  0.965926  0.258819\n",
              "2     2  0.866025  0.500000\n",
              "3     3  0.707107  0.707107\n",
              "4     4  0.500000  0.866025"
            ],
            "text/html": [
              "\n",
              "  <div id=\"df-510dd742-7fc9-4925-99ac-ab0213c253c4\">\n",
              "    <div class=\"colab-df-container\">\n",
              "      <div>\n",
              "<style scoped>\n",
              "    .dataframe tbody tr th:only-of-type {\n",
              "        vertical-align: middle;\n",
              "    }\n",
              "\n",
              "    .dataframe tbody tr th {\n",
              "        vertical-align: top;\n",
              "    }\n",
              "\n",
              "    .dataframe thead th {\n",
              "        text-align: right;\n",
              "    }\n",
              "</style>\n",
              "<table border=\"1\" class=\"dataframe\">\n",
              "  <thead>\n",
              "    <tr style=\"text-align: right;\">\n",
              "      <th></th>\n",
              "      <th>hour</th>\n",
              "      <th>hour_cos</th>\n",
              "      <th>hour_sin</th>\n",
              "    </tr>\n",
              "  </thead>\n",
              "  <tbody>\n",
              "    <tr>\n",
              "      <th>0</th>\n",
              "      <td>0</td>\n",
              "      <td>1.000000</td>\n",
              "      <td>0.000000</td>\n",
              "    </tr>\n",
              "    <tr>\n",
              "      <th>1</th>\n",
              "      <td>1</td>\n",
              "      <td>0.965926</td>\n",
              "      <td>0.258819</td>\n",
              "    </tr>\n",
              "    <tr>\n",
              "      <th>2</th>\n",
              "      <td>2</td>\n",
              "      <td>0.866025</td>\n",
              "      <td>0.500000</td>\n",
              "    </tr>\n",
              "    <tr>\n",
              "      <th>3</th>\n",
              "      <td>3</td>\n",
              "      <td>0.707107</td>\n",
              "      <td>0.707107</td>\n",
              "    </tr>\n",
              "    <tr>\n",
              "      <th>4</th>\n",
              "      <td>4</td>\n",
              "      <td>0.500000</td>\n",
              "      <td>0.866025</td>\n",
              "    </tr>\n",
              "  </tbody>\n",
              "</table>\n",
              "</div>\n",
              "      <button class=\"colab-df-convert\" onclick=\"convertToInteractive('df-510dd742-7fc9-4925-99ac-ab0213c253c4')\"\n",
              "              title=\"Convert this dataframe to an interactive table.\"\n",
              "              style=\"display:none;\">\n",
              "        \n",
              "  <svg xmlns=\"http://www.w3.org/2000/svg\" height=\"24px\"viewBox=\"0 0 24 24\"\n",
              "       width=\"24px\">\n",
              "    <path d=\"M0 0h24v24H0V0z\" fill=\"none\"/>\n",
              "    <path d=\"M18.56 5.44l.94 2.06.94-2.06 2.06-.94-2.06-.94-.94-2.06-.94 2.06-2.06.94zm-11 1L8.5 8.5l.94-2.06 2.06-.94-2.06-.94L8.5 2.5l-.94 2.06-2.06.94zm10 10l.94 2.06.94-2.06 2.06-.94-2.06-.94-.94-2.06-.94 2.06-2.06.94z\"/><path d=\"M17.41 7.96l-1.37-1.37c-.4-.4-.92-.59-1.43-.59-.52 0-1.04.2-1.43.59L10.3 9.45l-7.72 7.72c-.78.78-.78 2.05 0 2.83L4 21.41c.39.39.9.59 1.41.59.51 0 1.02-.2 1.41-.59l7.78-7.78 2.81-2.81c.8-.78.8-2.07 0-2.86zM5.41 20L4 18.59l7.72-7.72 1.47 1.35L5.41 20z\"/>\n",
              "  </svg>\n",
              "      </button>\n",
              "      \n",
              "  <style>\n",
              "    .colab-df-container {\n",
              "      display:flex;\n",
              "      flex-wrap:wrap;\n",
              "      gap: 12px;\n",
              "    }\n",
              "\n",
              "    .colab-df-convert {\n",
              "      background-color: #E8F0FE;\n",
              "      border: none;\n",
              "      border-radius: 50%;\n",
              "      cursor: pointer;\n",
              "      display: none;\n",
              "      fill: #1967D2;\n",
              "      height: 32px;\n",
              "      padding: 0 0 0 0;\n",
              "      width: 32px;\n",
              "    }\n",
              "\n",
              "    .colab-df-convert:hover {\n",
              "      background-color: #E2EBFA;\n",
              "      box-shadow: 0px 1px 2px rgba(60, 64, 67, 0.3), 0px 1px 3px 1px rgba(60, 64, 67, 0.15);\n",
              "      fill: #174EA6;\n",
              "    }\n",
              "\n",
              "    [theme=dark] .colab-df-convert {\n",
              "      background-color: #3B4455;\n",
              "      fill: #D2E3FC;\n",
              "    }\n",
              "\n",
              "    [theme=dark] .colab-df-convert:hover {\n",
              "      background-color: #434B5C;\n",
              "      box-shadow: 0px 1px 3px 1px rgba(0, 0, 0, 0.15);\n",
              "      filter: drop-shadow(0px 1px 2px rgba(0, 0, 0, 0.3));\n",
              "      fill: #FFFFFF;\n",
              "    }\n",
              "  </style>\n",
              "\n",
              "      <script>\n",
              "        const buttonEl =\n",
              "          document.querySelector('#df-510dd742-7fc9-4925-99ac-ab0213c253c4 button.colab-df-convert');\n",
              "        buttonEl.style.display =\n",
              "          google.colab.kernel.accessAllowed ? 'block' : 'none';\n",
              "\n",
              "        async function convertToInteractive(key) {\n",
              "          const element = document.querySelector('#df-510dd742-7fc9-4925-99ac-ab0213c253c4');\n",
              "          const dataTable =\n",
              "            await google.colab.kernel.invokeFunction('convertToInteractive',\n",
              "                                                     [key], {});\n",
              "          if (!dataTable) return;\n",
              "\n",
              "          const docLinkHtml = 'Like what you see? Visit the ' +\n",
              "            '<a target=\"_blank\" href=https://colab.research.google.com/notebooks/data_table.ipynb>data table notebook</a>'\n",
              "            + ' to learn more about interactive tables.';\n",
              "          element.innerHTML = '';\n",
              "          dataTable['output_type'] = 'display_data';\n",
              "          await google.colab.output.renderOutput(dataTable, element);\n",
              "          const docLink = document.createElement('div');\n",
              "          docLink.innerHTML = docLinkHtml;\n",
              "          element.appendChild(docLink);\n",
              "        }\n",
              "      </script>\n",
              "    </div>\n",
              "  </div>\n",
              "  "
            ]
          },
          "metadata": {},
          "execution_count": 47
        }
      ],
      "source": [
        "df['hour_cos'] = df['hour'].apply(lambda x: math.cos(x * 2 * math.pi / 24))\n",
        "df['hour_sin'] =  df['hour'].apply(lambda x: math.sin(x * 2 * math.pi / 24))\n",
        "df.head()"
      ]
    },
    {
      "cell_type": "code",
      "execution_count": null,
      "metadata": {
        "scrolled": true,
        "colab": {
          "base_uri": "https://localhost:8080/"
        },
        "id": "8rAzDmaKJGn_",
        "outputId": "9891ca32-ff16-45de-c8ce-b8e7b22daf67"
      },
      "outputs": [
        {
          "output_type": "display_data",
          "data": {
            "text/plain": [
              "<Figure size 720x360 with 1 Axes>"
            ],
            "image/png": "[encoded data removed]"
          },
          "metadata": {
            "needs_background": "light"
          }
        }
      ],
      "source": [
        "plt.figure(figsize=(10,5))\n",
        "sns.lineplot(x='hour', y='hour_cos', data=df, color='blue', marker='o');\n",
        "sns.lineplot(x='hour', y='hour_sin', data=df, color='green', marker='o')\n",
        "sns.lineplot(x='hour', y=[0]*24, data=df, color='r', linestyle='dashed',)\n",
        "plt.xticks(df['hour']);"
      ]
    },
    {
      "cell_type": "markdown",
      "metadata": {
        "id": "wTK1VuPLJGn_"
      },
      "source": [
        "Теперь видно, что расстояние между 23:00 и 00:00 стало намного меньше, при этом сохранилось различие между дневными и ночными часами суток "
      ]
    }
  ],
  "metadata": {
    "kernelspec": {
      "display_name": "Python 3",
      "language": "python",
      "name": "python3"
    },
    "language_info": {
      "codemirror_mode": {
        "name": "ipython",
        "version": 3
      },
      "file_extension": ".py",
      "mimetype": "text/x-python",
      "name": "python",
      "nbconvert_exporter": "python",
      "pygments_lexer": "ipython3",
      "version": "3.8.5"
    },
    "colab": {
      "name": "Генерация и важность признаков .ipynb",
      "provenance": [],
      "collapsed_sections": [
        "Jt2moQO4JGnh",
        "f_PHaQkyJGnv",
        "je9dJeRZJGn7"
      ]
    }
  },
  "nbformat": 4,
  "nbformat_minor": 0
}