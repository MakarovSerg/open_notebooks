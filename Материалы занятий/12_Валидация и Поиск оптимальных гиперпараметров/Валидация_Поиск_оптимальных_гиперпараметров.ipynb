{
  "cells": [
    {
      "cell_type": "code",
      "execution_count": null,
      "metadata": {
        "id": "M_3apO-vcRaV"
      },
      "outputs": [],
      "source": [
        "import pandas as pd\n",
        "import numpy as np\n",
        "from sklearn.neighbors import  KNeighborsRegressor, KNeighborsClassifier\n",
        "from sklearn.metrics import mean_squared_error, mean_absolute_error\n",
        "from sklearn.model_selection import train_test_split\n",
        "import matplotlib.pyplot as plt"
      ]
    },
    {
      "cell_type": "markdown",
      "metadata": {
        "id": "Le7xz82mcRbA"
      },
      "source": [
        "### <center> Перекрестная проверка модели (cross-validation)"
      ]
    },
    {
      "cell_type": "markdown",
      "metadata": {
        "id": "skAfNAo9cRbI"
      },
      "source": [
        "**Перекрестная проверка** - статистический метод оценки обобщающей способности модели. Он более устойчив к ошибкам, чем разбиение данных на обучающий и тестовый наборы.\n",
        "\n",
        "**Идея:** давайте разобьем данные на несколько частей/блоков/фолдов, построим модель несколько раз на разных частях данных и посмотрим, насколько хорошо и устойчиво работает модель. Такая проверка называется **k-блочной кросс-проверкой (k-fold cross-validation)**.\n",
        "\n"
      ]
    },
    {
      "cell_type": "markdown",
      "metadata": {
        "id": "Jbs0YZA9cRbL"
      },
      "source": [
        "<img src='https://github.com/MalikaL17/course_materials/blob/main/img/k-fold%20cross-val.PNG?raw=true'>"
      ]
    },
    {
      "cell_type": "code",
      "source": [
        "from google.colab import drive\n",
        "drive.mount('/content/drive')"
      ],
      "metadata": {
        "colab": {
          "base_uri": "https://localhost:8080/"
        },
        "id": "yRPNb1Nfz79k",
        "outputId": "c4dae343-fb9b-4b18-8b51-38adbef796f2"
      },
      "execution_count": null,
      "outputs": [
        {
          "output_type": "stream",
          "name": "stdout",
          "text": [
            "Drive already mounted at /content/drive; to attempt to forcibly remount, call drive.mount(\"/content/drive\", force_remount=True).\n"
          ]
        }
      ]
    },
    {
      "cell_type": "code",
      "source": [
        "df = pd.read_excel('drive/My Drive/Курс по анализу данных/Магистры 1 курс/Нормализация данных/data_house_prices_2_clean.xlsx')\n",
        "df.head()"
      ],
      "metadata": {
        "colab": {
          "base_uri": "https://localhost:8080/",
          "height": 206
        },
        "id": "_RKm9nYv0JAI",
        "outputId": "416c9026-9683-4642-cc29-75cbd71edcd5"
      },
      "execution_count": null,
      "outputs": [
        {
          "output_type": "execute_result",
          "data": {
            "text/html": [
              "\n",
              "  <div id=\"df-4c529d6e-eb16-4f41-8487-bda786972196\">\n",
              "    <div class=\"colab-df-container\">\n",
              "      <div>\n",
              "<style scoped>\n",
              "    .dataframe tbody tr th:only-of-type {\n",
              "        vertical-align: middle;\n",
              "    }\n",
              "\n",
              "    .dataframe tbody tr th {\n",
              "        vertical-align: top;\n",
              "    }\n",
              "\n",
              "    .dataframe thead th {\n",
              "        text-align: right;\n",
              "    }\n",
              "</style>\n",
              "<table border=\"1\" class=\"dataframe\">\n",
              "  <thead>\n",
              "    <tr style=\"text-align: right;\">\n",
              "      <th></th>\n",
              "      <th>Price</th>\n",
              "      <th>Area</th>\n",
              "      <th>YearBuilt</th>\n",
              "      <th>YearRestoration</th>\n",
              "      <th>MasVnrArea</th>\n",
              "      <th>RoomsNumb</th>\n",
              "      <th>SchoollDistance</th>\n",
              "      <th>CenterDistance</th>\n",
              "    </tr>\n",
              "  </thead>\n",
              "  <tbody>\n",
              "    <tr>\n",
              "      <th>0</th>\n",
              "      <td>380000</td>\n",
              "      <td>8450</td>\n",
              "      <td>2003</td>\n",
              "      <td>2003</td>\n",
              "      <td>196</td>\n",
              "      <td>8</td>\n",
              "      <td>2996.0</td>\n",
              "      <td>20081</td>\n",
              "    </tr>\n",
              "    <tr>\n",
              "      <th>1</th>\n",
              "      <td>181500</td>\n",
              "      <td>9600</td>\n",
              "      <td>1976</td>\n",
              "      <td>1976</td>\n",
              "      <td>0</td>\n",
              "      <td>6</td>\n",
              "      <td>7606.0</td>\n",
              "      <td>15171</td>\n",
              "    </tr>\n",
              "    <tr>\n",
              "      <th>2</th>\n",
              "      <td>223500</td>\n",
              "      <td>11250</td>\n",
              "      <td>2001</td>\n",
              "      <td>2002</td>\n",
              "      <td>162</td>\n",
              "      <td>6</td>\n",
              "      <td>5856.0</td>\n",
              "      <td>17368</td>\n",
              "    </tr>\n",
              "    <tr>\n",
              "      <th>3</th>\n",
              "      <td>140000</td>\n",
              "      <td>9550</td>\n",
              "      <td>1915</td>\n",
              "      <td>1970</td>\n",
              "      <td>0</td>\n",
              "      <td>7</td>\n",
              "      <td>4789.0</td>\n",
              "      <td>21808</td>\n",
              "    </tr>\n",
              "    <tr>\n",
              "      <th>4</th>\n",
              "      <td>250000</td>\n",
              "      <td>14260</td>\n",
              "      <td>2000</td>\n",
              "      <td>2000</td>\n",
              "      <td>350</td>\n",
              "      <td>9</td>\n",
              "      <td>1248.0</td>\n",
              "      <td>16240</td>\n",
              "    </tr>\n",
              "  </tbody>\n",
              "</table>\n",
              "</div>\n",
              "      <button class=\"colab-df-convert\" onclick=\"convertToInteractive('df-4c529d6e-eb16-4f41-8487-bda786972196')\"\n",
              "              title=\"Convert this dataframe to an interactive table.\"\n",
              "              style=\"display:none;\">\n",
              "        \n",
              "  <svg xmlns=\"http://www.w3.org/2000/svg\" height=\"24px\"viewBox=\"0 0 24 24\"\n",
              "       width=\"24px\">\n",
              "    <path d=\"M0 0h24v24H0V0z\" fill=\"none\"/>\n",
              "    <path d=\"M18.56 5.44l.94 2.06.94-2.06 2.06-.94-2.06-.94-.94-2.06-.94 2.06-2.06.94zm-11 1L8.5 8.5l.94-2.06 2.06-.94-2.06-.94L8.5 2.5l-.94 2.06-2.06.94zm10 10l.94 2.06.94-2.06 2.06-.94-2.06-.94-.94-2.06-.94 2.06-2.06.94z\"/><path d=\"M17.41 7.96l-1.37-1.37c-.4-.4-.92-.59-1.43-.59-.52 0-1.04.2-1.43.59L10.3 9.45l-7.72 7.72c-.78.78-.78 2.05 0 2.83L4 21.41c.39.39.9.59 1.41.59.51 0 1.02-.2 1.41-.59l7.78-7.78 2.81-2.81c.8-.78.8-2.07 0-2.86zM5.41 20L4 18.59l7.72-7.72 1.47 1.35L5.41 20z\"/>\n",
              "  </svg>\n",
              "      </button>\n",
              "      \n",
              "  <style>\n",
              "    .colab-df-container {\n",
              "      display:flex;\n",
              "      flex-wrap:wrap;\n",
              "      gap: 12px;\n",
              "    }\n",
              "\n",
              "    .colab-df-convert {\n",
              "      background-color: #E8F0FE;\n",
              "      border: none;\n",
              "      border-radius: 50%;\n",
              "      cursor: pointer;\n",
              "      display: none;\n",
              "      fill: #1967D2;\n",
              "      height: 32px;\n",
              "      padding: 0 0 0 0;\n",
              "      width: 32px;\n",
              "    }\n",
              "\n",
              "    .colab-df-convert:hover {\n",
              "      background-color: #E2EBFA;\n",
              "      box-shadow: 0px 1px 2px rgba(60, 64, 67, 0.3), 0px 1px 3px 1px rgba(60, 64, 67, 0.15);\n",
              "      fill: #174EA6;\n",
              "    }\n",
              "\n",
              "    [theme=dark] .colab-df-convert {\n",
              "      background-color: #3B4455;\n",
              "      fill: #D2E3FC;\n",
              "    }\n",
              "\n",
              "    [theme=dark] .colab-df-convert:hover {\n",
              "      background-color: #434B5C;\n",
              "      box-shadow: 0px 1px 3px 1px rgba(0, 0, 0, 0.15);\n",
              "      filter: drop-shadow(0px 1px 2px rgba(0, 0, 0, 0.3));\n",
              "      fill: #FFFFFF;\n",
              "    }\n",
              "  </style>\n",
              "\n",
              "      <script>\n",
              "        const buttonEl =\n",
              "          document.querySelector('#df-4c529d6e-eb16-4f41-8487-bda786972196 button.colab-df-convert');\n",
              "        buttonEl.style.display =\n",
              "          google.colab.kernel.accessAllowed ? 'block' : 'none';\n",
              "\n",
              "        async function convertToInteractive(key) {\n",
              "          const element = document.querySelector('#df-4c529d6e-eb16-4f41-8487-bda786972196');\n",
              "          const dataTable =\n",
              "            await google.colab.kernel.invokeFunction('convertToInteractive',\n",
              "                                                     [key], {});\n",
              "          if (!dataTable) return;\n",
              "\n",
              "          const docLinkHtml = 'Like what you see? Visit the ' +\n",
              "            '<a target=\"_blank\" href=https://colab.research.google.com/notebooks/data_table.ipynb>data table notebook</a>'\n",
              "            + ' to learn more about interactive tables.';\n",
              "          element.innerHTML = '';\n",
              "          dataTable['output_type'] = 'display_data';\n",
              "          await google.colab.output.renderOutput(dataTable, element);\n",
              "          const docLink = document.createElement('div');\n",
              "          docLink.innerHTML = docLinkHtml;\n",
              "          element.appendChild(docLink);\n",
              "        }\n",
              "      </script>\n",
              "    </div>\n",
              "  </div>\n",
              "  "
            ],
            "text/plain": [
              "    Price   Area  YearBuilt  YearRestoration  MasVnrArea  RoomsNumb  \\\n",
              "0  380000   8450       2003             2003         196          8   \n",
              "1  181500   9600       1976             1976           0          6   \n",
              "2  223500  11250       2001             2002         162          6   \n",
              "3  140000   9550       1915             1970           0          7   \n",
              "4  250000  14260       2000             2000         350          9   \n",
              "\n",
              "   SchoollDistance  CenterDistance  \n",
              "0           2996.0           20081  \n",
              "1           7606.0           15171  \n",
              "2           5856.0           17368  \n",
              "3           4789.0           21808  \n",
              "4           1248.0           16240  "
            ]
          },
          "metadata": {},
          "execution_count": 74
        }
      ]
    },
    {
      "cell_type": "code",
      "source": [
        "X = df[['Area',\t'YearBuilt',\t'YearRestoration',\t'MasVnrArea',\t'RoomsNumb',\t'SchoollDistance', 'CenterDistance']]\n",
        "y = df['Price']"
      ],
      "metadata": {
        "id": "gdcIWPIg0awo"
      },
      "execution_count": null,
      "outputs": []
    },
    {
      "cell_type": "code",
      "source": [
        "X_train, X_test, y_train, y_test = train_test_split(X, y, test_size=0.2, random_state=42)\n",
        "\n",
        "reg = KNeighborsRegressor()\n",
        "reg.fit(X_train, y_train)\n",
        "pred_train = reg.predict(X_train)\n",
        "pred_test = reg.predict(X_test)\n",
        "\n",
        "print('MAE train: ', mean_absolute_error(y_train, pred_train))\n",
        "print('MAE test: ', mean_absolute_error(y_test, pred_test))"
      ],
      "metadata": {
        "colab": {
          "base_uri": "https://localhost:8080/"
        },
        "id": "Qipal__xoXNP",
        "outputId": "201a4d1e-0271-47d2-a11c-78ef9e50676b"
      },
      "execution_count": null,
      "outputs": [
        {
          "output_type": "stream",
          "name": "stdout",
          "text": [
            "MAE train:  44243.875\n",
            "MAE test:  67183.98000000001\n"
          ]
        }
      ]
    },
    {
      "cell_type": "code",
      "source": [
        "from sklearn.model_selection import cross_val_score"
      ],
      "metadata": {
        "id": "2j5HFyzA02ln"
      },
      "execution_count": null,
      "outputs": []
    },
    {
      "cell_type": "code",
      "execution_count": null,
      "metadata": {
        "colab": {
          "base_uri": "https://localhost:8080/"
        },
        "id": "49CEau8dcRbY",
        "outputId": "cd04f26f-f5d9-4b1f-9d12-8ce5b18027f5"
      },
      "outputs": [
        {
          "output_type": "stream",
          "name": "stdout",
          "text": [
            "Значения точности при перекрестной проверке: \n",
            "[-41739.08 -69274.86 -72127.3  -63364.14 -37139.64]\n"
          ]
        }
      ],
      "source": [
        "reg = KNeighborsRegressor()\n",
        "scores = cross_val_score(reg, X, y, cv=5, scoring='neg_mean_absolute_error') #neg_mean_squared_error \n",
        "print(\"Значения точности при перекрестной проверке: \\n{}\".format(scores))"
      ]
    },
    {
      "cell_type": "markdown",
      "metadata": {
        "id": "jt-sDWU9cRbd"
      },
      "source": [
        "Чаще всего полученные значения усредняют и ориентрируются по средней. Можно так же посмотреть на стандартное отклонение - чем оно меньше, тем устойчивее результат"
      ]
    },
    {
      "cell_type": "code",
      "execution_count": null,
      "metadata": {
        "colab": {
          "base_uri": "https://localhost:8080/"
        },
        "id": "_AeUVnIicRbg",
        "outputId": "4e90c493-a49f-4f57-82a2-be317b5abf07"
      },
      "outputs": [
        {
          "output_type": "stream",
          "name": "stdout",
          "text": [
            "Среднее значение перекрестной проверки: -56729.00 \n",
            "Std: 14470.467\n"
          ]
        }
      ],
      "source": [
        "print(\"Среднее значение перекрестной проверки: {:.2f} \\nStd: {:.3f}\".format(scores.mean(), scores.std()))"
      ]
    },
    {
      "cell_type": "markdown",
      "metadata": {
        "id": "W8SuI-MscRbl"
      },
      "source": [
        "Можно воспользоваться перемешиванием и передавать этот метод в качестве параметра **cv** в кросс-валидацию. \n",
        "\n",
        "Возможны два варианта: с перемешиванием (**shufle=True** и без **shufle=False**)\n",
        "\n",
        "**Луше делать с перемешиванием!**"
      ]
    },
    {
      "cell_type": "code",
      "execution_count": null,
      "metadata": {
        "id": "jGbphaNCcRbp"
      },
      "outputs": [],
      "source": [
        "from sklearn.model_selection import KFold"
      ]
    },
    {
      "cell_type": "code",
      "execution_count": null,
      "metadata": {
        "id": "FhW0DfA4cRbr"
      },
      "outputs": [],
      "source": [
        "kf = KFold(n_splits=5, shuffle=True, random_state=15)"
      ]
    },
    {
      "cell_type": "code",
      "execution_count": null,
      "metadata": {
        "colab": {
          "base_uri": "https://localhost:8080/"
        },
        "id": "04ErIqeGcRbt",
        "outputId": "3a2b750b-dcf0-428d-82f5-b8eb83cd77cf"
      },
      "outputs": [
        {
          "output_type": "stream",
          "name": "stdout",
          "text": [
            "Значения точности при перекрестной проверке: \n",
            "[-55035.8  -37899.86 -48199.14 -75691.34 -64774.58]\n",
            "__________________________________________________\n",
            "Среднее значение перекрестной проверки: -56320.14 \n",
            "Std: 13066.199\n"
          ]
        }
      ],
      "source": [
        "scores = cross_val_score(reg, X, y, cv=kf, scoring='neg_mean_absolute_error') #neg_mean_squared_error \n",
        "print(\"Значения точности при перекрестной проверке: \\n{}\".format(scores))\n",
        "print('_'*50)\n",
        "print(\"Среднее значение перекрестной проверки: {:.2f} \\nStd: {:.3f}\".format(scores.mean(), scores.std()))"
      ]
    },
    {
      "cell_type": "markdown",
      "metadata": {
        "id": "0HfXLpIZcRbv"
      },
      "source": [
        "### <center> Подбор оптимальных гиперпараметров модели"
      ]
    },
    {
      "cell_type": "markdown",
      "metadata": {
        "id": "kV0PwAVpcRbx"
      },
      "source": [
        "Что, если мы хотим определять оптимальные гиперпараметры дерева автоматически? \n",
        "\n",
        "Для этого в sklearn-е специальные инструменты - **GridSearch** и **RandomSearch**\n",
        "\n",
        "- **GridSearch** - ищет оптимальные гиперпараметры из значений \"сетки\", которую мы ему задали\n",
        "- **RandomSearch** - ищет оптимальные гиперпараметры из случайных значений в заданном распределении\n",
        "\n",
        "Рассмотрим на примере поиска оптимальных гиперпараметров для дерева регрессии"
      ]
    },
    {
      "cell_type": "markdown",
      "metadata": {
        "id": "lzPHDFg8cRbz"
      },
      "source": [
        "**GridSearch**"
      ]
    },
    {
      "cell_type": "code",
      "execution_count": null,
      "metadata": {
        "id": "dgPLBDqccRb2"
      },
      "outputs": [],
      "source": [
        "from sklearn.model_selection import GridSearchCV, RandomizedSearchCV"
      ]
    },
    {
      "cell_type": "code",
      "execution_count": null,
      "metadata": {
        "id": "QtIJzCXXcRb8"
      },
      "outputs": [],
      "source": [
        "kf = KFold(n_splits=5, shuffle=True, random_state=2)"
      ]
    },
    {
      "cell_type": "code",
      "execution_count": null,
      "metadata": {
        "colab": {
          "base_uri": "https://localhost:8080/"
        },
        "id": "6LS3hPZMcRb-",
        "outputId": "adb85122-0917-4e0d-baf2-23924d8507da"
      },
      "outputs": [
        {
          "output_type": "stream",
          "name": "stdout",
          "text": [
            "Best Score: -54681.009999999995\n",
            "Best Hyperparameters: {'n_neighbors': 16, 'weights': 'uniform'}\n"
          ]
        }
      ],
      "source": [
        "# создаем объект модели, которую хотим тюнить\n",
        "reg = KNeighborsRegressor()\n",
        "\n",
        "# задаем словарь с сеткой значений гиперпапаметров\n",
        "param_grid = {'n_neighbors': [i for i in range(1, 30, 1)],\n",
        "              'weights':['uniform', 'distance']}\n",
        "\n",
        "# создаем объект GridSearchCV, передаем ему объект модели и сетку параметров для поиска\n",
        "grid_search = GridSearchCV(reg, param_grid=param_grid, cv=kf, scoring='neg_mean_absolute_error')\n",
        "# ищем оптимальные параметры \n",
        "grid_search.fit(X, y)\n",
        "\n",
        "# summarize resultv\n",
        "print('Best Score: %s' % grid_search.best_score_)\n",
        "print('Best Hyperparameters: %s' % grid_search.best_params_)"
      ]
    },
    {
      "cell_type": "markdown",
      "source": [
        "Построим модель с оптимальными параметрами и посмотрим ее качество на кросс-проверке"
      ],
      "metadata": {
        "id": "cWn6r2Bm2rma"
      }
    },
    {
      "cell_type": "code",
      "source": [
        "reg = KNeighborsRegressor(n_neighbors=16, weights='uniform')\n",
        "scores = cross_val_score(reg, X, y, cv=kf, scoring='neg_mean_absolute_error') #neg_mean_squared_error \n",
        "\n",
        "print(\"Значения точности при перекрестной проверке: \\n{}\".format(scores))\n",
        "print('_'*50)\n",
        "print(\"Среднее значение перекрестной проверки: {:.2f} \\nStd: {:.3f}\".format(scores.mean(), scores.std()))"
      ],
      "metadata": {
        "colab": {
          "base_uri": "https://localhost:8080/"
        },
        "id": "E26VXegV1i3-",
        "outputId": "ed341d67-6e9b-401d-d8e6-105f0f4062c1"
      },
      "execution_count": null,
      "outputs": [
        {
          "output_type": "stream",
          "name": "stdout",
          "text": [
            "Значения точности при перекрестной проверке: \n",
            "[-61878.39375 -44655.75    -35994.61875 -69955.01875 -60921.26875]\n",
            "__________________________________________________\n",
            "Среднее значение перекрестной проверки: -54681.01 \n",
            "Std: 12439.659\n"
          ]
        }
      ]
    },
    {
      "cell_type": "markdown",
      "metadata": {
        "id": "3ODP1Lk8cRcC"
      },
      "source": [
        ":Посмотрим на кривую точности модели в зависимости от параметров"
      ]
    },
    {
      "cell_type": "code",
      "execution_count": null,
      "metadata": {
        "colab": {
          "base_uri": "https://localhost:8080/",
          "height": 372
        },
        "id": "QXSfDGrPcRcF",
        "outputId": "b34337f2-25c9-45d0-9c21-74ea7e8c115f"
      },
      "outputs": [
        {
          "output_type": "stream",
          "name": "stdout",
          "text": [
            "Оптимальное число соседей: 16. Достигается MAE: 54681.009999999995\n",
            "CPU times: user 1.01 s, sys: 2.48 ms, total: 1.01 s\n",
            "Wall time: 1.06 s\n"
          ]
        },
        {
          "output_type": "display_data",
          "data": {
            "image/png": "[encoded data removed]",
            "text/plain": [
              "<Figure size 1440x360 with 1 Axes>"
            ]
          },
          "metadata": {
            "needs_background": "light"
          }
        }
      ],
      "source": [
        "%%time\n",
        "plt.figure(figsize=(20, 5))\n",
        "n_neighbors_list, score = [], []\n",
        "for n in range(1,20):\n",
        "    n_neighbors_list.append(n)\n",
        "    reg = KNeighborsRegressor(n_neighbors=n)\n",
        "    mean_mae = cross_val_score(reg, X, y, cv=kf, scoring='neg_mean_absolute_error').mean()\n",
        "    score.append(-mean_mae)\n",
        "\n",
        "print(f\"Оптимальное число соседей: {score.index(min(score)) + 1}. Достигается MAE: {score[score.index(min(score))]}\")\n",
        "plt.plot(n_neighbors_list, score);"
      ]
    },
    {
      "cell_type": "code",
      "execution_count": null,
      "metadata": {
        "id": "4I6OqYCRcRcJ"
      },
      "outputs": [],
      "source": [
        ""
      ]
    },
    {
      "cell_type": "markdown",
      "metadata": {
        "id": "_lE20_xKcRcK"
      },
      "source": [
        "**RandomSearch**"
      ]
    },
    {
      "cell_type": "code",
      "execution_count": null,
      "metadata": {
        "id": "eqZPtLvgcRcL",
        "outputId": "af6509e7-1d67-4dfc-b665-089680375b14",
        "colab": {
          "base_uri": "https://localhost:8080/"
        }
      },
      "outputs": [
        {
          "output_type": "stream",
          "name": "stderr",
          "text": [
            "/usr/local/lib/python3.7/dist-packages/sklearn/model_selection/_search.py:296: UserWarning: The total space of parameters 58 is smaller than n_iter=100. Running 58 iterations. For exhaustive searches, use GridSearchCV.\n",
            "  UserWarning,\n"
          ]
        },
        {
          "output_type": "stream",
          "name": "stdout",
          "text": [
            "Best Score: -5997700217.161973\n",
            "Best Hyperparameters: {'weights': 'distance', 'n_neighbors': 12}\n"
          ]
        }
      ],
      "source": [
        "# создаем объект модели, которую хотим тюнить\n",
        "reg = KNeighborsRegressor()\n",
        "\n",
        "param_distributions = {'n_neighbors': [i for i in range(1, 30, 1)],\n",
        "              'weights':['uniform', 'distance']}\n",
        "random_search = RandomizedSearchCV(reg, param_distributions = param_distributions, n_iter=15, random_state=0,\n",
        "                                   scoring='neg_mean_squared_error')\n",
        "# ищем оптимальные параметры \n",
        "random_search.fit(X, y)\n",
        "\n",
        "print('Best Score: %s' % random_search.best_score_)\n",
        "print('Best Hyperparameters: %s' % random_search.best_params_)"
      ]
    },
    {
      "cell_type": "markdown",
      "metadata": {
        "id": "Q0tiPklhcRcP"
      },
      "source": [
        "### <center> Использование конвееров (Pipeline)"
      ]
    },
    {
      "cell_type": "code",
      "execution_count": null,
      "metadata": {
        "id": "Es7Dbe1jcRcQ"
      },
      "outputs": [],
      "source": [
        "from sklearn.pipeline import make_pipeline, Pipeline\n",
        "from sklearn.preprocessing import RobustScaler\n",
        "from sklearn.linear_model import LogisticRegression\n",
        "from sklearn.model_selection import train_test_split, KFold, cross_val_score\n",
        "from sklearn.datasets import load_wine\n",
        "from sklearn.metrics import classification_report\n",
        "from sklearn.model_selection import GridSearchCV, RandomizedSearchCV"
      ]
    },
    {
      "cell_type": "code",
      "execution_count": null,
      "metadata": {
        "id": "vxkzBZH0cRcR"
      },
      "outputs": [],
      "source": [
        "# данные для классификации, 3 класса\n",
        "data_wine = load_wine()\n",
        "wine_target = data_wine.target\n",
        "wine_data = data_wine.data\n",
        "wine_feature_names = data_wine.feature_names\n",
        "\n",
        "df = pd.DataFrame(data= np.c_[data_wine['data'], data_wine['target']],\n",
        "                     columns= data_wine['feature_names'] + ['target'])"
      ]
    },
    {
      "cell_type": "code",
      "source": [
        "df.head()"
      ],
      "metadata": {
        "colab": {
          "base_uri": "https://localhost:8080/",
          "height": 270
        },
        "id": "GFTfJBR6Ozy6",
        "outputId": "371140bd-3136-44c8-f650-d47f29cf4ea9"
      },
      "execution_count": null,
      "outputs": [
        {
          "output_type": "execute_result",
          "data": {
            "text/html": [
              "\n",
              "  <div id=\"df-a599a636-2787-4b0c-b143-e71135d9955f\">\n",
              "    <div class=\"colab-df-container\">\n",
              "      <div>\n",
              "<style scoped>\n",
              "    .dataframe tbody tr th:only-of-type {\n",
              "        vertical-align: middle;\n",
              "    }\n",
              "\n",
              "    .dataframe tbody tr th {\n",
              "        vertical-align: top;\n",
              "    }\n",
              "\n",
              "    .dataframe thead th {\n",
              "        text-align: right;\n",
              "    }\n",
              "</style>\n",
              "<table border=\"1\" class=\"dataframe\">\n",
              "  <thead>\n",
              "    <tr style=\"text-align: right;\">\n",
              "      <th></th>\n",
              "      <th>alcohol</th>\n",
              "      <th>malic_acid</th>\n",
              "      <th>ash</th>\n",
              "      <th>alcalinity_of_ash</th>\n",
              "      <th>magnesium</th>\n",
              "      <th>total_phenols</th>\n",
              "      <th>flavanoids</th>\n",
              "      <th>nonflavanoid_phenols</th>\n",
              "      <th>proanthocyanins</th>\n",
              "      <th>color_intensity</th>\n",
              "      <th>hue</th>\n",
              "      <th>od280/od315_of_diluted_wines</th>\n",
              "      <th>proline</th>\n",
              "      <th>target</th>\n",
              "    </tr>\n",
              "  </thead>\n",
              "  <tbody>\n",
              "    <tr>\n",
              "      <th>0</th>\n",
              "      <td>14.23</td>\n",
              "      <td>1.71</td>\n",
              "      <td>2.43</td>\n",
              "      <td>15.6</td>\n",
              "      <td>127.0</td>\n",
              "      <td>2.80</td>\n",
              "      <td>3.06</td>\n",
              "      <td>0.28</td>\n",
              "      <td>2.29</td>\n",
              "      <td>5.64</td>\n",
              "      <td>1.04</td>\n",
              "      <td>3.92</td>\n",
              "      <td>1065.0</td>\n",
              "      <td>0.0</td>\n",
              "    </tr>\n",
              "    <tr>\n",
              "      <th>1</th>\n",
              "      <td>13.20</td>\n",
              "      <td>1.78</td>\n",
              "      <td>2.14</td>\n",
              "      <td>11.2</td>\n",
              "      <td>100.0</td>\n",
              "      <td>2.65</td>\n",
              "      <td>2.76</td>\n",
              "      <td>0.26</td>\n",
              "      <td>1.28</td>\n",
              "      <td>4.38</td>\n",
              "      <td>1.05</td>\n",
              "      <td>3.40</td>\n",
              "      <td>1050.0</td>\n",
              "      <td>0.0</td>\n",
              "    </tr>\n",
              "    <tr>\n",
              "      <th>2</th>\n",
              "      <td>13.16</td>\n",
              "      <td>2.36</td>\n",
              "      <td>2.67</td>\n",
              "      <td>18.6</td>\n",
              "      <td>101.0</td>\n",
              "      <td>2.80</td>\n",
              "      <td>3.24</td>\n",
              "      <td>0.30</td>\n",
              "      <td>2.81</td>\n",
              "      <td>5.68</td>\n",
              "      <td>1.03</td>\n",
              "      <td>3.17</td>\n",
              "      <td>1185.0</td>\n",
              "      <td>0.0</td>\n",
              "    </tr>\n",
              "    <tr>\n",
              "      <th>3</th>\n",
              "      <td>14.37</td>\n",
              "      <td>1.95</td>\n",
              "      <td>2.50</td>\n",
              "      <td>16.8</td>\n",
              "      <td>113.0</td>\n",
              "      <td>3.85</td>\n",
              "      <td>3.49</td>\n",
              "      <td>0.24</td>\n",
              "      <td>2.18</td>\n",
              "      <td>7.80</td>\n",
              "      <td>0.86</td>\n",
              "      <td>3.45</td>\n",
              "      <td>1480.0</td>\n",
              "      <td>0.0</td>\n",
              "    </tr>\n",
              "    <tr>\n",
              "      <th>4</th>\n",
              "      <td>13.24</td>\n",
              "      <td>2.59</td>\n",
              "      <td>2.87</td>\n",
              "      <td>21.0</td>\n",
              "      <td>118.0</td>\n",
              "      <td>2.80</td>\n",
              "      <td>2.69</td>\n",
              "      <td>0.39</td>\n",
              "      <td>1.82</td>\n",
              "      <td>4.32</td>\n",
              "      <td>1.04</td>\n",
              "      <td>2.93</td>\n",
              "      <td>735.0</td>\n",
              "      <td>0.0</td>\n",
              "    </tr>\n",
              "  </tbody>\n",
              "</table>\n",
              "</div>\n",
              "      <button class=\"colab-df-convert\" onclick=\"convertToInteractive('df-a599a636-2787-4b0c-b143-e71135d9955f')\"\n",
              "              title=\"Convert this dataframe to an interactive table.\"\n",
              "              style=\"display:none;\">\n",
              "        \n",
              "  <svg xmlns=\"http://www.w3.org/2000/svg\" height=\"24px\"viewBox=\"0 0 24 24\"\n",
              "       width=\"24px\">\n",
              "    <path d=\"M0 0h24v24H0V0z\" fill=\"none\"/>\n",
              "    <path d=\"M18.56 5.44l.94 2.06.94-2.06 2.06-.94-2.06-.94-.94-2.06-.94 2.06-2.06.94zm-11 1L8.5 8.5l.94-2.06 2.06-.94-2.06-.94L8.5 2.5l-.94 2.06-2.06.94zm10 10l.94 2.06.94-2.06 2.06-.94-2.06-.94-.94-2.06-.94 2.06-2.06.94z\"/><path d=\"M17.41 7.96l-1.37-1.37c-.4-.4-.92-.59-1.43-.59-.52 0-1.04.2-1.43.59L10.3 9.45l-7.72 7.72c-.78.78-.78 2.05 0 2.83L4 21.41c.39.39.9.59 1.41.59.51 0 1.02-.2 1.41-.59l7.78-7.78 2.81-2.81c.8-.78.8-2.07 0-2.86zM5.41 20L4 18.59l7.72-7.72 1.47 1.35L5.41 20z\"/>\n",
              "  </svg>\n",
              "      </button>\n",
              "      \n",
              "  <style>\n",
              "    .colab-df-container {\n",
              "      display:flex;\n",
              "      flex-wrap:wrap;\n",
              "      gap: 12px;\n",
              "    }\n",
              "\n",
              "    .colab-df-convert {\n",
              "      background-color: #E8F0FE;\n",
              "      border: none;\n",
              "      border-radius: 50%;\n",
              "      cursor: pointer;\n",
              "      display: none;\n",
              "      fill: #1967D2;\n",
              "      height: 32px;\n",
              "      padding: 0 0 0 0;\n",
              "      width: 32px;\n",
              "    }\n",
              "\n",
              "    .colab-df-convert:hover {\n",
              "      background-color: #E2EBFA;\n",
              "      box-shadow: 0px 1px 2px rgba(60, 64, 67, 0.3), 0px 1px 3px 1px rgba(60, 64, 67, 0.15);\n",
              "      fill: #174EA6;\n",
              "    }\n",
              "\n",
              "    [theme=dark] .colab-df-convert {\n",
              "      background-color: #3B4455;\n",
              "      fill: #D2E3FC;\n",
              "    }\n",
              "\n",
              "    [theme=dark] .colab-df-convert:hover {\n",
              "      background-color: #434B5C;\n",
              "      box-shadow: 0px 1px 3px 1px rgba(0, 0, 0, 0.15);\n",
              "      filter: drop-shadow(0px 1px 2px rgba(0, 0, 0, 0.3));\n",
              "      fill: #FFFFFF;\n",
              "    }\n",
              "  </style>\n",
              "\n",
              "      <script>\n",
              "        const buttonEl =\n",
              "          document.querySelector('#df-a599a636-2787-4b0c-b143-e71135d9955f button.colab-df-convert');\n",
              "        buttonEl.style.display =\n",
              "          google.colab.kernel.accessAllowed ? 'block' : 'none';\n",
              "\n",
              "        async function convertToInteractive(key) {\n",
              "          const element = document.querySelector('#df-a599a636-2787-4b0c-b143-e71135d9955f');\n",
              "          const dataTable =\n",
              "            await google.colab.kernel.invokeFunction('convertToInteractive',\n",
              "                                                     [key], {});\n",
              "          if (!dataTable) return;\n",
              "\n",
              "          const docLinkHtml = 'Like what you see? Visit the ' +\n",
              "            '<a target=\"_blank\" href=https://colab.research.google.com/notebooks/data_table.ipynb>data table notebook</a>'\n",
              "            + ' to learn more about interactive tables.';\n",
              "          element.innerHTML = '';\n",
              "          dataTable['output_type'] = 'display_data';\n",
              "          await google.colab.output.renderOutput(dataTable, element);\n",
              "          const docLink = document.createElement('div');\n",
              "          docLink.innerHTML = docLinkHtml;\n",
              "          element.appendChild(docLink);\n",
              "        }\n",
              "      </script>\n",
              "    </div>\n",
              "  </div>\n",
              "  "
            ],
            "text/plain": [
              "   alcohol  malic_acid   ash  alcalinity_of_ash  magnesium  total_phenols  \\\n",
              "0    14.23        1.71  2.43               15.6      127.0           2.80   \n",
              "1    13.20        1.78  2.14               11.2      100.0           2.65   \n",
              "2    13.16        2.36  2.67               18.6      101.0           2.80   \n",
              "3    14.37        1.95  2.50               16.8      113.0           3.85   \n",
              "4    13.24        2.59  2.87               21.0      118.0           2.80   \n",
              "\n",
              "   flavanoids  nonflavanoid_phenols  proanthocyanins  color_intensity   hue  \\\n",
              "0        3.06                  0.28             2.29             5.64  1.04   \n",
              "1        2.76                  0.26             1.28             4.38  1.05   \n",
              "2        3.24                  0.30             2.81             5.68  1.03   \n",
              "3        3.49                  0.24             2.18             7.80  0.86   \n",
              "4        2.69                  0.39             1.82             4.32  1.04   \n",
              "\n",
              "   od280/od315_of_diluted_wines  proline  target  \n",
              "0                          3.92   1065.0     0.0  \n",
              "1                          3.40   1050.0     0.0  \n",
              "2                          3.17   1185.0     0.0  \n",
              "3                          3.45   1480.0     0.0  \n",
              "4                          2.93    735.0     0.0  "
            ]
          },
          "metadata": {},
          "execution_count": 87
        }
      ]
    },
    {
      "cell_type": "code",
      "execution_count": null,
      "metadata": {
        "id": "OO92BgexcRcT"
      },
      "outputs": [],
      "source": [
        "# Создать стандартизатор\n",
        "standardizer = RobustScaler()\n",
        "# Создать классификатор\n",
        "lr = LogisticRegression()\n",
        "# Создать конвейер\n",
        "pipeline = make_pipeline(standardizer, lr)\n",
        "# Создать k-блочную перекрестную проверку\n",
        "kf = KFold(n_splits=5, shuffle=True, random_state=42)"
      ]
    },
    {
      "cell_type": "code",
      "execution_count": null,
      "metadata": {
        "id": "qzY2e5BJcRcU"
      },
      "outputs": [],
      "source": [
        "features = ['alcohol', 'malic_acid', 'ash', 'alcalinity_of_ash', 'magnesium', 'total_phenols', 'flavanoids', \n",
        "            'nonflavanoid_phenols','proanthocyanins', 'color_intensity', 'hue','od280/od315_of_diluted_wines', 'proline']\n",
        "\n",
        "X_train, X_test, y_train, y_test = train_test_split(df[features], df['target'], \n",
        "                                                    test_size=0.3,\n",
        "                                                    random_state=42)"
      ]
    },
    {
      "cell_type": "code",
      "execution_count": null,
      "metadata": {
        "id": "OaoC_lXUcRcW"
      },
      "outputs": [],
      "source": [
        "# Выполнить k-блочную перекрестную проверку\n",
        "cv_results = cross_val_score(pipeline, # Конвейер\n",
        "                             X_train, # Матрица признаков\n",
        "                             y_train, # Вектор целей\n",
        "                             cv=kf, # Метод перекрестной проверки\n",
        "                             scoring='accuracy', # Функция потери\n",
        "                             n_jobs=-1) # Использовать все ядра CPU"
      ]
    },
    {
      "cell_type": "code",
      "execution_count": null,
      "metadata": {
        "id": "znTcNLG8cRcX",
        "outputId": "0687e549-cca2-4c93-9a5e-15819350cae8",
        "colab": {
          "base_uri": "https://localhost:8080/"
        }
      },
      "outputs": [
        {
          "output_type": "execute_result",
          "data": {
            "text/plain": [
              "array([0.96, 1.  , 1.  , 0.92, 1.  ])"
            ]
          },
          "metadata": {},
          "execution_count": 57
        }
      ],
      "source": [
        "cv_results"
      ]
    },
    {
      "cell_type": "code",
      "execution_count": null,
      "metadata": {
        "id": "K8CYzaTVcRca",
        "outputId": "137a2bce-6337-4067-8944-b8848ffd71fe",
        "colab": {
          "base_uri": "https://localhost:8080/"
        }
      },
      "outputs": [
        {
          "output_type": "stream",
          "name": "stdout",
          "text": [
            "              precision    recall  f1-score   support\n",
            "\n",
            "         0.0       1.00      1.00      1.00        19\n",
            "         1.0       1.00      0.95      0.98        21\n",
            "         2.0       0.93      1.00      0.97        14\n",
            "\n",
            "    accuracy                           0.98        54\n",
            "   macro avg       0.98      0.98      0.98        54\n",
            "weighted avg       0.98      0.98      0.98        54\n",
            "\n"
          ]
        }
      ],
      "source": [
        "pipeline.fit(X_train, y_train)\n",
        "predict = pipeline.predict(X_test)\n",
        "print(classification_report(y_test, predict))"
      ]
    },
    {
      "cell_type": "markdown",
      "metadata": {
        "id": "h3HIHwPscRcb"
      },
      "source": [
        "### Pipeline с GridSearch для подбора лучшей модели"
      ]
    },
    {
      "cell_type": "code",
      "execution_count": null,
      "metadata": {
        "collapsed": true,
        "id": "3OjekQeqcRcc",
        "outputId": "8eb010e1-d2ff-46ac-ee95-0dbecc9210eb",
        "colab": {
          "base_uri": "https://localhost:8080/"
        }
      },
      "outputs": [
        {
          "output_type": "stream",
          "name": "stderr",
          "text": [
            "/usr/local/lib/python3.7/dist-packages/sklearn/model_selection/_search.py:296: UserWarning: The total space of parameters 28 is smaller than n_iter=100. Running 28 iterations. For exhaustive searches, use GridSearchCV.\n",
            "  UserWarning,\n"
          ]
        },
        {
          "output_type": "stream",
          "name": "stdout",
          "text": [
            "Fitting 3 folds for each of 28 candidates, totalling 84 fits\n",
            "CPU times: user 544 ms, sys: 6.02 ms, total: 550 ms\n",
            "Wall time: 567 ms\n"
          ]
        },
        {
          "output_type": "stream",
          "name": "stderr",
          "text": [
            "/usr/local/lib/python3.7/dist-packages/sklearn/model_selection/_validation.py:372: FitFailedWarning: \n",
            "60 fits failed out of a total of 84.\n",
            "The score on these train-test partitions for these parameters will be set to nan.\n",
            "If these failures are not expected, you can try to debug them by setting error_score='raise'.\n",
            "\n",
            "Below are more details about the failures:\n",
            "--------------------------------------------------------------------------------\n",
            "30 fits failed with the following error:\n",
            "Traceback (most recent call last):\n",
            "  File \"/usr/local/lib/python3.7/dist-packages/sklearn/model_selection/_validation.py\", line 680, in _fit_and_score\n",
            "    estimator.fit(X_train, y_train, **fit_params)\n",
            "  File \"/usr/local/lib/python3.7/dist-packages/sklearn/pipeline.py\", line 394, in fit\n",
            "    self._final_estimator.fit(Xt, y, **fit_params_last_step)\n",
            "  File \"/usr/local/lib/python3.7/dist-packages/sklearn/linear_model/_logistic.py\", line 1461, in fit\n",
            "    solver = _check_solver(self.solver, self.penalty, self.dual)\n",
            "  File \"/usr/local/lib/python3.7/dist-packages/sklearn/linear_model/_logistic.py\", line 443, in _check_solver\n",
            "    % (all_penalties, penalty)\n",
            "ValueError: Logistic Regression supports only penalties in ['l1', 'l2', 'elasticnet', 'none'], got 11.\n",
            "\n",
            "--------------------------------------------------------------------------------\n",
            "30 fits failed with the following error:\n",
            "Traceback (most recent call last):\n",
            "  File \"/usr/local/lib/python3.7/dist-packages/sklearn/model_selection/_validation.py\", line 680, in _fit_and_score\n",
            "    estimator.fit(X_train, y_train, **fit_params)\n",
            "  File \"/usr/local/lib/python3.7/dist-packages/sklearn/pipeline.py\", line 394, in fit\n",
            "    self._final_estimator.fit(Xt, y, **fit_params_last_step)\n",
            "  File \"/usr/local/lib/python3.7/dist-packages/sklearn/linear_model/_logistic.py\", line 1461, in fit\n",
            "    solver = _check_solver(self.solver, self.penalty, self.dual)\n",
            "  File \"/usr/local/lib/python3.7/dist-packages/sklearn/linear_model/_logistic.py\", line 443, in _check_solver\n",
            "    % (all_penalties, penalty)\n",
            "ValueError: Logistic Regression supports only penalties in ['l1', 'l2', 'elasticnet', 'none'], got 12.\n",
            "\n",
            "  warnings.warn(some_fits_failed_message, FitFailedWarning)\n",
            "/usr/local/lib/python3.7/dist-packages/sklearn/model_selection/_search.py:972: UserWarning: One or more of the test scores are non-finite: [       nan        nan        nan        nan        nan        nan\n",
            "        nan        nan        nan        nan        nan        nan\n",
            "        nan        nan        nan        nan        nan        nan\n",
            "        nan        nan 0.6213705  0.63724352 0.67770035 0.69396051\n",
            " 0.68563686 0.70228417 0.69396051 0.6780875 ]\n",
            "  category=UserWarning,\n"
          ]
        }
      ],
      "source": [
        "%%time\n",
        "# Создать конвейер\n",
        "pipe = Pipeline([(\"classifier\", KNeighborsClassifier())])\n",
        "# Создать словарь вариантов обучающихся алгоритмов и их гиперпараметров\n",
        "search_space = [{\"classifier\": [LogisticRegression()],\n",
        "                 \"classifier__penalty\": ['11', '12'],\n",
        "                 \"classifier__C\": np.logspace(0, 4, 10)},\n",
        "                {\"classifier\": [KNeighborsClassifier()],\n",
        "                 \"classifier__n_neighbors\": [3, 6, 15, 30],\n",
        "                 \"classifier__weights\":['uniform', 'distance']}]\n",
        "# Создать объект решеточного поиска\n",
        "gridsearch = RandomizedSearchCV(pipe, search_space, cv=3, verbose=1, n_iter=100)\n",
        "# Выполнить подгонку объекта решеточного поиска\n",
        "best_model = gridsearch.fit(X_train, y_train)"
      ]
    },
    {
      "cell_type": "code",
      "source": [
        "np.logspace(0, 4, 10)"
      ],
      "metadata": {
        "id": "w_1FsM_nQ_I5",
        "outputId": "d664c1dc-dc4d-4356-f257-226a425f1a92",
        "colab": {
          "base_uri": "https://localhost:8080/"
        }
      },
      "execution_count": null,
      "outputs": [
        {
          "output_type": "execute_result",
          "data": {
            "text/plain": [
              "array([1.00000000e+00, 2.78255940e+00, 7.74263683e+00, 2.15443469e+01,\n",
              "       5.99484250e+01, 1.66810054e+02, 4.64158883e+02, 1.29154967e+03,\n",
              "       3.59381366e+03, 1.00000000e+04])"
            ]
          },
          "metadata": {},
          "execution_count": 88
        }
      ]
    },
    {
      "cell_type": "code",
      "execution_count": null,
      "metadata": {
        "id": "QZ25Obq-cRce",
        "outputId": "f8d7f2d9-b6e7-41df-f9b1-0e3ba424d461",
        "colab": {
          "base_uri": "https://localhost:8080/"
        }
      },
      "outputs": [
        {
          "output_type": "execute_result",
          "data": {
            "text/plain": [
              "Pipeline(steps=[('classifier',\n",
              "                 KNeighborsClassifier(n_neighbors=15, weights='distance'))])"
            ]
          },
          "metadata": {},
          "execution_count": 69
        }
      ],
      "source": [
        "best_model.best_estimator_"
      ]
    },
    {
      "cell_type": "code",
      "execution_count": null,
      "metadata": {
        "id": "S6ZK2EBwcRcf",
        "outputId": "88325965-66ed-4e2a-ca71-e2a5613dfe96",
        "colab": {
          "base_uri": "https://localhost:8080/"
        }
      },
      "outputs": [
        {
          "output_type": "execute_result",
          "data": {
            "text/plain": [
              "0.7022841656987998"
            ]
          },
          "metadata": {},
          "execution_count": 70
        }
      ],
      "source": [
        "best_model.best_score_"
      ]
    },
    {
      "cell_type": "code",
      "execution_count": null,
      "metadata": {
        "id": "RtSnfd8vcRcg",
        "outputId": "748b1090-92b1-4298-c698-b58cf7f34518",
        "colab": {
          "base_uri": "https://localhost:8080/"
        }
      },
      "outputs": [
        {
          "output_type": "stream",
          "name": "stdout",
          "text": [
            "              precision    recall  f1-score   support\n",
            "\n",
            "         0.0       1.00      1.00      1.00        19\n",
            "         1.0       1.00      0.95      0.98        21\n",
            "         2.0       0.93      1.00      0.97        14\n",
            "\n",
            "    accuracy                           0.98        54\n",
            "   macro avg       0.98      0.98      0.98        54\n",
            "weighted avg       0.98      0.98      0.98        54\n",
            "\n"
          ]
        }
      ],
      "source": [
        "prediction = best_model.predict(X_test)\n",
        "print(classification_report(y_test, predict))"
      ]
    }
  ],
  "metadata": {
    "kernelspec": {
      "display_name": "Python 3",
      "language": "python",
      "name": "python3"
    },
    "language_info": {
      "codemirror_mode": {
        "name": "ipython",
        "version": 3
      },
      "file_extension": ".py",
      "mimetype": "text/x-python",
      "name": "python",
      "nbconvert_exporter": "python",
      "pygments_lexer": "ipython3",
      "version": "3.8.5"
    },
    "colab": {
      "name": " Валидация_Поиск оптимальных гиперпараметров.ipynb",
      "provenance": []
    }
  },
  "nbformat": 4,
  "nbformat_minor": 0
}