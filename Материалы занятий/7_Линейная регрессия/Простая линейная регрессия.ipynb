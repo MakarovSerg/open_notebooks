{
 "cells": [
  {
   "cell_type": "markdown",
   "metadata": {},
   "source": [
    "## <center> Линейная регрессия"
   ]
  },
  {
   "cell_type": "code",
   "execution_count": 11,
   "metadata": {},
   "outputs": [],
   "source": [
    "import pandas as pd\n",
    "import numpy as np\n",
    "import matplotlib.pyplot as plt \n",
    "import seaborn as sns\n",
    "# библиотека для машинного обучения sklearn\n",
    "from sklearn.linear_model import LinearRegression\n",
    "from sklearn.metrics import r2_score, mean_absolute_error\n",
    "\n",
    "# еще одна библиотека конкретно для статистических и временных моделей\n",
    "# !pip install statsmodels #установка библиотеки\n",
    "# import statsmodels.api as sm"
   ]
  },
  {
   "cell_type": "code",
   "execution_count": 6,
   "metadata": {},
   "outputs": [
    {
     "data": {
      "text/html": [
       "<div>\n",
       "<style scoped>\n",
       "    .dataframe tbody tr th:only-of-type {\n",
       "        vertical-align: middle;\n",
       "    }\n",
       "\n",
       "    .dataframe tbody tr th {\n",
       "        vertical-align: top;\n",
       "    }\n",
       "\n",
       "    .dataframe thead th {\n",
       "        text-align: right;\n",
       "    }\n",
       "</style>\n",
       "<table border=\"1\" class=\"dataframe\">\n",
       "  <thead>\n",
       "    <tr style=\"text-align: right;\">\n",
       "      <th></th>\n",
       "      <th>Price</th>\n",
       "      <th>Area</th>\n",
       "      <th>YearBuilt</th>\n",
       "      <th>YearRestoration</th>\n",
       "      <th>MasVnrArea</th>\n",
       "      <th>RoomsNumb</th>\n",
       "      <th>SchoollDistance</th>\n",
       "      <th>CenterDistance</th>\n",
       "    </tr>\n",
       "  </thead>\n",
       "  <tbody>\n",
       "    <tr>\n",
       "      <th>0</th>\n",
       "      <td>380000</td>\n",
       "      <td>8450</td>\n",
       "      <td>2003</td>\n",
       "      <td>2003</td>\n",
       "      <td>196</td>\n",
       "      <td>8</td>\n",
       "      <td>2996.000000</td>\n",
       "      <td>20081</td>\n",
       "    </tr>\n",
       "    <tr>\n",
       "      <th>1</th>\n",
       "      <td>181500</td>\n",
       "      <td>9600</td>\n",
       "      <td>1976</td>\n",
       "      <td>1976</td>\n",
       "      <td>0</td>\n",
       "      <td>6</td>\n",
       "      <td>7606.000000</td>\n",
       "      <td>15171</td>\n",
       "    </tr>\n",
       "    <tr>\n",
       "      <th>2</th>\n",
       "      <td>223500</td>\n",
       "      <td>11250</td>\n",
       "      <td>2001</td>\n",
       "      <td>2002</td>\n",
       "      <td>162</td>\n",
       "      <td>6</td>\n",
       "      <td>5856.000000</td>\n",
       "      <td>17368</td>\n",
       "    </tr>\n",
       "    <tr>\n",
       "      <th>3</th>\n",
       "      <td>140000</td>\n",
       "      <td>9550</td>\n",
       "      <td>1915</td>\n",
       "      <td>1970</td>\n",
       "      <td>0</td>\n",
       "      <td>7</td>\n",
       "      <td>4789.000000</td>\n",
       "      <td>21808</td>\n",
       "    </tr>\n",
       "    <tr>\n",
       "      <th>4</th>\n",
       "      <td>250000</td>\n",
       "      <td>14260</td>\n",
       "      <td>2000</td>\n",
       "      <td>2000</td>\n",
       "      <td>350</td>\n",
       "      <td>9</td>\n",
       "      <td>1248.000000</td>\n",
       "      <td>16240</td>\n",
       "    </tr>\n",
       "    <tr>\n",
       "      <th>...</th>\n",
       "      <td>...</td>\n",
       "      <td>...</td>\n",
       "      <td>...</td>\n",
       "      <td>...</td>\n",
       "      <td>...</td>\n",
       "      <td>...</td>\n",
       "      <td>...</td>\n",
       "      <td>...</td>\n",
       "    </tr>\n",
       "    <tr>\n",
       "      <th>95</th>\n",
       "      <td>185000</td>\n",
       "      <td>9765</td>\n",
       "      <td>1993</td>\n",
       "      <td>1993</td>\n",
       "      <td>68</td>\n",
       "      <td>6</td>\n",
       "      <td>3950.000000</td>\n",
       "      <td>20853</td>\n",
       "    </tr>\n",
       "    <tr>\n",
       "      <th>96</th>\n",
       "      <td>214000</td>\n",
       "      <td>10264</td>\n",
       "      <td>1999</td>\n",
       "      <td>1999</td>\n",
       "      <td>183</td>\n",
       "      <td>6</td>\n",
       "      <td>4182.000000</td>\n",
       "      <td>12897</td>\n",
       "    </tr>\n",
       "    <tr>\n",
       "      <th>97</th>\n",
       "      <td>94750</td>\n",
       "      <td>10921</td>\n",
       "      <td>1965</td>\n",
       "      <td>1965</td>\n",
       "      <td>48</td>\n",
       "      <td>6</td>\n",
       "      <td>3763.429695</td>\n",
       "      <td>25023</td>\n",
       "    </tr>\n",
       "    <tr>\n",
       "      <th>98</th>\n",
       "      <td>83000</td>\n",
       "      <td>10625</td>\n",
       "      <td>1920</td>\n",
       "      <td>1950</td>\n",
       "      <td>0</td>\n",
       "      <td>5</td>\n",
       "      <td>203.000000</td>\n",
       "      <td>23344</td>\n",
       "    </tr>\n",
       "    <tr>\n",
       "      <th>99</th>\n",
       "      <td>128950</td>\n",
       "      <td>9320</td>\n",
       "      <td>1959</td>\n",
       "      <td>1959</td>\n",
       "      <td>0</td>\n",
       "      <td>6</td>\n",
       "      <td>863.000000</td>\n",
       "      <td>23415</td>\n",
       "    </tr>\n",
       "  </tbody>\n",
       "</table>\n",
       "<p>100 rows × 8 columns</p>\n",
       "</div>"
      ],
      "text/plain": [
       "     Price   Area  YearBuilt  YearRestoration  MasVnrArea  RoomsNumb  \\\n",
       "0   380000   8450       2003             2003         196          8   \n",
       "1   181500   9600       1976             1976           0          6   \n",
       "2   223500  11250       2001             2002         162          6   \n",
       "3   140000   9550       1915             1970           0          7   \n",
       "4   250000  14260       2000             2000         350          9   \n",
       "..     ...    ...        ...              ...         ...        ...   \n",
       "95  185000   9765       1993             1993          68          6   \n",
       "96  214000  10264       1999             1999         183          6   \n",
       "97   94750  10921       1965             1965          48          6   \n",
       "98   83000  10625       1920             1950           0          5   \n",
       "99  128950   9320       1959             1959           0          6   \n",
       "\n",
       "    SchoollDistance  CenterDistance  \n",
       "0       2996.000000           20081  \n",
       "1       7606.000000           15171  \n",
       "2       5856.000000           17368  \n",
       "3       4789.000000           21808  \n",
       "4       1248.000000           16240  \n",
       "..              ...             ...  \n",
       "95      3950.000000           20853  \n",
       "96      4182.000000           12897  \n",
       "97      3763.429695           25023  \n",
       "98       203.000000           23344  \n",
       "99       863.000000           23415  \n",
       "\n",
       "[100 rows x 8 columns]"
      ]
     },
     "execution_count": 6,
     "metadata": {},
     "output_type": "execute_result"
    }
   ],
   "source": [
    "# Считываем данные из файла\n",
    "df = pd.read_excel('data_house_prices_2_clean.xlsx')\n",
    "df"
   ]
  },
  {
   "cell_type": "markdown",
   "metadata": {},
   "source": [
    "#### Диаграммы рассеяния"
   ]
  },
  {
   "cell_type": "code",
   "execution_count": 4,
   "metadata": {},
   "outputs": [
    {
     "data": {
      "image/png": "[encoded data removed]",
      "text/plain": [
       "<Figure size 432x288 with 1 Axes>"
      ]
     },
     "metadata": {
      "needs_background": "light"
     },
     "output_type": "display_data"
    }
   ],
   "source": [
    "df.plot(x='Area',y='Price',kind='scatter');"
   ]
  },
  {
   "cell_type": "code",
   "execution_count": 5,
   "metadata": {
    "scrolled": true
   },
   "outputs": [
    {
     "data": {
      "image/png": "[encoded data removed]",
      "text/plain": [
       "<Figure size 432x288 with 1 Axes>"
      ]
     },
     "metadata": {
      "needs_background": "light"
     },
     "output_type": "display_data"
    }
   ],
   "source": [
    "df.plot(x='YearBuilt',y='Price',kind='scatter');"
   ]
  },
  {
   "cell_type": "code",
   "execution_count": 6,
   "metadata": {},
   "outputs": [
    {
     "data": {
      "image/png": "[encoded data removed]",
      "text/plain": [
       "<Figure size 432x288 with 1 Axes>"
      ]
     },
     "metadata": {
      "needs_background": "light"
     },
     "output_type": "display_data"
    }
   ],
   "source": [
    "df.plot(x='YearRestoration',y='Price',kind='scatter');\n"
   ]
  },
  {
   "cell_type": "code",
   "execution_count": 7,
   "metadata": {},
   "outputs": [
    {
     "data": {
      "image/png": "[encoded data removed]",
      "text/plain": [
       "<Figure size 432x288 with 1 Axes>"
      ]
     },
     "metadata": {
      "needs_background": "light"
     },
     "output_type": "display_data"
    }
   ],
   "source": [
    "df.plot(x='MasVnrArea',y='Price',kind='scatter');\n"
   ]
  },
  {
   "cell_type": "code",
   "execution_count": 8,
   "metadata": {},
   "outputs": [
    {
     "data": {
      "image/png": "[encoded data removed]",
      "text/plain": [
       "<Figure size 432x288 with 1 Axes>"
      ]
     },
     "metadata": {
      "needs_background": "light"
     },
     "output_type": "display_data"
    }
   ],
   "source": [
    "df.plot(x='RoomsNumb',y='Price',kind='scatter');"
   ]
  },
  {
   "cell_type": "code",
   "execution_count": 9,
   "metadata": {},
   "outputs": [
    {
     "data": {
      "image/png": "[encoded data removed]",
      "text/plain": [
       "<Figure size 432x288 with 1 Axes>"
      ]
     },
     "metadata": {
      "needs_background": "light"
     },
     "output_type": "display_data"
    }
   ],
   "source": [
    "df.plot(x='SchoollDistance',y='Price',kind='scatter');"
   ]
  },
  {
   "cell_type": "code",
   "execution_count": 10,
   "metadata": {},
   "outputs": [
    {
     "data": {
      "image/png": "[encoded data removed]",
      "text/plain": [
       "<Figure size 432x288 with 1 Axes>"
      ]
     },
     "metadata": {
      "needs_background": "light"
     },
     "output_type": "display_data"
    }
   ],
   "source": [
    "df.plot(x='CenterDistance',y='Price',kind='scatter');"
   ]
  },
  {
   "cell_type": "markdown",
   "metadata": {},
   "source": [
    "####  Корреляционная матрица"
   ]
  },
  {
   "cell_type": "code",
   "execution_count": 11,
   "metadata": {},
   "outputs": [
    {
     "data": {
      "text/html": [
       "<div>\n",
       "<style scoped>\n",
       "    .dataframe tbody tr th:only-of-type {\n",
       "        vertical-align: middle;\n",
       "    }\n",
       "\n",
       "    .dataframe tbody tr th {\n",
       "        vertical-align: top;\n",
       "    }\n",
       "\n",
       "    .dataframe thead th {\n",
       "        text-align: right;\n",
       "    }\n",
       "</style>\n",
       "<table border=\"1\" class=\"dataframe\">\n",
       "  <thead>\n",
       "    <tr style=\"text-align: right;\">\n",
       "      <th></th>\n",
       "      <th>Price</th>\n",
       "      <th>Area</th>\n",
       "      <th>YearBuilt</th>\n",
       "      <th>YearRestoration</th>\n",
       "      <th>MasVnrArea</th>\n",
       "      <th>RoomsNumb</th>\n",
       "      <th>SchoollDistance</th>\n",
       "      <th>CenterDistance</th>\n",
       "    </tr>\n",
       "  </thead>\n",
       "  <tbody>\n",
       "    <tr>\n",
       "      <th>Price</th>\n",
       "      <td>1.000000</td>\n",
       "      <td>0.339995</td>\n",
       "      <td>0.465742</td>\n",
       "      <td>0.389326</td>\n",
       "      <td>0.380489</td>\n",
       "      <td>0.442164</td>\n",
       "      <td>0.106592</td>\n",
       "      <td>-0.482399</td>\n",
       "    </tr>\n",
       "    <tr>\n",
       "      <th>Area</th>\n",
       "      <td>0.339995</td>\n",
       "      <td>1.000000</td>\n",
       "      <td>0.260769</td>\n",
       "      <td>0.172652</td>\n",
       "      <td>0.198293</td>\n",
       "      <td>0.252269</td>\n",
       "      <td>0.068671</td>\n",
       "      <td>-0.467764</td>\n",
       "    </tr>\n",
       "    <tr>\n",
       "      <th>YearBuilt</th>\n",
       "      <td>0.465742</td>\n",
       "      <td>0.260769</td>\n",
       "      <td>1.000000</td>\n",
       "      <td>0.615053</td>\n",
       "      <td>0.374728</td>\n",
       "      <td>0.212181</td>\n",
       "      <td>0.024687</td>\n",
       "      <td>-0.511358</td>\n",
       "    </tr>\n",
       "    <tr>\n",
       "      <th>YearRestoration</th>\n",
       "      <td>0.389326</td>\n",
       "      <td>0.172652</td>\n",
       "      <td>0.615053</td>\n",
       "      <td>1.000000</td>\n",
       "      <td>0.267697</td>\n",
       "      <td>0.255801</td>\n",
       "      <td>0.049462</td>\n",
       "      <td>-0.364069</td>\n",
       "    </tr>\n",
       "    <tr>\n",
       "      <th>MasVnrArea</th>\n",
       "      <td>0.380489</td>\n",
       "      <td>0.198293</td>\n",
       "      <td>0.374728</td>\n",
       "      <td>0.267697</td>\n",
       "      <td>1.000000</td>\n",
       "      <td>0.436917</td>\n",
       "      <td>0.033243</td>\n",
       "      <td>-0.479798</td>\n",
       "    </tr>\n",
       "    <tr>\n",
       "      <th>RoomsNumb</th>\n",
       "      <td>0.442164</td>\n",
       "      <td>0.252269</td>\n",
       "      <td>0.212181</td>\n",
       "      <td>0.255801</td>\n",
       "      <td>0.436917</td>\n",
       "      <td>1.000000</td>\n",
       "      <td>0.104830</td>\n",
       "      <td>-0.520214</td>\n",
       "    </tr>\n",
       "    <tr>\n",
       "      <th>SchoollDistance</th>\n",
       "      <td>0.106592</td>\n",
       "      <td>0.068671</td>\n",
       "      <td>0.024687</td>\n",
       "      <td>0.049462</td>\n",
       "      <td>0.033243</td>\n",
       "      <td>0.104830</td>\n",
       "      <td>1.000000</td>\n",
       "      <td>-0.107494</td>\n",
       "    </tr>\n",
       "    <tr>\n",
       "      <th>CenterDistance</th>\n",
       "      <td>-0.482399</td>\n",
       "      <td>-0.467764</td>\n",
       "      <td>-0.511358</td>\n",
       "      <td>-0.364069</td>\n",
       "      <td>-0.479798</td>\n",
       "      <td>-0.520214</td>\n",
       "      <td>-0.107494</td>\n",
       "      <td>1.000000</td>\n",
       "    </tr>\n",
       "  </tbody>\n",
       "</table>\n",
       "</div>"
      ],
      "text/plain": [
       "                    Price      Area  YearBuilt  YearRestoration  MasVnrArea  \\\n",
       "Price            1.000000  0.339995   0.465742         0.389326    0.380489   \n",
       "Area             0.339995  1.000000   0.260769         0.172652    0.198293   \n",
       "YearBuilt        0.465742  0.260769   1.000000         0.615053    0.374728   \n",
       "YearRestoration  0.389326  0.172652   0.615053         1.000000    0.267697   \n",
       "MasVnrArea       0.380489  0.198293   0.374728         0.267697    1.000000   \n",
       "RoomsNumb        0.442164  0.252269   0.212181         0.255801    0.436917   \n",
       "SchoollDistance  0.106592  0.068671   0.024687         0.049462    0.033243   \n",
       "CenterDistance  -0.482399 -0.467764  -0.511358        -0.364069   -0.479798   \n",
       "\n",
       "                 RoomsNumb  SchoollDistance  CenterDistance  \n",
       "Price             0.442164         0.106592       -0.482399  \n",
       "Area              0.252269         0.068671       -0.467764  \n",
       "YearBuilt         0.212181         0.024687       -0.511358  \n",
       "YearRestoration   0.255801         0.049462       -0.364069  \n",
       "MasVnrArea        0.436917         0.033243       -0.479798  \n",
       "RoomsNumb         1.000000         0.104830       -0.520214  \n",
       "SchoollDistance   0.104830         1.000000       -0.107494  \n",
       "CenterDistance   -0.520214        -0.107494        1.000000  "
      ]
     },
     "execution_count": 11,
     "metadata": {},
     "output_type": "execute_result"
    }
   ],
   "source": [
    "df.corr()"
   ]
  },
  {
   "cell_type": "code",
   "execution_count": 12,
   "metadata": {},
   "outputs": [
    {
     "data": {
      "image/png": "[encoded data removed]",
      "text/plain": [
       "<Figure size 720x504 with 2 Axes>"
      ]
     },
     "metadata": {
      "needs_background": "light"
     },
     "output_type": "display_data"
    }
   ],
   "source": [
    "cmap = sns.diverging_palette(220, 20, sep=20, as_cmap=True)\n",
    "plt.subplots(figsize=(10, 7))\n",
    "sns.heatmap(df.corr(),cmap=cmap,  annot=True);"
   ]
  },
  {
   "cell_type": "markdown",
   "metadata": {},
   "source": [
    "### <center> Построение модели регрессии"
   ]
  },
  {
   "cell_type": "markdown",
   "metadata": {},
   "source": [
    "### Однофакторная регрессия"
   ]
  },
  {
   "cell_type": "markdown",
   "metadata": {},
   "source": [
    "**Первая модель**\n",
    "\n",
    "Построим однофакторную регрессионную модель. В качестве фактора (признака) выберем тот, который больше всего коррелирует с ценой. Таким фактором является  ***CenterDistance***"
   ]
  },
  {
   "cell_type": "code",
   "execution_count": 48,
   "metadata": {},
   "outputs": [
    {
     "name": "stdout",
     "output_type": "stream",
     "text": [
      "R2:  0.23270905237113315\n",
      "Mean absolute error (MAE) 51785.651972814405\n"
     ]
    }
   ],
   "source": [
    "# Формируем X и y для построения модели\n",
    "x = df[['CenterDistance']]\n",
    "y = df['Price']\n",
    "\n",
    "\n",
    "# создаем объект модели\n",
    "reg_model = LinearRegression()\n",
    "\n",
    "# Обучаем модель на данных, применяя метод fit()\n",
    "reg_model.fit(x, y)\n",
    "\n",
    "# Делаем предказание, применяя метод predict()б и сохраняем его в отдельную переменную\n",
    "pred_1 = reg_model.predict(x)\n",
    "\n",
    "# __Смотрим метрики качества__\n",
    "print('R2: ', r2_score(y, pred_1)) # reg_model.score\n",
    "print('Mean absolute error (MAE)', mean_absolute_error(y, pred_1))"
   ]
  },
  {
   "cell_type": "markdown",
   "metadata": {},
   "source": [
    "Посмотрим параметры полученной модели: сдвиг/свободный член **b0** и коэффициент перед x **b1** "
   ]
  },
  {
   "cell_type": "code",
   "execution_count": 37,
   "metadata": {},
   "outputs": [
    {
     "data": {
      "text/plain": [
       "array([-8.32862368])"
      ]
     },
     "execution_count": 37,
     "metadata": {},
     "output_type": "execute_result"
    }
   ],
   "source": [
    "# коэффициенты модели\n",
    "reg_model.coef_"
   ]
  },
  {
   "cell_type": "code",
   "execution_count": 38,
   "metadata": {},
   "outputs": [
    {
     "data": {
      "text/plain": [
       "355256.11724330985"
      ]
     },
     "execution_count": 38,
     "metadata": {},
     "output_type": "execute_result"
    }
   ],
   "source": [
    "# свободный член (сдвиг)\n",
    "reg_model.intercept_"
   ]
  },
  {
   "cell_type": "markdown",
   "metadata": {},
   "source": [
    "**Реализация из библиотеки statmodels**"
   ]
  },
  {
   "cell_type": "code",
   "execution_count": 133,
   "metadata": {},
   "outputs": [
    {
     "name": "stdout",
     "output_type": "stream",
     "text": [
      "                            OLS Regression Results                            \n",
      "==============================================================================\n",
      "Dep. Variable:                  Price   R-squared:                       0.233\n",
      "Model:                            OLS   Adj. R-squared:                  0.225\n",
      "Method:                 Least Squares   F-statistic:                     29.72\n",
      "Date:                Thu, 25 Nov 2021   Prob (F-statistic):           3.73e-07\n",
      "Time:                        17:27:18   Log-Likelihood:                -1268.0\n",
      "No. Observations:                 100   AIC:                             2540.\n",
      "Df Residuals:                      98   BIC:                             2545.\n",
      "Df Model:                           1                                         \n",
      "Covariance Type:            nonrobust                                         \n",
      "==================================================================================\n",
      "                     coef    std err          t      P>|t|      [0.025      0.975]\n",
      "----------------------------------------------------------------------------------\n",
      "const           3.553e+05   3.14e+04     11.306      0.000    2.93e+05    4.18e+05\n",
      "CenterDistance    -8.3286      1.528     -5.452      0.000     -11.360      -5.297\n",
      "==============================================================================\n",
      "Omnibus:                       58.880   Durbin-Watson:                   1.725\n",
      "Prob(Omnibus):                  0.000   Jarque-Bera (JB):              192.664\n",
      "Skew:                           2.131   Prob(JB):                     1.46e-42\n",
      "Kurtosis:                       8.299   Cond. No.                     8.23e+04\n",
      "==============================================================================\n",
      "\n",
      "Notes:\n",
      "[1] Standard Errors assume that the covariance matrix of the errors is correctly specified.\n",
      "[2] The condition number is large, 8.23e+04. This might indicate that there are\n",
      "strong multicollinearity or other numerical problems.\n"
     ]
    }
   ],
   "source": [
    "y = df['Price']\n",
    "x = df['CenterDistance']\n",
    "# необходимо добавить константу 1 для корректной работы модели\n",
    "x = sm.add_constant(x)\n",
    "\n",
    "model = sm.OLS(y,x)\n",
    "results = model.fit()\n",
    "pred_1 = results.predict(x)\n",
    "print(results.summary())\n",
    "# print('R2: ', results.rsquared)\n",
    "# print('Parameters: ', results.params)\n",
    "# print('\\nMean absolute error (MAE)', sm.tools.eval_measures.meanabs(y, pred_1))"
   ]
  },
  {
   "cell_type": "markdown",
   "metadata": {},
   "source": [
    "Нарисуем линию регрессии и посмотрим, насколько хорошо она описывает поведение данных"
   ]
  },
  {
   "cell_type": "code",
   "execution_count": 17,
   "metadata": {},
   "outputs": [
    {
     "data": {
      "image/png": "[encoded data removed]",
      "text/plain": [
       "<Figure size 432x288 with 1 Axes>"
      ]
     },
     "metadata": {
      "needs_background": "light"
     },
     "output_type": "display_data"
    }
   ],
   "source": [
    "df.plot(x='CenterDistance', y='Price', kind='scatter')\n",
    "plt.plot(df['CenterDistance'], predictions_1, color='red');"
   ]
  },
  {
   "cell_type": "markdown",
   "metadata": {},
   "source": [
    "Попробуем построить предсказание для новых данных. Для этого в обученную моделеь передаем значения признака X, для которого хотим сделать прогноз"
   ]
  },
  {
   "cell_type": "code",
   "execution_count": 24,
   "metadata": {},
   "outputs": [
    {
     "data": {
      "text/plain": [
       "array([308907.32648022, 338415.6401682 ])"
      ]
     },
     "execution_count": 24,
     "metadata": {},
     "output_type": "execute_result"
    }
   ],
   "source": [
    "test = pd.DataFrame({'CenterDistance':[5565, 2022]})\n",
    "x = test[['CenterDistance']]\n",
    "reg_model.predict(x)"
   ]
  },
  {
   "cell_type": "markdown",
   "metadata": {},
   "source": [
    "#### Анализ остатков"
   ]
  },
  {
   "cell_type": "code",
   "execution_count": 85,
   "metadata": {},
   "outputs": [
    {
     "data": {
      "text/html": [
       "<div>\n",
       "<style scoped>\n",
       "    .dataframe tbody tr th:only-of-type {\n",
       "        vertical-align: middle;\n",
       "    }\n",
       "\n",
       "    .dataframe tbody tr th {\n",
       "        vertical-align: top;\n",
       "    }\n",
       "\n",
       "    .dataframe thead th {\n",
       "        text-align: right;\n",
       "    }\n",
       "</style>\n",
       "<table border=\"1\" class=\"dataframe\">\n",
       "  <thead>\n",
       "    <tr style=\"text-align: right;\">\n",
       "      <th></th>\n",
       "      <th>Price</th>\n",
       "      <th>Predictions</th>\n",
       "    </tr>\n",
       "  </thead>\n",
       "  <tbody>\n",
       "    <tr>\n",
       "      <th>0</th>\n",
       "      <td>380000</td>\n",
       "      <td>188009.025183</td>\n",
       "    </tr>\n",
       "    <tr>\n",
       "      <th>1</th>\n",
       "      <td>181500</td>\n",
       "      <td>228902.567438</td>\n",
       "    </tr>\n",
       "    <tr>\n",
       "      <th>2</th>\n",
       "      <td>223500</td>\n",
       "      <td>210604.581219</td>\n",
       "    </tr>\n",
       "    <tr>\n",
       "      <th>3</th>\n",
       "      <td>140000</td>\n",
       "      <td>173625.492093</td>\n",
       "    </tr>\n",
       "    <tr>\n",
       "      <th>4</th>\n",
       "      <td>250000</td>\n",
       "      <td>219999.268727</td>\n",
       "    </tr>\n",
       "  </tbody>\n",
       "</table>\n",
       "</div>"
      ],
      "text/plain": [
       "    Price    Predictions\n",
       "0  380000  188009.025183\n",
       "1  181500  228902.567438\n",
       "2  223500  210604.581219\n",
       "3  140000  173625.492093\n",
       "4  250000  219999.268727"
      ]
     },
     "execution_count": 85,
     "metadata": {},
     "output_type": "execute_result"
    }
   ],
   "source": [
    "residuals = pd.DataFrame({'Price':df['Price'],\n",
    "                          'Predictions':pred_1})\n",
    "residuals.head()"
   ]
  },
  {
   "cell_type": "code",
   "execution_count": 86,
   "metadata": {
    "scrolled": false
   },
   "outputs": [
    {
     "data": {
      "text/html": [
       "<div>\n",
       "<style scoped>\n",
       "    .dataframe tbody tr th:only-of-type {\n",
       "        vertical-align: middle;\n",
       "    }\n",
       "\n",
       "    .dataframe tbody tr th {\n",
       "        vertical-align: top;\n",
       "    }\n",
       "\n",
       "    .dataframe thead th {\n",
       "        text-align: right;\n",
       "    }\n",
       "</style>\n",
       "<table border=\"1\" class=\"dataframe\">\n",
       "  <thead>\n",
       "    <tr style=\"text-align: right;\">\n",
       "      <th></th>\n",
       "      <th>Price</th>\n",
       "      <th>Predictions</th>\n",
       "      <th>Errors</th>\n",
       "    </tr>\n",
       "  </thead>\n",
       "  <tbody>\n",
       "    <tr>\n",
       "      <th>0</th>\n",
       "      <td>380000</td>\n",
       "      <td>188009.025183</td>\n",
       "      <td>191990.974817</td>\n",
       "    </tr>\n",
       "    <tr>\n",
       "      <th>1</th>\n",
       "      <td>181500</td>\n",
       "      <td>228902.567438</td>\n",
       "      <td>-47402.567438</td>\n",
       "    </tr>\n",
       "    <tr>\n",
       "      <th>2</th>\n",
       "      <td>223500</td>\n",
       "      <td>210604.581219</td>\n",
       "      <td>12895.418781</td>\n",
       "    </tr>\n",
       "    <tr>\n",
       "      <th>3</th>\n",
       "      <td>140000</td>\n",
       "      <td>173625.492093</td>\n",
       "      <td>-33625.492093</td>\n",
       "    </tr>\n",
       "    <tr>\n",
       "      <th>4</th>\n",
       "      <td>250000</td>\n",
       "      <td>219999.268727</td>\n",
       "      <td>30000.731273</td>\n",
       "    </tr>\n",
       "  </tbody>\n",
       "</table>\n",
       "</div>"
      ],
      "text/plain": [
       "    Price    Predictions         Errors\n",
       "0  380000  188009.025183  191990.974817\n",
       "1  181500  228902.567438  -47402.567438\n",
       "2  223500  210604.581219   12895.418781\n",
       "3  140000  173625.492093  -33625.492093\n",
       "4  250000  219999.268727   30000.731273"
      ]
     },
     "execution_count": 86,
     "metadata": {},
     "output_type": "execute_result"
    }
   ],
   "source": [
    "residuals['Errors'] = residuals['Price']-residuals['Predictions']\n",
    "residuals.head()"
   ]
  },
  {
   "cell_type": "markdown",
   "metadata": {},
   "source": [
    "Построим диаграмму рассеяния ошибок"
   ]
  },
  {
   "cell_type": "code",
   "execution_count": 87,
   "metadata": {},
   "outputs": [
    {
     "data": {
      "text/plain": [
       "<AxesSubplot:>"
      ]
     },
     "execution_count": 87,
     "metadata": {},
     "output_type": "execute_result"
    },
    {
     "data": {
      "image/png": "[encoded data removed]",
      "text/plain": [
       "<Figure size 432x288 with 1 Axes>"
      ]
     },
     "metadata": {
      "needs_background": "light"
     },
     "output_type": "display_data"
    }
   ],
   "source": [
    "residuals['Errors'].hist(bins=20)"
   ]
  },
  {
   "cell_type": "code",
   "execution_count": 33,
   "metadata": {
    "scrolled": true
   },
   "outputs": [
    {
     "data": {
      "text/plain": [
       "<AxesSubplot:xlabel='Price', ylabel='Errors'>"
      ]
     },
     "execution_count": 33,
     "metadata": {},
     "output_type": "execute_result"
    },
    {
     "data": {
      "image/png": "[encoded data removed]",
      "text/plain": [
       "<Figure size 432x288 with 1 Axes>"
      ]
     },
     "metadata": {
      "needs_background": "light"
     },
     "output_type": "display_data"
    }
   ],
   "source": [
    "residuals.plot(x='Price',y='Errors',kind='scatter',grid=True)"
   ]
  },
  {
   "cell_type": "markdown",
   "metadata": {},
   "source": [
    "**Можем ли мы как-то улучшить результат?** \n",
    "\n",
    "Если посмотреть на диаграмму рассеяния признака ***CenterDistance*** в зависимости от цены, то увидим, что в данных есть выбросы (несколько точек в правом верхнем углу). Можно попробовать убрать их из данных и попробовать построить модель без них"
   ]
  },
  {
   "cell_type": "code",
   "execution_count": 34,
   "metadata": {},
   "outputs": [
    {
     "data": {
      "image/png": "[encoded data removed]",
      "text/plain": [
       "<Figure size 432x288 with 1 Axes>"
      ]
     },
     "metadata": {
      "needs_background": "light"
     },
     "output_type": "display_data"
    }
   ],
   "source": [
    "df.plot(x='CenterDistance',y='Price',kind='scatter')\n",
    "plt.plot(df['CenterDistance'], predictions_1,color='red');"
   ]
  },
  {
   "cell_type": "markdown",
   "metadata": {},
   "source": [
    "#### Модель без выбросов"
   ]
  },
  {
   "cell_type": "code",
   "execution_count": 35,
   "metadata": {},
   "outputs": [
    {
     "data": {
      "text/html": [
       "<div>\n",
       "<style scoped>\n",
       "    .dataframe tbody tr th:only-of-type {\n",
       "        vertical-align: middle;\n",
       "    }\n",
       "\n",
       "    .dataframe tbody tr th {\n",
       "        vertical-align: top;\n",
       "    }\n",
       "\n",
       "    .dataframe thead th {\n",
       "        text-align: right;\n",
       "    }\n",
       "</style>\n",
       "<table border=\"1\" class=\"dataframe\">\n",
       "  <thead>\n",
       "    <tr style=\"text-align: right;\">\n",
       "      <th></th>\n",
       "      <th>Price</th>\n",
       "      <th>Area</th>\n",
       "      <th>YearBuilt</th>\n",
       "      <th>YearRestoration</th>\n",
       "      <th>MasVnrArea</th>\n",
       "      <th>RoomsNumb</th>\n",
       "      <th>SchoollDistance</th>\n",
       "      <th>CenterDistance</th>\n",
       "    </tr>\n",
       "  </thead>\n",
       "  <tbody>\n",
       "    <tr>\n",
       "      <th>0</th>\n",
       "      <td>380000</td>\n",
       "      <td>8450</td>\n",
       "      <td>2003</td>\n",
       "      <td>2003</td>\n",
       "      <td>196</td>\n",
       "      <td>8</td>\n",
       "      <td>2996.000000</td>\n",
       "      <td>20081</td>\n",
       "    </tr>\n",
       "    <tr>\n",
       "      <th>21</th>\n",
       "      <td>358000</td>\n",
       "      <td>7449</td>\n",
       "      <td>1930</td>\n",
       "      <td>1950</td>\n",
       "      <td>0</td>\n",
       "      <td>6</td>\n",
       "      <td>1116.000000</td>\n",
       "      <td>25316</td>\n",
       "    </tr>\n",
       "    <tr>\n",
       "      <th>39</th>\n",
       "      <td>365000</td>\n",
       "      <td>6040</td>\n",
       "      <td>1955</td>\n",
       "      <td>1955</td>\n",
       "      <td>0</td>\n",
       "      <td>6</td>\n",
       "      <td>3521.000000</td>\n",
       "      <td>28677</td>\n",
       "    </tr>\n",
       "    <tr>\n",
       "      <th>49</th>\n",
       "      <td>420000</td>\n",
       "      <td>7742</td>\n",
       "      <td>1966</td>\n",
       "      <td>1966</td>\n",
       "      <td>0</td>\n",
       "      <td>6</td>\n",
       "      <td>3763.429695</td>\n",
       "      <td>24438</td>\n",
       "    </tr>\n",
       "    <tr>\n",
       "      <th>50</th>\n",
       "      <td>480000</td>\n",
       "      <td>13869</td>\n",
       "      <td>1997</td>\n",
       "      <td>1997</td>\n",
       "      <td>0</td>\n",
       "      <td>6</td>\n",
       "      <td>7757.000000</td>\n",
       "      <td>24231</td>\n",
       "    </tr>\n",
       "    <tr>\n",
       "      <th>61</th>\n",
       "      <td>389000</td>\n",
       "      <td>7200</td>\n",
       "      <td>1920</td>\n",
       "      <td>1996</td>\n",
       "      <td>0</td>\n",
       "      <td>6</td>\n",
       "      <td>3202.216495</td>\n",
       "      <td>28475</td>\n",
       "    </tr>\n",
       "  </tbody>\n",
       "</table>\n",
       "</div>"
      ],
      "text/plain": [
       "     Price   Area  YearBuilt  YearRestoration  MasVnrArea  RoomsNumb  \\\n",
       "0   380000   8450       2003             2003         196          8   \n",
       "21  358000   7449       1930             1950           0          6   \n",
       "39  365000   6040       1955             1955           0          6   \n",
       "49  420000   7742       1966             1966           0          6   \n",
       "50  480000  13869       1997             1997           0          6   \n",
       "61  389000   7200       1920             1996           0          6   \n",
       "\n",
       "    SchoollDistance  CenterDistance  \n",
       "0       2996.000000           20081  \n",
       "21      1116.000000           25316  \n",
       "39      3521.000000           28677  \n",
       "49      3763.429695           24438  \n",
       "50      7757.000000           24231  \n",
       "61      3202.216495           28475  "
      ]
     },
     "execution_count": 35,
     "metadata": {},
     "output_type": "execute_result"
    }
   ],
   "source": [
    "df[(df['CenterDistance']>20000)&(df['Price']>300000)]"
   ]
  },
  {
   "cell_type": "code",
   "execution_count": 52,
   "metadata": {},
   "outputs": [],
   "source": [
    "# Находим индексы выбросов и удаляем их\n",
    "ind = df[(df['CenterDistance']>20000)&(df['Price']>300000)].index\n",
    "clean_data = df.drop(ind, axis='index')"
   ]
  },
  {
   "cell_type": "code",
   "execution_count": 54,
   "metadata": {},
   "outputs": [
    {
     "name": "stdout",
     "output_type": "stream",
     "text": [
      "R2:  0.6960862985951268\n",
      "Mean absolute error (MAE) 32605.370081542103\n"
     ]
    }
   ],
   "source": [
    "# Формируем X и y для построения модели на данных без выбросов\n",
    "x = clean_data[['CenterDistance']]\n",
    "y = clean_data['Price']\n",
    "\n",
    "# создаем объект модели\n",
    "reg_model = LinearRegression()\n",
    "\n",
    "# Обучаем модель на данных, применяя метод fit()\n",
    "reg_model.fit(x, y)\n",
    "\n",
    "# Делаем предказание, применяя метод predict()б и сохраняем его в отдельную переменную\n",
    "pred_2 = reg_model.predict(x)\n",
    "\n",
    "# __Смотрим метрики качества__\n",
    "print('R2: ', r2_score(y, pred_2)) # reg_model.score\n",
    "print('Mean absolute error (MAE)', mean_absolute_error(y, pred_2))"
   ]
  },
  {
   "cell_type": "markdown",
   "metadata": {},
   "source": [
    "Посмотрим, как теперь проходил линия регрессии через данные"
   ]
  },
  {
   "cell_type": "code",
   "execution_count": 60,
   "metadata": {},
   "outputs": [
    {
     "data": {
      "text/plain": [
       "[<matplotlib.lines.Line2D at 0x1bba77ebcd0>]"
      ]
     },
     "execution_count": 60,
     "metadata": {},
     "output_type": "execute_result"
    },
    {
     "data": {
      "image/png": "[encoded data removed]",
      "text/plain": [
       "<Figure size 432x288 with 1 Axes>"
      ]
     },
     "metadata": {
      "needs_background": "light"
     },
     "output_type": "display_data"
    }
   ],
   "source": [
    "df.plot(x='CenterDistance',y='Price',kind='scatter')\n",
    "plt.plot(df['CenterDistance'], pred_1, color='red')\n",
    "plt.plot(clean_data['CenterDistance'], pred_2,color='green')"
   ]
  },
  {
   "cell_type": "markdown",
   "metadata": {},
   "source": [
    "Посмотрим, как изменилось распределение остатков"
   ]
  },
  {
   "cell_type": "code",
   "execution_count": 82,
   "metadata": {},
   "outputs": [],
   "source": [
    "residuals2 = pd.DataFrame({'Price':clean_data['Price'],\n",
    "                          'Predictions':pred_2})\n",
    "residuals2['Errors'] = residuals2['Price']-residuals2['Predictions']"
   ]
  },
  {
   "cell_type": "code",
   "execution_count": 83,
   "metadata": {},
   "outputs": [
    {
     "data": {
      "text/plain": [
       "<AxesSubplot:>"
      ]
     },
     "execution_count": 83,
     "metadata": {},
     "output_type": "execute_result"
    },
    {
     "data": {
      "image/png": "[encoded data removed]",
      "text/plain": [
       "<Figure size 432x288 with 1 Axes>"
      ]
     },
     "metadata": {
      "needs_background": "light"
     },
     "output_type": "display_data"
    }
   ],
   "source": [
    "residuals2['Errors'].hist(bins=20)"
   ]
  },
  {
   "cell_type": "code",
   "execution_count": 88,
   "metadata": {},
   "outputs": [
    {
     "data": {
      "text/plain": [
       "<AxesSubplot:>"
      ]
     },
     "execution_count": 88,
     "metadata": {},
     "output_type": "execute_result"
    },
    {
     "data": {
      "image/png": "[encoded data removed]",
      "text/plain": [
       "<Figure size 432x288 with 1 Axes>"
      ]
     },
     "metadata": {
      "needs_background": "light"
     },
     "output_type": "display_data"
    }
   ],
   "source": [
    "residuals['Errors'].hist(bins=20)"
   ]
  },
  {
   "cell_type": "code",
   "execution_count": 89,
   "metadata": {},
   "outputs": [
    {
     "data": {
      "text/plain": [
       "<AxesSubplot:xlabel='Price', ylabel='Errors'>"
      ]
     },
     "execution_count": 89,
     "metadata": {},
     "output_type": "execute_result"
    },
    {
     "data": {
      "image/png": "[encoded data removed]",
      "text/plain": [
       "<Figure size 432x288 with 1 Axes>"
      ]
     },
     "metadata": {
      "needs_background": "light"
     },
     "output_type": "display_data"
    }
   ],
   "source": [
    "residuals2.plot(x='Price',y='Errors',kind='scatter',grid=True)"
   ]
  },
  {
   "cell_type": "code",
   "execution_count": 90,
   "metadata": {},
   "outputs": [
    {
     "data": {
      "text/plain": [
       "<AxesSubplot:xlabel='Price', ylabel='Errors'>"
      ]
     },
     "execution_count": 90,
     "metadata": {},
     "output_type": "execute_result"
    },
    {
     "data": {
      "image/png": "[encoded data removed]",
      "text/plain": [
       "<Figure size 432x288 with 1 Axes>"
      ]
     },
     "metadata": {
      "needs_background": "light"
     },
     "output_type": "display_data"
    }
   ],
   "source": [
    "residuals.plot(x='Price',y='Errors',kind='scatter',grid=True)"
   ]
  },
  {
   "cell_type": "code",
   "execution_count": 80,
   "metadata": {
    "collapsed": true
   },
   "outputs": [
    {
     "ename": "IndexError",
     "evalue": "too many indices for array",
     "output_type": "error",
     "traceback": [
      "\u001b[1;31m---------------------------------------------------------------------------\u001b[0m",
      "\u001b[1;31mIndexError\u001b[0m                                Traceback (most recent call last)",
      "\u001b[1;32m<ipython-input-80-1be7edcb528c>\u001b[0m in \u001b[0;36m<module>\u001b[1;34m\u001b[0m\n\u001b[0;32m      6\u001b[0m \u001b[0mfig\u001b[0m\u001b[1;33m,\u001b[0m \u001b[0maxs\u001b[0m \u001b[1;33m=\u001b[0m \u001b[0mplt\u001b[0m\u001b[1;33m.\u001b[0m\u001b[0msubplots\u001b[0m\u001b[1;33m(\u001b[0m\u001b[1;36m1\u001b[0m\u001b[1;33m,\u001b[0m\u001b[1;36m2\u001b[0m\u001b[1;33m)\u001b[0m\u001b[1;33m\u001b[0m\u001b[1;33m\u001b[0m\u001b[0m\n\u001b[0;32m      7\u001b[0m \u001b[1;31m# fig.suptitle('Распределение ошибок/остатков ')\u001b[0m\u001b[1;33m\u001b[0m\u001b[1;33m\u001b[0m\u001b[1;33m\u001b[0m\u001b[0m\n\u001b[1;32m----> 8\u001b[1;33m \u001b[0maxs\u001b[0m\u001b[1;33m[\u001b[0m\u001b[1;36m0\u001b[0m\u001b[1;33m,\u001b[0m \u001b[1;36m0\u001b[0m\u001b[1;33m]\u001b[0m\u001b[1;33m.\u001b[0m\u001b[0mhist\u001b[0m\u001b[1;33m(\u001b[0m\u001b[0mresiduals\u001b[0m\u001b[1;33m[\u001b[0m\u001b[1;34m'Errors'\u001b[0m\u001b[1;33m]\u001b[0m\u001b[1;33m,\u001b[0m \u001b[0mbins\u001b[0m\u001b[1;33m=\u001b[0m\u001b[1;36m20\u001b[0m\u001b[1;33m)\u001b[0m\u001b[1;33m\u001b[0m\u001b[1;33m\u001b[0m\u001b[0m\n\u001b[0m\u001b[0;32m      9\u001b[0m \u001b[0maxs\u001b[0m\u001b[1;33m[\u001b[0m\u001b[1;36m0\u001b[0m\u001b[1;33m,\u001b[0m \u001b[1;36m1\u001b[0m\u001b[1;33m]\u001b[0m\u001b[1;33m.\u001b[0m\u001b[0mhist\u001b[0m\u001b[1;33m(\u001b[0m\u001b[0mresiduals2\u001b[0m\u001b[1;33m[\u001b[0m\u001b[1;34m'Errors'\u001b[0m\u001b[1;33m]\u001b[0m\u001b[1;33m,\u001b[0m \u001b[0mbins\u001b[0m\u001b[1;33m=\u001b[0m\u001b[1;36m20\u001b[0m\u001b[1;33m)\u001b[0m\u001b[1;33m\u001b[0m\u001b[1;33m\u001b[0m\u001b[0m\n\u001b[0;32m     10\u001b[0m \u001b[1;33m\u001b[0m\u001b[0m\n",
      "\u001b[1;31mIndexError\u001b[0m: too many indices for array"
     ]
    },
    {
     "data": {
      "image/png": "[encoded data removed]",
      "text/plain": [
       "<Figure size 432x288 with 2 Axes>"
      ]
     },
     "metadata": {
      "needs_background": "light"
     },
     "output_type": "display_data"
    }
   ],
   "source": [
    "fig, axs = plt.subplots(1,2)\n",
    "# fig.suptitle('Распределение ошибок/остатков ')\n",
    "axs[0, 0].hist(residuals['Errors'], bins=20)\n",
    "axs[0, 1].hist(residuals2['Errors'], bins=20)\n",
    "\n",
    "# print('Модель с выбросами')\n",
    "# plt.subplot()\n",
    "\n",
    "# residuals['Errors'].hist(bins=20)\n",
    "# print('Модель без выбросов')\n",
    "# residuals2['Errors'].hist(bins=20)\n",
    "\n",
    "# residuals.plot(x='Price',y='Errors',kind='scatter',grid=True)"
   ]
  },
  {
   "cell_type": "markdown",
   "metadata": {},
   "source": [
    "### Многофакторная регрессионная модель"
   ]
  },
  {
   "cell_type": "markdown",
   "metadata": {},
   "source": [
    "**Модель на данных с выбросами**"
   ]
  },
  {
   "cell_type": "code",
   "execution_count": 103,
   "metadata": {},
   "outputs": [
    {
     "name": "stdout",
     "output_type": "stream",
     "text": [
      "R2:  0.38444051900962983\n",
      "Mean absolute error (MAE) 42312.14699342288\n"
     ]
    }
   ],
   "source": [
    "# Формируем X и y для построения модели\n",
    "x = df[['Area','CenterDistance','YearBuilt', 'YearRestoration', 'MasVnrArea','RoomsNumb', 'SchoollDistance']]\n",
    "y = df['Price']\n",
    "\n",
    "# создаем объект модели\n",
    "reg_model = LinearRegression()\n",
    "\n",
    "# Обучаем модель на данных, применяя метод fit()\n",
    "reg_model.fit(x, y)\n",
    "\n",
    "# Делаем предказание, применяя метод predict()б и сохраняем его в отдельную переменную\n",
    "pred_3 = reg_model.predict(x)\n",
    "\n",
    "# __Смотрим метрики качества__\n",
    "print('R2: ', r2_score(y, pred_3)) # reg_model.score\n",
    "print('Mean absolute error (MAE)', mean_absolute_error(y, pred_3))"
   ]
  },
  {
   "cell_type": "code",
   "execution_count": 92,
   "metadata": {},
   "outputs": [
    {
     "data": {
      "text/plain": [
       "array([ 3.72672282e+00, -1.46991472e+00,  7.27611379e+02,  4.21006071e+02,\n",
       "        3.67900319e+01,  1.52755799e+04,  2.00920326e+00])"
      ]
     },
     "execution_count": 92,
     "metadata": {},
     "output_type": "execute_result"
    }
   ],
   "source": [
    "# коэффициенты модели\n",
    "reg_model.coef_"
   ]
  },
  {
   "cell_type": "code",
   "execution_count": 93,
   "metadata": {},
   "outputs": [
    {
     "data": {
      "text/plain": [
       "-2195509.6818187376"
      ]
     },
     "execution_count": 93,
     "metadata": {},
     "output_type": "execute_result"
    }
   ],
   "source": [
    "# свободный член (сдвиг)\n",
    "reg_model.intercept_"
   ]
  },
  {
   "cell_type": "markdown",
   "metadata": {},
   "source": [
    "Порядок коэффициентов во множественной регрессии такой же, как и порядок признаков. Для удобства анализа соберем их в датафрейм"
   ]
  },
  {
   "cell_type": "code",
   "execution_count": 102,
   "metadata": {},
   "outputs": [
    {
     "data": {
      "text/html": [
       "<div>\n",
       "<style scoped>\n",
       "    .dataframe tbody tr th:only-of-type {\n",
       "        vertical-align: middle;\n",
       "    }\n",
       "\n",
       "    .dataframe tbody tr th {\n",
       "        vertical-align: top;\n",
       "    }\n",
       "\n",
       "    .dataframe thead th {\n",
       "        text-align: right;\n",
       "    }\n",
       "</style>\n",
       "<table border=\"1\" class=\"dataframe\">\n",
       "  <thead>\n",
       "    <tr style=\"text-align: right;\">\n",
       "      <th></th>\n",
       "      <th>Area</th>\n",
       "      <th>CenterDistance</th>\n",
       "      <th>YearBuilt</th>\n",
       "      <th>YearRestoration</th>\n",
       "      <th>MasVnrArea</th>\n",
       "      <th>RoomsNumb</th>\n",
       "      <th>SchoollDistance</th>\n",
       "    </tr>\n",
       "  </thead>\n",
       "  <tbody>\n",
       "    <tr>\n",
       "      <th>0</th>\n",
       "      <td>3.726723</td>\n",
       "      <td>-1.469915</td>\n",
       "      <td>727.611379</td>\n",
       "      <td>421.006071</td>\n",
       "      <td>36.790032</td>\n",
       "      <td>15275.579884</td>\n",
       "      <td>2.009203</td>\n",
       "    </tr>\n",
       "  </tbody>\n",
       "</table>\n",
       "</div>"
      ],
      "text/plain": [
       "       Area  CenterDistance   YearBuilt  YearRestoration  MasVnrArea  \\\n",
       "0  3.726723       -1.469915  727.611379       421.006071   36.790032   \n",
       "\n",
       "      RoomsNumb  SchoollDistance  \n",
       "0  15275.579884         2.009203  "
      ]
     },
     "execution_count": 102,
     "metadata": {},
     "output_type": "execute_result"
    }
   ],
   "source": [
    "coef_df = pd.DataFrame(reg_model.coef_.reshape(1,-1),  columns=x.columns)\n",
    "coef_df"
   ]
  },
  {
   "cell_type": "markdown",
   "metadata": {},
   "source": [
    "**Модель на данных без выбросов**\n",
    "\n",
    "Видим, что без выбросов модель намного лучше: R-квадрат близок к 1, метрика МАЕ также стала существенно ниже"
   ]
  },
  {
   "cell_type": "code",
   "execution_count": 104,
   "metadata": {},
   "outputs": [
    {
     "name": "stdout",
     "output_type": "stream",
     "text": [
      "R2:  0.8382293133675165\n",
      "Mean absolute error (MAE) 22477.60784072853\n"
     ]
    }
   ],
   "source": [
    "# Формируем X и y для построения модели\n",
    "x = clean_data[['Area','CenterDistance','YearBuilt', 'YearRestoration', 'MasVnrArea','RoomsNumb', 'SchoollDistance']]\n",
    "y = clean_data['Price']\n",
    "\n",
    "# создаем объект модели\n",
    "reg_model = LinearRegression()\n",
    "\n",
    "# Обучаем модель на данных, применяя метод fit()\n",
    "reg_model.fit(x, y)\n",
    "\n",
    "# Делаем предказание, применяя метод predict()б и сохраняем его в отдельную переменную\n",
    "pred_4 = reg_model.predict(x)\n",
    "\n",
    "# __Смотрим метрики качества__\n",
    "print('R2: ', r2_score(y, pred_4)) # reg_model.score\n",
    "print('Mean absolute error (MAE)', mean_absolute_error(y, pred_4))"
   ]
  },
  {
   "cell_type": "markdown",
   "metadata": {},
   "source": [
    "Посмотрим, как на многофакторной модели без выбросов ведут себя остатки"
   ]
  },
  {
   "cell_type": "code",
   "execution_count": 110,
   "metadata": {},
   "outputs": [
    {
     "data": {
      "image/png": "[encoded data removed]",
      "text/plain": [
       "<Figure size 432x288 with 1 Axes>"
      ]
     },
     "metadata": {
      "needs_background": "light"
     },
     "output_type": "display_data"
    }
   ],
   "source": [
    "# Проверка остатков\n",
    "residuals = pd.DataFrame({'Price':clean_data['Price'],'Predictions':pred_4})\n",
    "residuals['Errors'] = residuals['Price']-residuals['Predictions']\n",
    "residuals.plot(x='Price',y='Errors',kind='scatter',grid=True);"
   ]
  },
  {
   "cell_type": "code",
   "execution_count": 111,
   "metadata": {},
   "outputs": [
    {
     "data": {
      "text/plain": [
       "<AxesSubplot:>"
      ]
     },
     "execution_count": 111,
     "metadata": {},
     "output_type": "execute_result"
    },
    {
     "data": {
      "image/png": "[encoded data removed]",
      "text/plain": [
       "<Figure size 432x288 with 1 Axes>"
      ]
     },
     "metadata": {
      "needs_background": "light"
     },
     "output_type": "display_data"
    }
   ],
   "source": [
    "residuals['Errors'].hist(bins=20)"
   ]
  },
  {
   "cell_type": "markdown",
   "metadata": {},
   "source": [
    "Распределение остатков близко к нормальному. Модель можно считать, что построенная модель довольно адекватная"
   ]
  },
  {
   "cell_type": "markdown",
   "metadata": {},
   "source": [
    "### Прогноз значений"
   ]
  },
  {
   "cell_type": "markdown",
   "metadata": {},
   "source": [
    "Создадим датафрейм с данными для прогноза"
   ]
  },
  {
   "cell_type": "code",
   "execution_count": 114,
   "metadata": {},
   "outputs": [],
   "source": [
    "new_record = pd.DataFrame({'Area':[12450], \n",
    "                           'YearBuilt':[2005],\n",
    "                           'YearRestoration':[2007], \n",
    "                           'MasVnrArea':[126],\n",
    "                           'RoomsNumb':[10],\n",
    "                           'SchoollDistance':[12000],\n",
    "                           'CenterDistance:':[16887]})"
   ]
  },
  {
   "cell_type": "code",
   "execution_count": 117,
   "metadata": {},
   "outputs": [
    {
     "data": {
      "text/plain": [
       "array([68505716.30626725])"
      ]
     },
     "execution_count": 117,
     "metadata": {},
     "output_type": "execute_result"
    }
   ],
   "source": [
    "reg_model.predict(new_record) "
   ]
  },
  {
   "cell_type": "markdown",
   "metadata": {},
   "source": [
    "Считаем данные для прогноза из файла"
   ]
  },
  {
   "cell_type": "code",
   "execution_count": 118,
   "metadata": {},
   "outputs": [
    {
     "data": {
      "text/html": [
       "<div>\n",
       "<style scoped>\n",
       "    .dataframe tbody tr th:only-of-type {\n",
       "        vertical-align: middle;\n",
       "    }\n",
       "\n",
       "    .dataframe tbody tr th {\n",
       "        vertical-align: top;\n",
       "    }\n",
       "\n",
       "    .dataframe thead th {\n",
       "        text-align: right;\n",
       "    }\n",
       "</style>\n",
       "<table border=\"1\" class=\"dataframe\">\n",
       "  <thead>\n",
       "    <tr style=\"text-align: right;\">\n",
       "      <th></th>\n",
       "      <th>Area</th>\n",
       "      <th>YearBuilt</th>\n",
       "      <th>YearRestoration</th>\n",
       "      <th>MasVnrArea</th>\n",
       "      <th>RoomsNumb</th>\n",
       "      <th>SchoollDistance</th>\n",
       "      <th>CenterDistance</th>\n",
       "    </tr>\n",
       "  </thead>\n",
       "  <tbody>\n",
       "    <tr>\n",
       "      <th>0</th>\n",
       "      <td>8456</td>\n",
       "      <td>2000</td>\n",
       "      <td>2003</td>\n",
       "      <td>200</td>\n",
       "      <td>5</td>\n",
       "      <td>2996</td>\n",
       "      <td>20081</td>\n",
       "    </tr>\n",
       "    <tr>\n",
       "      <th>1</th>\n",
       "      <td>5000</td>\n",
       "      <td>1976</td>\n",
       "      <td>1976</td>\n",
       "      <td>0</td>\n",
       "      <td>3</td>\n",
       "      <td>5000</td>\n",
       "      <td>15171</td>\n",
       "    </tr>\n",
       "    <tr>\n",
       "      <th>2</th>\n",
       "      <td>11250</td>\n",
       "      <td>2001</td>\n",
       "      <td>2002</td>\n",
       "      <td>162</td>\n",
       "      <td>6</td>\n",
       "      <td>3020</td>\n",
       "      <td>10222</td>\n",
       "    </tr>\n",
       "  </tbody>\n",
       "</table>\n",
       "</div>"
      ],
      "text/plain": [
       "    Area  YearBuilt  YearRestoration  MasVnrArea  RoomsNumb  SchoollDistance  \\\n",
       "0   8456       2000             2003         200          5             2996   \n",
       "1   5000       1976             1976           0          3             5000   \n",
       "2  11250       2001             2002         162          6             3020   \n",
       "\n",
       "   CenterDistance  \n",
       "0           20081  \n",
       "1           15171  \n",
       "2           10222  "
      ]
     },
     "execution_count": 118,
     "metadata": {},
     "output_type": "execute_result"
    }
   ],
   "source": [
    "rec = pd.read_excel(\"data_house_prices_2_predict.xlsx\")\n",
    "rec_x = rec[['Area', 'YearBuilt', 'YearRestoration', 'MasVnrArea','RoomsNumb', 'SchoollDistance', 'CenterDistance']]\n",
    "rec_x"
   ]
  },
  {
   "cell_type": "code",
   "execution_count": 124,
   "metadata": {},
   "outputs": [
    {
     "data": {
      "text/plain": [
       "array([16566795.52, 27990571.46, 16681323.7 ])"
      ]
     },
     "execution_count": 124,
     "metadata": {},
     "output_type": "execute_result"
    }
   ],
   "source": [
    "predict_new = reg_model.predict(rec_x)\n",
    "# Округлим предсказания до 2-х знаков после запятой\n",
    "np.round(predict_new, 2)"
   ]
  },
  {
   "cell_type": "markdown",
   "metadata": {},
   "source": [
    "#### Перебор, без каких признаков модель лучше"
   ]
  },
  {
   "cell_type": "markdown",
   "metadata": {},
   "source": [
    "Один из самых простых вариантов анализа модели - поочередное выкидывание признаков. Логично, что чем более значимым является признак для модели, тем хуже качество прогноза без него. \n",
    "\n",
    "**Важно!** Так как модель линейная, то когда мы говорим об анализе значимости признаков таким способом, имеется в виду значимость с точки зрения наличия ***линейной*** связи между признаком и целевой переменной. Другой тип свяли линейная модель не умеет выявлять :)"
   ]
  },
  {
   "cell_type": "code",
   "execution_count": 128,
   "metadata": {},
   "outputs": [
    {
     "name": "stdout",
     "output_type": "stream",
     "text": [
      "Убрали признак:  CenterDistance\n",
      "R2:  0.7345006096770892\n",
      "Mean absolute error (MAE) 27499.60406048378\n",
      "__________________________________________________\n",
      "Убрали признак:  YearBuilt\n",
      "R2:  0.8177505567202031\n",
      "Mean absolute error (MAE) 24468.689342551774\n",
      "__________________________________________________\n",
      "Убрали признак:  YearRestoration\n",
      "R2:  0.8227378061727559\n",
      "Mean absolute error (MAE) 23756.026142103765\n",
      "__________________________________________________\n",
      "Убрали признак:  MasVnrArea\n",
      "R2:  0.8229917814305108\n",
      "Mean absolute error (MAE) 23943.858043947355\n",
      "__________________________________________________\n",
      "Убрали признак:  RoomsNumb\n",
      "R2:  0.8298558613307302\n",
      "Mean absolute error (MAE) 23701.398149132143\n",
      "__________________________________________________\n",
      "Убрали признак:  SchoollDistance\n",
      "R2:  0.8372005127973937\n",
      "Mean absolute error (MAE) 22483.49523507558\n",
      "__________________________________________________\n"
     ]
    }
   ],
   "source": [
    "for col in x.columns[1:]:\n",
    "    tmp = clean_data.drop([col,'Price'],axis='columns')\n",
    "    print('Убрали признак: ', col)\n",
    "    y_tmp = clean_data['Price']\n",
    "    x_tmp = sm.add_constant(tmp)\n",
    "    model_tmp = LinearRegression() \n",
    "    model_tmp.fit(x_tmp, y_tmp)\n",
    "    preds =  model_tmp.predict(x_tmp)\n",
    "    print('R2: ', r2_score(y, preds)) # reg_model.score\n",
    "    print('Mean absolute error (MAE)', mean_absolute_error(y, preds))\n",
    "    print('_'*50)"
   ]
  }
 ],
 "metadata": {
  "kernelspec": {
   "display_name": "Python 3",
   "language": "python",
   "name": "python3"
  },
  "language_info": {
   "codemirror_mode": {
    "name": "ipython",
    "version": 3
   },
   "file_extension": ".py",
   "mimetype": "text/x-python",
   "name": "python",
   "nbconvert_exporter": "python",
   "pygments_lexer": "ipython3",
   "version": "3.8.5"
  }
 },
 "nbformat": 4,
 "nbformat_minor": 2
}
