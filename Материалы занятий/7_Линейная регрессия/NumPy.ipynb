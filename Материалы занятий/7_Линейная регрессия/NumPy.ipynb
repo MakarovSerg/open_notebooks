{
 "cells": [
  {
   "cell_type": "markdown",
   "metadata": {
    "id": "pRszXK8rzZJF"
   },
   "source": [
    "## <center> Numpy\n",
    "    \n",
    "Полезные ссылки:\n",
    "    \n",
    "https://habr.com/ru/post/352678/\n",
    "\n",
    "https://pythonworld.ru/numpy"
   ]
  },
  {
   "cell_type": "code",
   "execution_count": 2,
   "metadata": {
    "id": "m8T33eQfSuf6"
   },
   "outputs": [],
   "source": [
    "import numpy as np"
   ]
  },
  {
   "cell_type": "markdown",
   "metadata": {
    "id": "tF-_RjLs5ZDR"
   },
   "source": [
    "### Генерация данных"
   ]
  },
  {
   "cell_type": "code",
   "execution_count": 84,
   "metadata": {
    "colab": {
     "base_uri": "https://localhost:8080/",
     "height": 34
    },
    "id": "s75SF6TZzWpT",
    "outputId": "0249be06-ced2-4b10-f850-373edb38cae6"
   },
   "outputs": [
    {
     "data": {
      "text/plain": [
       "array([1., 2., 3.])"
      ]
     },
     "execution_count": 84,
     "metadata": {},
     "output_type": "execute_result"
    }
   ],
   "source": [
    "# создание вектора из существующего списка с указанием типа чисел\n",
    "l = [1, 2, 3]\n",
    "np.array(l, 'float')"
   ]
  },
  {
   "cell_type": "code",
   "execution_count": 85,
   "metadata": {
    "colab": {
     "base_uri": "https://localhost:8080/",
     "height": 52
    },
    "id": "onkSSkFHzWtS",
    "outputId": "4d4617eb-26bb-4e5e-e336-772132711a48"
   },
   "outputs": [
    {
     "data": {
      "text/plain": [
       "array([[1, 2, 3],\n",
       "       [4, 5, 6]])"
      ]
     },
     "execution_count": 85,
     "metadata": {},
     "output_type": "execute_result"
    }
   ],
   "source": [
    "# создание матрицы из существующего списка\n",
    "l = [[1, 2, 3], \n",
    "     [4, 5, 6]]\n",
    "np.array(l)"
   ]
  },
  {
   "cell_type": "code",
   "execution_count": 86,
   "metadata": {
    "colab": {
     "base_uri": "https://localhost:8080/",
     "height": 69
    },
    "id": "oKDy1R4Gzyz_",
    "outputId": "9e8b5521-9b8b-4a04-9ef8-d00727654720"
   },
   "outputs": [
    {
     "data": {
      "text/plain": [
       "array([[0., 0., 0., 0., 0.],\n",
       "       [0., 0., 0., 0., 0.],\n",
       "       [0., 0., 0., 0., 0.]])"
      ]
     },
     "execution_count": 86,
     "metadata": {},
     "output_type": "execute_result"
    }
   ],
   "source": [
    "# генерация нулевой матрицы\n",
    "np.zeros((3, 5))"
   ]
  },
  {
   "cell_type": "code",
   "execution_count": 87,
   "metadata": {
    "colab": {
     "base_uri": "https://localhost:8080/",
     "height": 104
    },
    "id": "DJ07jeh0z587",
    "outputId": "7e9afb93-dbe3-4c1c-cd4b-04ddfbf05451"
   },
   "outputs": [
    {
     "data": {
      "text/plain": [
       "array([[1., 0., 0., 0., 0.],\n",
       "       [0., 1., 0., 0., 0.],\n",
       "       [0., 0., 1., 0., 0.],\n",
       "       [0., 0., 0., 1., 0.],\n",
       "       [0., 0., 0., 0., 1.]])"
      ]
     },
     "execution_count": 87,
     "metadata": {},
     "output_type": "execute_result"
    }
   ],
   "source": [
    "# генерация единичной матрицы заданной размерности\n",
    "np.eye(5)"
   ]
  },
  {
   "cell_type": "code",
   "execution_count": 88,
   "metadata": {
    "colab": {
     "base_uri": "https://localhost:8080/",
     "height": 34
    },
    "id": "ibEs25oC0LBP",
    "outputId": "1b2884c0-822b-4fd5-f9ed-a464ad58cee4"
   },
   "outputs": [
    {
     "data": {
      "text/plain": [
       "array([10, 15, 20, 25])"
      ]
     },
     "execution_count": 88,
     "metadata": {},
     "output_type": "execute_result"
    }
   ],
   "source": [
    "# генерация чисел в диапазоне с заданным шагом\n",
    "np.arange(10, 30, 5) # начало, конец (не включается), шаг"
   ]
  },
  {
   "cell_type": "code",
   "execution_count": 89,
   "metadata": {
    "colab": {
     "base_uri": "https://localhost:8080/",
     "height": 34
    },
    "id": "YEKuB8zq0LJ7",
    "outputId": "397b34ae-8bdd-4b4d-b1bd-07c9ee45f6f4"
   },
   "outputs": [
    {
     "data": {
      "text/plain": [
       "array([0.  , 0.25, 0.5 , 0.75, 1.  , 1.25, 1.5 , 1.75, 2.  ])"
      ]
     },
     "execution_count": 89,
     "metadata": {},
     "output_type": "execute_result"
    }
   ],
   "source": [
    "# генерация заданного количества чисел равномерно заполняющих диапазон\n",
    "np.linspace(0, 2, 9) # начало, конец (включается), количество чисел в массиве"
   ]
  },
  {
   "cell_type": "code",
   "execution_count": 90,
   "metadata": {
    "colab": {
     "base_uri": "https://localhost:8080/",
     "height": 69
    },
    "id": "0sbW2UXy0LHZ",
    "outputId": "1b4e9d7f-1048-4369-f814-366cb066cddc"
   },
   "outputs": [
    {
     "data": {
      "text/plain": [
       "array([[0, 0, 0, 0],\n",
       "       [0, 1, 2, 3],\n",
       "       [0, 2, 4, 6]])"
      ]
     },
     "execution_count": 90,
     "metadata": {},
     "output_type": "execute_result"
    }
   ],
   "source": [
    "# генерация чисел по правилу основаному на зависимоти от номеров строк и столбцов\n",
    "np.fromfunction(lambda x, y: x * y, (3, 4), dtype=int)"
   ]
  },
  {
   "cell_type": "markdown",
   "metadata": {},
   "source": [
    "### Генерация случайных чисел"
   ]
  },
  {
   "cell_type": "code",
   "execution_count": 94,
   "metadata": {
    "colab": {
     "base_uri": "https://localhost:8080/",
     "height": 34
    },
    "id": "H3ez7caN1kIc",
    "outputId": "cffda93b-55f4-420c-868c-379562d2f49b"
   },
   "outputs": [
    {
     "data": {
      "text/plain": [
       "array([0.00797585, 0.03518597, 0.82122976, 0.78216846, 0.5898425 ])"
      ]
     },
     "execution_count": 94,
     "metadata": {},
     "output_type": "execute_result"
    }
   ],
   "source": [
    "# генерация случайных целых чисел из диапазона 0-1\n",
    "np.random.sample(5)"
   ]
  },
  {
   "cell_type": "code",
   "execution_count": 97,
   "metadata": {
    "colab": {
     "base_uri": "https://localhost:8080/",
     "height": 69
    },
    "id": "yRlIUOco1J0I",
    "outputId": "df50f3d5-416f-4d19-8d55-ef565680263d"
   },
   "outputs": [
    {
     "data": {
      "text/plain": [
       "array([[0.01449445, 0.61745786, 0.47911107, 0.80746168],\n",
       "       [0.48032829, 0.00194012, 0.6861311 , 0.06081057],\n",
       "       [0.1238706 , 0.48659479, 0.76274877, 0.14939763]])"
      ]
     },
     "execution_count": 97,
     "metadata": {},
     "output_type": "execute_result"
    }
   ],
   "source": [
    "# генерация случайных целых чисел из диапазона 0-1\n",
    "np.random.sample((3,4))"
   ]
  },
  {
   "cell_type": "code",
   "execution_count": 99,
   "metadata": {
    "colab": {
     "base_uri": "https://localhost:8080/",
     "height": 34
    },
    "id": "fEM2UyT51uP6",
    "outputId": "6b3f9cf5-8e6a-4bf6-d8d9-49c9d2c2bf7a"
   },
   "outputs": [
    {
     "data": {
      "text/plain": [
       "array([1, 4, 2, 1, 4, 2, 3, 0, 3, 3, 4, 3, 1, 1, 0, 2, 0, 4, 0, 0])"
      ]
     },
     "execution_count": 99,
     "metadata": {},
     "output_type": "execute_result"
    }
   ],
   "source": [
    "# генерация случайных целых чисел\n",
    "np.random.randint(0, 5, 20) # с какого числа, по какое число (не включительно), сколько чисел генерировать"
   ]
  },
  {
   "cell_type": "code",
   "execution_count": 101,
   "metadata": {
    "colab": {
     "base_uri": "https://localhost:8080/",
     "height": 104
    },
    "id": "iOQoOOEp19WF",
    "outputId": "8df1cad8-55f9-4a72-e92e-11b112c7df7e"
   },
   "outputs": [
    {
     "data": {
      "text/plain": [
       "array([[2, 0, 2, 7, 2],\n",
       "       [8, 8, 8, 8, 9],\n",
       "       [7, 3, 8, 9, 9],\n",
       "       [5, 9, 4, 3, 3],\n",
       "       [6, 0, 3, 8, 7]])"
      ]
     },
     "execution_count": 101,
     "metadata": {},
     "output_type": "execute_result"
    }
   ],
   "source": [
    "# генерация случайных целых чисел\n",
    "np.random.randint(0, 10, 25).reshape(5,5)"
   ]
  },
  {
   "cell_type": "code",
   "execution_count": 102,
   "metadata": {
    "colab": {
     "base_uri": "https://localhost:8080/",
     "height": 52
    },
    "id": "5lUcomDh2Hsx",
    "outputId": "f5f9957b-2641-4766-aea3-dd831257940b"
   },
   "outputs": [
    {
     "data": {
      "text/plain": [
       "array([[0, 1, 2, 2, 0],\n",
       "       [1, 1, 1, 2, 2]])"
      ]
     },
     "execution_count": 102,
     "metadata": {},
     "output_type": "execute_result"
    }
   ],
   "source": [
    "# генерация случайных целых чисел\n",
    "np.random.randint(0, 3, (2, 5))"
   ]
  },
  {
   "cell_type": "code",
   "execution_count": 103,
   "metadata": {
    "colab": {
     "base_uri": "https://localhost:8080/",
     "height": 86
    },
    "id": "5jyk2K4n2NHK",
    "outputId": "49020d61-9847-4638-80d9-2780280e176e"
   },
   "outputs": [
    {
     "data": {
      "text/plain": [
       "array([[5.4550482 , 6.72792433, 7.32980467, 5.31373619, 5.09887765,\n",
       "        3.7113149 , 2.16801571, 7.42900129, 2.88652893, 2.78717196],\n",
       "       [4.66433504, 2.74151987, 6.02491781, 3.26728093, 6.80134078,\n",
       "        3.0447289 , 6.93656525, 2.87503954, 3.6607189 , 5.35372489]])"
      ]
     },
     "execution_count": 103,
     "metadata": {},
     "output_type": "execute_result"
    }
   ],
   "source": [
    "# генерация чисел согласно нормальному распределению\n",
    "np.random.uniform(2, 8, (2, 10))"
   ]
  },
  {
   "cell_type": "code",
   "execution_count": 105,
   "metadata": {
    "colab": {
     "base_uri": "https://localhost:8080/",
     "height": 34
    },
    "id": "QVC4Pnoo3tkl",
    "outputId": "c52bdcf2-a426-46ee-9ba7-003d88aa27bd"
   },
   "outputs": [
    {
     "data": {
      "text/plain": [
       "array([4, 2, 1, 2, 1])"
      ]
     },
     "execution_count": 105,
     "metadata": {},
     "output_type": "execute_result"
    }
   ],
   "source": [
    "# генерация чисел согласно распределению пуассона\n",
    "np.random.poisson(2.5, 5)  # 5 numbers, lambda=2.5"
   ]
  },
  {
   "cell_type": "code",
   "execution_count": 106,
   "metadata": {
    "colab": {
     "base_uri": "https://localhost:8080/",
     "height": 34
    },
    "id": "PYbv7Aon4D0l",
    "outputId": "4aa9a40c-edf7-4550-c051-35c8f2915452"
   },
   "outputs": [
    {
     "data": {
      "text/plain": [
       "array([3, 1, 1, 1, 1])"
      ]
     },
     "execution_count": 106,
     "metadata": {},
     "output_type": "execute_result"
    }
   ],
   "source": [
    "# генерация чисел согласно биномиальному распределению\n",
    "np.random.binomial(4, 0.3, 5)  # 5 numbers, n=4, p=0.3"
   ]
  },
  {
   "cell_type": "code",
   "execution_count": 120,
   "metadata": {
    "colab": {
     "base_uri": "https://localhost:8080/",
     "height": 52
    },
    "id": "sKpEDoQu5uol",
    "outputId": "d42c78c3-09de-4266-beff-81b84106c088"
   },
   "outputs": [
    {
     "data": {
      "text/plain": [
       "array([0.294665  , 0.53058676, 0.19152079, 0.06790036, 0.78698546,\n",
       "       0.65633352, 0.6375209 , 0.57560289, 0.03906292, 0.3578136 ])"
      ]
     },
     "execution_count": 120,
     "metadata": {},
     "output_type": "execute_result"
    }
   ],
   "source": [
    "np.random.seed(17)\n",
    "np.random.random(10)"
   ]
  },
  {
   "cell_type": "code",
   "execution_count": 123,
   "metadata": {
    "colab": {
     "base_uri": "https://localhost:8080/",
     "height": 52
    },
    "id": "8cy5T9H25vPF",
    "outputId": "4d1f395e-69f2-4c65-9615-2acd164493ac"
   },
   "outputs": [
    {
     "data": {
      "text/plain": [
       "array([0.65358959, 0.11500694, 0.95028286, 0.4821914 , 0.87247454,\n",
       "       0.21233268, 0.04070962, 0.39719446, 0.2331322 , 0.84174072])"
      ]
     },
     "execution_count": 123,
     "metadata": {},
     "output_type": "execute_result"
    }
   ],
   "source": [
    "np.random.seed(1000)\n",
    "np.random.random(10)"
   ]
  },
  {
   "cell_type": "code",
   "execution_count": 128,
   "metadata": {},
   "outputs": [
    {
     "data": {
      "text/plain": [
       "array([2, 6, 8, 5, 1, 3, 9, 4, 0, 7])"
      ]
     },
     "execution_count": 128,
     "metadata": {},
     "output_type": "execute_result"
    }
   ],
   "source": [
    "# перемешивание\n",
    "a = np.arange(10)\n",
    "np.random.shuffle(a)\n",
    "a"
   ]
  },
  {
   "cell_type": "markdown",
   "metadata": {
    "id": "OLnVGmOu5esM"
   },
   "source": [
    "### Базовые операции"
   ]
  },
  {
   "cell_type": "code",
   "execution_count": 129,
   "metadata": {
    "colab": {
     "base_uri": "https://localhost:8080/",
     "height": 364
    },
    "id": "PKAhmus54fxf",
    "outputId": "fa5441fd-bcba-4568-ff69-7456d306459d"
   },
   "outputs": [
    {
     "name": "stdout",
     "output_type": "stream",
     "text": [
      "массив b: [0 1 2 3]\n",
      "a + b: [20 31 42 53]\n",
      "a - b: [20 29 38 47]\n",
      "a * b: [  0  30  80 150]\n",
      "a / b: [        inf 30.         20.         16.66666667]\n",
      "a ** b: [     1     30   1600 125000]\n",
      "a % b: [0 0 0 2]\n",
      "a // b: [ 0 30 20 16]\n"
     ]
    },
    {
     "name": "stderr",
     "output_type": "stream",
     "text": [
      "C:\\Users\\Malika\\Anaconda3\\lib\\site-packages\\ipykernel_launcher.py:8: RuntimeWarning: divide by zero encountered in true_divide\n",
      "  \n",
      "C:\\Users\\Malika\\Anaconda3\\lib\\site-packages\\ipykernel_launcher.py:10: RuntimeWarning: divide by zero encountered in remainder\n",
      "  # Remove the CWD from sys.path while we load stuff.\n",
      "C:\\Users\\Malika\\Anaconda3\\lib\\site-packages\\ipykernel_launcher.py:11: RuntimeWarning: divide by zero encountered in floor_divide\n",
      "  # This is added back by InteractiveShellApp.init_path()\n"
     ]
    }
   ],
   "source": [
    "# массивы одного размера\n",
    "a = np.array([20, 30, 40, 50])\n",
    "b = np.arange(4)\n",
    "print('массив b:', b)\n",
    "print('a + b:', a + b)\n",
    "print('a - b:', a - b)\n",
    "print('a * b:', a * b)\n",
    "print('a / b:', a / b)\n",
    "print('a ** b:', a ** b)\n",
    "print('a % b:', a % b)\n",
    "print('a // b:', a // b) "
   ]
  },
  {
   "cell_type": "code",
   "execution_count": 130,
   "metadata": {
    "colab": {
     "base_uri": "https://localhost:8080/",
     "height": 202
    },
    "id": "lymuu4_Y5kEr",
    "outputId": "da3ad1d1-584e-4e27-8f57-6693461c4366"
   },
   "outputs": [
    {
     "ename": "ValueError",
     "evalue": "operands could not be broadcast together with shapes (2,3) (3,2) ",
     "output_type": "error",
     "traceback": [
      "\u001b[1;31m---------------------------------------------------------------------------\u001b[0m",
      "\u001b[1;31mValueError\u001b[0m                                Traceback (most recent call last)",
      "\u001b[1;32m<ipython-input-130-2cc2713efe52>\u001b[0m in \u001b[0;36m<module>\u001b[1;34m\u001b[0m\n\u001b[0;32m      6\u001b[0m               \u001b[1;33m[\u001b[0m\u001b[1;36m3\u001b[0m\u001b[1;33m,\u001b[0m \u001b[1;36m4\u001b[0m\u001b[1;33m]\u001b[0m\u001b[1;33m,\u001b[0m\u001b[1;33m\u001b[0m\u001b[1;33m\u001b[0m\u001b[0m\n\u001b[0;32m      7\u001b[0m               [5, 6]])\n\u001b[1;32m----> 8\u001b[1;33m \u001b[0mc\u001b[0m \u001b[1;33m+\u001b[0m \u001b[0md\u001b[0m\u001b[1;33m\u001b[0m\u001b[1;33m\u001b[0m\u001b[0m\n\u001b[0m",
      "\u001b[1;31mValueError\u001b[0m: operands could not be broadcast together with shapes (2,3) (3,2) "
     ]
    }
   ],
   "source": [
    "# нельзя сделать операции над массивами разной/несопоставимой размерности \n",
    "c = np.array([[1, 2, 3],\n",
    "              [4, 5, 6]])\n",
    "\n",
    "d = np.array([[1, 2],\n",
    "              [3, 4], \n",
    "              [5, 6]])\n",
    "c + d"
   ]
  },
  {
   "cell_type": "code",
   "execution_count": 9,
   "metadata": {
    "colab": {
     "base_uri": "https://localhost:8080/",
     "height": 52
    },
    "id": "ba8R6rfX5kOp",
    "outputId": "b6873ca2-12d3-4283-a797-6c11518dbb03"
   },
   "outputs": [
    {
     "data": {
      "text/plain": [
       "array([[11, 22, 33],\n",
       "       [14, 25, 36]])"
      ]
     },
     "execution_count": 9,
     "metadata": {},
     "output_type": "execute_result"
    }
   ],
   "source": [
    "# но если совпадает хотя бы одна размерность, то можно\n",
    "# например, совпадает размерность по столбцам\n",
    "c = np.array([[1, 2, 3],\n",
    "              [4, 5, 6]])\n",
    "\n",
    "d = np.array([10, 20, 30])\n",
    "c + d"
   ]
  },
  {
   "cell_type": "code",
   "execution_count": 7,
   "metadata": {
    "colab": {
     "base_uri": "https://localhost:8080/",
     "height": 52
    },
    "id": "YomlVvtZ5kMP",
    "outputId": "196a0fbc-673c-4f35-afa9-6eb33ee6a125"
   },
   "outputs": [
    {
     "data": {
      "text/plain": [
       "array([[11, 12, 13],\n",
       "       [24, 25, 26]])"
      ]
     },
     "execution_count": 7,
     "metadata": {},
     "output_type": "execute_result"
    }
   ],
   "source": [
    "# и так работает\n",
    "c = np.array([[1, 2, 3], \n",
    "              [4, 5, 6]])\n",
    "\n",
    "d = np.array([10, 20]).reshape(-1,1) # -1 автоподбор количества строк \n",
    "d\n",
    "c + d"
   ]
  },
  {
   "cell_type": "code",
   "execution_count": 134,
   "metadata": {
    "colab": {
     "base_uri": "https://localhost:8080/",
     "height": 34
    },
    "id": "-XVj-4xK5kIu",
    "outputId": "6dbd2a9b-127e-4242-b91a-f7cb67204f7a"
   },
   "outputs": [
    {
     "data": {
      "text/plain": [
       "(21, 21, 1, 6)"
      ]
     },
     "execution_count": 134,
     "metadata": {},
     "output_type": "execute_result"
    }
   ],
   "source": [
    "a = np.array([[1, 2, 3], [4, 5, 6]])\n",
    "np.sum(a), a.sum(), a.min(), a.max()"
   ]
  },
  {
   "cell_type": "code",
   "execution_count": 135,
   "metadata": {
    "colab": {
     "base_uri": "https://localhost:8080/",
     "height": 34
    },
    "id": "o_hyC6it80dr",
    "outputId": "db7c0c42-d4a7-41b2-9d19-87a4b29bec82"
   },
   "outputs": [
    {
     "data": {
      "text/plain": [
       "array([1, 2, 3])"
      ]
     },
     "execution_count": 135,
     "metadata": {},
     "output_type": "execute_result"
    }
   ],
   "source": [
    "a.min(axis=0)  # Наименьшее число в каждом столбце"
   ]
  },
  {
   "cell_type": "code",
   "execution_count": 136,
   "metadata": {
    "colab": {
     "base_uri": "https://localhost:8080/",
     "height": 34
    },
    "id": "UaEoQn2s9K0T",
    "outputId": "2f260800-8921-4152-f9b1-6fddf23f5e1b"
   },
   "outputs": [
    {
     "data": {
      "text/plain": [
       "array([1, 4])"
      ]
     },
     "execution_count": 136,
     "metadata": {},
     "output_type": "execute_result"
    }
   ],
   "source": [
    "a.min(axis=1) # Наименьшее число в каждой строке"
   ]
  },
  {
   "cell_type": "markdown",
   "metadata": {
    "id": "MPev1fAB9YQt"
   },
   "source": [
    "### Индексы и срезы"
   ]
  },
  {
   "cell_type": "code",
   "execution_count": 137,
   "metadata": {
    "colab": {
     "base_uri": "https://localhost:8080/",
     "height": 34
    },
    "id": "GW8OSrzX9L8u",
    "outputId": "fb42a73d-4e89-46b9-c243-cd8ca4f1e048",
    "scrolled": true
   },
   "outputs": [
    {
     "data": {
      "text/plain": [
       "array([  0,   1,   8,  27,  64, 125, 216, 343, 512, 729], dtype=int32)"
      ]
     },
     "execution_count": 137,
     "metadata": {},
     "output_type": "execute_result"
    }
   ],
   "source": [
    "a = np.arange(10 ** 3)\n",
    "a"
   ]
  },
  {
   "cell_type": "code",
   "execution_count": 138,
   "metadata": {
    "colab": {
     "base_uri": "https://localhost:8080/",
     "height": 34
    },
    "id": "HHZvTWDP9SV7",
    "outputId": "09e723bf-c04f-408a-efc2-5ab6aab7e0d0"
   },
   "outputs": [
    {
     "data": {
      "text/plain": [
       "1"
      ]
     },
     "execution_count": 138,
     "metadata": {},
     "output_type": "execute_result"
    }
   ],
   "source": [
    "a[1] # выбираем один элемент по индексу"
   ]
  },
  {
   "cell_type": "code",
   "execution_count": 139,
   "metadata": {
    "colab": {
     "base_uri": "https://localhost:8080/",
     "height": 34
    },
    "id": "bqmK4JOq903j",
    "outputId": "fea58975-0f08-484a-879d-5dc983d4506b"
   },
   "outputs": [
    {
     "data": {
      "text/plain": [
       "array([  1, 512,  27], dtype=int32)"
      ]
     },
     "execution_count": 139,
     "metadata": {},
     "output_type": "execute_result"
    }
   ],
   "source": [
    "a[[1, 8, 3]]  # выбираем несколько элементов по индексам"
   ]
  },
  {
   "cell_type": "code",
   "execution_count": 140,
   "metadata": {
    "colab": {
     "base_uri": "https://localhost:8080/",
     "height": 34
    },
    "id": "EtKuOKPZ9bkh",
    "outputId": "6b8abc59-4900-4d5f-8e55-2eec11476305"
   },
   "outputs": [
    {
     "data": {
      "text/plain": [
       "array([ 27,  64, 125, 216], dtype=int32)"
      ]
     },
     "execution_count": 140,
     "metadata": {},
     "output_type": "execute_result"
    }
   ],
   "source": [
    "a[3:7]  # выбираем несколько элементов по диапазону индексов"
   ]
  },
  {
   "cell_type": "code",
   "execution_count": 141,
   "metadata": {
    "colab": {
     "base_uri": "https://localhost:8080/",
     "height": 34
    },
    "id": "nNGkDXoK9d4C",
    "outputId": "4227aa1b-897e-440e-9a11-dbafe13c85bb"
   },
   "outputs": [
    {
     "data": {
      "text/plain": [
       "array([  0,   1,   8,   8,   8,   8,   8, 343, 512, 729], dtype=int32)"
      ]
     },
     "execution_count": 141,
     "metadata": {},
     "output_type": "execute_result"
    }
   ],
   "source": [
    "a[3:7] = 8 # меняем несколько элементов по диапазону индексов\n",
    "a"
   ]
  },
  {
   "cell_type": "code",
   "execution_count": 142,
   "metadata": {
    "colab": {
     "base_uri": "https://localhost:8080/",
     "height": 34
    },
    "id": "wQAz_-ks9i69",
    "outputId": "fbbca038-01dc-4bad-c3c7-57dac4f0a618"
   },
   "outputs": [
    {
     "data": {
      "text/plain": [
       "array([729, 512, 343,   8,   8,   8,   8,   8,   1,   0], dtype=int32)"
      ]
     },
     "execution_count": 142,
     "metadata": {},
     "output_type": "execute_result"
    }
   ],
   "source": [
    "a[::-1] # реверс массива"
   ]
  },
  {
   "cell_type": "code",
   "execution_count": 143,
   "metadata": {
    "id": "q7IVVJ4X9q__"
   },
   "outputs": [],
   "source": [
    "b = np.array([[  0, 1, 2, 3],\n",
    "              [10, 11, 12, 13],\n",
    "              [20, 21, 22, 23],\n",
    "              [30, 31, 32, 33],\n",
    "              [40, 41, 42, 43]])"
   ]
  },
  {
   "cell_type": "code",
   "execution_count": 144,
   "metadata": {
    "colab": {
     "base_uri": "https://localhost:8080/",
     "height": 34
    },
    "id": "t4kAPw8u-fJP",
    "outputId": "a8522a4f-2e79-4287-ee05-97f3518c7483"
   },
   "outputs": [
    {
     "data": {
      "text/plain": [
       "23"
      ]
     },
     "execution_count": 144,
     "metadata": {},
     "output_type": "execute_result"
    }
   ],
   "source": [
    " b[2,3]  # Вторая строка, третий столбец"
   ]
  },
  {
   "cell_type": "code",
   "execution_count": 145,
   "metadata": {
    "colab": {
     "base_uri": "https://localhost:8080/",
     "height": 34
    },
    "id": "EbU4uUax-hMR",
    "outputId": "b4e9e702-ab47-4cb8-9717-2a9c30f8a141"
   },
   "outputs": [
    {
     "data": {
      "text/plain": [
       "23"
      ]
     },
     "execution_count": 145,
     "metadata": {},
     "output_type": "execute_result"
    }
   ],
   "source": [
    "b[2][3]  # Можно и так"
   ]
  },
  {
   "cell_type": "code",
   "execution_count": 146,
   "metadata": {
    "colab": {
     "base_uri": "https://localhost:8080/",
     "height": 34
    },
    "id": "2QjJoku1-pKM",
    "outputId": "3afb1edd-719f-40f5-fb7b-a7f3f96764e1"
   },
   "outputs": [
    {
     "data": {
      "text/plain": [
       "array([ 2, 12, 22, 32, 42])"
      ]
     },
     "execution_count": 146,
     "metadata": {},
     "output_type": "execute_result"
    }
   ],
   "source": [
    "b[:,2]  # Второй столбец"
   ]
  },
  {
   "cell_type": "code",
   "execution_count": 147,
   "metadata": {
    "colab": {
     "base_uri": "https://localhost:8080/",
     "height": 52
    },
    "id": "-FO8pnzw-yf4",
    "outputId": "5e799f65-8f63-4d02-d1da-631eaab60c89"
   },
   "outputs": [
    {
     "data": {
      "text/plain": [
       "array([[ 0,  1,  2,  3],\n",
       "       [10, 11, 12, 13]])"
      ]
     },
     "execution_count": 147,
     "metadata": {},
     "output_type": "execute_result"
    }
   ],
   "source": [
    " b[:2]  # Первые две строки"
   ]
  },
  {
   "cell_type": "code",
   "execution_count": 148,
   "metadata": {
    "colab": {
     "base_uri": "https://localhost:8080/",
     "height": 52
    },
    "id": "SoG3FviK-32G",
    "outputId": "4437ce63-8516-446f-a351-1d900de14b5e"
   },
   "outputs": [
    {
     "data": {
      "text/plain": [
       "array([[12, 13],\n",
       "       [22, 23]])"
      ]
     },
     "execution_count": 148,
     "metadata": {},
     "output_type": "execute_result"
    }
   ],
   "source": [
    "b[1:3, 2: ]  # Вторая и третья строки и со второго столбца до конца"
   ]
  },
  {
   "cell_type": "code",
   "execution_count": 149,
   "metadata": {
    "colab": {
     "base_uri": "https://localhost:8080/",
     "height": 34
    },
    "id": "XaaJWMKg_GN4",
    "outputId": "ecf86776-44fe-4696-8c5b-0c659f6d00ae"
   },
   "outputs": [
    {
     "data": {
      "text/plain": [
       "array([40, 41, 42, 43])"
      ]
     },
     "execution_count": 149,
     "metadata": {},
     "output_type": "execute_result"
    }
   ],
   "source": [
    "b[-1]  # Последняя строка. Эквивалентно b[-1,:]"
   ]
  },
  {
   "cell_type": "code",
   "execution_count": 150,
   "metadata": {
    "colab": {
     "base_uri": "https://localhost:8080/",
     "height": 34
    },
    "id": "RcOvydvQ_Lf4",
    "outputId": "e0351c19-f5d2-43b7-aa05-6d76a9d2ac0c"
   },
   "outputs": [
    {
     "data": {
      "text/plain": [
       "(2, 2, 3)"
      ]
     },
     "execution_count": 150,
     "metadata": {},
     "output_type": "execute_result"
    }
   ],
   "source": [
    "a = np.array(([[0, 1, 2], [10, 12, 13]], \n",
    "              [[100, 101, 102], [110, 112, 113]]))\n",
    "a.shape # размерность массива"
   ]
  },
  {
   "cell_type": "code",
   "execution_count": 151,
   "metadata": {
    "colab": {
     "base_uri": "https://localhost:8080/",
     "height": 34
    },
    "id": "B4sL6aVwoOkn",
    "outputId": "c566937d-6a44-4d43-c4d5-1f5216980a85"
   },
   "outputs": [
    {
     "data": {
      "text/plain": [
       "3"
      ]
     },
     "execution_count": 151,
     "metadata": {},
     "output_type": "execute_result"
    }
   ],
   "source": [
    "a.ndim # количесво осей"
   ]
  },
  {
   "cell_type": "markdown",
   "metadata": {
    "id": "2e6Zpfz8Bri2"
   },
   "source": [
    "### Операции с формой массива"
   ]
  },
  {
   "cell_type": "code",
   "execution_count": 152,
   "metadata": {},
   "outputs": [
    {
     "data": {
      "text/plain": [
       "array([[[  0,   1,   2],\n",
       "        [ 10,  12,  13]],\n",
       "\n",
       "       [[100, 101, 102],\n",
       "        [110, 112, 113]]])"
      ]
     },
     "execution_count": 152,
     "metadata": {},
     "output_type": "execute_result"
    }
   ],
   "source": [
    "a"
   ]
  },
  {
   "cell_type": "code",
   "execution_count": 153,
   "metadata": {
    "colab": {
     "base_uri": "https://localhost:8080/",
     "height": 121
    },
    "id": "aLorN7ag_YBk",
    "outputId": "ef8812f3-8b09-4e62-cd73-8e0046f91188"
   },
   "outputs": [
    {
     "data": {
      "text/plain": [
       "array([[  0,   1],\n",
       "       [  2,  10],\n",
       "       [ 12,  13],\n",
       "       [100, 101],\n",
       "       [102, 110],\n",
       "       [112, 113]])"
      ]
     },
     "execution_count": 153,
     "metadata": {},
     "output_type": "execute_result"
    }
   ],
   "source": [
    "c = a.reshape(6,2) # смена размерности массива\n",
    "c"
   ]
  },
  {
   "cell_type": "code",
   "execution_count": 154,
   "metadata": {
    "colab": {
     "base_uri": "https://localhost:8080/",
     "height": 121
    },
    "id": "Cc9WJGNl_fOm",
    "outputId": "f6049efc-b3c9-437a-fe8d-b00e640fdc16"
   },
   "outputs": [
    {
     "name": "stdout",
     "output_type": "stream",
     "text": [
      "[0 1]\n",
      "[ 2 10]\n",
      "[12 13]\n",
      "[100 101]\n",
      "[102 110]\n",
      "[112 113]\n"
     ]
    }
   ],
   "source": [
    "# итерирование идет по строкам\n",
    "for r in c:\n",
    "    print(r)"
   ]
  },
  {
   "cell_type": "code",
   "execution_count": 155,
   "metadata": {
    "colab": {
     "base_uri": "https://localhost:8080/",
     "height": 34
    },
    "id": "U3VWdmm0AR2v",
    "outputId": "5fad4aa9-e365-45e7-9269-25d6cf914bc0"
   },
   "outputs": [
    {
     "data": {
      "text/plain": [
       "array([  0,   1,   2,  10,  12,  13, 100, 101, 102, 110, 112, 113])"
      ]
     },
     "execution_count": 155,
     "metadata": {},
     "output_type": "execute_result"
    }
   ],
   "source": [
    "a.ravel()  # Делает массив плоским"
   ]
  },
  {
   "cell_type": "code",
   "execution_count": 156,
   "metadata": {
    "colab": {
     "base_uri": "https://localhost:8080/",
     "height": 34
    },
    "id": "G3IbWLxPAafl",
    "outputId": "77e54238-6950-466b-a9eb-ea4e31ff18d6"
   },
   "outputs": [
    {
     "data": {
      "text/plain": [
       "array([  0,   1,   2,  10,  12,  13, 100, 101, 102, 110, 112, 113])"
      ]
     },
     "execution_count": 156,
     "metadata": {},
     "output_type": "execute_result"
    }
   ],
   "source": [
    "c.flatten() # Делает массив плоским"
   ]
  },
  {
   "cell_type": "code",
   "execution_count": 157,
   "metadata": {
    "colab": {
     "base_uri": "https://localhost:8080/",
     "height": 52
    },
    "id": "mAq-q3tOAiux",
    "outputId": "80f07f69-3950-4398-9618-03d344dd197c"
   },
   "outputs": [
    {
     "data": {
      "text/plain": [
       "array([[  0,   2,  12, 100, 102, 112],\n",
       "       [  1,  10,  13, 101, 110, 113]])"
      ]
     },
     "execution_count": 157,
     "metadata": {},
     "output_type": "execute_result"
    }
   ],
   "source": [
    "c.transpose()  # Транспонирование"
   ]
  },
  {
   "cell_type": "markdown",
   "metadata": {},
   "source": [
    "### Фильтрация значений"
   ]
  },
  {
   "cell_type": "code",
   "execution_count": 158,
   "metadata": {
    "colab": {
     "base_uri": "https://localhost:8080/",
     "height": 86
    },
    "id": "m6_Zbhh9ELzm",
    "outputId": "59ad7b57-e13d-4f1f-e4d9-410100430a31"
   },
   "outputs": [
    {
     "data": {
      "text/plain": [
       "array([[ 3,  8, -9,  1,  4],\n",
       "       [ 5,  5,  7, -5,  1],\n",
       "       [ 2, -5, -2,  8, -8],\n",
       "       [ 3, -1, -4,  0,  0]])"
      ]
     },
     "execution_count": 158,
     "metadata": {},
     "output_type": "execute_result"
    }
   ],
   "source": [
    "a = np.random.randint(-10, 10, 20).reshape(4,5)\n",
    "a"
   ]
  },
  {
   "cell_type": "code",
   "execution_count": 160,
   "metadata": {
    "colab": {
     "base_uri": "https://localhost:8080/",
     "height": 34
    },
    "id": "pL5t9huFEMBA",
    "outputId": "df716037-9ca0-4e84-ca2c-b4b1122711c3"
   },
   "outputs": [
    {
     "data": {
      "text/plain": [
       "(array([0, 0, 0, 0, 1, 1, 1, 1, 2, 2, 3], dtype=int64),\n",
       " array([0, 1, 3, 4, 0, 1, 2, 4, 0, 3, 0], dtype=int64))"
      ]
     },
     "execution_count": 160,
     "metadata": {},
     "output_type": "execute_result"
    }
   ],
   "source": [
    "a[np.where(a > 0)]\n",
    "# np.where(a > 0) #координаты"
   ]
  },
  {
   "cell_type": "code",
   "execution_count": 161,
   "metadata": {
    "colab": {
     "base_uri": "https://localhost:8080/",
     "height": 34
    },
    "id": "G5_LzrKIEMJY",
    "outputId": "dac25688-0d3f-4556-8fe9-7ee4392671f9"
   },
   "outputs": [
    {
     "data": {
      "text/plain": [
       "array([3, 8, 1, 4, 5, 5, 7, 1, 2, 8, 3])"
      ]
     },
     "execution_count": 161,
     "metadata": {},
     "output_type": "execute_result"
    }
   ],
   "source": [
    "a[a>0]"
   ]
  },
  {
   "cell_type": "code",
   "execution_count": 163,
   "metadata": {
    "id": "yIh62g0vEMFz"
   },
   "outputs": [
    {
     "data": {
      "text/plain": [
       "array([ 1., nan, inf])"
      ]
     },
     "execution_count": 163,
     "metadata": {},
     "output_type": "execute_result"
    }
   ],
   "source": [
    "a = np.array([1, np.NaN, np.Inf], float)\n",
    "a"
   ]
  },
  {
   "cell_type": "code",
   "execution_count": 164,
   "metadata": {
    "colab": {
     "base_uri": "https://localhost:8080/",
     "height": 34
    },
    "id": "x4ugBrDaGi0x",
    "outputId": "adbcef4a-f5a6-4687-d40c-168fe7ab3797"
   },
   "outputs": [
    {
     "data": {
      "text/plain": [
       "array([False,  True, False])"
      ]
     },
     "execution_count": 164,
     "metadata": {},
     "output_type": "execute_result"
    }
   ],
   "source": [
    "np.isnan(a)"
   ]
  },
  {
   "cell_type": "code",
   "execution_count": 166,
   "metadata": {
    "colab": {
     "base_uri": "https://localhost:8080/",
     "height": 34
    },
    "id": "wZRLVBfJGi6v",
    "outputId": "4cfc439b-f861-4e2b-b77d-5441ceb136d1"
   },
   "outputs": [
    {
     "data": {
      "text/plain": [
       "array([ True, False, False])"
      ]
     },
     "execution_count": 166,
     "metadata": {},
     "output_type": "execute_result"
    }
   ],
   "source": [
    "np.isfinite(a)"
   ]
  },
  {
   "cell_type": "markdown",
   "metadata": {
    "id": "VPVBCGllB2Em"
   },
   "source": [
    "### Объединение массивов"
   ]
  },
  {
   "cell_type": "code",
   "execution_count": 167,
   "metadata": {
    "colab": {
     "base_uri": "https://localhost:8080/",
     "height": 86
    },
    "id": "WBmKZMtKBfQa",
    "outputId": "7ae49566-af56-431c-c483-c925b68f8f83"
   },
   "outputs": [
    {
     "data": {
      "text/plain": [
       "array([[1, 2],\n",
       "       [3, 4],\n",
       "       [5, 6],\n",
       "       [7, 8]])"
      ]
     },
     "execution_count": 167,
     "metadata": {},
     "output_type": "execute_result"
    }
   ],
   "source": [
    "a = np.array([[1, 2], [3, 4]])\n",
    "b = np.array([[5, 6], [7, 8]])\n",
    "np.vstack((a, b))"
   ]
  },
  {
   "cell_type": "code",
   "execution_count": 168,
   "metadata": {
    "colab": {
     "base_uri": "https://localhost:8080/",
     "height": 52
    },
    "id": "jUY4DmZ3CCdR",
    "outputId": "c67b4f24-6d78-42d5-ff34-75dd51b2483a"
   },
   "outputs": [
    {
     "data": {
      "text/plain": [
       "array([[1, 2, 5, 6],\n",
       "       [3, 4, 7, 8]])"
      ]
     },
     "execution_count": 168,
     "metadata": {},
     "output_type": "execute_result"
    }
   ],
   "source": [
    "np.hstack((a, b))"
   ]
  },
  {
   "cell_type": "markdown",
   "metadata": {
    "id": "u_eOpAnaChjr"
   },
   "source": [
    "### Копии и представления"
   ]
  },
  {
   "cell_type": "code",
   "execution_count": 169,
   "metadata": {
    "colab": {
     "base_uri": "https://localhost:8080/",
     "height": 52
    },
    "id": "ASUKBfviCDUu",
    "outputId": "c9a54d57-a7e6-4f07-a27f-3f22e8afcc50"
   },
   "outputs": [
    {
     "name": "stdout",
     "output_type": "stream",
     "text": [
      "True\n"
     ]
    },
    {
     "data": {
      "text/plain": [
       "(3, 4)"
      ]
     },
     "execution_count": 169,
     "metadata": {},
     "output_type": "execute_result"
    }
   ],
   "source": [
    "a = np.arange(12)\n",
    "b = a  # Нового объекта создано не было\n",
    "print(b is a)  # a и b это два имени для одного и того же объекта ndarray\n",
    "b.shape = (3,4)  # изменит форму a\n",
    "a.shape"
   ]
  },
  {
   "cell_type": "code",
   "execution_count": 170,
   "metadata": {
    "colab": {
     "base_uri": "https://localhost:8080/",
     "height": 52
    },
    "id": "XG56PZcmCld_",
    "outputId": "e4ca8219-f1f8-46a1-fe57-18cb140831b7"
   },
   "outputs": [
    {
     "name": "stdout",
     "output_type": "stream",
     "text": [
      "False\n",
      "True\n"
     ]
    }
   ],
   "source": [
    "c = a.view()\n",
    "print(c is a) \n",
    "print(c.base is a )  # c это представление данных, принадлежащих a"
   ]
  },
  {
   "cell_type": "code",
   "execution_count": 171,
   "metadata": {
    "colab": {
     "base_uri": "https://localhost:8080/",
     "height": 34
    },
    "id": "9km5SvRpClmS",
    "outputId": "96dbc494-7353-4a16-eaff-19ee11fb5aef"
   },
   "outputs": [
    {
     "data": {
      "text/plain": [
       "(3, 4)"
      ]
     },
     "execution_count": 171,
     "metadata": {},
     "output_type": "execute_result"
    }
   ],
   "source": [
    "c.shape = (2,6)  # форма а не поменяется\n",
    "a.shape"
   ]
  },
  {
   "cell_type": "code",
   "execution_count": 172,
   "metadata": {
    "colab": {
     "base_uri": "https://localhost:8080/",
     "height": 69
    },
    "id": "G6M38sNfClrh",
    "outputId": "88891ba1-80af-4e16-900d-e59d7054deaf"
   },
   "outputs": [
    {
     "data": {
      "text/plain": [
       "array([[   0,    1,    2,    3],\n",
       "       [1234,    5,    6,    7],\n",
       "       [   8,    9,   10,   11]])"
      ]
     },
     "execution_count": 172,
     "metadata": {},
     "output_type": "execute_result"
    }
   ],
   "source": [
    "c[0,4] = 1234  # данные а изменятся\n",
    "a"
   ]
  },
  {
   "cell_type": "code",
   "execution_count": 175,
   "metadata": {
    "colab": {
     "base_uri": "https://localhost:8080/",
     "height": 69
    },
    "id": "crCfeyVYClj5",
    "outputId": "90f5bf6d-31de-4748-9bf7-2cd3293ffaa4"
   },
   "outputs": [
    {
     "data": {
      "text/plain": [
       "array([[   0,   10,   10,    3],\n",
       "       [1234,   10,   10,    7],\n",
       "       [   8,   10,   10,   11]])"
      ]
     },
     "execution_count": 175,
     "metadata": {},
     "output_type": "execute_result"
    }
   ],
   "source": [
    "# Срез массива это представление\n",
    "s = a[:,1:3]\n",
    "s[:] = 10\n",
    "a"
   ]
  },
  {
   "cell_type": "code",
   "execution_count": 179,
   "metadata": {
    "colab": {
     "base_uri": "https://localhost:8080/",
     "height": 104
    },
    "id": "pmvM_pQEDeGQ",
    "outputId": "84d3ce23-4d63-4a57-bcde-c8b9a6b56db0"
   },
   "outputs": [
    {
     "name": "stdout",
     "output_type": "stream",
     "text": [
      "False\n",
      "False\n"
     ]
    },
    {
     "data": {
      "text/plain": [
       "array([[   0,   10,   10,    3],\n",
       "       [1234,   10,   10,    7],\n",
       "       [   8,   10,   10,   11]])"
      ]
     },
     "execution_count": 179,
     "metadata": {},
     "output_type": "execute_result"
    }
   ],
   "source": [
    "d = a.copy()  # создается новый объект массива с новыми данными\n",
    "print(d is a)\n",
    "print(d.base is a)  # d не имеет ничего общего с а\n",
    "d[0, 0] = 9999\n",
    "a"
   ]
  }
 ],
 "metadata": {
  "colab": {
   "collapsed_sections": [
    "pRszXK8rzZJF",
    "tF-_RjLs5ZDR",
    "OLnVGmOu5esM",
    "MPev1fAB9YQt",
    "2e6Zpfz8Bri2",
    "VPVBCGllB2Em",
    "u_eOpAnaChjr",
    "b9TcTn3nEM1H",
    "qCUpgW4Chxlt",
    "fpcR7aEBJoGq",
    "xX_Qut-QR_ia",
    "i4V1_5AOgmB9",
    "NCfoXnc41fmW",
    "Ym2h89BMguk6",
    "d-mADGmT1VfA"
   ],
   "name": "BaseTutorial.ipynb",
   "provenance": []
  },
  "kernelspec": {
   "display_name": "Python 3",
   "language": "python",
   "name": "python3"
  },
  "language_info": {
   "codemirror_mode": {
    "name": "ipython",
    "version": 3
   },
   "file_extension": ".py",
   "mimetype": "text/x-python",
   "name": "python",
   "nbconvert_exporter": "python",
   "pygments_lexer": "ipython3",
   "version": "3.8.5"
  }
 },
 "nbformat": 4,
 "nbformat_minor": 1
}
