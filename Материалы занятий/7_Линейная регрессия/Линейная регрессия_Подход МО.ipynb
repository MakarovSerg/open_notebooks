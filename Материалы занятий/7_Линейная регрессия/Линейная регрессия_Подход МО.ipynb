{
 "cells": [
  {
   "cell_type": "markdown",
   "metadata": {},
   "source": [
    "## <center> Линейная регрессия: подход машинного обучения"
   ]
  },
  {
   "cell_type": "code",
   "execution_count": 23,
   "metadata": {},
   "outputs": [],
   "source": [
    "import pandas as pd\n",
    "import numpy as np\n",
    "import matplotlib.pyplot as plt \n",
    "import seaborn as sns\n",
    "# библиотека для машинного обучения sklearn\n",
    "from sklearn.linear_model import LinearRegression\n",
    "from sklearn.metrics import r2_score, mean_absolute_error, mean_squared_error"
   ]
  },
  {
   "cell_type": "code",
   "execution_count": 2,
   "metadata": {},
   "outputs": [
    {
     "data": {
      "text/html": [
       "<div>\n",
       "<style scoped>\n",
       "    .dataframe tbody tr th:only-of-type {\n",
       "        vertical-align: middle;\n",
       "    }\n",
       "\n",
       "    .dataframe tbody tr th {\n",
       "        vertical-align: top;\n",
       "    }\n",
       "\n",
       "    .dataframe thead th {\n",
       "        text-align: right;\n",
       "    }\n",
       "</style>\n",
       "<table border=\"1\" class=\"dataframe\">\n",
       "  <thead>\n",
       "    <tr style=\"text-align: right;\">\n",
       "      <th></th>\n",
       "      <th>Price</th>\n",
       "      <th>Area</th>\n",
       "      <th>YearBuilt</th>\n",
       "      <th>YearRestoration</th>\n",
       "      <th>MasVnrArea</th>\n",
       "      <th>RoomsNumb</th>\n",
       "      <th>SchoollDistance</th>\n",
       "      <th>CenterDistance</th>\n",
       "    </tr>\n",
       "  </thead>\n",
       "  <tbody>\n",
       "    <tr>\n",
       "      <th>0</th>\n",
       "      <td>380000</td>\n",
       "      <td>8450</td>\n",
       "      <td>2003</td>\n",
       "      <td>2003</td>\n",
       "      <td>196</td>\n",
       "      <td>8</td>\n",
       "      <td>2996.000000</td>\n",
       "      <td>20081</td>\n",
       "    </tr>\n",
       "    <tr>\n",
       "      <th>1</th>\n",
       "      <td>181500</td>\n",
       "      <td>9600</td>\n",
       "      <td>1976</td>\n",
       "      <td>1976</td>\n",
       "      <td>0</td>\n",
       "      <td>6</td>\n",
       "      <td>7606.000000</td>\n",
       "      <td>15171</td>\n",
       "    </tr>\n",
       "    <tr>\n",
       "      <th>2</th>\n",
       "      <td>223500</td>\n",
       "      <td>11250</td>\n",
       "      <td>2001</td>\n",
       "      <td>2002</td>\n",
       "      <td>162</td>\n",
       "      <td>6</td>\n",
       "      <td>5856.000000</td>\n",
       "      <td>17368</td>\n",
       "    </tr>\n",
       "    <tr>\n",
       "      <th>3</th>\n",
       "      <td>140000</td>\n",
       "      <td>9550</td>\n",
       "      <td>1915</td>\n",
       "      <td>1970</td>\n",
       "      <td>0</td>\n",
       "      <td>7</td>\n",
       "      <td>4789.000000</td>\n",
       "      <td>21808</td>\n",
       "    </tr>\n",
       "    <tr>\n",
       "      <th>4</th>\n",
       "      <td>250000</td>\n",
       "      <td>14260</td>\n",
       "      <td>2000</td>\n",
       "      <td>2000</td>\n",
       "      <td>350</td>\n",
       "      <td>9</td>\n",
       "      <td>1248.000000</td>\n",
       "      <td>16240</td>\n",
       "    </tr>\n",
       "    <tr>\n",
       "      <th>...</th>\n",
       "      <td>...</td>\n",
       "      <td>...</td>\n",
       "      <td>...</td>\n",
       "      <td>...</td>\n",
       "      <td>...</td>\n",
       "      <td>...</td>\n",
       "      <td>...</td>\n",
       "      <td>...</td>\n",
       "    </tr>\n",
       "    <tr>\n",
       "      <th>95</th>\n",
       "      <td>185000</td>\n",
       "      <td>9765</td>\n",
       "      <td>1993</td>\n",
       "      <td>1993</td>\n",
       "      <td>68</td>\n",
       "      <td>6</td>\n",
       "      <td>3950.000000</td>\n",
       "      <td>20853</td>\n",
       "    </tr>\n",
       "    <tr>\n",
       "      <th>96</th>\n",
       "      <td>214000</td>\n",
       "      <td>10264</td>\n",
       "      <td>1999</td>\n",
       "      <td>1999</td>\n",
       "      <td>183</td>\n",
       "      <td>6</td>\n",
       "      <td>4182.000000</td>\n",
       "      <td>12897</td>\n",
       "    </tr>\n",
       "    <tr>\n",
       "      <th>97</th>\n",
       "      <td>94750</td>\n",
       "      <td>10921</td>\n",
       "      <td>1965</td>\n",
       "      <td>1965</td>\n",
       "      <td>48</td>\n",
       "      <td>6</td>\n",
       "      <td>3763.429695</td>\n",
       "      <td>25023</td>\n",
       "    </tr>\n",
       "    <tr>\n",
       "      <th>98</th>\n",
       "      <td>83000</td>\n",
       "      <td>10625</td>\n",
       "      <td>1920</td>\n",
       "      <td>1950</td>\n",
       "      <td>0</td>\n",
       "      <td>5</td>\n",
       "      <td>203.000000</td>\n",
       "      <td>23344</td>\n",
       "    </tr>\n",
       "    <tr>\n",
       "      <th>99</th>\n",
       "      <td>128950</td>\n",
       "      <td>9320</td>\n",
       "      <td>1959</td>\n",
       "      <td>1959</td>\n",
       "      <td>0</td>\n",
       "      <td>6</td>\n",
       "      <td>863.000000</td>\n",
       "      <td>23415</td>\n",
       "    </tr>\n",
       "  </tbody>\n",
       "</table>\n",
       "<p>100 rows × 8 columns</p>\n",
       "</div>"
      ],
      "text/plain": [
       "     Price   Area  YearBuilt  YearRestoration  MasVnrArea  RoomsNumb  \\\n",
       "0   380000   8450       2003             2003         196          8   \n",
       "1   181500   9600       1976             1976           0          6   \n",
       "2   223500  11250       2001             2002         162          6   \n",
       "3   140000   9550       1915             1970           0          7   \n",
       "4   250000  14260       2000             2000         350          9   \n",
       "..     ...    ...        ...              ...         ...        ...   \n",
       "95  185000   9765       1993             1993          68          6   \n",
       "96  214000  10264       1999             1999         183          6   \n",
       "97   94750  10921       1965             1965          48          6   \n",
       "98   83000  10625       1920             1950           0          5   \n",
       "99  128950   9320       1959             1959           0          6   \n",
       "\n",
       "    SchoollDistance  CenterDistance  \n",
       "0       2996.000000           20081  \n",
       "1       7606.000000           15171  \n",
       "2       5856.000000           17368  \n",
       "3       4789.000000           21808  \n",
       "4       1248.000000           16240  \n",
       "..              ...             ...  \n",
       "95      3950.000000           20853  \n",
       "96      4182.000000           12897  \n",
       "97      3763.429695           25023  \n",
       "98       203.000000           23344  \n",
       "99       863.000000           23415  \n",
       "\n",
       "[100 rows x 8 columns]"
      ]
     },
     "execution_count": 2,
     "metadata": {},
     "output_type": "execute_result"
    }
   ],
   "source": [
    "# Считываем данные из файла\n",
    "df = pd.read_excel('data_house_prices_2_clean.xlsx')\n",
    "df"
   ]
  },
  {
   "cell_type": "code",
   "execution_count": 170,
   "metadata": {},
   "outputs": [
    {
     "data": {
      "image/png": "[encoded data removed]",
      "text/plain": [
       "<Figure size 432x288 with 1 Axes>"
      ]
     },
     "metadata": {
      "needs_background": "light"
     },
     "output_type": "display_data"
    }
   ],
   "source": [
    "df.plot(x='CenterDistance', y='Price', kind='scatter');"
   ]
  },
  {
   "cell_type": "code",
   "execution_count": 254,
   "metadata": {},
   "outputs": [],
   "source": [
    "# Находим индексы выбросов и удаляем их\n",
    "ind = df[(df['CenterDistance']>20000)&(df['Price']>300000)].index\n",
    "clean_data = df.drop(ind, axis='index')"
   ]
  },
  {
   "cell_type": "code",
   "execution_count": 255,
   "metadata": {},
   "outputs": [
    {
     "data": {
      "image/png": "[encoded data removed]",
      "text/plain": [
       "<Figure size 432x288 with 1 Axes>"
      ]
     },
     "metadata": {
      "needs_background": "light"
     },
     "output_type": "display_data"
    }
   ],
   "source": [
    "clean_data.plot(x='CenterDistance', y='Price', kind='scatter');"
   ]
  },
  {
   "cell_type": "markdown",
   "metadata": {},
   "source": [
    "### Разбиение данных на обучающие и тестовые"
   ]
  },
  {
   "cell_type": "markdown",
   "metadata": {},
   "source": [
    "\n",
    "Разбиение даныне на обучающую и тестовую выборки позволяет тестировать \"стабильность\" работы модели и контролировать переобучение. "
   ]
  },
  {
   "cell_type": "markdown",
   "metadata": {},
   "source": [
    "Разбивать данные на обучающие и тестовые можно с помощью функции **train_test_split** библиотеки **sklearn** . Рассмотрит это на примере построения однофакторной линейной регрессии - зависимость цены жилья от расстояния до центра."
   ]
  },
  {
   "cell_type": "code",
   "execution_count": 3,
   "metadata": {},
   "outputs": [],
   "source": [
    "from sklearn.model_selection import train_test_split"
   ]
  },
  {
   "cell_type": "code",
   "execution_count": 256,
   "metadata": {},
   "outputs": [],
   "source": [
    "X = clean_data[['CenterDistance']]\n",
    "y = clean_data['Price']"
   ]
  },
  {
   "cell_type": "markdown",
   "metadata": {},
   "source": [
    "Разбиваем данные на обучающие и тестовые. Параметр **random_state** фиксирует случайность разбиения - обеспечивает, чтобы при повторном разбиении получить одинаковые выборки"
   ]
  },
  {
   "cell_type": "code",
   "execution_count": 339,
   "metadata": {
    "collapsed": true
   },
   "outputs": [
    {
     "data": {
      "text/html": [
       "<div>\n",
       "<style scoped>\n",
       "    .dataframe tbody tr th:only-of-type {\n",
       "        vertical-align: middle;\n",
       "    }\n",
       "\n",
       "    .dataframe tbody tr th {\n",
       "        vertical-align: top;\n",
       "    }\n",
       "\n",
       "    .dataframe thead th {\n",
       "        text-align: right;\n",
       "    }\n",
       "</style>\n",
       "<table border=\"1\" class=\"dataframe\">\n",
       "  <thead>\n",
       "    <tr style=\"text-align: right;\">\n",
       "      <th></th>\n",
       "      <th>CenterDistance</th>\n",
       "    </tr>\n",
       "  </thead>\n",
       "  <tbody>\n",
       "    <tr>\n",
       "      <th>11</th>\n",
       "      <td>5997</td>\n",
       "    </tr>\n",
       "    <tr>\n",
       "      <th>47</th>\n",
       "      <td>16757</td>\n",
       "    </tr>\n",
       "    <tr>\n",
       "      <th>85</th>\n",
       "      <td>12012</td>\n",
       "    </tr>\n",
       "    <tr>\n",
       "      <th>28</th>\n",
       "      <td>22865</td>\n",
       "    </tr>\n",
       "    <tr>\n",
       "      <th>93</th>\n",
       "      <td>22214</td>\n",
       "    </tr>\n",
       "    <tr>\n",
       "      <th>...</th>\n",
       "      <td>...</td>\n",
       "    </tr>\n",
       "    <tr>\n",
       "      <th>60</th>\n",
       "      <td>23606</td>\n",
       "    </tr>\n",
       "    <tr>\n",
       "      <th>71</th>\n",
       "      <td>23639</td>\n",
       "    </tr>\n",
       "    <tr>\n",
       "      <th>14</th>\n",
       "      <td>20983</td>\n",
       "    </tr>\n",
       "    <tr>\n",
       "      <th>92</th>\n",
       "      <td>24998</td>\n",
       "    </tr>\n",
       "    <tr>\n",
       "      <th>51</th>\n",
       "      <td>18808</td>\n",
       "    </tr>\n",
       "  </tbody>\n",
       "</table>\n",
       "<p>70 rows × 1 columns</p>\n",
       "</div>"
      ],
      "text/plain": [
       "    CenterDistance\n",
       "11            5997\n",
       "47           16757\n",
       "85           12012\n",
       "28           22865\n",
       "93           22214\n",
       "..             ...\n",
       "60           23606\n",
       "71           23639\n",
       "14           20983\n",
       "92           24998\n",
       "51           18808\n",
       "\n",
       "[70 rows x 1 columns]"
      ]
     },
     "execution_count": 339,
     "metadata": {},
     "output_type": "execute_result"
    }
   ],
   "source": [
    "X_train, X_test, y_train, y_test = train_test_split(X, y, test_size=0.3, random_state=42)\n",
    "X_train"
   ]
  },
  {
   "cell_type": "code",
   "execution_count": 289,
   "metadata": {},
   "outputs": [
    {
     "name": "stdout",
     "output_type": "stream",
     "text": [
      "Метрики на трейне:\n",
      "R2:  0.6728970503721794\n",
      "Mean absolute error (MAE) 36416.157857935934\n",
      "__________________________________________________\n",
      "Метрики на тесте:\n",
      "R2:  0.7403680021440655\n",
      "Mean absolute error (MAE) 26267.662211077215\n"
     ]
    }
   ],
   "source": [
    "X_train, X_test, y_train, y_test = train_test_split(X, y, test_size=0.3, random_state=42)\n",
    "\n",
    "# создаем объект модели\n",
    "reg_model = LinearRegression()\n",
    "\n",
    "# Обучаем модель на данных, применяя метод fit()\n",
    "reg_model.fit(X_train, y_train)\n",
    "\n",
    "# Делаем предказание, применяя метод predict()б и сохраняем его в отдельную переменную\n",
    "pred_train = reg_model.predict(X_train)\n",
    "\n",
    "# __Смотрим метрики качества__\n",
    "print('Метрики на трейне:')\n",
    "print('R2: ', r2_score(y_train, pred_train)) \n",
    "print('Mean absolute error (MAE)', mean_absolute_error(y_train, pred_train))\n",
    "\n",
    "pred_test = reg_model.predict(X_test)\n",
    "print('_'*50)\n",
    "print('Метрики на тесте:')\n",
    "print('R2: ', r2_score(y_test, pred_test)) \n",
    "print('Mean absolute error (MAE)', mean_absolute_error(y_test, pred_test))"
   ]
  },
  {
   "cell_type": "code",
   "execution_count": 290,
   "metadata": {},
   "outputs": [
    {
     "data": {
      "text/plain": [
       "[<matplotlib.lines.Line2D at 0x28f28af9fd0>]"
      ]
     },
     "execution_count": 290,
     "metadata": {},
     "output_type": "execute_result"
    },
    {
     "data": {
      "image/png": "[encoded data removed]",
      "text/plain": [
       "<Figure size 432x288 with 1 Axes>"
      ]
     },
     "metadata": {
      "needs_background": "light"
     },
     "output_type": "display_data"
    }
   ],
   "source": [
    "plt.scatter(X_train['CenterDistance'].values, y_train)\n",
    "plt.plot(X_train['CenterDistance'], pred_train, color='red')"
   ]
  },
  {
   "cell_type": "code",
   "execution_count": 291,
   "metadata": {},
   "outputs": [
    {
     "data": {
      "image/png": "[encoded data removed]",
      "text/plain": [
       "<Figure size 432x288 with 1 Axes>"
      ]
     },
     "metadata": {
      "needs_background": "light"
     },
     "output_type": "display_data"
    }
   ],
   "source": [
    "plt.scatter(X_test['CenterDistance'].values, y_test);\n",
    "plt.plot(X_test['CenterDistance'], pred_test, color='red');"
   ]
  },
  {
   "cell_type": "markdown",
   "metadata": {},
   "source": [
    "Построим модель на данных с выбросами"
   ]
  },
  {
   "cell_type": "code",
   "execution_count": 341,
   "metadata": {},
   "outputs": [
    {
     "name": "stdout",
     "output_type": "stream",
     "text": [
      "Метрики на трейне:\n",
      "R2:  0.24951197324546848\n",
      "Mean absolute error (MAE) 54830.764720132815\n",
      "\n",
      " Метрики на тесте:\n",
      "R2:  -0.10253516143037977\n",
      "Mean absolute error (MAE) 54723.293268065856\n"
     ]
    }
   ],
   "source": [
    "X = df[['CenterDistance']]\n",
    "y = df['Price']\n",
    "\n",
    "X_train, X_test, y_train, y_test = train_test_split(X, y, test_size=0.3,random_state=8)\n",
    "\n",
    "# создаем объект модели\n",
    "reg_model = LinearRegression()\n",
    "\n",
    "# Обучаем модель на данных, применяя метод fit()\n",
    "reg_model.fit(X_train, y_train)\n",
    "\n",
    "# Делаем предказание, применяя метод predict()б и сохраняем его в отдельную переменную\n",
    "pred_train = reg_model.predict(X_train)\n",
    "\n",
    "# __Смотрим метрики качества__\n",
    "print('Метрики на трейне:')\n",
    "print('R2: ', r2_score(y_train, pred_train)) # reg_model.score\n",
    "print('Mean absolute error (MAE)', mean_absolute_error(y_train, pred_train))\n",
    "\n",
    "pred_test = reg_model.predict(X_test)\n",
    "\n",
    "print('\\n Метрики на тесте:')\n",
    "print('R2: ', r2_score(y_test, pred_test)) \n",
    "print('Mean absolute error (MAE)', mean_absolute_error(y_test, pred_test))"
   ]
  },
  {
   "cell_type": "markdown",
   "metadata": {},
   "source": [
    "C R-квадрат на самом деле не все так просто! Он может быть отрицательным, когда мы бьем данные на трейн и тест."
   ]
  },
  {
   "cell_type": "markdown",
   "metadata": {},
   "source": [
    "$$R^2 = 1 - \\frac{\\sum_{i}^{}(y_i-\\hat{y_i})^2}{\\sum_{i}^{}(y_i - \\bar{y_i})^2}$$"
   ]
  },
  {
   "cell_type": "code",
   "execution_count": 303,
   "metadata": {},
   "outputs": [
    {
     "data": {
      "image/png": "[encoded data removed]",
      "text/plain": [
       "<Figure size 432x288 with 1 Axes>"
      ]
     },
     "metadata": {
      "needs_background": "light"
     },
     "output_type": "display_data"
    }
   ],
   "source": [
    "plt.scatter(X_train['CenterDistance'].values, y_train);\n",
    "plt.plot(X_train['CenterDistance'], pred_train, color='red');"
   ]
  },
  {
   "cell_type": "code",
   "execution_count": 342,
   "metadata": {},
   "outputs": [
    {
     "data": {
      "image/png": "[encoded data removed]",
      "text/plain": [
       "<Figure size 432x288 with 1 Axes>"
      ]
     },
     "metadata": {
      "needs_background": "light"
     },
     "output_type": "display_data"
    }
   ],
   "source": [
    "mean_pred = [y_test.mean()] * y_test.size\n",
    "\n",
    "plt.scatter(X_test['CenterDistance'].values, y_test);\n",
    "plt.plot(X_test['CenterDistance'], pred_test, color='red');\n",
    "plt.plot(X_test['CenterDistance'], mean_pred, color='green');"
   ]
  },
  {
   "cell_type": "code",
   "execution_count": 325,
   "metadata": {},
   "outputs": [
    {
     "data": {
      "text/html": [
       "<div>\n",
       "<style scoped>\n",
       "    .dataframe tbody tr th:only-of-type {\n",
       "        vertical-align: middle;\n",
       "    }\n",
       "\n",
       "    .dataframe tbody tr th {\n",
       "        vertical-align: top;\n",
       "    }\n",
       "\n",
       "    .dataframe thead th {\n",
       "        text-align: right;\n",
       "    }\n",
       "</style>\n",
       "<table border=\"1\" class=\"dataframe\">\n",
       "  <thead>\n",
       "    <tr style=\"text-align: right;\">\n",
       "      <th></th>\n",
       "      <th>y</th>\n",
       "      <th>y_pred</th>\n",
       "      <th>(y-y_pred)^2</th>\n",
       "      <th>(y - y_mean)^2</th>\n",
       "    </tr>\n",
       "  </thead>\n",
       "  <tbody>\n",
       "    <tr>\n",
       "      <th>17</th>\n",
       "      <td>90000</td>\n",
       "      <td>193689.297651</td>\n",
       "      <td>1.075147e+10</td>\n",
       "      <td>4.962498e+09</td>\n",
       "    </tr>\n",
       "    <tr>\n",
       "      <th>23</th>\n",
       "      <td>129900</td>\n",
       "      <td>200951.289057</td>\n",
       "      <td>5.048286e+09</td>\n",
       "      <td>9.329970e+08</td>\n",
       "    </tr>\n",
       "    <tr>\n",
       "      <th>1</th>\n",
       "      <td>181500</td>\n",
       "      <td>240323.012061</td>\n",
       "      <td>3.460147e+09</td>\n",
       "      <td>4.433130e+08</td>\n",
       "    </tr>\n",
       "    <tr>\n",
       "      <th>44</th>\n",
       "      <td>141000</td>\n",
       "      <td>205806.991149</td>\n",
       "      <td>4.199946e+09</td>\n",
       "      <td>3.781080e+08</td>\n",
       "    </tr>\n",
       "    <tr>\n",
       "      <th>55</th>\n",
       "      <td>180500</td>\n",
       "      <td>213250.101106</td>\n",
       "      <td>1.072569e+09</td>\n",
       "      <td>4.022030e+08</td>\n",
       "    </tr>\n",
       "  </tbody>\n",
       "</table>\n",
       "</div>"
      ],
      "text/plain": [
       "         y         y_pred  (y-y_pred)^2  (y - y_mean)^2\n",
       "17   90000  193689.297651  1.075147e+10    4.962498e+09\n",
       "23  129900  200951.289057  5.048286e+09    9.329970e+08\n",
       "1   181500  240323.012061  3.460147e+09    4.433130e+08\n",
       "44  141000  205806.991149  4.199946e+09    3.781080e+08\n",
       "55  180500  213250.101106  1.072569e+09    4.022030e+08"
      ]
     },
     "execution_count": 325,
     "metadata": {},
     "output_type": "execute_result"
    }
   ],
   "source": [
    "test_result = pd.DataFrame({'y':y_test, 'y_pred': pred_test})\n",
    "test_result['(y-y_pred)^2'] = (test_result['y'] - test_result['y_pred'])**2\n",
    "test_result['(y - y_mean)^2'] = (test_result['y'] - test_result['y'].mean())**2\n",
    "test_result.head()"
   ]
  },
  {
   "cell_type": "code",
   "execution_count": 326,
   "metadata": {},
   "outputs": [
    {
     "data": {
      "text/plain": [
       "14693395961.653656"
      ]
     },
     "execution_count": 326,
     "metadata": {},
     "output_type": "execute_result"
    }
   ],
   "source": [
    "test_result['(y-y_pred)^2'].sum() - test_result['(y - y_mean)^2'].sum() "
   ]
  },
  {
   "cell_type": "code",
   "execution_count": 327,
   "metadata": {},
   "outputs": [
    {
     "data": {
      "text/plain": [
       "-0.10253516143037977"
      ]
     },
     "execution_count": 327,
     "metadata": {},
     "output_type": "execute_result"
    }
   ],
   "source": [
    "1 - test_result['(y-y_pred)^2'].sum() / test_result['(y - y_mean)^2'].sum() \n"
   ]
  }
 ],
 "metadata": {
  "kernelspec": {
   "display_name": "Python 3",
   "language": "python",
   "name": "python3"
  },
  "language_info": {
   "codemirror_mode": {
    "name": "ipython",
    "version": 3
   },
   "file_extension": ".py",
   "mimetype": "text/x-python",
   "name": "python",
   "nbconvert_exporter": "python",
   "pygments_lexer": "ipython3",
   "version": "3.8.5"
  }
 },
 "nbformat": 4,
 "nbformat_minor": 2
}
